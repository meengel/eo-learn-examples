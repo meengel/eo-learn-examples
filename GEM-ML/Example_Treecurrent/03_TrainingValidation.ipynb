{
 "cells": [
  {
   "cell_type": "markdown",
   "id": "9f84f86f",
   "metadata": {},
   "source": [
    "# Training and Validation \n",
    "In this notebook, we will train and validate the model of choice."
   ]
  },
  {
   "cell_type": "code",
   "execution_count": 1,
   "id": "0c981409",
   "metadata": {
    "pycharm": {
     "is_executing": true
    }
   },
   "outputs": [],
   "source": [
    "### Michael Engel ### 2022-04-25 ### main.ipynb ###\n",
    "### adapted by Niklas Eisl, Colin Moldenhauer, 2022/23 ###\n",
    "%matplotlib inline\n",
    "\n",
    "import os\n",
    "import platform\n",
    "import numpy as np\n",
    "import datetime as dt\n",
    "import matplotlib.pyplot as plt\n",
    "import time\n",
    "import natsort\n",
    "\n",
    "import torch\n",
    "from tensorboardX import SummaryWriter\n",
    "\n",
    "from eolearn.core import FeatureType\n",
    "\n",
    "from libs.ConfigME import Config, importME, get_most_recent_config\n",
    "from libs.QuantileScaler_eolearn import QuantileScaler_eolearn_tdigest\n",
    "from libs.Dataset_eolearn import Dataset_eolearn\n",
    "from libs import AugmentME\n",
    "\n",
    "print(\"Working Directory:\",os.getcwd())"
   ]
  },
  {
   "cell_type": "markdown",
   "id": "2484bf33",
   "metadata": {},
   "source": [
    "# Config\n",
    "First, we load our configuration file which provides all information we need throughout the script."
   ]
  },
  {
   "cell_type": "code",
   "execution_count": 2,
   "id": "6449852a",
   "metadata": {
    "pycharm": {
     "name": "#%% load configuration file\n",
     "is_executing": true
    }
   },
   "outputs": [],
   "source": [
    "config_name = get_most_recent_config(\".\", pattern=\"config_.*[.]dill\", mode=\"m\")\n",
    "config = Config.LOAD(config_name)\n",
    "print(\"loaded config:\", config_name)"
   ]
  },
  {
   "cell_type": "markdown",
   "id": "dacabf47",
   "metadata": {},
   "source": [
    "# Batch Size\n",
    "As we deal with high dimensional data and several time stamps, it is important to choose a reasonably low batch size. A too small batch size on the other hand will result in highly stochastic gradients. We have found a batch size of 6 to work well for this task."
   ]
  },
  {
   "cell_type": "code",
   "execution_count": 3,
   "id": "bd709875",
   "metadata": {},
   "outputs": [
    {
     "name": "stdout",
     "output_type": "stream",
     "text": [
      "Chosen batch_size: 6\n"
     ]
    }
   ],
   "source": [
    "print(f'Chosen batch_size: {config[\"batch_size\"]}')"
   ]
  },
  {
   "cell_type": "markdown",
   "id": "fdeeeccb",
   "metadata": {},
   "source": [
    "# Quantile Scaling\n",
    "As discussed in the second notebook, we want to apply quantile scaling to our data.\n",
    "We load the scaler that we have already defined."
   ]
  },
  {
   "cell_type": "code",
   "execution_count": 4,
   "id": "36e5a8d6",
   "metadata": {},
   "outputs": [],
   "source": [
    "Scaler = QuantileScaler_eolearn_tdigest.LOAD(os.path.join(config[\"dir_results\"],config[\"savename_scaler\"]))"
   ]
  },
  {
   "cell_type": "markdown",
   "id": "af35f34c",
   "metadata": {},
   "source": [
    "# Dataloader\n",
    "First, we need to get the paths for all samples within our training and validation datasets, respectively. More specifically, we create a list of paths that will then be passed to the `Dataset_eolearn` class which prepares the data in a way such that the dataloader can load it into the batches that we use during training and validation."
   ]
  },
  {
   "cell_type": "code",
   "execution_count": 5,
   "id": "d8ba8cac",
   "metadata": {
    "pycharm": {
     "name": "#%% training samples\n"
    }
   },
   "outputs": [],
   "source": [
    "paths_train = [os.path.join(config[\"dir_train\"], file).replace(\"\\\\\",\"/\") for file in os.listdir(config[\"dir_train\"])]"
   ]
  },
  {
   "cell_type": "code",
   "execution_count": 6,
   "id": "f2f763b2",
   "metadata": {
    "pycharm": {
     "name": "#%% validation samples\n"
    }
   },
   "outputs": [],
   "source": [
    "paths_validation = [os.path.join(config[\"dir_val\"], file).replace(\"\\\\\",\"/\") for file in os.listdir(config[\"dir_val\"])]"
   ]
  },
  {
   "cell_type": "markdown",
   "id": "5aa4709a",
   "metadata": {},
   "source": [
    "Now, we are ready to define our datasets using the `Dataset_eolearn` class!\n",
    "\n",
    "Remember that PyTorch asks for the shape `[batch_size x channels x timestamps x height x width]`.\n",
    "The `Quantile\n",
    "_eolearn_tdigest` handles this by setting `transform=Torchify(1)`.\n",
    "For the reference and the mask, we use the `Torchify` class as provided from the `Dataset_eolearn` package, too.\n",
    "\n",
    "So befor we initialize the Datasets, let's briefly have a look at the `Torchify` class. In a nutshell, this class handles our final transforms such that Pytorch can use the data for training. This includes rearranging of dimensions and removing of `NaN` values."
   ]
  },
  {
   "cell_type": "code",
   "execution_count": null,
   "outputs": [],
   "source": [
    "def torchify(array):\n",
    "    return np.moveaxis(array, -1, 0)\n",
    "\n",
    "def nan_to_value(array, value=0):\n",
    "    nan_loc = np.isnan(array)\n",
    "    array[nan_loc] = value\n",
    "    return array\n",
    "\n",
    "\n",
    "class Torchify():\n",
    "    def __init__(self,squeeze=False, nanvalue=0):\n",
    "        self.squeeze = squeeze\n",
    "        self.nanvalue = nanvalue\n",
    "    def __call__(self,array):\n",
    "        array_ = torchify(array)\n",
    "        array_ = nan_to_value(array_, value=self.nanvalue)\n",
    "\n",
    "        if self.squeeze==True:\n",
    "            return array_.squeeze()\n",
    "        elif type(self.squeeze)==int:\n",
    "            return array_.squeeze(self.squeeze)\n",
    "        else:\n",
    "            return array_"
   ],
   "metadata": {
    "collapsed": false,
    "pycharm": {
     "name": "#%% torchify\n"
    }
   }
  },
  {
   "cell_type": "code",
   "execution_count": 8,
   "id": "0328d8fe",
   "metadata": {
    "pycharm": {
     "name": "#%% training dataset\n"
    }
   },
   "outputs": [],
   "source": [
    "dataset_train = Dataset_eolearn(\n",
    "    paths = paths_train,\n",
    "    feature_data = (FeatureType.DATA, \"data\"),\n",
    "    feature_reference = (FeatureType.DATA, \"reference\"),\n",
    "    feature_mask = (FeatureType.MASK, \"mask_reference\"),\n",
    "\n",
    "    transform_data = Scaler,\n",
    "    transform_reference = Torchify(squeeze=1, nanvalue=0),\n",
    "    transform_mask = Torchify(squeeze=1, nanvalue=0),\n",
    "    \n",
    "    return_idx = False,\n",
    "    return_path = False,\n",
    "\n",
    "    torchdevice = None,\n",
    "    torchtype_data = torch.FloatTensor,\n",
    "    torchtype_reference = torch.FloatTensor,\n",
    "    torchtype_mask = torch.FloatTensor,\n",
    ")"
   ]
  },
  {
   "cell_type": "code",
   "execution_count": 9,
   "id": "6a31b0fe",
   "metadata": {
    "pycharm": {
     "name": "#%% validation dataset\n"
    }
   },
   "outputs": [],
   "source": [
    "dataset_validation = Dataset_eolearn(\n",
    "    paths = paths_validation,\n",
    "    feature_data = (FeatureType.DATA, \"data\"),\n",
    "    feature_reference = (FeatureType.DATA, \"reference\"),\n",
    "    feature_mask = (FeatureType.MASK,\"mask_reference\"),\n",
    "\n",
    "    transform_data = Scaler,\n",
    "    transform_reference = Torchify(squeeze=1, nanvalue=0),\n",
    "    transform_mask = Torchify(squeeze=1, nanvalue=0),\n",
    "    \n",
    "    return_idx = False,\n",
    "    return_path = False,\n",
    "\n",
    "    torchdevice = None,\n",
    "    torchtype_data = torch.FloatTensor,\n",
    "    torchtype_reference = torch.FloatTensor,\n",
    "    torchtype_mask = torch.FloatTensor,\n",
    ")"
   ]
  },
  {
   "cell_type": "markdown",
   "id": "3cec2844",
   "metadata": {},
   "source": [
    "Let's test our datasets! \n",
    "\n",
    "As we can see, each batch of our input data `x` consists of \n",
    "- 6 samples, \n",
    "- 6 channels (where the channels correpond to the downloaded bands `B02`, `B03`, `B04`, `B08`, `B8A` and `B11`),\n",
    "- 8 consecutive time stamps\n",
    "- and a spatial resolution of `256x256` for each patch.\n",
    "\n",
    "The corresponding reference `y` collapses the channel and timestamp dimesions and we end up with\n",
    "- 6 samples\n",
    "- and a spatial resolution of `256x256` for each patch, where all values are in the range `[-1,1]` to represent the NDVI index.\n",
    "\n",
    "The mask has the same shape as the reference `y` with binary values to filter with the`no-data mask` and `cloud mask`."
   ]
  },
  {
   "cell_type": "code",
   "execution_count": 10,
   "id": "30790772",
   "metadata": {
    "pycharm": {
     "is_executing": true
    }
   },
   "outputs": [
    {
     "name": "stdout",
     "output_type": "stream",
     "text": [
      "Training Data Shape: torch.Size([6, 6, 8, 256, 256])\n",
      "Training Reference Shape: torch.Size([6, 256, 256])\n",
      "Training Mask Shape: torch.Size([6, 256, 256])\n",
      "\n",
      "Validation Data Shape: torch.Size([6, 6, 8, 256, 256])\n",
      "Validation Reference Shape: torch.Size([6, 256, 256])\n",
      "Validation Mask Shape: torch.Size([6, 256, 256])\n",
      "\n"
     ]
    }
   ],
   "source": [
    "sample_train = dataset_train[:config[\"batch_size\"]]\n",
    "print('Training Data Shape:', sample_train[0].shape)\n",
    "print('Training Reference Shape:', sample_train[1].shape)\n",
    "print('Training Mask Shape:', sample_train[2].shape)\n",
    "print()\n",
    "\n",
    "sample_validation = dataset_validation[:config[\"batch_size\"]]\n",
    "print('Validation Data Shape:', sample_validation[0].shape)\n",
    "print('Validation Reference Shape:', sample_validation[1].shape)\n",
    "print('Validation Mask Shape:', sample_validation[2].shape)"
   ]
  },
  {
   "cell_type": "markdown",
   "id": "eb87976a",
   "metadata": {},
   "source": [
    "Let's define our dataloader for each dataset.\n",
    "We will double our `batch_size` for validation as no gradient calculation is needed here."
   ]
  },
  {
   "cell_type": "code",
   "execution_count": 11,
   "id": "b04b2a82",
   "metadata": {
    "pycharm": {
     "name": "#%% training dataloader\n"
    }
   },
   "outputs": [],
   "source": [
    "dataloader_train = torch.utils.data.DataLoader(\n",
    "    dataset = dataset_train,\n",
    "    batch_size = config[\"batch_size\"],\n",
    "    shuffle = True,\n",
    "    sampler = None,\n",
    "    batch_sampler = None,\n",
    "    num_workers = 0 if platform.system()==\"Windows\" else config[\"threads\"],\n",
    "    collate_fn = None,\n",
    "    pin_memory = False,\n",
    "    drop_last = True,\n",
    "    timeout = 0,\n",
    "    worker_init_fn = None,\n",
    "    multiprocessing_context = None\n",
    ")"
   ]
  },
  {
   "cell_type": "code",
   "execution_count": 12,
   "id": "2b3f782e",
   "metadata": {
    "pycharm": {
     "name": "#%% validation dataloader\n"
    }
   },
   "outputs": [],
   "source": [
    "dataloader_validation = torch.utils.data.DataLoader(\n",
    "    dataset = dataset_validation,\n",
    "    batch_size = config[\"batch_size\"]*2,\n",
    "    shuffle = False,\n",
    "    sampler = None,\n",
    "    batch_sampler = None,\n",
    "    num_workers = 0 if platform.system()==\"Windows\" else config[\"threads\"],\n",
    "    collate_fn = None,\n",
    "    pin_memory = False,\n",
    "    drop_last = True,\n",
    "    timeout = 0,\n",
    "    worker_init_fn = None,\n",
    "    multiprocessing_context = None\n",
    ")"
   ]
  },
  {
   "cell_type": "markdown",
   "id": "eabeb0f4",
   "metadata": {},
   "source": [
    "# Model\n",
    "Now, it's time to initialise our model.\n",
    "We will do that using `importME` since we want to keep flexibility with regard to the model architecture used. That way, changes can easily be made in the Configuaration Notebook without having to modify this Notebook."
   ]
  },
  {
   "cell_type": "code",
   "execution_count": 13,
   "id": "8e5049ee",
   "metadata": {
    "pycharm": {
     "name": "#%% import model\n"
    }
   },
   "outputs": [],
   "source": [
    "module_model = importME(config[\"module_model\"])"
   ]
  },
  {
   "cell_type": "markdown",
   "id": "08264474",
   "metadata": {},
   "source": [
    "Since we are dealing with time-series data in image format, we have chosen a `Convolutional LSTM` architecture as our model. \n",
    "\n",
    "The original paper can be found [here](https://arxiv.org/abs/1506.04214). \n",
    "The model used in this notebook slightly deviates from the paper and the implementation can be found [here](https://github.com/ndrplz/ConvLSTM_pytorch).\n",
    "\n",
    "The dynamics implemented in the used model can be described as:\n",
    "\n",
    "[<img src=\"https://user-images.githubusercontent.com/7113894/59357391-15c73e00-8d2b-11e9-8234-9d51a90be5dc.png\">](https://user-images.githubusercontent.com/)\n",
    "\n",
    "When executing the following cell, one can see the small overall model that is currently used alongside with the hpyerparameters that are defined in the config file."
   ]
  },
  {
   "cell_type": "code",
   "execution_count": 14,
   "id": "4f32710b",
   "metadata": {
    "pycharm": {
     "name": "#%% initialise model\n"
    }
   },
   "outputs": [
    {
     "data": {
      "text/plain": [
       "ConvLSTM(\n",
       "  (cell_list): ModuleList(\n",
       "    (0): ConvLSTMCell(\n",
       "      (conv): Conv2d(26, 80, kernel_size=(3, 3), stride=(1, 1), padding=(1, 1))\n",
       "    )\n",
       "    (1): ConvLSTMCell(\n",
       "      (conv): Conv2d(40, 80, kernel_size=(3, 3), stride=(1, 1), padding=(1, 1))\n",
       "    )\n",
       "    (2): ConvLSTMCell(\n",
       "      (conv): Conv2d(21, 4, kernel_size=(3, 3), stride=(1, 1), padding=(1, 1))\n",
       "    )\n",
       "  )\n",
       ")"
      ]
     },
     "execution_count": 14,
     "metadata": {},
     "output_type": "execute_result"
    }
   ],
   "source": [
    "model = module_model(**config[\"kwargs_model\"])\n",
    "model"
   ]
  },
  {
   "cell_type": "markdown",
   "id": "44fd30da",
   "metadata": {},
   "source": [
    "Now, we want to augment the model such that it fits in our training pipeline.\n",
    "We will add some IO methods such as saving and loading to it.\n",
    "Further, we will add a method for getting the gradients during training.\n",
    "That will be used for a brainwave monitor.\n",
    "The benefit of that gets clear if you think of changing the architecture used but do not mean to change the IO interface of your code."
   ]
  },
  {
   "cell_type": "code",
   "execution_count": 15,
   "id": "bbcbb234",
   "metadata": {
    "pycharm": {
     "name": "#%% general IO\n"
    }
   },
   "outputs": [
    {
     "data": {
      "text/plain": [
       "True"
      ]
     },
     "execution_count": 15,
     "metadata": {},
     "output_type": "execute_result"
    }
   ],
   "source": [
    "AugmentME.augment_IO(model,savekey='save',loadkey='load',mode='torch')"
   ]
  },
  {
   "cell_type": "code",
   "execution_count": 16,
   "id": "2cdfc9ba",
   "metadata": {
    "pycharm": {
     "name": "#%% checkpoint saving\n"
    }
   },
   "outputs": [
    {
     "data": {
      "text/plain": [
       "True"
      ]
     },
     "execution_count": 16,
     "metadata": {},
     "output_type": "execute_result"
    }
   ],
   "source": [
    "AugmentME.augment_checkpoint(model,key='save_checkpoint',mode='torch')"
   ]
  },
  {
   "cell_type": "code",
   "execution_count": 17,
   "id": "ec9633b7",
   "metadata": {
    "pycharm": {
     "name": "#%% gradient method\n"
    }
   },
   "outputs": [],
   "source": [
    "AugmentME.augment_gradient(model,key='get_gradient',mode=None)"
   ]
  },
  {
   "cell_type": "code",
   "execution_count": 18,
   "id": "13285623",
   "metadata": {
    "pycharm": {
     "name": "#%% number of parameters\n"
    }
   },
   "outputs": [
    {
     "data": {
      "text/plain": [
       "True"
      ]
     },
     "execution_count": 18,
     "metadata": {},
     "output_type": "execute_result"
    }
   ],
   "source": [
    "AugmentME.augment_Ntheta(model,key=\"get_Ntheta\")"
   ]
  },
  {
   "cell_type": "markdown",
   "id": "73b54ce6",
   "metadata": {},
   "source": [
    "As a test if the augmenting worked, we want to have a look at the number of parameters."
   ]
  },
  {
   "cell_type": "code",
   "execution_count": 19,
   "id": "c23732d3",
   "metadata": {
    "pycharm": {
     "name": "#%% number of parameters\n"
    }
   },
   "outputs": [
    {
     "name": "stdout",
     "output_type": "stream",
     "text": [
      "Number of parameters: 48440\n"
     ]
    }
   ],
   "source": [
    "print(\"Number of parameters:\",model.get_Ntheta())"
   ]
  },
  {
   "cell_type": "markdown",
   "id": "cbba136c",
   "metadata": {},
   "source": [
    "# Training\n",
    "Before we can start training our model, we have to define a loss function.\n",
    "We will keep it as flexible as the model itself and use `importME`. \n",
    "\n",
    "As we deal with a regression task we use a classical `MSE Loss` function. However, it is important to also take the mask into account that we get for each batch in addition to `x` and `y`. The loss fuction can be modified such that no loss is computed for those pixels where the mask has a value of 1. \n",
    "\n",
    "We have implemented such a custom loss called `MSELossMasked` which can be found in `libs\\loss.py`."
   ]
  },
  {
   "cell_type": "code",
   "execution_count": 20,
   "id": "61741159",
   "metadata": {},
   "outputs": [],
   "source": [
    "loss_function = importME(config[\"module_loss\"])(**config[\"kwargs_loss\"])"
   ]
  },
  {
   "cell_type": "markdown",
   "id": "8230bafc",
   "metadata": {},
   "source": [
    "No optimization without an optimizer! \n",
    "Due to corresponding device issues, we have to send our model to the device before we define our optimizer."
   ]
  },
  {
   "cell_type": "code",
   "execution_count": 21,
   "id": "4c19daf7",
   "metadata": {
    "pycharm": {
     "name": "#%% send model to device to avoid device errors\n"
    },
    "scrolled": false
   },
   "outputs": [
    {
     "data": {
      "text/plain": [
       "ConvLSTM(\n",
       "  (cell_list): ModuleList(\n",
       "    (0): ConvLSTMCell(\n",
       "      (conv): Conv2d(26, 80, kernel_size=(3, 3), stride=(1, 1), padding=(1, 1))\n",
       "    )\n",
       "    (1): ConvLSTMCell(\n",
       "      (conv): Conv2d(40, 80, kernel_size=(3, 3), stride=(1, 1), padding=(1, 1))\n",
       "    )\n",
       "    (2): ConvLSTMCell(\n",
       "      (conv): Conv2d(21, 4, kernel_size=(3, 3), stride=(1, 1), padding=(1, 1))\n",
       "    )\n",
       "  )\n",
       ")"
      ]
     },
     "execution_count": 21,
     "metadata": {},
     "output_type": "execute_result"
    }
   ],
   "source": [
    "model.to(config[\"device\"])"
   ]
  },
  {
   "cell_type": "markdown",
   "id": "1071d8d1",
   "metadata": {},
   "source": [
    "Now, we can define our optimizer with the parameters already been sent to our chosen device!"
   ]
  },
  {
   "cell_type": "code",
   "execution_count": 22,
   "id": "45a4c812",
   "metadata": {},
   "outputs": [
    {
     "data": {
      "text/plain": [
       "Adam (\n",
       "Parameter Group 0\n",
       "    amsgrad: False\n",
       "    betas: (0.9, 0.999)\n",
       "    capturable: False\n",
       "    differentiable: False\n",
       "    eps: 1e-08\n",
       "    foreach: None\n",
       "    fused: False\n",
       "    lr: 7e-05\n",
       "    maximize: False\n",
       "    weight_decay: 1e-06\n",
       ")"
      ]
     },
     "execution_count": 22,
     "metadata": {},
     "output_type": "execute_result"
    }
   ],
   "source": [
    "optimizer = importME(config[\"module_optimizer\"])(model.parameters(),**config[\"kwargs_optimizer\"])\n",
    "optimizer"
   ]
  },
  {
   "cell_type": "markdown",
   "id": "7eca0145",
   "metadata": {},
   "source": [
    "## Sanity Check\n",
    "\n",
    "When training a NN is makes sense to perform simple debugging steps before running the model for hours!\n",
    "A very simple idea to do so is to overfit a small subset of our data.\n",
    "**Overfitting a single sample** verifies that the loss function works properly and **overfitting on a single batch** helps us to catch a large number of bugs early!\n",
    "\n",
    "In our case, we optimize the model on one single batch for 100 iterations and see that our loss goes towards 0!"
   ]
  },
  {
   "cell_type": "code",
   "execution_count": 23,
   "id": "6812a5ac",
   "metadata": {},
   "outputs": [
    {
     "name": "stdout",
     "output_type": "stream",
     "text": [
      "Overfitting to a single batch for 100 steps...\n",
      "Iteration: 10, Loss: 0.2248678207397461\n",
      "Iteration: 20, Loss: 0.21632389724254608\n",
      "Iteration: 30, Loss: 0.20345477759838104\n",
      "Iteration: 40, Loss: 0.1812230348587036\n",
      "Iteration: 50, Loss: 0.1417338252067566\n",
      "Iteration: 60, Loss: 0.08976586163043976\n",
      "Iteration: 70, Loss: 0.07031788676977158\n",
      "Iteration: 80, Loss: 0.07202398031949997\n",
      "Iteration: 90, Loss: 0.06893713772296906\n",
      "Iteration: 100, Loss: 0.06867506355047226\n"
     ]
    },
    {
     "data": {
      "image/png": "[encoded data removed]",
      "text/plain": [
       "<Figure size 640x480 with 1 Axes>"
      ]
     },
     "metadata": {},
     "output_type": "display_data"
    }
   ],
   "source": [
    "# get a batch from the dataloader\n",
    "x, y, mask = next(iter(dataloader_train))\n",
    "# send it to correct device\n",
    "x = x.to(config[\"device\"])\n",
    "y = y.to(config[\"device\"])\n",
    "mask = mask.to(config[\"device\"])\n",
    "# append losses for visualization\n",
    "loss_history = []\n",
    "print('Overfitting to a single batch for 100 steps...')\n",
    "for i in range(100):\n",
    "    out, _ = model.forward(x)\n",
    "    pred = out[0][:, -1, ...].squeeze().to(config[\"device\"])\n",
    "    optimizer.zero_grad()\n",
    "    loss = loss_function(pred, y, mask)\n",
    "    loss_history.append(loss.item())\n",
    "    loss.backward()\n",
    "    optimizer.step()\n",
    "    if (i+1)%10 == 0:\n",
    "        print(f'Iteration: {i+1}, Loss: {loss}')\n",
    "# plot the loss function\n",
    "plt.plot(loss_history)\n",
    "plt.xlabel('Iterations', fontsize=12)\n",
    "plt.ylabel('Loss', fontsize=12)\n",
    "plt.tight_layout()\n"
   ]
  },
  {
   "cell_type": "markdown",
   "id": "81601344",
   "metadata": {},
   "source": [
    "To assess the performance of our model, we load some metrics. Similar to the loss function, we use the `Masked MSE Loss` function as our first metric and a `Squared Variance Error` to also take the variance into account. The implementatin of both metrics can be found in `libs\\metrics.py`"
   ]
  },
  {
   "cell_type": "code",
   "execution_count": 26,
   "id": "0bd3dbf5",
   "metadata": {},
   "outputs": [],
   "source": [
    "metric = importME(config[\"module_metric\"])"
   ]
  },
  {
   "cell_type": "markdown",
   "id": "0274f836",
   "metadata": {},
   "source": [
    "Of course, we would like to track the proceeding of our training procedure.\n",
    "Hence, we define a tensorboard [SummaryWriter](https://tensorboardx.readthedocs.io/en/latest/tensorboard.html#tensorboardX.SummaryWriter)."
   ]
  },
  {
   "cell_type": "code",
   "execution_count": 27,
   "id": "c2792bed",
   "metadata": {},
   "outputs": [],
   "source": [
    "writer = SummaryWriter(config[\"dir_tensorboard\"])"
   ]
  },
  {
   "cell_type": "markdown",
   "id": "c41f3d85",
   "metadata": {},
   "source": [
    "Anyway, we would like to make our experiment reproducible.\n",
    "Thus, we set the seeds such that all random number generation and shuffling is done in a deterministic manner."
   ]
  },
  {
   "cell_type": "code",
   "execution_count": 28,
   "id": "62823fe7",
   "metadata": {
    "pycharm": {
     "name": "#%% reproducibility\n"
    }
   },
   "outputs": [],
   "source": [
    "np.random.seed(config[\"seed\"])\n",
    "torch.manual_seed(config[\"seed\"])\n",
    "torch.backends.cudnn.deterministic = True\n",
    "torch.backends.cudnn.benchmark = False"
   ]
  },
  {
   "cell_type": "markdown",
   "id": "93120cc7",
   "metadata": {},
   "source": [
    "In case of a premature exit of the training procedure, we insert a resume flag here.\n",
    "It enables the user to start with the chosen checkpoint or automatically choose the most recent one."
   ]
  },
  {
   "cell_type": "code",
   "execution_count": 29,
   "id": "0e0b69bc",
   "metadata": {
    "pycharm": {
     "name": "#%% resume flag\n"
    }
   },
   "outputs": [],
   "source": [
    "resume = False"
   ]
  },
  {
   "cell_type": "code",
   "execution_count": 30,
   "id": "d4c1a98f",
   "metadata": {
    "pycharm": {
     "name": "#%% resume case\n"
    }
   },
   "outputs": [
    {
     "data": {
      "text/plain": [
       "ConvLSTM(\n",
       "  (cell_list): ModuleList(\n",
       "    (0): ConvLSTMCell(\n",
       "      (conv): Conv2d(26, 80, kernel_size=(3, 3), stride=(1, 1), padding=(1, 1))\n",
       "    )\n",
       "    (1): ConvLSTMCell(\n",
       "      (conv): Conv2d(40, 80, kernel_size=(3, 3), stride=(1, 1), padding=(1, 1))\n",
       "    )\n",
       "    (2): ConvLSTMCell(\n",
       "      (conv): Conv2d(21, 4, kernel_size=(3, 3), stride=(1, 1), padding=(1, 1))\n",
       "    )\n",
       "  )\n",
       ")"
      ]
     },
     "execution_count": 30,
     "metadata": {},
     "output_type": "execute_result"
    }
   ],
   "source": [
    "if resume:\n",
    "    if resume==True:\n",
    "        resume = os.path.join(config[\"dir_checkpoints\"],natsort.natsorted(os.listdir(config[\"dir_checkpoints\"]))[-1])\n",
    "    else:\n",
    "        resume = resume\n",
    "    \n",
    "    print(f'Loading Checkpoint {resume}!')\n",
    "    checkpoint = torch.load(resume,map_location=config[\"device\"])\n",
    "    model.load_state_dict(checkpoint['model_state_dict'])\n",
    "    optimizer.load_state_dict(checkpoint['optimizer_state_dict'])\n",
    "    loss = checkpoint['loss']\n",
    "    bestloss = checkpoint['bestloss']\n",
    "    epoch_ = checkpoint['epoch']+1\n",
    "    logstep_ = checkpoint['logstep']\n",
    "else:\n",
    "    epoch_ = 0\n",
    "    logstep_ = 0\n",
    "    bestloss = np.inf\n",
    "\n",
    "model.train()"
   ]
  },
  {
   "cell_type": "markdown",
   "id": "6f7125bc",
   "metadata": {},
   "source": [
    "Let's start the training loop!"
   ]
  },
  {
   "cell_type": "code",
   "execution_count": 31,
   "id": "259d1e55",
   "metadata": {
    "pycharm": {
     "is_executing": true
    }
   },
   "outputs": [],
   "source": [
    "print('Start training...')\n",
    "tic = time.time()\n",
    "device = config[\"device\"]\n",
    "logstep = -1+logstep_\n",
    "for epoch in range(config[\"n_epochs\"]-epoch_):\n",
    "    epoch = epoch+epoch_\n",
    "    for step, (x, y, mask) in enumerate(dataloader_train):\n",
    "\n",
    "        x = x.to(device)\n",
    "        y = y.to(device)\n",
    "        mask = mask.to(device)\n",
    "        \n",
    "        #%%% clean cache of GPU\n",
    "        torch.cuda.empty_cache()\n",
    "\n",
    "        #%%% compute logstep\n",
    "        logstep = logstep+1\n",
    "\n",
    "        #%%% zero gradients\n",
    "        optimizer.zero_grad(set_to_none=True)\n",
    "\n",
    "        # get prediction\n",
    "        out, _ = model(x)\n",
    "        pred = out[0][:, -1, ...].squeeze()\n",
    "\n",
    "        #%%% compute and rescale loss\n",
    "        loss = loss_function(pred, y, mask)\n",
    "\n",
    "        #%%% compute metric\n",
    "        if type(metric)==list:\n",
    "            train_acc = [metric_(pred, y, mask).cpu().detach() for metric_ in metric]\n",
    "        else:\n",
    "            train_acc = metric(pred, y, mask).cpu().detach()\n",
    "        \n",
    "\n",
    "        #%%% compute gradient\n",
    "        loss.backward()\n",
    "\n",
    "        #%%% update model parameters\n",
    "        optimizer.step()\n",
    "\n",
    "        #%%% printing stuff\n",
    "        print(\n",
    "            \"[{}] Training Step: {:d}/{:d} {:d}.{:d}, \\tbatch_size: {} \\tLoss: {:.4f}\".format(\n",
    "                dt.datetime.now().strftime(\"%Y-%m-%dT%H-%M-%S\"),\n",
    "                logstep+1,\n",
    "                len(dataloader_train)*config[\"n_epochs\"],\n",
    "                epoch,\n",
    "                step,\n",
    "                config[\"batch_size\"],\n",
    "                loss.mean(),\n",
    "            )\n",
    "        )\n",
    "\n",
    "        #%%% write to tensorboard\n",
    "        #%%%% log loss\n",
    "        writer.add_scalar(f'LossTraining/{type(loss_function).__name__}', loss, global_step=logstep)\n",
    "        \n",
    "        #%%%% log metric\n",
    "        if type(metric)==list:\n",
    "            writer.add_scalars('AccuracyTraining',{metric_.__name__:train_acc_ for metric_,train_acc_ in zip(metric,train_acc)},global_step=logstep)\n",
    "        else:\n",
    "            writer.add_scalar('AccuracyTraining', train_acc, global_step=logstep)\n",
    "        \n",
    "        #%%%% gradients\n",
    "        writer.add_histogram('GradientsTraining/AllParams', model.get_gradient(mode='vec',index=None), global_step=logstep, bins=50, walltime=None, max_bins=100)\n",
    "        for name,grad in model.get_gradient(mode='named params',device=\"cpu\",detach=True):\n",
    "            writer.add_histogram(f'NamedGradientsTraining/{name}', grad, global_step=logstep, bins=50, walltime=None, max_bins=100)\n",
    "        \n",
    "    #%%% intermediate evaluation of validation set\n",
    "    if config[\"eval_freq\"] and (epoch+1)%config[\"eval_freq\"]==0:\n",
    "        print()\n",
    "        model.eval()\n",
    "        loss_val = []\n",
    "        acc_val = []\n",
    "        weights_val = []\n",
    "        \n",
    "        n_plot_validation = 8\n",
    "        \n",
    "        with torch.no_grad():\n",
    "            fig, axis = plt.subplots(nrows=n_plot_validation*2, ncols=dataloader_validation.batch_size,\n",
    "                                     figsize=(3*dataloader_validation.batch_size,2*3*n_plot_validation))\n",
    "            fig.suptitle('Validation Data %i'%logstep)\n",
    "            for step_validation, (x_validation, y_validation, mask_validation) in enumerate(dataloader_validation):\n",
    "                \n",
    "                x_validation = x_validation.to(device)\n",
    "                y_validation = y_validation.to(device)\n",
    "                mask_validation = mask_validation.to(device)\n",
    "                    \n",
    "\n",
    "                #%%%% clean cache of GPU\n",
    "                torch.cuda.empty_cache()\n",
    "\n",
    "                out_validation, _ = model.forward(x_validation)\n",
    "                pred_validation = out_validation[0][:, -1, ...].squeeze()\n",
    "\n",
    "\n",
    "                #%%% compute loss\n",
    "                loss_validation = loss_function(pred_validation, y_validation, mask_validation)\n",
    "                \n",
    "                #%%%% compute metric\n",
    "                if type(metric)==list:\n",
    "                    validation_acc = [metric_(pred_validation, y_validation, mask_validation).cpu().detach() for metric_ in metric]\n",
    "                else:\n",
    "                    validation_acc = metric(pred_validation, y_validation, mask_validation).cpu().detach()\n",
    "                #%%%% printing stuff\n",
    "                print(\n",
    "                    \"[{}] Validation Step: {:d}/{:d}, \\tbatch_size: {} \\tLoss: {:.4f}\".format(\n",
    "                        dt.datetime.now().strftime(\"%Y-%m-%dT%H-%M-%S\"),\n",
    "                        step_validation+1,\n",
    "                        len(dataloader_validation),\n",
    "                        dataloader_validation.batch_size,\n",
    "                        loss_validation.mean(),\n",
    "                    )\n",
    "                )\n",
    "                \n",
    "                #%%%% visualize the predictions from the validation set and compare it to the reference for several\n",
    "                #%%%% timestamps to visually see how the predictions get closer to the reference over time\n",
    "                if step_validation < n_plot_validation:\n",
    "                    axis[step_validation*2][0].set_ylabel(\"Prediction\")\n",
    "                    axis[step_validation*2+1][0].set_ylabel(\"Reference\")\n",
    "                    for i in range(dataloader_validation.batch_size):\n",
    "                        \n",
    "                        axis[step_validation*2][i].imshow(pred_validation[i].squeeze().cpu().detach(),\n",
    "                                                          vmin=-1,vmax=1,cmap=\"Greens\")\n",
    "                        axis[step_validation*2][i].set_xticks([])\n",
    "                        axis[step_validation*2][i].set_yticks([])\n",
    "\n",
    "                        axis[step_validation*2+1][i].imshow(y_validation[i].squeeze().cpu().detach().numpy(),\n",
    "                                                            vmin=-1,vmax=1,cmap=\"Greens\")\n",
    "                        axis[step_validation*2+1][i].set_xticks([])\n",
    "                        axis[step_validation*2+1][i].set_yticks([])\n",
    "                    \n",
    "                #%%%% collect loss and accuracy\n",
    "                loss_val.append(loss_validation.cpu().detach().numpy())\n",
    "                acc_val.append(validation_acc)\n",
    "                weights_val.append(torch.count_nonzero(mask_validation).cpu().detach().numpy())\n",
    "\n",
    "            #%%%% total loss and accuracy\n",
    "            total = np.sum([np.sum(weight_) for weight_ in weights_val])\n",
    "            loss_val_total = np.sum([weight_/total*loss_ for weight_,loss_ in zip(weights_val,loss_val)])\n",
    "            if type(metric)==list:\n",
    "                acc_val_total = [np.sum([weight_/total*acc_[i] for weight_,acc_ in zip(weights_val,acc_val)]) for i in range(len(metric))]\n",
    "            else:\n",
    "                acc_val_total = np.sum([weight_/total*acc_ for weight_,acc_ in zip(weights_val,acc_val)])\n",
    "            \n",
    "            # print total values\n",
    "            print(\n",
    "                \"[{}] Validation: \\tTotal Loss: {:.4f}\".format(\n",
    "                    dt.datetime.now().strftime(\"%Y-%m-%dT%H-%M-%S\"),\n",
    "                    loss_val_total,\n",
    "                    {metric_.__name__:validation_acc_ for metric_,validation_acc_ in zip(metric,acc_val_total)} if type(metric)==list else acc_val_total\n",
    "                )\n",
    "            )\n",
    "\n",
    "            #%%%% write to tensorboard\n",
    "            #%%%%% log loss\n",
    "            writer.add_scalar(f'LossValidation/{type(loss_function).__name__}', loss_val_total, global_step=logstep)\n",
    "\n",
    "            #%%%%% log metric\n",
    "            if type(metric)==list:\n",
    "                writer.add_scalars('AccuracyValidation',{metric_.__name__:validation_acc_ for metric_,validation_acc_ in zip(metric,acc_val_total)},global_step=logstep)\n",
    "            else:\n",
    "                writer.add_scalar('AccuracyValidation', acc_val_total, global_step=logstep)\n",
    "            \n",
    "            #%%%%% log figure\n",
    "            plt.tight_layout()\n",
    "            plt.savefig(fname=os.path.join(config[\"dir_imgs_validation\"],\"PredictionValidation_%i\"%logstep), dpi=\"figure\")\n",
    "            writer.add_figure(tag=\"PredictionValidation\", figure=fig, global_step=logstep, close=True, walltime=None)\n",
    "\n",
    "        model.train()\n",
    "        print()\n",
    "        #%%% checkpoint for best validation loss\n",
    "        if config[\"checkpoint_bestloss\"] and bestloss>loss_val_total:\n",
    "            print(\"New best validation loss! Storing checkpoint and model!\")\n",
    "            model.save_checkpoint(\n",
    "                savename = os.path.join(config[\"dir_checkpoints\"],'checkpoint_bestloss.tar'),\n",
    "                epoch = epoch,\n",
    "                logstep = logstep,\n",
    "                optimizer_state_dict = optimizer.state_dict(),\n",
    "                loss = loss,\n",
    "                bestloss = loss_val_total\n",
    "            )\n",
    "            model.save(savename=os.path.join(config[\"dir_results\"],config[\"model_savename_inference_bestloss\"]),mode='inference')\n",
    "            model.save(savename=os.path.join(config[\"dir_results\"],config[\"model_savename_bestloss\"]),mode='entirely')\n",
    "            bestloss = loss_val_total\n",
    "\n",
    "    #%%% checkpoint\n",
    "    if config[\"checkpoint_freq\"] and (epoch+1)%config[\"checkpoint_freq\"]==0:\n",
    "        model.save_checkpoint(\n",
    "            savename = os.path.join(config[\"dir_checkpoints\"],f'checkpoint_{logstep}_{epoch}_{step}.tar'),\n",
    "            epoch = epoch,\n",
    "            logstep = logstep,\n",
    "            optimizer_state_dict = optimizer.state_dict(),\n",
    "            loss = loss,\n",
    "            bestloss = loss_val_total\n",
    "        )\n",
    "        \n",
    "print(f\"Training took {time.time() - tic} s for {config['n_epochs']-epoch_} epochs\")"
   ]
  },
  {
   "cell_type": "code",
   "execution_count": null,
   "id": "09450db2",
   "metadata": {
    "pycharm": {
     "name": "#%% save model\n"
    }
   },
   "outputs": [],
   "source": [
    "print('saving final checkpoint!')\n",
    "model.save_checkpoint(savename=os.path.join(config[\"dir_checkpoints\"],f'checkpoint_{logstep}_{epoch}_{step}.tar'), epoch=epoch, logstep=logstep, optimizer_state_dict=optimizer.state_dict(), loss=loss)\n",
    "print('saving inference model')\n",
    "model.save(savename=os.path.join(config[\"dir_results\"],config[\"model_savename_inference\"]),mode='inference')\n",
    "print('saving entire model')\n",
    "model.save(savename=os.path.join(config[\"dir_results\"],config[\"model_savename\"]),mode='entirely')"
   ]
  }
 ],
 "metadata": {
  "kernelspec": {
   "display_name": "Python 3 (ipykernel)",
   "language": "python",
   "name": "python3"
  },
  "language_info": {
   "codemirror_mode": {
    "name": "ipython",
    "version": 3
   },
   "file_extension": ".py",
   "mimetype": "text/x-python",
   "name": "python",
   "nbconvert_exporter": "python",
   "pygments_lexer": "ipython3",
   "version": "3.8.13"
  }
 },
 "nbformat": 4,
 "nbformat_minor": 5
}
