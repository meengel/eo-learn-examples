{
 "cells": [
  {
   "cell_type": "markdown",
   "id": "9f84f86f",
   "metadata": {},
   "source": [
    "# GEM ML Framework Demonstrator - Water Segmentation\n",
    "In these notebooks, we will get a feeling of how the GEM ML framework can be used for the segmentation of water bodies using Sentinel-1 imagery as input and Sentinel-2 based normalised difference water index (NDWI) as a reference.\n",
    "The idea is to use a neural network (NN) model for the analysis.\n",
    "Thanks to the flexibility of the GEM ML framework, the model used can be replaced by changing the configuration only.\n",
    "We will have a look at the following notebooks separately:\n",
    "- 00_Configuration\n",
    "- 01_DataAcquisition\n",
    "- 02_DataNormalisation\n",
    "- 03_TrainingValidationTesting\n",
    "- 04_PyTorchTasks_ModelForwardTask\n",
    "- 05_PyTorchTasks_FeatureAttributionTasks\n",
    "- 06_PyTorchTasks_UncertaintyQuantificationTasks\n",
    "- 07_PyTorchTasks_DimensionalityReductionTasks\n",
    "\n",
    "by Michael Engel (m.engel@tum.de)\n",
    "\n",
    "-----------------------------------------------------------------------------------\n",
    "\n",
    "# PyTorchTasks - ModelForwardTask\n",
    "In this notebook, we see, how the GEM ML Framework can support decision making such as for flood disasters.\n",
    "The scenario is a flood event where no reference data is available as too many clouds occured.\n",
    "Hence, we need a fast and reliable map of the water body!\n",
    "For that purpose, a fast inference pipeline is necessary.\n",
    "The `PyTorchTasks` provide the `ModelForwardTask` for that purpose.\n",
    "It enables the users to integrate an already trained PyTorch-model into their eo-learn workflows.\n",
    "The management of GPU/CPU shifting is done by the ExecuteME package we provide for that purpose.\n",
    "In general, we do recommend to do this in common Python scripts as jupyter notebooks do not support the spawn method for parallelization which PyTorch-objects ask for."
   ]
  },
  {
   "cell_type": "code",
   "execution_count": 1,
   "id": "0c981409",
   "metadata": {},
   "outputs": [
    {
     "name": "stderr",
     "output_type": "stream",
     "text": [
      "C:\\Users\\skryp\\miniconda3\\envs\\eolearn_water\\lib\\site-packages\\tqdm\\auto.py:22: TqdmWarning: IProgress not found. Please update jupyter and ipywidgets. See https://ipywidgets.readthedocs.io/en/stable/user_install.html\n",
      "  from .autonotebook import tqdm as notebook_tqdm\n"
     ]
    },
    {
     "name": "stdout",
     "output_type": "stream",
     "text": [
      "Incorporating libs!\n",
      "Incorporating tasks!\n",
      "Incorporating utils!\n",
      "Working Directory: D:\\OneDrive\\Offiziell\\Promotion\\Code\\Git\\eo-learn-examples\\GEM-ML\\Example_WaterSegmentation\n",
      "Environment: eolearn_water\n",
      "Executable: C:\\Users\\skryp\\miniconda3\\envs\\eolearn_water\\python.exe\n"
     ]
    }
   ],
   "source": [
    "import os\n",
    "import sys\n",
    "import platform\n",
    "import numpy as np\n",
    "import datetime as dt\n",
    "import matplotlib.pyplot as plt\n",
    "import time\n",
    "import natsort\n",
    "\n",
    "import torch\n",
    "import torch.multiprocessing as mp\n",
    "from tensorboardX import SummaryWriter\n",
    "from tensorboard import notebook\n",
    "\n",
    "from sentinelhub import SHConfig, BBox, CRS, DataCollection, UtmZoneSplitter, DataCollection\n",
    "from eolearn.core import FeatureType, EOPatch, MergeEOPatchesTask, MapFeatureTask, MergeFeatureTask, ZipFeatureTask, LoadTask, EONode, EOWorkflow, EOExecutor, OverwritePermission, SaveTask\n",
    "from eolearn.io import SentinelHubDemTask, ExportToTiffTask, SentinelHubInputTask, SentinelHubEvalscriptTask, get_available_timestamps\n",
    "from eolearn.mask import CloudMaskTask, JoinMasksTask\n",
    "\n",
    "import rasterio\n",
    "import geopandas as gpd\n",
    "import pandas as pd\n",
    "from shapely.geometry import Polygon,Point\n",
    "import folium\n",
    "from folium import plugins as foliumplugins\n",
    "\n",
    "from libs.ConfigME import Config, importME\n",
    "from libs.MergeTDigests import mergeTDigests\n",
    "from libs.QuantileScaler_eolearn import QuantileScaler_eolearn_tdigest\n",
    "from libs.Dataset_eolearn import Dataset_eolearn\n",
    "from libs import AugmentME\n",
    "from libs import ExecuteME\n",
    "\n",
    "from tasks.TDigestTask import TDigestTask\n",
    "from tasks.PickIdxTask import PickIdxTask\n",
    "from tasks.SaveValidTask import SaveValidTask\n",
    "from tasks.PyTorchTasks import ModelForwardTask\n",
    "\n",
    "from utils.rasterio_reproject import rasterio_reproject\n",
    "from utils.transforms import batchify, predict, mover, Torchify\n",
    "from utils.parse_time_interval_observations import parse_time_interval_observations\n",
    "\n",
    "print(\"Working Directory:\",os.getcwd())\n",
    "print(\"Environment:\",os.environ['CONDA_DEFAULT_ENV'])\n",
    "print(\"Executable:\",sys.executable)"
   ]
  },
  {
   "cell_type": "markdown",
   "id": "2484bf33",
   "metadata": {},
   "source": [
    "# Config\n",
    "First, we load our configuration file which provides all information we need throughout the script."
   ]
  },
  {
   "cell_type": "code",
   "execution_count": 2,
   "id": "267b86b1",
   "metadata": {},
   "outputs": [],
   "source": [
    "#%% load configuration file\n",
    "config = Config.LOAD(\"config.dill\")\n",
    "config.linuxify()"
   ]
  },
  {
   "cell_type": "markdown",
   "id": "4838c8b3",
   "metadata": {},
   "source": [
    "# Area of Interest\n",
    "Let's load the geojson of our area of interests for decision making."
   ]
  },
  {
   "cell_type": "code",
   "execution_count": 3,
   "id": "565d166e",
   "metadata": {},
   "outputs": [],
   "source": [
    "#%% load geojson files\n",
    "aoi_showcase = gpd.read_file(config['AOI_showcase'])\n",
    "\n",
    "#%% find best suitable crs and transform to it\n",
    "crs_showcase = aoi_showcase.estimate_utm_crs()\n",
    "aoi_showcase = aoi_showcase.to_crs(crs_showcase)"
   ]
  },
  {
   "cell_type": "code",
   "execution_count": 4,
   "id": "ee204fe3",
   "metadata": {},
   "outputs": [
    {
     "name": "stdout",
     "output_type": "stream",
     "text": [
      "Dimension of the showcase area is 41086 x 33233 m2\n"
     ]
    }
   ],
   "source": [
    "#%% calculate and print size\n",
    "aoi_showcase_shape = aoi_showcase.geometry.values[0]\n",
    "aoi_showcase_width = aoi_showcase_shape.bounds[2]-aoi_showcase_shape.bounds[0]\n",
    "aoi_showcase_height = aoi_showcase_shape.bounds[3]-aoi_showcase_shape.bounds[1]\n",
    "print(f\"Dimension of the showcase area is {aoi_showcase_width:.0f} x {aoi_showcase_height:.0f} m2\")\n",
    "\n",
    "#%% create a splitter to obtain a list of bboxes\n",
    "bbox_splitter_showcase = UtmZoneSplitter([aoi_showcase_shape], aoi_showcase.crs, config[\"patchpixelwidth\"]*config[\"resolution\"])\n",
    "\n",
    "bbox_list_showcase = np.array(bbox_splitter_showcase.get_bbox_list())\n",
    "info_list_showcase = np.array(bbox_splitter_showcase.get_info_list())"
   ]
  },
  {
   "cell_type": "code",
   "execution_count": 5,
   "id": "5473a46a",
   "metadata": {},
   "outputs": [],
   "source": [
    "#%% determine number of coordinate reference systems\n",
    "crss = [bbox_._crs for bbox_ in bbox_list_showcase]\n",
    "crss_unique = np.array(list(dict.fromkeys(crss)))\n",
    "n_crss = len(crss_unique)\n",
    "\n",
    "#%% sort geometries and indices by crs and store to disk\n",
    "geometries = [[] for i in range(n_crss)]\n",
    "idxs = [[] for i in range(n_crss)]\n",
    "idxs_x = [[] for i in range(n_crss)]\n",
    "idxs_y = [[] for i in range(n_crss)]\n",
    "for i,info in enumerate(info_list_showcase):\n",
    "    idx_ = np.argmax(crss_unique==bbox_list_showcase[i]._crs)\n",
    "\n",
    "    geometries[idx_].append(Polygon(bbox_list_showcase[i].get_polygon())) # geometries sorted by crs\n",
    "    idxs[idx_].append(info[\"index\"]) # idxs sorted by crs\n",
    "    idxs_x[idx_].append(info[\"index_x\"]) # idxs_x sorted by crs\n",
    "    idxs_y[idx_].append(info[\"index_y\"]) # idxs_y sorted by crs\n",
    "\n",
    "tiles = []\n",
    "for i in range(n_crss):\n",
    "    #%%% build dataframe of our areas of interest (and each crs)\n",
    "    tiles.append(\n",
    "        gpd.GeoDataFrame(\n",
    "            {\"index\": idxs[i], \"index_x\": idxs_x[i], \"index_y\": idxs_y[i]},\n",
    "            crs=\"EPSG:\"+crss_unique[i]._value_,\n",
    "            geometry=geometries[i]\n",
    "        )\n",
    "    )\n",
    "    #%%% save dataframes to shapefiles\n",
    "    tiles[-1].to_file(os.path.join(config[\"dir_results\"],f\"grid_aoi_showcase_{i}_EPSG{str(crss_unique[i]._value_)}.gpkg\"), driver=\"GPKG\")"
   ]
  },
  {
   "cell_type": "code",
   "execution_count": 6,
   "id": "e2caa372",
   "metadata": {},
   "outputs": [
    {
     "name": "stdout",
     "output_type": "stream",
     "text": [
      "Total number of tiles: 63\n"
     ]
    },
    {
     "name": "stderr",
     "output_type": "stream",
     "text": [
      "C:\\Users\\skryp\\AppData\\Local\\Temp\\ipykernel_13916\\2758186615.py:6: UserWarning: Geometry is in a geographic CRS. Results from 'centroid' are likely incorrect. Use 'GeoSeries.to_crs()' to re-project geometries to a projected CRS before this operation.\n",
      "\n",
      "  location = [aoi_folium.centroid.y,aoi_folium.centroid.x]\n",
      "C:\\Users\\skryp\\AppData\\Local\\Temp\\ipykernel_13916\\2758186615.py:6: UserWarning: Geometry is in a geographic CRS. Results from 'centroid' are likely incorrect. Use 'GeoSeries.to_crs()' to re-project geometries to a projected CRS before this operation.\n",
      "\n",
      "  location = [aoi_folium.centroid.y,aoi_folium.centroid.x]\n"
     ]
    },
    {
     "data": {
      "text/html": [
       "<div style=\"width:100%;\"><div style=\"position:relative;width:100%;height:0;padding-bottom:60%;\"><span style=\"color:#565656\">Make this Notebook Trusted to load map: File -> Trust Notebook</span><iframe srcdoc=\"&lt;!DOCTYPE html&gt;\n",
       "&lt;head&gt;    \n",
       "    &lt;meta http-equiv=&quot;content-type&quot; content=&quot;text/html; charset=UTF-8&quot; /&gt;\n",
       "    \n",
       "        &lt;script&gt;\n",
       "            L_NO_TOUCH = false;\n",
       "            L_DISABLE_3D = false;\n",
       "        &lt;/script&gt;\n",
       "    \n",
       "    &lt;style&gt;html, body {width: 100%;height: 100%;margin: 0;padding: 0;}&lt;/style&gt;\n",
       "    &lt;style&gt;#map {position:absolute;top:0;bottom:0;right:0;left:0;}&lt;/style&gt;\n",
       "    &lt;script src=&quot;https://cdn.jsdelivr.net/npm/leaflet@1.6.0/dist/leaflet.js&quot;&gt;&lt;/script&gt;\n",
       "    &lt;script src=&quot;https://code.jquery.com/jquery-1.12.4.min.js&quot;&gt;&lt;/script&gt;\n",
       "    &lt;script src=&quot;https://maxcdn.bootstrapcdn.com/bootstrap/3.2.0/js/bootstrap.min.js&quot;&gt;&lt;/script&gt;\n",
       "    &lt;script src=&quot;https://cdnjs.cloudflare.com/ajax/libs/Leaflet.awesome-markers/2.0.2/leaflet.awesome-markers.js&quot;&gt;&lt;/script&gt;\n",
       "    &lt;link rel=&quot;stylesheet&quot; href=&quot;https://cdn.jsdelivr.net/npm/leaflet@1.6.0/dist/leaflet.css&quot;/&gt;\n",
       "    &lt;link rel=&quot;stylesheet&quot; href=&quot;https://maxcdn.bootstrapcdn.com/bootstrap/3.2.0/css/bootstrap.min.css&quot;/&gt;\n",
       "    &lt;link rel=&quot;stylesheet&quot; href=&quot;https://maxcdn.bootstrapcdn.com/bootstrap/3.2.0/css/bootstrap-theme.min.css&quot;/&gt;\n",
       "    &lt;link rel=&quot;stylesheet&quot; href=&quot;https://maxcdn.bootstrapcdn.com/font-awesome/4.6.3/css/font-awesome.min.css&quot;/&gt;\n",
       "    &lt;link rel=&quot;stylesheet&quot; href=&quot;https://cdnjs.cloudflare.com/ajax/libs/Leaflet.awesome-markers/2.0.2/leaflet.awesome-markers.css&quot;/&gt;\n",
       "    &lt;link rel=&quot;stylesheet&quot; href=&quot;https://cdn.jsdelivr.net/gh/python-visualization/folium/folium/templates/leaflet.awesome.rotate.min.css&quot;/&gt;\n",
       "    \n",
       "            &lt;meta name=&quot;viewport&quot; content=&quot;width=device-width,\n",
       "                initial-scale=1.0, maximum-scale=1.0, user-scalable=no&quot; /&gt;\n",
       "            &lt;style&gt;\n",
       "                #map_bb41094060d3c0878f24acadabf39313 {\n",
       "                    position: relative;\n",
       "                    width: 100.0%;\n",
       "                    height: 100.0%;\n",
       "                    left: 0.0%;\n",
       "                    top: 0.0%;\n",
       "                }\n",
       "            &lt;/style&gt;\n",
       "        \n",
       "    \n",
       "                    &lt;style&gt;\n",
       "                        .foliumtooltip {\n",
       "                            background-color:rgba(0,101,189,0.4); border:2px solid white; color:white;\n",
       "                        }\n",
       "                       .foliumtooltip table{\n",
       "                            margin: auto;\n",
       "                        }\n",
       "                        .foliumtooltip tr{\n",
       "                            text-align: left;\n",
       "                        }\n",
       "                        .foliumtooltip th{\n",
       "                            padding: 2px; padding-right: 8px;\n",
       "                        }\n",
       "                    &lt;/style&gt;\n",
       "            \n",
       "    &lt;script src=&quot;https://cdnjs.cloudflare.com/ajax/libs/leaflet.fullscreen/1.4.2/Control.FullScreen.min.js&quot;&gt;&lt;/script&gt;\n",
       "    &lt;link rel=&quot;stylesheet&quot; href=&quot;https://cdnjs.cloudflare.com/ajax/libs/leaflet.fullscreen/1.4.2/Control.FullScreen.min.css&quot;/&gt;\n",
       "&lt;/head&gt;\n",
       "&lt;body&gt;    \n",
       "    \n",
       "            &lt;div class=&quot;folium-map&quot; id=&quot;map_bb41094060d3c0878f24acadabf39313&quot; &gt;&lt;/div&gt;\n",
       "        \n",
       "&lt;/body&gt;\n",
       "&lt;script&gt;    \n",
       "    \n",
       "            var map_bb41094060d3c0878f24acadabf39313 = L.map(\n",
       "                &quot;map_bb41094060d3c0878f24acadabf39313&quot;,\n",
       "                {\n",
       "                    center: [7.901396, 6.8413055],\n",
       "                    crs: L.CRS.EPSG3857,\n",
       "                    zoom: 8,\n",
       "                    zoomControl: true,\n",
       "                    preferCanvas: false,\n",
       "                }\n",
       "            );\n",
       "\n",
       "            \n",
       "\n",
       "        \n",
       "    \n",
       "            var tile_layer_9d239426dce8ab1f9bf33bb9a4078951 = L.tileLayer(\n",
       "                &quot;https://stamen-tiles-{s}.a.ssl.fastly.net/terrain/{z}/{x}/{y}.jpg&quot;,\n",
       "                {&quot;attribution&quot;: &quot;Map tiles by \\u003ca href=\\&quot;http://stamen.com\\&quot;\\u003eStamen Design\\u003c/a\\u003e, under \\u003ca href=\\&quot;http://creativecommons.org/licenses/by/3.0\\&quot;\\u003eCC BY 3.0\\u003c/a\\u003e. Data by \\u0026copy; \\u003ca href=\\&quot;http://openstreetmap.org\\&quot;\\u003eOpenStreetMap\\u003c/a\\u003e, under \\u003ca href=\\&quot;http://creativecommons.org/licenses/by-sa/3.0\\&quot;\\u003eCC BY SA\\u003c/a\\u003e.&quot;, &quot;detectRetina&quot;: false, &quot;maxNativeZoom&quot;: 18, &quot;maxZoom&quot;: 18, &quot;minZoom&quot;: 0, &quot;noWrap&quot;: false, &quot;opacity&quot;: 1, &quot;subdomains&quot;: &quot;abc&quot;, &quot;tms&quot;: false}\n",
       "            ).addTo(map_bb41094060d3c0878f24acadabf39313);\n",
       "        \n",
       "    \n",
       "            var choropleth_9da83df5aeb2bc7d2f9bfcc0ba59a972 = L.featureGroup(\n",
       "                {}\n",
       "            ).addTo(map_bb41094060d3c0878f24acadabf39313);\n",
       "        \n",
       "    \n",
       "        function geo_json_ec08025977b119638b7700fca8fe7b28_styler(feature) {\n",
       "            switch(feature.id) {\n",
       "                default:\n",
       "                    return {&quot;color&quot;: &quot;royalblue&quot;, &quot;fillColor&quot;: &quot;royalblue&quot;, &quot;fillOpacity&quot;: 0, &quot;opacity&quot;: 0.6, &quot;weight&quot;: 1};\n",
       "            }\n",
       "        }\n",
       "\n",
       "        function geo_json_ec08025977b119638b7700fca8fe7b28_onEachFeature(feature, layer) {\n",
       "            layer.on({\n",
       "            });\n",
       "        };\n",
       "        var geo_json_ec08025977b119638b7700fca8fe7b28 = L.geoJson(null, {\n",
       "                smoothFactor: 5,\n",
       "                onEachFeature: geo_json_ec08025977b119638b7700fca8fe7b28_onEachFeature,\n",
       "            \n",
       "                style: geo_json_ec08025977b119638b7700fca8fe7b28_styler,\n",
       "        });\n",
       "\n",
       "        function geo_json_ec08025977b119638b7700fca8fe7b28_add (data) {\n",
       "            geo_json_ec08025977b119638b7700fca8fe7b28\n",
       "                .addData(data)\n",
       "                .addTo(choropleth_9da83df5aeb2bc7d2f9bfcc0ba59a972);\n",
       "        }\n",
       "            geo_json_ec08025977b119638b7700fca8fe7b28_add({&quot;features&quot;: [{&quot;geometry&quot;: {&quot;coordinates&quot;: [[[6.655837000000001, 8.050641999999998], [6.655837000000001, 7.752150000000001], [7.026774, 7.752150000000002], [7.026774, 8.050642], [6.655837000000001, 8.050641999999998]]], &quot;type&quot;: &quot;Polygon&quot;}, &quot;id&quot;: &quot;0&quot;, &quot;properties&quot;: {}, &quot;type&quot;: &quot;Feature&quot;}], &quot;type&quot;: &quot;FeatureCollection&quot;});\n",
       "\n",
       "        \n",
       "    \n",
       "            var choropleth_652a42c40d607534a380663fcce8f5df = L.featureGroup(\n",
       "                {}\n",
       "            ).addTo(map_bb41094060d3c0878f24acadabf39313);\n",
       "        \n",
       "    \n",
       "        function geo_json_538e778aee4b360684936ae0a747f3b7_styler(feature) {\n",
       "            switch(feature.id) {\n",
       "                default:\n",
       "                    return {&quot;color&quot;: &quot;royalblue&quot;, &quot;fillColor&quot;: &quot;royalblue&quot;, &quot;fillOpacity&quot;: 0, &quot;opacity&quot;: 0.6, &quot;weight&quot;: 0.5};\n",
       "            }\n",
       "        }\n",
       "\n",
       "        function geo_json_538e778aee4b360684936ae0a747f3b7_onEachFeature(feature, layer) {\n",
       "            layer.on({\n",
       "            });\n",
       "        };\n",
       "        var geo_json_538e778aee4b360684936ae0a747f3b7 = L.geoJson(null, {\n",
       "                smoothFactor: 5,\n",
       "                onEachFeature: geo_json_538e778aee4b360684936ae0a747f3b7_onEachFeature,\n",
       "            \n",
       "                style: geo_json_538e778aee4b360684936ae0a747f3b7_styler,\n",
       "        });\n",
       "\n",
       "        function geo_json_538e778aee4b360684936ae0a747f3b7_add (data) {\n",
       "            geo_json_538e778aee4b360684936ae0a747f3b7\n",
       "                .addData(data)\n",
       "                .addTo(choropleth_652a42c40d607534a380663fcce8f5df);\n",
       "        }\n",
       "            geo_json_538e778aee4b360684936ae0a747f3b7_add({&quot;features&quot;: [{&quot;geometry&quot;: {&quot;coordinates&quot;: [[[6.648612135373163, 7.7288678463595835], [6.6483551521841795, 7.775142375802546], [6.694752809804824, 7.775396938748275], [6.695004733804239, 7.729120876387196], [6.648612135373163, 7.7288678463595835]]], &quot;type&quot;: &quot;Polygon&quot;}, &quot;id&quot;: &quot;0&quot;, &quot;properties&quot;: {&quot;index&quot;: 0, &quot;index_x&quot;: 0, &quot;index_y&quot;: 0}, &quot;type&quot;: &quot;Feature&quot;}, {&quot;geometry&quot;: {&quot;coordinates&quot;: [[[6.6483551521841795, 7.775142375802546], [6.648096587780975, 7.821416796131691], [6.694499335716659, 7.821672892317047], [6.694752809804824, 7.775396938748275], [6.6483551521841795, 7.775142375802546]]], &quot;type&quot;: &quot;Polygon&quot;}, &quot;id&quot;: &quot;1&quot;, &quot;properties&quot;: {&quot;index&quot;: 1, &quot;index_x&quot;: 0, &quot;index_y&quot;: 1}, &quot;type&quot;: &quot;Feature&quot;}, {&quot;geometry&quot;: {&quot;coordinates&quot;: [[[6.648096587780975, 7.821416796131691], [6.647836441311798, 7.867691106710348], [6.694244310704692, 7.867948736458855], [6.694499335716659, 7.821672892317047], [6.648096587780975, 7.821416796131691]]], &quot;type&quot;: &quot;Polygon&quot;}, &quot;id&quot;: &quot;2&quot;, &quot;properties&quot;: {&quot;index&quot;: 2, &quot;index_x&quot;: 0, &quot;index_y&quot;: 2}, &quot;type&quot;: &quot;Feature&quot;}, {&quot;geometry&quot;: {&quot;coordinates&quot;: [[[6.647836441311798, 7.867691106710348], [6.647574711919459, 7.9139653069020754], [6.69398773392854, 7.9142244705392715], [6.694244310704692, 7.867948736458855], [6.647836441311798, 7.867691106710348]]], &quot;type&quot;: &quot;Polygon&quot;}, &quot;id&quot;: &quot;3&quot;, &quot;properties&quot;: {&quot;index&quot;: 3, &quot;index_x&quot;: 0, &quot;index_y&quot;: 3}, &quot;type&quot;: &quot;Feature&quot;}, {&quot;geometry&quot;: {&quot;coordinates&quot;: [[[6.647574711919459, 7.9139653069020754], [6.6473113987413255, 7.960239396070653], [6.693729604542486, 7.960500093924089], [6.69398773392854, 7.9142244705392715], [6.647574711919459, 7.9139653069020754]]], &quot;type&quot;: &quot;Polygon&quot;}, &quot;id&quot;: &quot;4&quot;, &quot;properties&quot;: {&quot;index&quot;: 4, &quot;index_x&quot;: 0, &quot;index_y&quot;: 4}, &quot;type&quot;: &quot;Feature&quot;}, {&quot;geometry&quot;: {&quot;coordinates&quot;: [[[6.6473113987413255, 7.960239396070653], [6.647046500909314, 8.00651337358009], [6.693469921695465, 8.006775605979337], [6.693729604542486, 7.960500093924089], [6.6473113987413255, 7.960239396070653]]], &quot;type&quot;: &quot;Polygon&quot;}, &quot;id&quot;: &quot;5&quot;, &quot;properties&quot;: {&quot;index&quot;: 5, &quot;index_x&quot;: 0, &quot;index_y&quot;: 5}, &quot;type&quot;: &quot;Feature&quot;}, {&quot;geometry&quot;: {&quot;coordinates&quot;: [[[6.647046500909314, 8.00651337358009], [6.646780017549884, 8.052787238794629], [6.693208684531066, 8.053051006071275], [6.693469921695465, 8.006775605979337], [6.647046500909314, 8.00651337358009]]], &quot;type&quot;: &quot;Polygon&quot;}, &quot;id&quot;: &quot;6&quot;, &quot;properties&quot;: {&quot;index&quot;: 6, &quot;index_x&quot;: 0, &quot;index_y&quot;: 6}, &quot;type&quot;: &quot;Feature&quot;}, {&quot;geometry&quot;: {&quot;coordinates&quot;: [[[6.695004733804239, 7.729120876387196], [6.694752809804824, 7.775396938748275], [6.741152017513333, 7.775646439765156], [6.741398881493451, 7.729368874965985], [6.695004733804239, 7.729120876387196]]], &quot;type&quot;: &quot;Polygon&quot;}, &quot;id&quot;: &quot;7&quot;, &quot;properties&quot;: {&quot;index&quot;: 7, &quot;index_x&quot;: 1, &quot;index_y&quot;: 0}, &quot;type&quot;: &quot;Feature&quot;}, {&quot;geometry&quot;: {&quot;coordinates&quot;: [[[6.694752809804824, 7.775396938748275], [6.694499335716659, 7.821672892317047], [6.7409036345752575, 7.821923896087172], [6.741152017513333, 7.775646439765156], [6.694752809804824, 7.775396938748275]]], &quot;type&quot;: &quot;Polygon&quot;}, &quot;id&quot;: &quot;8&quot;, &quot;properties&quot;: {&quot;index&quot;: 8, &quot;index_x&quot;: 1, &quot;index_y&quot;: 1}, &quot;type&quot;: &quot;Feature&quot;}, {&quot;geometry&quot;: {&quot;coordinates&quot;: [[[6.694499335716659, 7.821672892317047], [6.694244310704692, 7.867948736458855], [6.7406537318608795, 7.8682012432993425], [6.7409036345752575, 7.821923896087172], [6.694499335716659, 7.821672892317047]]], &quot;type&quot;: &quot;Polygon&quot;}, &quot;id&quot;: &quot;9&quot;, &quot;properties&quot;: {&quot;index&quot;: 9, &quot;index_x&quot;: 1, &quot;index_y&quot;: 2}, &quot;type&quot;: &quot;Feature&quot;}, {&quot;geometry&quot;: {&quot;coordinates&quot;: [[[6.694244310704692, 7.867948736458855], [6.69398773392854, 7.9142244705392715], [6.740402308546633, 7.91447848076922], [6.7406537318608795, 7.8682012432993425], [6.694244310704692, 7.867948736458855]]], &quot;type&quot;: &quot;Polygon&quot;}, &quot;id&quot;: &quot;10&quot;, &quot;properties&quot;: {&quot;index&quot;: 10, &quot;index_x&quot;: 1, &quot;index_y&quot;: 3}, &quot;type&quot;: &quot;Feature&quot;}, {&quot;geometry&quot;: {&quot;coordinates&quot;: [[[6.69398773392854, 7.9142244705392715], [6.693729604542486, 7.960500093924089], [6.740149363803718, 7.960755607864568], [6.740402308546633, 7.91447848076922], [6.69398773392854, 7.9142244705392715]]], &quot;type&quot;: &quot;Polygon&quot;}, &quot;id&quot;: &quot;11&quot;, &quot;properties&quot;: {&quot;index&quot;: 11, &quot;index_x&quot;: 1, &quot;index_y&quot;: 4}, &quot;type&quot;: &quot;Feature&quot;}, {&quot;geometry&quot;: {&quot;coordinates&quot;: [[[6.693729604542486, 7.960500093924089], [6.693469921695465, 8.006775605979337], [6.739894896798102, 8.0070326239534], [6.740149363803718, 7.960755607864568], [6.693729604542486, 7.960500093924089]]], &quot;type&quot;: &quot;Polygon&quot;}, &quot;id&quot;: &quot;12&quot;, &quot;properties&quot;: {&quot;index&quot;: 12, &quot;index_x&quot;: 1, &quot;index_y&quot;: 5}, &quot;type&quot;: &quot;Feature&quot;}, {&quot;geometry&quot;: {&quot;coordinates&quot;: [[[6.693469921695465, 8.006775605979337], [6.693208684531066, 8.053051006071275], [6.739638906690503, 8.05330952840395], [6.739894896798102, 8.0070326239534], [6.693469921695465, 8.006775605979337]]], &quot;type&quot;: &quot;Polygon&quot;}, &quot;id&quot;: &quot;13&quot;, &quot;properties&quot;: {&quot;index&quot;: 13, &quot;index_x&quot;: 1, &quot;index_y&quot;: 6}, &quot;type&quot;: &quot;Feature&quot;}, {&quot;geometry&quot;: {&quot;coordinates&quot;: [[[6.741398881493451, 7.729368874965985], [6.741152017513333, 7.775646439765156], [6.787552744178929, 7.775890878040448], [6.787794547326625, 7.729611841288209], [6.741398881493451, 7.729368874965985]]], &quot;type&quot;: &quot;Polygon&quot;}, &quot;id&quot;: &quot;14&quot;, &quot;properties&quot;: {&quot;index&quot;: 14, &quot;index_x&quot;: 2, &quot;index_y&quot;: 0}, &quot;type&quot;: &quot;Feature&quot;}, {&quot;geometry&quot;: {&quot;coordinates&quot;: [[[6.741152017513333, 7.775646439765156], [6.7409036345752575, 7.821923896087172], [6.787309453209287, 7.822169806624316], [6.787552744178929, 7.775890878040448], [6.741152017513333, 7.775646439765156]]], &quot;type&quot;: &quot;Polygon&quot;}, &quot;id&quot;: &quot;15&quot;, &quot;properties&quot;: {&quot;index&quot;: 15, &quot;index_x&quot;: 2, &quot;index_y&quot;: 1}, &quot;type&quot;: &quot;Feature&quot;}, {&quot;geometry&quot;: {&quot;coordinates&quot;: [[[6.7409036345752575, 7.821923896087172], [6.7406537318608795, 7.8682012432993425], [6.787064673616066, 7.868448626409065], [6.787309453209287, 7.822169806624316], [6.7409036345752575, 7.821923896087172]]], &quot;type&quot;: &quot;Polygon&quot;}, &quot;id&quot;: &quot;16&quot;, &quot;properties&quot;: {&quot;index&quot;: 16, &quot;index_x&quot;: 2, &quot;index_y&quot;: 2}, &quot;type&quot;: &quot;Feature&quot;}, {&quot;geometry&quot;: {&quot;coordinates&quot;: [[[6.7406537318608795, 7.8682012432993425], [6.740402308546633, 7.91447848076922], [6.7868184045925215, 7.9147273367641695], [6.787064673616066, 7.868448626409065], [6.7406537318608795, 7.8682012432993425]]], &quot;type&quot;: &quot;Polygon&quot;}, &quot;id&quot;: &quot;17&quot;, &quot;properties&quot;: {&quot;index&quot;: 17, &quot;index_x&quot;: 2, &quot;index_y&quot;: 3}, &quot;type&quot;: &quot;Feature&quot;}, {&quot;geometry&quot;: {&quot;coordinates&quot;: [[[6.740402308546633, 7.91447848076922], [6.740149363803718, 7.960755607864568], [6.786570645326782, 7.9610059370593325], [6.7868184045925215, 7.9147273367641695], [6.740402308546633, 7.91447848076922]]], &quot;type&quot;: &quot;Polygon&quot;}, &quot;id&quot;: &quot;18&quot;, &quot;properties&quot;: {&quot;index&quot;: 18, &quot;index_x&quot;: 2, &quot;index_y&quot;: 4}, &quot;type&quot;: &quot;Feature&quot;}, {&quot;geometry&quot;: {&quot;coordinates&quot;: [[[6.740149363803718, 7.960755607864568], [6.739894896798102, 8.0070326239534], [6.7863213950018455, 8.007284426664503], [6.786570645326782, 7.9610059370593325], [6.740149363803718, 7.960755607864568]]], &quot;type&quot;: &quot;Polygon&quot;}, &quot;id&quot;: &quot;19&quot;, &quot;properties&quot;: {&quot;index&quot;: 19, &quot;index_x&quot;: 2, &quot;index_y&quot;: 5}, &quot;type&quot;: &quot;Feature&quot;}, {&quot;geometry&quot;: {&quot;coordinates&quot;: [[[6.739894896798102, 8.0070326239534], [6.739638906690503, 8.05330952840395], [6.786070652795576, 8.053562804949863], [6.7863213950018455, 8.007284426664503], [6.739894896798102, 8.0070326239534]]], &quot;type&quot;: &quot;Polygon&quot;}, &quot;id&quot;: &quot;20&quot;, &quot;properties&quot;: {&quot;index&quot;: 20, &quot;index_x&quot;: 2, &quot;index_y&quot;: 6}, &quot;type&quot;: &quot;Feature&quot;}, {&quot;geometry&quot;: {&quot;coordinates&quot;: [[[6.787794547326625, 7.729611841288209], [6.787552744178929, 7.775890878040448], [6.833954958665621, 7.77613025277784], [6.834191700184375, 7.7298497745624495], [6.787794547326625, 7.729611841288209]]], &quot;type&quot;: &quot;Polygon&quot;}, &quot;id&quot;: &quot;21&quot;, &quot;properties&quot;: {&quot;index&quot;: 21, &quot;index_x&quot;: 3, &quot;index_y&quot;: 0}, &quot;type&quot;: &quot;Feature&quot;}, {&quot;geometry&quot;: {&quot;coordinates&quot;: [[[6.787552744178929, 7.775890878040448], [6.787309453209287, 7.822169806624316], [6.83371676046604, 7.822410623127281], [6.833954958665621, 7.77613025277784], [6.787552744178929, 7.775890878040448]]], &quot;type&quot;: &quot;Polygon&quot;}, &quot;id&quot;: &quot;22&quot;, &quot;properties&quot;: {&quot;index&quot;: 22, &quot;index_x&quot;: 3, &quot;index_y&quot;: 1}, &quot;type&quot;: &quot;Feature&quot;}, {&quot;geometry&quot;: {&quot;coordinates&quot;: [[[6.787309453209287, 7.822169806624316], [6.787064673616066, 7.868448626409065], [6.833477104800723, 7.868690884981912], [6.83371676046604, 7.822410623127281], [6.787309453209287, 7.822169806624316]]], &quot;type&quot;: &quot;Polygon&quot;}, &quot;id&quot;: &quot;23&quot;, &quot;properties&quot;: {&quot;index&quot;: 23, &quot;index_x&quot;: 3, &quot;index_y&quot;: 2}, &quot;type&quot;: &quot;Feature&quot;}, {&quot;geometry&quot;: {&quot;coordinates&quot;: [[[6.787064673616066, 7.868448626409065], [6.7868184045925215, 7.9147273367641695], [6.833235990879749, 7.9149710377131], [6.833477104800723, 7.868690884981912], [6.787064673616066, 7.868448626409065]]], &quot;type&quot;: &quot;Polygon&quot;}, &quot;id&quot;: &quot;24&quot;, &quot;properties&quot;: {&quot;index&quot;: 24, &quot;index_x&quot;: 3, &quot;index_y&quot;: 3}, &quot;type&quot;: &quot;Feature&quot;}, {&quot;geometry&quot;: {&quot;coordinates&quot;: [[[6.7868184045925215, 7.9147273367641695], [6.786570645326782, 7.9610059370593325], [6.832993417908184, 7.961251080692455], [6.833235990879749, 7.9149710377131], [6.7868184045925215, 7.9147273367641695]]], &quot;type&quot;: &quot;Polygon&quot;}, &quot;id&quot;: &quot;25&quot;, &quot;properties&quot;: {&quot;index&quot;: 25, &quot;index_x&quot;: 3, &quot;index_y&quot;: 4}, &quot;type&quot;: &quot;Feature&quot;}, {&quot;geometry&quot;: {&quot;coordinates&quot;: [[[6.786570645326782, 7.9610059370593325], [6.7863213950018455, 8.007284426664503], [6.832749385086065, 8.007531013291816], [6.832993417908184, 7.961251080692455], [6.786570645326782, 7.9610059370593325]]], &quot;type&quot;: &quot;Polygon&quot;}, &quot;id&quot;: &quot;26&quot;, &quot;properties&quot;: {&quot;index&quot;: 26, &quot;index_x&quot;: 3, &quot;index_y&quot;: 5}, &quot;type&quot;: &quot;Feature&quot;}, {&quot;geometry&quot;: {&quot;coordinates&quot;: [[[6.7863213950018455, 8.007284426664503], [6.786070652795576, 8.053562804949863], [6.832503891608405, 8.053810834883258], [6.832749385086065, 8.007531013291816], [6.7863213950018455, 8.007284426664503]]], &quot;type&quot;: &quot;Polygon&quot;}, &quot;id&quot;: &quot;27&quot;, &quot;properties&quot;: {&quot;index&quot;: 27, &quot;index_x&quot;: 3, &quot;index_y&quot;: 6}, &quot;type&quot;: &quot;Feature&quot;}, {&quot;geometry&quot;: {&quot;coordinates&quot;: [[[6.834191700184375, 7.7298497745624495], [6.833954958665621, 7.77613025277784], [6.880358629832305, 7.776364563197457], [6.880590308942214, 7.730082674013625], [6.834191700184375, 7.7298497745624495]]], &quot;type&quot;: &quot;Polygon&quot;}, &quot;id&quot;: &quot;28&quot;, &quot;properties&quot;: {&quot;index&quot;: 28, &quot;index_x&quot;: 4, &quot;index_y&quot;: 0}, &quot;type&quot;: &quot;Feature&quot;}, {&quot;geometry&quot;: {&quot;coordinates&quot;: [[[6.833954958665621, 7.77613025277784], [6.83371676046604, 7.822410623127281], [6.880125525187694, 7.822646344811385], [6.880358629832305, 7.776364563197457], [6.833954958665621, 7.77613025277784]]], &quot;type&quot;: &quot;Polygon&quot;}, &quot;id&quot;: &quot;29&quot;, &quot;properties&quot;: {&quot;index&quot;: 29, &quot;index_x&quot;: 4, &quot;index_y&quot;: 1}, &quot;type&quot;: &quot;Feature&quot;}, {&quot;geometry&quot;: {&quot;coordinates&quot;: [[[6.83371676046604, 7.822410623127281], [6.833477104800723, 7.868690884981912], [6.8798909942402, 7.868928018228404], [6.880125525187694, 7.822646344811385], [6.83371676046604, 7.822410623127281]]], &quot;type&quot;: &quot;Polygon&quot;}, &quot;id&quot;: &quot;30&quot;, &quot;properties&quot;: {&quot;index&quot;: 30, &quot;index_x&quot;: 4, &quot;index_y&quot;: 2}, &quot;type&quot;: &quot;Feature&quot;}, {&quot;geometry&quot;: {&quot;coordinates&quot;: [[[6.833477104800723, 7.868690884981912], [6.833235990879749, 7.9149710377131], [6.879655036216733, 7.915209582821738], [6.8798909942402, 7.868928018228404], [6.833477104800723, 7.868690884981912]]], &quot;type&quot;: &quot;Polygon&quot;}, &quot;id&quot;: &quot;31&quot;, &quot;properties&quot;: {&quot;index&quot;: 31, &quot;index_x&quot;: 4, &quot;index_y&quot;: 3}, &quot;type&quot;: &quot;Feature&quot;}, {&quot;geometry&quot;: {&quot;coordinates&quot;: [[[6.833235990879749, 7.9149710377131], [6.832993417908184, 7.961251080692455], [6.879417650339299, 7.961491037964847], [6.879655036216733, 7.915209582821738], [6.833235990879749, 7.9149710377131]]], &quot;type&quot;: &quot;Polygon&quot;}, &quot;id&quot;: &quot;32&quot;, &quot;properties&quot;: {&quot;index&quot;: 32, &quot;index_x&quot;: 4, &quot;index_y&quot;: 4}, &quot;type&quot;: &quot;Feature&quot;}, {&quot;geometry&quot;: {&quot;coordinates&quot;: [[[6.832993417908184, 7.961251080692455], [6.832749385086065, 8.007531013291816], [6.879178835824987, 8.007772383031432], [6.879417650339299, 7.961491037964847], [6.832993417908184, 7.961251080692455]]], &quot;type&quot;: &quot;Polygon&quot;}, &quot;id&quot;: &quot;33&quot;, &quot;properties&quot;: {&quot;index&quot;: 33, &quot;index_x&quot;: 4, &quot;index_y&quot;: 5}, &quot;type&quot;: &quot;Feature&quot;}, {&quot;geometry&quot;: {&quot;coordinates&quot;: [[[6.832749385086065, 8.007531013291816], [6.832503891608405, 8.053810834883258], [6.8789385918859605, 8.054053617395427], [6.879178835824987, 8.007772383031432], [6.832749385086065, 8.007531013291816]]], &quot;type&quot;: &quot;Polygon&quot;}, &quot;id&quot;: &quot;34&quot;, &quot;properties&quot;: {&quot;index&quot;: 34, &quot;index_x&quot;: 4, &quot;index_y&quot;: 6}, &quot;type&quot;: &quot;Feature&quot;}, {&quot;geometry&quot;: {&quot;coordinates&quot;: [[[6.880590308942214, 7.730082674013625], [6.880358629832305, 7.776364563197457], [6.926763726532876, 7.7765938085358615], [6.9269903424706545, 7.7303105388830025], [6.880590308942214, 7.730082674013625]]], &quot;type&quot;: &quot;Polygon&quot;}, &quot;id&quot;: &quot;35&quot;, &quot;properties&quot;: {&quot;index&quot;: 35, &quot;index_x&quot;: 5, &quot;index_y&quot;: 0}, &quot;type&quot;: &quot;Feature&quot;}, {&quot;geometry&quot;: {&quot;coordinates&quot;: [[[6.880358629832305, 7.776364563197457], [6.880125525187694, 7.822646344811385], [6.926535716211418, 7.8228769709084975], [6.926763726532876, 7.7765938085358615], [6.880358629832305, 7.776364563197457]]], &quot;type&quot;: &quot;Polygon&quot;}, &quot;id&quot;: &quot;36&quot;, &quot;properties&quot;: {&quot;index&quot;: 36, &quot;index_x&quot;: 5, &quot;index_y&quot;: 1}, &quot;type&quot;: &quot;Feature&quot;}, {&quot;geometry&quot;: {&quot;coordinates&quot;: [[[6.880125525187694, 7.822646344811385], [6.8798909942402, 7.868928018228404], [6.92630631075483, 7.869160025375711], [6.926535716211418, 7.8228769709084975], [6.880125525187694, 7.822646344811385]]], &quot;type&quot;: &quot;Polygon&quot;}, &quot;id&quot;: &quot;37&quot;, &quot;properties&quot;: {&quot;index&quot;: 37, &quot;index_x&quot;: 5, &quot;index_y&quot;: 2}, &quot;type&quot;: &quot;Feature&quot;}, {&quot;geometry&quot;: {&quot;coordinates&quot;: [[[6.8798909942402, 7.868928018228404], [6.879655036216733, 7.915209582821738], [6.926075509406864, 7.915442971312543], [6.92630631075483, 7.869160025375711], [6.8798909942402, 7.868928018228404]]], &quot;type&quot;: &quot;Polygon&quot;}, &quot;id&quot;: &quot;38&quot;, &quot;properties&quot;: {&quot;index&quot;: 38, &quot;index_x&quot;: 5, &quot;index_y&quot;: 3}, &quot;type&quot;: &quot;Feature&quot;}, {&quot;geometry&quot;: {&quot;coordinates&quot;: [[[6.879655036216733, 7.915209582821738], [6.879417650339299, 7.961491037964847], [6.925843311406475, 7.961725808094268], [6.926075509406864, 7.915442971312543], [6.879655036216733, 7.915209582821738]]], &quot;type&quot;: &quot;Polygon&quot;}, &quot;id&quot;: &quot;39&quot;, &quot;properties&quot;: {&quot;index&quot;: 39, &quot;index_x&quot;: 5, &quot;index_y&quot;: 4}, &quot;type&quot;: &quot;Feature&quot;}, {&quot;geometry&quot;: {&quot;coordinates&quot;: [[[6.879417650339299, 7.961491037964847], [6.879178835824987, 8.007772383031432], [6.925609715987801, 8.008008535096408], [6.925843311406475, 7.961725808094268], [6.879417650339299, 7.961491037964847]]], &quot;type&quot;: &quot;Polygon&quot;}, &quot;id&quot;: &quot;40&quot;, &quot;properties&quot;: {&quot;index&quot;: 40, &quot;index_x&quot;: 5, &quot;index_y&quot;: 5}, &quot;type&quot;: &quot;Feature&quot;}, {&quot;geometry&quot;: {&quot;coordinates&quot;: [[[6.879178835824987, 8.007772383031432], [6.8789385918859605, 8.054053617395427], [6.925374722380171, 8.054291151694713], [6.925609715987801, 8.008008535096408], [6.879178835824987, 8.007772383031432]]], &quot;type&quot;: &quot;Polygon&quot;}, &quot;id&quot;: &quot;41&quot;, &quot;properties&quot;: {&quot;index&quot;: 41, &quot;index_x&quot;: 5, &quot;index_y&quot;: 6}, &quot;type&quot;: &quot;Feature&quot;}, {&quot;geometry&quot;: {&quot;coordinates&quot;: [[[6.9269903424706545, 7.7303105388830025], [6.926763726532876, 7.7765938085358615], [6.973170217616328, 7.776817988046076], [6.973391769635318, 7.730533368428185], [6.9269903424706545, 7.7303105388830025]]], &quot;type&quot;: &quot;Polygon&quot;}, &quot;id&quot;: &quot;42&quot;, &quot;properties&quot;: {&quot;index&quot;: 42, &quot;index_x&quot;: 6, &quot;index_y&quot;: 0}, &quot;type&quot;: &quot;Feature&quot;}, {&quot;geometry&quot;: {&quot;coordinates&quot;: [[[6.926763726532876, 7.7765938085358615], [6.926535716211418, 7.8228769709084975], [6.97294730236947, 7.823102500667041], [6.973170217616328, 7.776817988046076], [6.926763726532876, 7.7765938085358615]]], &quot;type&quot;: &quot;Polygon&quot;}, &quot;id&quot;: &quot;43&quot;, &quot;properties&quot;: {&quot;index&quot;: 43, &quot;index_x&quot;: 6, &quot;index_y&quot;: 1}, &quot;type&quot;: &quot;Feature&quot;}, {&quot;geometry&quot;: {&quot;coordinates&quot;: [[[6.926535716211418, 7.8228769709084975], [6.92630631075483, 7.869160025375711], [6.972723023160035, 7.869386905667657], [6.97294730236947, 7.823102500667041], [6.926535716211418, 7.8228769709084975]]], &quot;type&quot;: &quot;Polygon&quot;}, &quot;id&quot;: &quot;44&quot;, &quot;properties&quot;: {&quot;index&quot;: 44, &quot;index_x&quot;: 6, &quot;index_y&quot;: 2}, &quot;type&quot;: &quot;Feature&quot;}, {&quot;geometry&quot;: {&quot;coordinates&quot;: [[[6.92630631075483, 7.869160025375711], [6.926075509406864, 7.915442971312543], [6.972497379248622, 7.915671202424737], [6.972723023160035, 7.869386905667657], [6.92630631075483, 7.869160025375711]]], &quot;type&quot;: &quot;Polygon&quot;}, &quot;id&quot;: &quot;45&quot;, &quot;properties&quot;: {&quot;index&quot;: 45, &quot;index_x&quot;: 6, &quot;index_y&quot;: 3}, &quot;type&quot;: &quot;Feature&quot;}, {&quot;geometry&quot;: {&quot;coordinates&quot;: [[[6.926075509406864, 7.915442971312543], [6.925843311406475, 7.961725808094268], [6.972270369891131, 7.961955390315337], [6.972497379248622, 7.915671202424737], [6.926075509406864, 7.915442971312543]]], &quot;type&quot;: &quot;Polygon&quot;}, &quot;id&quot;: &quot;46&quot;, &quot;properties&quot;: {&quot;index&quot;: 46, &quot;index_x&quot;: 6, &quot;index_y&quot;: 4}, &quot;type&quot;: &quot;Feature&quot;}, {&quot;geometry&quot;: {&quot;coordinates&quot;: [[[6.925843311406475, 7.961725808094268], [6.925609715987801, 8.008008535096408], [6.97204199433877, 8.008239468716752], [6.972270369891131, 7.961955390315337], [6.925843311406475, 7.961725808094268]]], &quot;type&quot;: &quot;Polygon&quot;}, &quot;id&quot;: &quot;47&quot;, &quot;properties&quot;: {&quot;index&quot;: 47, &quot;index_x&quot;: 6, &quot;index_y&quot;: 5}, &quot;type&quot;: &quot;Feature&quot;}, {&quot;geometry&quot;: {&quot;coordinates&quot;: [[[6.925609715987801, 8.008008535096408], [6.925374722380171, 8.054291151694713], [6.97181225183803, 8.054523437006512], [6.97204199433877, 8.008239468716752], [6.925609715987801, 8.008008535096408]]], &quot;type&quot;: &quot;Polygon&quot;}, &quot;id&quot;: &quot;48&quot;, &quot;properties&quot;: {&quot;index&quot;: 48, &quot;index_x&quot;: 6, &quot;index_y&quot;: 6}, &quot;type&quot;: &quot;Feature&quot;}, {&quot;geometry&quot;: {&quot;coordinates&quot;: [[[6.973391769635318, 7.730533368428185], [6.973170217616328, 7.776817988046076], [7.019578071926867, 7.777037100997574], [7.019794559297044, 7.730751161923144], [6.973391769635318, 7.730533368428185]]], &quot;type&quot;: &quot;Polygon&quot;}, &quot;id&quot;: &quot;49&quot;, &quot;properties&quot;: {&quot;index&quot;: 49, &quot;index_x&quot;: 7, &quot;index_y&quot;: 0}, &quot;type&quot;: &quot;Feature&quot;}, {&quot;geometry&quot;: {&quot;coordinates&quot;: [[[6.973170217616328, 7.776817988046076], [6.97294730236947, 7.823102500667041], [7.019360252489321, 7.823322933351994], [7.019578071926867, 7.777037100997574], [6.973170217616328, 7.776817988046076]]], &quot;type&quot;: &quot;Polygon&quot;}, &quot;id&quot;: &quot;50&quot;, &quot;properties&quot;: {&quot;index&quot;: 50, &quot;index_x&quot;: 7, &quot;index_y&quot;: 1}, &quot;type&quot;: &quot;Feature&quot;}, {&quot;geometry&quot;: {&quot;coordinates&quot;: [[[6.97294730236947, 7.823102500667041], [6.972723023160035, 7.869386905667657], [7.019141100266437, 7.869608658364719], [7.019360252489321, 7.823322933351994], [6.97294730236947, 7.823102500667041]]], &quot;type&quot;: &quot;Polygon&quot;}, &quot;id&quot;: &quot;51&quot;, &quot;properties&quot;: {&quot;index&quot;: 51, &quot;index_x&quot;: 7, &quot;index_y&quot;: 2}, &quot;type&quot;: &quot;Feature&quot;}, {&quot;geometry&quot;: {&quot;coordinates&quot;: [[[6.972723023160035, 7.869386905667657], [6.972497379248622, 7.915671202424737], [7.018920614535667, 7.915894275414303], [7.019141100266437, 7.869608658364719], [6.972723023160035, 7.869386905667657]]], &quot;type&quot;: &quot;Polygon&quot;}, &quot;id&quot;: &quot;52&quot;, &quot;properties&quot;: {&quot;index&quot;: 52, &quot;index_x&quot;: 7, &quot;index_y&quot;: 3}, &quot;type&quot;: &quot;Feature&quot;}, {&quot;geometry&quot;: {&quot;coordinates&quot;: [[[6.972497379248622, 7.915671202424737], [6.972270369891131, 7.961955390315337], [7.018698794569876, 7.9621797838795265], [7.018920614535667, 7.915894275414303], [6.972497379248622, 7.915671202424737]]], &quot;type&quot;: &quot;Polygon&quot;}, &quot;id&quot;: &quot;53&quot;, &quot;properties&quot;: {&quot;index&quot;: 53, &quot;index_x&quot;: 7, &quot;index_y&quot;: 4}, &quot;type&quot;: &quot;Feature&quot;}, {&quot;geometry&quot;: {&quot;coordinates&quot;: [[[6.972270369891131, 7.961955390315337], [6.97204199433877, 8.008239468716752], [7.018475639637332, 8.008465183139435], [7.018698794569876, 7.9621797838795265], [6.972270369891131, 7.961955390315337]]], &quot;type&quot;: &quot;Polygon&quot;}, &quot;id&quot;: &quot;54&quot;, &quot;properties&quot;: {&quot;index&quot;: 54, &quot;index_x&quot;: 7, &quot;index_y&quot;: 5}, &quot;type&quot;: &quot;Feature&quot;}, {&quot;geometry&quot;: {&quot;coordinates&quot;: [[[6.97204199433877, 8.008239468716752], [6.97181225183803, 8.054523437006512], [7.018251149001701, 8.054750472573291], [7.018475639637332, 8.008465183139435], [6.97204199433877, 8.008239468716752]]], &quot;type&quot;: &quot;Polygon&quot;}, &quot;id&quot;: &quot;55&quot;, &quot;properties&quot;: {&quot;index&quot;: 55, &quot;index_x&quot;: 7, &quot;index_y&quot;: 6}, &quot;type&quot;: &quot;Feature&quot;}, {&quot;geometry&quot;: {&quot;coordinates&quot;: [[[7.019794559297044, 7.730751161923144], [7.019578071926867, 7.777037100997574], [7.065987258304016, 7.777251146676277], [7.066198680311992, 7.730963918658199], [7.019794559297044, 7.730751161923144]]], &quot;type&quot;: &quot;Polygon&quot;}, &quot;id&quot;: &quot;56&quot;, &quot;properties&quot;: {&quot;index&quot;: 56, &quot;index_x&quot;: 8, &quot;index_y&quot;: 0}, &quot;type&quot;: &quot;Feature&quot;}, {&quot;geometry&quot;: {&quot;coordinates&quot;: [[[7.019578071926867, 7.777037100997574], [7.019360252489321, 7.823322933351994], [7.065774535393743, 7.823538268244887], [7.065987258304016, 7.777251146676277], [7.019578071926867, 7.777037100997574]]], &quot;type&quot;: &quot;Polygon&quot;}, &quot;id&quot;: &quot;57&quot;, &quot;properties&quot;: {&quot;index&quot;: 57, &quot;index_x&quot;: 8, &quot;index_y&quot;: 1}, &quot;type&quot;: &quot;Feature&quot;}, {&quot;geometry&quot;: {&quot;coordinates&quot;: [[[7.019360252489321, 7.823322933351994], [7.019141100266437, 7.869608658364719], [7.0655605108799575, 7.869825282744042], [7.065774535393743, 7.823538268244887], [7.019360252489321, 7.823322933351994]]], &quot;type&quot;: &quot;Polygon&quot;}, &quot;id&quot;: &quot;58&quot;, &quot;properties&quot;: {&quot;index&quot;: 58, &quot;index_x&quot;: 8, &quot;index_y&quot;: 2}, &quot;type&quot;: &quot;Feature&quot;}, {&quot;geometry&quot;: {&quot;coordinates&quot;: [[[7.019141100266437, 7.869608658364719], [7.018920614535667, 7.915894275414303], [7.06534518405697, 7.91611218955398], [7.0655605108799575, 7.869825282744042], [7.019141100266437, 7.869608658364719]]], &quot;type&quot;: &quot;Polygon&quot;}, &quot;id&quot;: &quot;59&quot;, &quot;properties&quot;: {&quot;index&quot;: 59, &quot;index_x&quot;: 8, &quot;index_y&quot;: 3}, &quot;type&quot;: &quot;Feature&quot;}, {&quot;geometry&quot;: {&quot;coordinates&quot;: [[[7.018920614535667, 7.915894275414303], [7.018698794569876, 7.9621797838795265], [7.065128554214608, 7.962398988055185], [7.06534518405697, 7.91611218955398], [7.018920614535667, 7.915894275414303]]], &quot;type&quot;: &quot;Polygon&quot;}, &quot;id&quot;: &quot;60&quot;, &quot;properties&quot;: {&quot;index&quot;: 60, &quot;index_x&quot;: 8, &quot;index_y&quot;: 4}, &quot;type&quot;: &quot;Feature&quot;}, {&quot;geometry&quot;: {&quot;coordinates&quot;: [[[7.018698794569876, 7.9621797838795265], [7.018475639637332, 8.008465183139435], [7.064910620638213, 8.00868567762839], [7.065128554214608, 7.962398988055185], [7.018698794569876, 7.9621797838795265]]], &quot;type&quot;: &quot;Polygon&quot;}, &quot;id&quot;: &quot;61&quot;, &quot;properties&quot;: {&quot;index&quot;: 61, &quot;index_x&quot;: 8, &quot;index_y&quot;: 5}, &quot;type&quot;: &quot;Feature&quot;}, {&quot;geometry&quot;: {&quot;coordinates&quot;: [[[7.018475639637332, 8.008465183139435], [7.018251149001701, 8.054750472573291], [7.06469138260863, 8.054972257654574], [7.064910620638213, 8.00868567762839], [7.018475639637332, 8.008465183139435]]], &quot;type&quot;: &quot;Polygon&quot;}, &quot;id&quot;: &quot;62&quot;, &quot;properties&quot;: {&quot;index&quot;: 62, &quot;index_x&quot;: 8, &quot;index_y&quot;: 6}, &quot;type&quot;: &quot;Feature&quot;}], &quot;type&quot;: &quot;FeatureCollection&quot;});\n",
       "\n",
       "        \n",
       "    \n",
       "    geo_json_538e778aee4b360684936ae0a747f3b7.bindTooltip(\n",
       "    function(layer){\n",
       "    let div = L.DomUtil.create(&#x27;div&#x27;);\n",
       "    \n",
       "    let handleObject = feature=&gt;typeof(feature)==&#x27;object&#x27; ? JSON.stringify(feature) : feature;\n",
       "    let fields = [&quot;index&quot;];\n",
       "    let aliases = [&quot;Index:&quot;];\n",
       "    let table = &#x27;&lt;table&gt;&#x27; +\n",
       "        String(\n",
       "        fields.map(\n",
       "        (v,i)=&gt;\n",
       "        `&lt;tr&gt;\n",
       "            &lt;td&gt;${handleObject(layer.feature.properties[v])}&lt;/td&gt;\n",
       "        &lt;/tr&gt;`).join(&#x27;&#x27;))\n",
       "    +&#x27;&lt;/table&gt;&#x27;;\n",
       "    div.innerHTML=table;\n",
       "    \n",
       "    return div\n",
       "    }\n",
       "    ,{&quot;className&quot;: &quot;foliumtooltip&quot;, &quot;sticky&quot;: true});\n",
       "                     \n",
       "    \n",
       "            var layer_control_2d4ff4374110330f09cb90ca152d6bdc = {\n",
       "                base_layers : {\n",
       "                    &quot;stamenterrain&quot; : tile_layer_9d239426dce8ab1f9bf33bb9a4078951,\n",
       "                },\n",
       "                overlays :  {\n",
       "                    &quot;showcase area&quot; : choropleth_9da83df5aeb2bc7d2f9bfcc0ba59a972,\n",
       "                    &quot;showcase grid EPSG:32632&quot; : choropleth_652a42c40d607534a380663fcce8f5df,\n",
       "                },\n",
       "            };\n",
       "            L.control.layers(\n",
       "                layer_control_2d4ff4374110330f09cb90ca152d6bdc.base_layers,\n",
       "                layer_control_2d4ff4374110330f09cb90ca152d6bdc.overlays,\n",
       "                {&quot;autoZIndex&quot;: true, &quot;collapsed&quot;: true, &quot;position&quot;: &quot;topright&quot;}\n",
       "            ).addTo(map_bb41094060d3c0878f24acadabf39313);\n",
       "        \n",
       "    \n",
       "            L.control.fullscreen(\n",
       "                {&quot;forceSeparateButton&quot;: true, &quot;position&quot;: &quot;topleft&quot;, &quot;title&quot;: &quot;Full Screen&quot;, &quot;titleCancel&quot;: &quot;Exit Full Screen&quot;}\n",
       "            ).addTo(map_bb41094060d3c0878f24acadabf39313);\n",
       "        \n",
       "&lt;/script&gt;\" style=\"position:absolute;width:100%;height:100%;left:0;top:0;border:none !important;\" allowfullscreen webkitallowfullscreen mozallowfullscreen></iframe></div></div>"
      ],
      "text/plain": [
       "<folium.folium.Map at 0x28d4885fbb0>"
      ]
     },
     "execution_count": 6,
     "metadata": {},
     "output_type": "execute_result"
    }
   ],
   "source": [
    "#%% print amount of patches\n",
    "print(\"Total number of tiles:\",len(bbox_list_showcase))\n",
    "\n",
    "#%% visualize using folium\n",
    "aoi_folium = aoi_showcase.to_crs(\"EPSG:4326\")\n",
    "location = [aoi_folium.centroid.y,aoi_folium.centroid.x]\n",
    "\n",
    "mapwindow = folium.Map(location=location, tiles='Stamen Terrain', zoom_start=8)\n",
    "\n",
    "#%%% add aois\n",
    "#%%%% train\n",
    "mapwindow.add_child(\n",
    "    folium.features.Choropleth(\n",
    "        aoi_folium.to_json(),\n",
    "        fill_color=\"royalblue\",\n",
    "        nan_fill_color=\"royalblue\",\n",
    "        fill_opacity=0,\n",
    "        nan_fill_opacity=0.5,\n",
    "        line_color=\"royalblue\",\n",
    "        line_weight=1,\n",
    "        line_opacity=0.6,\n",
    "        smooth_factor=5,\n",
    "        name=f\"showcase area\"\n",
    "    )\n",
    ")\n",
    "\n",
    "#%%% add grids in color\n",
    "for t_,tiles_ in enumerate(tiles):\n",
    "    cp = folium.features.Choropleth(\n",
    "            tiles_.to_crs(\"EPSG:4326\").to_json(),\n",
    "            fill_color=\"royalblue\",\n",
    "            nan_fill_color=\"black\",\n",
    "            fill_opacity=0,\n",
    "            nan_fill_opacity=0.5,\n",
    "            line_color=\"royalblue\",\n",
    "            line_weight=0.5,\n",
    "            line_opacity=0.6,\n",
    "            smooth_factor=5,\n",
    "            name=f\"showcase grid EPSG:{crss_unique[t_]._value_}\"\n",
    "        ).add_to(mapwindow)\n",
    "\n",
    "    # display index next to cursor\n",
    "    folium.GeoJsonTooltip(\n",
    "        ['index'],\n",
    "        aliases=['Index:'],\n",
    "        labels=False,\n",
    "        style=\"background-color:rgba(0,101,189,0.4); border:2px solid white; color:white;\",\n",
    "        ).add_to(cp.geojson)\n",
    "\n",
    "#%%% add some controls\n",
    "folium.LayerControl().add_to(mapwindow)\n",
    "foliumplugins.Fullscreen(force_separate_button=True).add_to(mapwindow)\n",
    "\n",
    "#%%% save, render and display\n",
    "mapwindow.save(os.path.join(config[\"dir_results\"],'gridmap_showcase.html'))\n",
    "mapwindow.render()\n",
    "mapwindow"
   ]
  },
  {
   "cell_type": "markdown",
   "id": "1dcd25ec",
   "metadata": {},
   "source": [
    "# Showcase Tasks\n",
    "Let's define our `EOTasks`.\n",
    "\n",
    "## Input Tasks\n",
    "Of course, we have to start with our input tasks which are the same as for the training, validation and testing procedure.\n",
    "Only, we skip the checking and the reference (as the area is too cloudy)."
   ]
  },
  {
   "cell_type": "code",
   "execution_count": 7,
   "id": "3b4cdb4b",
   "metadata": {},
   "outputs": [],
   "source": [
    "#%% Sentinel-Hub-Input-Task\n",
    "task_data = SentinelHubInputTask(\n",
    "    data_collection = DataCollection.SENTINEL1_IW,\n",
    "    size = None,\n",
    "    resolution = config[\"resolution\"],\n",
    "    bands_feature = (FeatureType.DATA, \"data\"),\n",
    "    bands = None,\n",
    "    additional_data = (FeatureType.MASK, \"dataMask\", \"dmask_data\"),\n",
    "    evalscript = None,\n",
    "    maxcc = None,\n",
    "    time_difference = dt.timedelta(hours=1),\n",
    "    cache_folder = config[\"dir_cache\"],\n",
    "    max_threads = config[\"threads\"],\n",
    "    config = config[\"SHconfig\"],\n",
    "    bands_dtype = np.float32,\n",
    "    single_scene = False,\n",
    "    mosaicking_order = \"mostRecent\",\n",
    "    aux_request_args = None\n",
    ")"
   ]
  },
  {
   "cell_type": "markdown",
   "id": "caff44ea",
   "metadata": {},
   "source": [
    "## PyTorch Tasks\n",
    "As discussed, we want to respond to the disaster immediately.\n",
    "That means, we want to use our trained, validated and tested model for prediction!\n",
    "Fortunately, TUM established the `PyTorchTask` as a base class for many PyTorch related `EOTasks` like the `ModelForwardTask`, the `LayerGradCamTask` or the `GradientShapTask`, for example.\n",
    "In this notebook, we focus on the `ModelForwardTask`.\n",
    "\n",
    "### Model\n",
    "As a first step, however, we need to load our Scaler as built in [02_DataNormalization]() again and implement a functionality for returning the prediction of our model as the forward does return the logits and not the final prediction.\n",
    "By that, we ensure that the input feature is fed to our model and the water mask is returned as intended."
   ]
  },
  {
   "cell_type": "code",
   "execution_count": 8,
   "id": "36e0d840",
   "metadata": {},
   "outputs": [],
   "source": [
    "Scaler = QuantileScaler_eolearn_tdigest.LOAD(os.path.join(config[\"dir_results\"],config[\"savename_scaler\"]))"
   ]
  },
  {
   "cell_type": "markdown",
   "id": "ee3e972e",
   "metadata": {},
   "source": [
    "As a second, we load our best model using the `BaseClass` by AugmentME.\n",
    "Further, we set it to evaluation mode and tell it to share its memory for being deployed on multiple CPUs.\n",
    "It is important to load the model to the `CPU` as you get in trouble with the parallelization of ExecuteME otherwise."
   ]
  },
  {
   "cell_type": "code",
   "execution_count": 9,
   "id": "6c95f68e",
   "metadata": {},
   "outputs": [
    {
     "name": "stdout",
     "output_type": "stream",
     "text": [
      "loadME_torch: start loading of the entire model!\n",
      "loadME_torch: loaded\n"
     ]
    },
    {
     "data": {
      "text/plain": [
       "DeepLabV3Plus(\n",
       "  (encoder): ResNetEncoder(\n",
       "    (conv1): Conv2d(2, 64, kernel_size=(7, 7), stride=(2, 2), padding=(3, 3), bias=False)\n",
       "    (bn1): BatchNorm2d(64, eps=1e-05, momentum=0.1, affine=True, track_running_stats=True)\n",
       "    (relu): ReLU(inplace=True)\n",
       "    (maxpool): MaxPool2d(kernel_size=3, stride=2, padding=1, dilation=1, ceil_mode=False)\n",
       "    (layer1): Sequential(\n",
       "      (0): BasicBlock(\n",
       "        (conv1): Conv2d(64, 64, kernel_size=(3, 3), stride=(1, 1), padding=(1, 1), bias=False)\n",
       "        (bn1): BatchNorm2d(64, eps=1e-05, momentum=0.1, affine=True, track_running_stats=True)\n",
       "        (relu): ReLU(inplace=True)\n",
       "        (conv2): Conv2d(64, 64, kernel_size=(3, 3), stride=(1, 1), padding=(1, 1), bias=False)\n",
       "        (bn2): BatchNorm2d(64, eps=1e-05, momentum=0.1, affine=True, track_running_stats=True)\n",
       "      )\n",
       "      (1): BasicBlock(\n",
       "        (conv1): Conv2d(64, 64, kernel_size=(3, 3), stride=(1, 1), padding=(1, 1), bias=False)\n",
       "        (bn1): BatchNorm2d(64, eps=1e-05, momentum=0.1, affine=True, track_running_stats=True)\n",
       "        (relu): ReLU(inplace=True)\n",
       "        (conv2): Conv2d(64, 64, kernel_size=(3, 3), stride=(1, 1), padding=(1, 1), bias=False)\n",
       "        (bn2): BatchNorm2d(64, eps=1e-05, momentum=0.1, affine=True, track_running_stats=True)\n",
       "      )\n",
       "      (2): BasicBlock(\n",
       "        (conv1): Conv2d(64, 64, kernel_size=(3, 3), stride=(1, 1), padding=(1, 1), bias=False)\n",
       "        (bn1): BatchNorm2d(64, eps=1e-05, momentum=0.1, affine=True, track_running_stats=True)\n",
       "        (relu): ReLU(inplace=True)\n",
       "        (conv2): Conv2d(64, 64, kernel_size=(3, 3), stride=(1, 1), padding=(1, 1), bias=False)\n",
       "        (bn2): BatchNorm2d(64, eps=1e-05, momentum=0.1, affine=True, track_running_stats=True)\n",
       "      )\n",
       "    )\n",
       "    (layer2): Sequential(\n",
       "      (0): BasicBlock(\n",
       "        (conv1): Conv2d(64, 128, kernel_size=(3, 3), stride=(2, 2), padding=(1, 1), bias=False)\n",
       "        (bn1): BatchNorm2d(128, eps=1e-05, momentum=0.1, affine=True, track_running_stats=True)\n",
       "        (relu): ReLU(inplace=True)\n",
       "        (conv2): Conv2d(128, 128, kernel_size=(3, 3), stride=(1, 1), padding=(1, 1), bias=False)\n",
       "        (bn2): BatchNorm2d(128, eps=1e-05, momentum=0.1, affine=True, track_running_stats=True)\n",
       "        (downsample): Sequential(\n",
       "          (0): Conv2d(64, 128, kernel_size=(1, 1), stride=(2, 2), bias=False)\n",
       "          (1): BatchNorm2d(128, eps=1e-05, momentum=0.1, affine=True, track_running_stats=True)\n",
       "        )\n",
       "      )\n",
       "      (1): BasicBlock(\n",
       "        (conv1): Conv2d(128, 128, kernel_size=(3, 3), stride=(1, 1), padding=(1, 1), bias=False)\n",
       "        (bn1): BatchNorm2d(128, eps=1e-05, momentum=0.1, affine=True, track_running_stats=True)\n",
       "        (relu): ReLU(inplace=True)\n",
       "        (conv2): Conv2d(128, 128, kernel_size=(3, 3), stride=(1, 1), padding=(1, 1), bias=False)\n",
       "        (bn2): BatchNorm2d(128, eps=1e-05, momentum=0.1, affine=True, track_running_stats=True)\n",
       "      )\n",
       "      (2): BasicBlock(\n",
       "        (conv1): Conv2d(128, 128, kernel_size=(3, 3), stride=(1, 1), padding=(1, 1), bias=False)\n",
       "        (bn1): BatchNorm2d(128, eps=1e-05, momentum=0.1, affine=True, track_running_stats=True)\n",
       "        (relu): ReLU(inplace=True)\n",
       "        (conv2): Conv2d(128, 128, kernel_size=(3, 3), stride=(1, 1), padding=(1, 1), bias=False)\n",
       "        (bn2): BatchNorm2d(128, eps=1e-05, momentum=0.1, affine=True, track_running_stats=True)\n",
       "      )\n",
       "      (3): BasicBlock(\n",
       "        (conv1): Conv2d(128, 128, kernel_size=(3, 3), stride=(1, 1), padding=(1, 1), bias=False)\n",
       "        (bn1): BatchNorm2d(128, eps=1e-05, momentum=0.1, affine=True, track_running_stats=True)\n",
       "        (relu): ReLU(inplace=True)\n",
       "        (conv2): Conv2d(128, 128, kernel_size=(3, 3), stride=(1, 1), padding=(1, 1), bias=False)\n",
       "        (bn2): BatchNorm2d(128, eps=1e-05, momentum=0.1, affine=True, track_running_stats=True)\n",
       "      )\n",
       "    )\n",
       "    (layer3): Sequential(\n",
       "      (0): BasicBlock(\n",
       "        (conv1): Conv2d(128, 256, kernel_size=(3, 3), stride=(2, 2), padding=(1, 1), bias=False)\n",
       "        (bn1): BatchNorm2d(256, eps=1e-05, momentum=0.1, affine=True, track_running_stats=True)\n",
       "        (relu): ReLU(inplace=True)\n",
       "        (conv2): Conv2d(256, 256, kernel_size=(3, 3), stride=(1, 1), padding=(1, 1), bias=False)\n",
       "        (bn2): BatchNorm2d(256, eps=1e-05, momentum=0.1, affine=True, track_running_stats=True)\n",
       "        (downsample): Sequential(\n",
       "          (0): Conv2d(128, 256, kernel_size=(1, 1), stride=(2, 2), bias=False)\n",
       "          (1): BatchNorm2d(256, eps=1e-05, momentum=0.1, affine=True, track_running_stats=True)\n",
       "        )\n",
       "      )\n",
       "      (1): BasicBlock(\n",
       "        (conv1): Conv2d(256, 256, kernel_size=(3, 3), stride=(1, 1), padding=(1, 1), bias=False)\n",
       "        (bn1): BatchNorm2d(256, eps=1e-05, momentum=0.1, affine=True, track_running_stats=True)\n",
       "        (relu): ReLU(inplace=True)\n",
       "        (conv2): Conv2d(256, 256, kernel_size=(3, 3), stride=(1, 1), padding=(1, 1), bias=False)\n",
       "        (bn2): BatchNorm2d(256, eps=1e-05, momentum=0.1, affine=True, track_running_stats=True)\n",
       "      )\n",
       "      (2): BasicBlock(\n",
       "        (conv1): Conv2d(256, 256, kernel_size=(3, 3), stride=(1, 1), padding=(1, 1), bias=False)\n",
       "        (bn1): BatchNorm2d(256, eps=1e-05, momentum=0.1, affine=True, track_running_stats=True)\n",
       "        (relu): ReLU(inplace=True)\n",
       "        (conv2): Conv2d(256, 256, kernel_size=(3, 3), stride=(1, 1), padding=(1, 1), bias=False)\n",
       "        (bn2): BatchNorm2d(256, eps=1e-05, momentum=0.1, affine=True, track_running_stats=True)\n",
       "      )\n",
       "      (3): BasicBlock(\n",
       "        (conv1): Conv2d(256, 256, kernel_size=(3, 3), stride=(1, 1), padding=(1, 1), bias=False)\n",
       "        (bn1): BatchNorm2d(256, eps=1e-05, momentum=0.1, affine=True, track_running_stats=True)\n",
       "        (relu): ReLU(inplace=True)\n",
       "        (conv2): Conv2d(256, 256, kernel_size=(3, 3), stride=(1, 1), padding=(1, 1), bias=False)\n",
       "        (bn2): BatchNorm2d(256, eps=1e-05, momentum=0.1, affine=True, track_running_stats=True)\n",
       "      )\n",
       "      (4): BasicBlock(\n",
       "        (conv1): Conv2d(256, 256, kernel_size=(3, 3), stride=(1, 1), padding=(1, 1), bias=False)\n",
       "        (bn1): BatchNorm2d(256, eps=1e-05, momentum=0.1, affine=True, track_running_stats=True)\n",
       "        (relu): ReLU(inplace=True)\n",
       "        (conv2): Conv2d(256, 256, kernel_size=(3, 3), stride=(1, 1), padding=(1, 1), bias=False)\n",
       "        (bn2): BatchNorm2d(256, eps=1e-05, momentum=0.1, affine=True, track_running_stats=True)\n",
       "      )\n",
       "      (5): BasicBlock(\n",
       "        (conv1): Conv2d(256, 256, kernel_size=(3, 3), stride=(1, 1), padding=(1, 1), bias=False)\n",
       "        (bn1): BatchNorm2d(256, eps=1e-05, momentum=0.1, affine=True, track_running_stats=True)\n",
       "        (relu): ReLU(inplace=True)\n",
       "        (conv2): Conv2d(256, 256, kernel_size=(3, 3), stride=(1, 1), padding=(1, 1), bias=False)\n",
       "        (bn2): BatchNorm2d(256, eps=1e-05, momentum=0.1, affine=True, track_running_stats=True)\n",
       "      )\n",
       "    )\n",
       "    (layer4): Sequential(\n",
       "      (0): BasicBlock(\n",
       "        (conv1): Conv2d(256, 512, kernel_size=(3, 3), stride=(1, 1), padding=(2, 2), dilation=(2, 2), bias=False)\n",
       "        (bn1): BatchNorm2d(512, eps=1e-05, momentum=0.1, affine=True, track_running_stats=True)\n",
       "        (relu): ReLU(inplace=True)\n",
       "        (conv2): Conv2d(512, 512, kernel_size=(3, 3), stride=(1, 1), padding=(2, 2), dilation=(2, 2), bias=False)\n",
       "        (bn2): BatchNorm2d(512, eps=1e-05, momentum=0.1, affine=True, track_running_stats=True)\n",
       "        (downsample): Sequential(\n",
       "          (0): Conv2d(256, 512, kernel_size=(1, 1), stride=(1, 1), dilation=(2, 2), bias=False)\n",
       "          (1): BatchNorm2d(512, eps=1e-05, momentum=0.1, affine=True, track_running_stats=True)\n",
       "        )\n",
       "      )\n",
       "      (1): BasicBlock(\n",
       "        (conv1): Conv2d(512, 512, kernel_size=(3, 3), stride=(1, 1), padding=(2, 2), dilation=(2, 2), bias=False)\n",
       "        (bn1): BatchNorm2d(512, eps=1e-05, momentum=0.1, affine=True, track_running_stats=True)\n",
       "        (relu): ReLU(inplace=True)\n",
       "        (conv2): Conv2d(512, 512, kernel_size=(3, 3), stride=(1, 1), padding=(2, 2), dilation=(2, 2), bias=False)\n",
       "        (bn2): BatchNorm2d(512, eps=1e-05, momentum=0.1, affine=True, track_running_stats=True)\n",
       "      )\n",
       "      (2): BasicBlock(\n",
       "        (conv1): Conv2d(512, 512, kernel_size=(3, 3), stride=(1, 1), padding=(2, 2), dilation=(2, 2), bias=False)\n",
       "        (bn1): BatchNorm2d(512, eps=1e-05, momentum=0.1, affine=True, track_running_stats=True)\n",
       "        (relu): ReLU(inplace=True)\n",
       "        (conv2): Conv2d(512, 512, kernel_size=(3, 3), stride=(1, 1), padding=(2, 2), dilation=(2, 2), bias=False)\n",
       "        (bn2): BatchNorm2d(512, eps=1e-05, momentum=0.1, affine=True, track_running_stats=True)\n",
       "      )\n",
       "    )\n",
       "  )\n",
       "  (decoder): DeepLabV3PlusDecoder(\n",
       "    (aspp): Sequential(\n",
       "      (0): ASPP(\n",
       "        (convs): ModuleList(\n",
       "          (0): Sequential(\n",
       "            (0): Conv2d(512, 256, kernel_size=(1, 1), stride=(1, 1), bias=False)\n",
       "            (1): BatchNorm2d(256, eps=1e-05, momentum=0.1, affine=True, track_running_stats=True)\n",
       "            (2): ReLU()\n",
       "          )\n",
       "          (1): ASPPSeparableConv(\n",
       "            (0): SeparableConv2d(\n",
       "              (0): Conv2d(512, 512, kernel_size=(3, 3), stride=(1, 1), padding=(12, 12), dilation=(12, 12), groups=512, bias=False)\n",
       "              (1): Conv2d(512, 256, kernel_size=(1, 1), stride=(1, 1), bias=False)\n",
       "            )\n",
       "            (1): BatchNorm2d(256, eps=1e-05, momentum=0.1, affine=True, track_running_stats=True)\n",
       "            (2): ReLU()\n",
       "          )\n",
       "          (2): ASPPSeparableConv(\n",
       "            (0): SeparableConv2d(\n",
       "              (0): Conv2d(512, 512, kernel_size=(3, 3), stride=(1, 1), padding=(24, 24), dilation=(24, 24), groups=512, bias=False)\n",
       "              (1): Conv2d(512, 256, kernel_size=(1, 1), stride=(1, 1), bias=False)\n",
       "            )\n",
       "            (1): BatchNorm2d(256, eps=1e-05, momentum=0.1, affine=True, track_running_stats=True)\n",
       "            (2): ReLU()\n",
       "          )\n",
       "          (3): ASPPSeparableConv(\n",
       "            (0): SeparableConv2d(\n",
       "              (0): Conv2d(512, 512, kernel_size=(3, 3), stride=(1, 1), padding=(36, 36), dilation=(36, 36), groups=512, bias=False)\n",
       "              (1): Conv2d(512, 256, kernel_size=(1, 1), stride=(1, 1), bias=False)\n",
       "            )\n",
       "            (1): BatchNorm2d(256, eps=1e-05, momentum=0.1, affine=True, track_running_stats=True)\n",
       "            (2): ReLU()\n",
       "          )\n",
       "          (4): ASPPPooling(\n",
       "            (0): AdaptiveAvgPool2d(output_size=1)\n",
       "            (1): Conv2d(512, 256, kernel_size=(1, 1), stride=(1, 1), bias=False)\n",
       "            (2): BatchNorm2d(256, eps=1e-05, momentum=0.1, affine=True, track_running_stats=True)\n",
       "            (3): ReLU()\n",
       "          )\n",
       "        )\n",
       "        (project): Sequential(\n",
       "          (0): Conv2d(1280, 256, kernel_size=(1, 1), stride=(1, 1), bias=False)\n",
       "          (1): BatchNorm2d(256, eps=1e-05, momentum=0.1, affine=True, track_running_stats=True)\n",
       "          (2): ReLU()\n",
       "          (3): Dropout(p=0.5, inplace=False)\n",
       "        )\n",
       "      )\n",
       "      (1): SeparableConv2d(\n",
       "        (0): Conv2d(256, 256, kernel_size=(3, 3), stride=(1, 1), padding=(1, 1), groups=256, bias=False)\n",
       "        (1): Conv2d(256, 256, kernel_size=(1, 1), stride=(1, 1), bias=False)\n",
       "      )\n",
       "      (2): BatchNorm2d(256, eps=1e-05, momentum=0.1, affine=True, track_running_stats=True)\n",
       "      (3): ReLU()\n",
       "    )\n",
       "    (up): UpsamplingBilinear2d(scale_factor=4.0, mode=bilinear)\n",
       "    (block1): Sequential(\n",
       "      (0): Conv2d(64, 48, kernel_size=(1, 1), stride=(1, 1), bias=False)\n",
       "      (1): BatchNorm2d(48, eps=1e-05, momentum=0.1, affine=True, track_running_stats=True)\n",
       "      (2): ReLU()\n",
       "    )\n",
       "    (block2): Sequential(\n",
       "      (0): SeparableConv2d(\n",
       "        (0): Conv2d(304, 304, kernel_size=(3, 3), stride=(1, 1), padding=(1, 1), groups=304, bias=False)\n",
       "        (1): Conv2d(304, 256, kernel_size=(1, 1), stride=(1, 1), bias=False)\n",
       "      )\n",
       "      (1): BatchNorm2d(256, eps=1e-05, momentum=0.1, affine=True, track_running_stats=True)\n",
       "      (2): ReLU()\n",
       "    )\n",
       "  )\n",
       "  (segmentation_head): SegmentationHead(\n",
       "    (0): Conv2d(256, 2, kernel_size=(1, 1), stride=(1, 1))\n",
       "    (1): UpsamplingBilinear2d(scale_factor=4.0, mode=bilinear)\n",
       "    (2): Activation(\n",
       "      (activation): Identity()\n",
       "    )\n",
       "  )\n",
       ")"
      ]
     },
     "execution_count": 9,
     "metadata": {},
     "output_type": "execute_result"
    }
   ],
   "source": [
    "model = AugmentME.BaseClass(mode=\"torch\")\n",
    "model.load(os.path.join(config[\"dir_results\"],config[\"model_savename_bestloss\"]),device=\"cpu\")\n",
    "model.eval()\n",
    "model.share_memory()"
   ]
  },
  {
   "cell_type": "markdown",
   "id": "0c5978c8",
   "metadata": {},
   "source": [
    "### ModelForwardTask\n",
    "Now, it is time to define the `ModelForwardTask` which does the computation for us!\n",
    "As for all `EOTasks` we choose the in- and output features.\n",
    "The `in_feature` is fed to the model whereas its result is stored in the `out_feature`.\n",
    "In order to properly normalize the data downloaded we have to insert our scaler for `in_transform`.\n",
    "Since we are interested in the predicted water mask, we have to insert our prediction transform for `out_transform`."
   ]
  },
  {
   "cell_type": "code",
   "execution_count": 10,
   "id": "4c19daf7",
   "metadata": {},
   "outputs": [],
   "source": [
    "task_model = ModelForwardTask(\n",
    "    in_feature = (FeatureType.DATA,\"data\"),\n",
    "    out_feature = (FeatureType.MASK,\"model_output\"),\n",
    "    model = model,\n",
    "\n",
    "    in_transform = Scaler,\n",
    "    out_transform = predict,\n",
    "    in_torchtype = torch.FloatTensor,\n",
    "    batch_size = config[\"max_batch_size\"],\n",
    "\n",
    "    maxtries=3,\n",
    "    timeout=22,\n",
    ")"
   ]
  },
  {
   "cell_type": "markdown",
   "id": "0160f27f",
   "metadata": {},
   "source": [
    "## Export Tiffs and Saving Tasks\n",
    "Of course, we want to export the model output as a GeoTiff such that others can have a look at it using common GIS software.\n",
    "We can use the [`ExportToTiffTask`](https://eo-learn.readthedocs.io/en/latest/reference/eolearn.io.raster_io.html#eolearn.io.raster_io.ExportToTiffTask) for that."
   ]
  },
  {
   "cell_type": "code",
   "execution_count": 11,
   "id": "d12d0bc5",
   "metadata": {},
   "outputs": [],
   "source": [
    "task_tiff = ExportToTiffTask(\n",
    "    feature = (FeatureType.MASK,\"model_output\"),\n",
    "    folder = config[\"dir_tiffs_showcase\"],\n",
    "    date_indices = None,\n",
    "    band_indices = None,\n",
    "    crs = None,\n",
    "    fail_on_missing = True,\n",
    "    compress = \"deflate\"\n",
    ")"
   ]
  },
  {
   "cell_type": "markdown",
   "id": "f6a68cf7",
   "metadata": {},
   "source": [
    "Finally, we want to store the resulting patches, of course!"
   ]
  },
  {
   "cell_type": "code",
   "execution_count": 12,
   "id": "bb358599",
   "metadata": {},
   "outputs": [],
   "source": [
    "#%% save EOPatches\n",
    "task_save = SaveTask(\n",
    "    path = config[\"dir_data\"],\n",
    "    filesystem = None,\n",
    "    config = config[\"SHconfig\"],\n",
    "    overwrite_permission = OverwritePermission.OVERWRITE_PATCH,\n",
    "    compress_level = 2\n",
    ")"
   ]
  },
  {
   "cell_type": "markdown",
   "id": "590fc9b2",
   "metadata": {},
   "source": [
    "# Workflow\n",
    "As usually, we start defining our nodes!"
   ]
  },
  {
   "cell_type": "code",
   "execution_count": 13,
   "id": "9386477c",
   "metadata": {},
   "outputs": [],
   "source": [
    "#%% input nodes\n",
    "node_data = EONode(\n",
    "    task = task_data,\n",
    "    inputs = [],\n",
    "    name = \"load Sentinel-1 data\"\n",
    ")\n",
    "\n",
    "#%% inference node\n",
    "node_model = EONode(\n",
    "    task = task_model,\n",
    "    inputs = [node_data],\n",
    "    name = \"predict water mask\"\n",
    ")\n",
    "\n",
    "#%% export and save\n",
    "node_tiff = EONode(\n",
    "    task = task_tiff,\n",
    "    inputs = [node_model],\n",
    "    name = \"export GeoTiff of model output\"\n",
    ")\n",
    "\n",
    "node_save = EONode(\n",
    "    task = task_save,\n",
    "    inputs = [node_tiff],\n",
    "    name = \"save EOPatch\"\n",
    ")"
   ]
  },
  {
   "cell_type": "markdown",
   "id": "b0819005",
   "metadata": {},
   "source": [
    "Finally, we can define our workflow from endnode!"
   ]
  },
  {
   "cell_type": "code",
   "execution_count": 14,
   "id": "56870be9",
   "metadata": {},
   "outputs": [],
   "source": [
    "workflow = EOWorkflow.from_endnodes(node_save)\n",
    "#workflow.dependency_graph()"
   ]
  },
  {
   "cell_type": "markdown",
   "id": "5183819c",
   "metadata": {},
   "source": [
    "# Execution\n",
    "We want to execute our workflow in parallel.\n",
    "This can be done using the package ExecuteME.\n",
    "\n",
    "In the following, we have to ensure the entry point by asking the file defining the subprocesses to be the main file since PyTorch models demand the spawn start method for subprocesses.\n",
    "Hence, we do recommend to do this in common Python scripts as jupyter notebooks ask you to clarify the entry point in every cell.\n",
    "Still, the parallelization does not work in jupyter notebooks but you may let it run using one worker.\n",
    "\n",
    "## Workflow Arguments\n",
    "On a first stage, we have to define the standard workflow arguments, both temporal and spatially.\n",
    "Note that we only want to download the data which does not exist on our device.\n",
    "Hence, we check for existence first and assign arguments afterwards."
   ]
  },
  {
   "cell_type": "code",
   "execution_count": 23,
   "id": "8b684889",
   "metadata": {},
   "outputs": [
    {
     "name": "stdout",
     "output_type": "stream",
     "text": [
      "parse_time_interval_observations: not enough observations found - returning checkinterval!\n",
      "parse_time_interval_observations: not enough observations found - returning checkinterval!\n",
      "parse_time_interval_observations: not enough observations found - returning checkinterval!\n",
      "parse_time_interval_observations: not enough observations found - returning checkinterval!\n",
      "parse_time_interval_observations: not enough observations found - returning checkinterval!\n",
      "parse_time_interval_observations: not enough observations found - returning checkinterval!\n",
      "parse_time_interval_observations: not enough observations found - returning checkinterval!\n",
      "parse_time_interval_observations: not enough observations found - returning checkinterval!\n",
      "parse_time_interval_observations: not enough observations found - returning checkinterval!\n",
      "parse_time_interval_observations: not enough observations found - returning checkinterval!\n",
      "parse_time_interval_observations: not enough observations found - returning checkinterval!\n",
      "parse_time_interval_observations: not enough observations found - returning checkinterval!\n",
      "parse_time_interval_observations: not enough observations found - returning checkinterval!\n",
      "parse_time_interval_observations: not enough observations found - returning checkinterval!\n",
      "parse_time_interval_observations: not enough observations found - returning checkinterval!\n",
      "parse_time_interval_observations: not enough observations found - returning checkinterval!\n",
      "parse_time_interval_observations: not enough observations found - returning checkinterval!\n",
      "parse_time_interval_observations: not enough observations found - returning checkinterval!\n",
      "parse_time_interval_observations: not enough observations found - returning checkinterval!\n",
      "parse_time_interval_observations: not enough observations found - returning checkinterval!\n",
      "parse_time_interval_observations: not enough observations found - returning checkinterval!\n",
      "parse_time_interval_observations: not enough observations found - returning checkinterval!\n",
      "parse_time_interval_observations: not enough observations found - returning checkinterval!\n",
      "parse_time_interval_observations: not enough observations found - returning checkinterval!\n",
      "parse_time_interval_observations: not enough observations found - returning checkinterval!\n",
      "parse_time_interval_observations: not enough observations found - returning checkinterval!\n",
      "parse_time_interval_observations: not enough observations found - returning checkinterval!\n",
      "parse_time_interval_observations: not enough observations found - returning checkinterval!\n",
      "parse_time_interval_observations: not enough observations found - returning checkinterval!\n",
      "parse_time_interval_observations: not enough observations found - returning checkinterval!\n",
      "parse_time_interval_observations: not enough observations found - returning checkinterval!\n",
      "parse_time_interval_observations: not enough observations found - returning checkinterval!\n",
      "parse_time_interval_observations: not enough observations found - returning checkinterval!\n",
      "parse_time_interval_observations: not enough observations found - returning checkinterval!\n",
      "parse_time_interval_observations: not enough observations found - returning checkinterval!\n",
      "parse_time_interval_observations: not enough observations found - returning checkinterval!\n",
      "parse_time_interval_observations: not enough observations found - returning checkinterval!\n",
      "parse_time_interval_observations: not enough observations found - returning checkinterval!\n",
      "parse_time_interval_observations: not enough observations found - returning checkinterval!\n",
      "parse_time_interval_observations: not enough observations found - returning checkinterval!\n",
      "parse_time_interval_observations: not enough observations found - returning checkinterval!\n",
      "parse_time_interval_observations: not enough observations found - returning checkinterval!\n",
      "parse_time_interval_observations: not enough observations found - returning checkinterval!\n",
      "parse_time_interval_observations: not enough observations found - returning checkinterval!\n",
      "parse_time_interval_observations: not enough observations found - returning checkinterval!\n",
      "parse_time_interval_observations: not enough observations found - returning checkinterval!\n",
      "parse_time_interval_observations: not enough observations found - returning checkinterval!\n",
      "parse_time_interval_observations: not enough observations found - returning checkinterval!\n",
      "parse_time_interval_observations: not enough observations found - returning checkinterval!\n",
      "parse_time_interval_observations: not enough observations found - returning checkinterval!\n",
      "parse_time_interval_observations: not enough observations found - returning checkinterval!\n",
      "parse_time_interval_observations: not enough observations found - returning checkinterval!\n",
      "parse_time_interval_observations: not enough observations found - returning checkinterval!\n",
      "parse_time_interval_observations: not enough observations found - returning checkinterval!\n",
      "parse_time_interval_observations: not enough observations found - returning checkinterval!\n",
      "parse_time_interval_observations: not enough observations found - returning checkinterval!\n",
      "parse_time_interval_observations: not enough observations found - returning checkinterval!\n",
      "parse_time_interval_observations: not enough observations found - returning checkinterval!\n",
      "parse_time_interval_observations: not enough observations found - returning checkinterval!\n",
      "parse_time_interval_observations: not enough observations found - returning checkinterval!\n",
      "parse_time_interval_observations: not enough observations found - returning checkinterval!\n",
      "parse_time_interval_observations: not enough observations found - returning checkinterval!\n",
      "parse_time_interval_observations: not enough observations found - returning checkinterval!\n",
      "\n",
      "Number of downloads/calculations: 63\n"
     ]
    }
   ],
   "source": [
    "if __name__=='__main__':  \n",
    "    #%% define workflow arguments\n",
    "    workflow_args = []\n",
    "    bbox_list_ = bbox_list_showcase\n",
    "    for i in range(len(bbox_list_)):\n",
    "        print(f\"\\rChecking workflow args {i+1}/{len(bbox_list_)}\",end=\"\\r\")\n",
    "        try:\n",
    "            #%%% query available timestamps\n",
    "            timeinterval = parse_time_interval_observations(\n",
    "                time_interval = (config[\"n_observations_showcase\"],config[\"end_showcase\"]),\n",
    "                bbox = bbox_list_[i],\n",
    "                data_collection = DataCollection.SENTINEL1_IW,\n",
    "                check_timedelta = config[\"checktimedelta_showcase\"],\n",
    "                include_borders = True,\n",
    "                time_difference = dt.timedelta(seconds=0),\n",
    "                maxcc = None,\n",
    "                config = config[\"SHconfig\"]\n",
    "            )\n",
    "            timeintervalstring = f\"{timeinterval[0].strftime(r'%Y-%m-%dT%H-%M-%S_%Z')}--{timeinterval[1].strftime(r'%Y-%m-%dT%H-%M-%S_%Z')}\"\n",
    "            dir_ = f\"showcase/eopatch_{i}_{timeintervalstring}\"\n",
    "            if not os.path.exists(os.path.join(config[\"dir_data\"],dir_)):### and False: ### \n",
    "                workflow_args.append(\n",
    "                    {\n",
    "                        node_data: {\"bbox\":bbox_list_[i],\"time_interval\":timeinterval},\n",
    "                        node_tiff: {\"filename\": f\"water_{i}_{timeintervalstring}\"},\n",
    "                        node_save: {\"eopatch_folder\":dir_}\n",
    "                    }\n",
    "                )\n",
    "        except Exception as e:\n",
    "            print(e,timeinterval)\n",
    "    print()\n",
    "\n",
    "    print(f\"Number of downloads/calculations: {len(workflow_args)}\")"
   ]
  },
  {
   "cell_type": "markdown",
   "id": "f05bd64f",
   "metadata": {},
   "source": [
    "## Devices\n",
    "Second, we have to initialize a multiprocessing queue containing the names of our devices!\n",
    "By that we could use an arbitrary amount of GPUs.\n",
    "Of course, it is possible, to stay on the CPU by setting the config.device accordingly.\n",
    "\n",
    "The `PyTorchTasks` are designed for features containing multiple timestamps to be analyzed.\n",
    "Accordingly, the `batch_size` parameter of the `ModelForwardTask` refers to the timestamps, i.e. the first dimension of a feature array.\n",
    "If you do not have multiple timestamps, you may insert some kind of `batch_size` for one device by defining `batch_size x available_devices` devices or in particular `batch_size` times the device you want to use multiple times.\n",
    "Please be careful doing that since there is an additional cost of initialising the model per patch then.\n",
    "That is, the model is not shared between multiple `EOPatches`.\n",
    "Still, that behavior is beneficial if some analysis using the `ModelUncertaintyTask` is to be done.\n",
    "Here, it is necessary to deploy the model multiple times, anyway."
   ]
  },
  {
   "cell_type": "code",
   "execution_count": 24,
   "id": "d69d6090",
   "metadata": {},
   "outputs": [],
   "source": [
    "if __name__=='__main__':  \n",
    "    devices = ExecuteME.Devices([\"cuda\"],multiprocessing_context=\"spawn\")"
   ]
  },
  {
   "cell_type": "markdown",
   "id": "2556f405",
   "metadata": {},
   "source": [
    "In a next step, we will define the multiprocessing-type-keyword-arguments which have to be given to our tasks separately.\n",
    "These keyword-arguments have to be shared between the processes as the list of available devices should be known by the different workes and, hence, be shared or provided separately."
   ]
  },
  {
   "cell_type": "code",
   "execution_count": 25,
   "id": "94e604f7",
   "metadata": {},
   "outputs": [],
   "source": [
    "if __name__=='__main__':  \n",
    "    mpkwargs = {\n",
    "        node_model: {\"devices\":devices},\n",
    "    }"
   ]
  },
  {
   "cell_type": "markdown",
   "id": "218b0d3b",
   "metadata": {},
   "source": [
    "## Run\n",
    "Now, it's time to let it run!\n",
    "Please notice that we insert a 0 for `threads` since jupyter notebooks do not allow for the spawn method.\n",
    "In a Python script, you may choose as many threads as you like."
   ]
  },
  {
   "cell_type": "code",
   "execution_count": 26,
   "id": "30b8c4fc",
   "metadata": {
    "scrolled": true
   },
   "outputs": [
    {
     "name": "stdout",
     "output_type": "stream",
     "text": [
      "\r",
      "1/63 calculations [1.59%] with 1 thread(s)\t\r"
     ]
    },
    {
     "name": "stderr",
     "output_type": "stream",
     "text": [
      "C:\\Users\\skryp\\miniconda3\\envs\\eolearn_water\\lib\\site-packages\\eolearn\\io\\raster_io.py:263: EORuntimeWarning: Data from feature (<FeatureType.MASK: 'mask'>, 'model_output') cannot be exported to tiff with dtype numpy.int64. Will export as numpy.int32 instead\n",
      "  warnings.warn(\n"
     ]
    },
    {
     "name": "stdout",
     "output_type": "stream",
     "text": [
      "\r",
      "2/63 calculations [3.17%] with 1 thread(s)\t\r"
     ]
    },
    {
     "name": "stderr",
     "output_type": "stream",
     "text": [
      "C:\\Users\\skryp\\miniconda3\\envs\\eolearn_water\\lib\\site-packages\\eolearn\\io\\raster_io.py:263: EORuntimeWarning: Data from feature (<FeatureType.MASK: 'mask'>, 'model_output') cannot be exported to tiff with dtype numpy.int64. Will export as numpy.int32 instead\n",
      "  warnings.warn(\n"
     ]
    },
    {
     "name": "stdout",
     "output_type": "stream",
     "text": [
      "\r",
      "3/63 calculations [4.76%] with 1 thread(s)\t\r"
     ]
    },
    {
     "name": "stderr",
     "output_type": "stream",
     "text": [
      "C:\\Users\\skryp\\miniconda3\\envs\\eolearn_water\\lib\\site-packages\\eolearn\\io\\raster_io.py:263: EORuntimeWarning: Data from feature (<FeatureType.MASK: 'mask'>, 'model_output') cannot be exported to tiff with dtype numpy.int64. Will export as numpy.int32 instead\n",
      "  warnings.warn(\n"
     ]
    },
    {
     "name": "stdout",
     "output_type": "stream",
     "text": [
      "\r",
      "4/63 calculations [6.35%] with 1 thread(s)\t\r"
     ]
    },
    {
     "name": "stderr",
     "output_type": "stream",
     "text": [
      "C:\\Users\\skryp\\miniconda3\\envs\\eolearn_water\\lib\\site-packages\\eolearn\\io\\raster_io.py:263: EORuntimeWarning: Data from feature (<FeatureType.MASK: 'mask'>, 'model_output') cannot be exported to tiff with dtype numpy.int64. Will export as numpy.int32 instead\n",
      "  warnings.warn(\n"
     ]
    },
    {
     "name": "stdout",
     "output_type": "stream",
     "text": [
      "\r",
      "5/63 calculations [7.94%] with 1 thread(s)\t\r"
     ]
    },
    {
     "name": "stderr",
     "output_type": "stream",
     "text": [
      "C:\\Users\\skryp\\miniconda3\\envs\\eolearn_water\\lib\\site-packages\\eolearn\\io\\raster_io.py:263: EORuntimeWarning: Data from feature (<FeatureType.MASK: 'mask'>, 'model_output') cannot be exported to tiff with dtype numpy.int64. Will export as numpy.int32 instead\n",
      "  warnings.warn(\n"
     ]
    },
    {
     "name": "stdout",
     "output_type": "stream",
     "text": [
      "\r",
      "6/63 calculations [9.52%] with 1 thread(s)\t\r"
     ]
    },
    {
     "name": "stderr",
     "output_type": "stream",
     "text": [
      "C:\\Users\\skryp\\miniconda3\\envs\\eolearn_water\\lib\\site-packages\\eolearn\\io\\raster_io.py:263: EORuntimeWarning: Data from feature (<FeatureType.MASK: 'mask'>, 'model_output') cannot be exported to tiff with dtype numpy.int64. Will export as numpy.int32 instead\n",
      "  warnings.warn(\n"
     ]
    },
    {
     "name": "stdout",
     "output_type": "stream",
     "text": [
      "\r",
      "7/63 calculations [11.11%] with 1 thread(s)\t\r"
     ]
    },
    {
     "name": "stderr",
     "output_type": "stream",
     "text": [
      "C:\\Users\\skryp\\miniconda3\\envs\\eolearn_water\\lib\\site-packages\\eolearn\\io\\raster_io.py:263: EORuntimeWarning: Data from feature (<FeatureType.MASK: 'mask'>, 'model_output') cannot be exported to tiff with dtype numpy.int64. Will export as numpy.int32 instead\n",
      "  warnings.warn(\n"
     ]
    },
    {
     "name": "stdout",
     "output_type": "stream",
     "text": [
      "\r",
      "8/63 calculations [12.70%] with 1 thread(s)\t\r"
     ]
    },
    {
     "name": "stderr",
     "output_type": "stream",
     "text": [
      "C:\\Users\\skryp\\miniconda3\\envs\\eolearn_water\\lib\\site-packages\\eolearn\\io\\raster_io.py:263: EORuntimeWarning: Data from feature (<FeatureType.MASK: 'mask'>, 'model_output') cannot be exported to tiff with dtype numpy.int64. Will export as numpy.int32 instead\n",
      "  warnings.warn(\n"
     ]
    },
    {
     "name": "stdout",
     "output_type": "stream",
     "text": [
      "\r",
      "9/63 calculations [14.29%] with 1 thread(s)\t\r"
     ]
    },
    {
     "name": "stderr",
     "output_type": "stream",
     "text": [
      "C:\\Users\\skryp\\miniconda3\\envs\\eolearn_water\\lib\\site-packages\\eolearn\\io\\raster_io.py:263: EORuntimeWarning: Data from feature (<FeatureType.MASK: 'mask'>, 'model_output') cannot be exported to tiff with dtype numpy.int64. Will export as numpy.int32 instead\n",
      "  warnings.warn(\n"
     ]
    },
    {
     "name": "stdout",
     "output_type": "stream",
     "text": [
      "\r",
      "10/63 calculations [15.87%] with 1 thread(s)\t\r"
     ]
    },
    {
     "name": "stderr",
     "output_type": "stream",
     "text": [
      "C:\\Users\\skryp\\miniconda3\\envs\\eolearn_water\\lib\\site-packages\\eolearn\\io\\raster_io.py:263: EORuntimeWarning: Data from feature (<FeatureType.MASK: 'mask'>, 'model_output') cannot be exported to tiff with dtype numpy.int64. Will export as numpy.int32 instead\n",
      "  warnings.warn(\n"
     ]
    },
    {
     "name": "stdout",
     "output_type": "stream",
     "text": [
      "\r",
      "11/63 calculations [17.46%] with 1 thread(s)\t\r"
     ]
    },
    {
     "name": "stderr",
     "output_type": "stream",
     "text": [
      "C:\\Users\\skryp\\miniconda3\\envs\\eolearn_water\\lib\\site-packages\\eolearn\\io\\raster_io.py:263: EORuntimeWarning: Data from feature (<FeatureType.MASK: 'mask'>, 'model_output') cannot be exported to tiff with dtype numpy.int64. Will export as numpy.int32 instead\n",
      "  warnings.warn(\n"
     ]
    },
    {
     "name": "stdout",
     "output_type": "stream",
     "text": [
      "\r",
      "12/63 calculations [19.05%] with 1 thread(s)\t\r"
     ]
    },
    {
     "name": "stderr",
     "output_type": "stream",
     "text": [
      "C:\\Users\\skryp\\miniconda3\\envs\\eolearn_water\\lib\\site-packages\\eolearn\\io\\raster_io.py:263: EORuntimeWarning: Data from feature (<FeatureType.MASK: 'mask'>, 'model_output') cannot be exported to tiff with dtype numpy.int64. Will export as numpy.int32 instead\n",
      "  warnings.warn(\n"
     ]
    },
    {
     "name": "stdout",
     "output_type": "stream",
     "text": [
      "\r",
      "13/63 calculations [20.63%] with 1 thread(s)\t\r"
     ]
    },
    {
     "name": "stderr",
     "output_type": "stream",
     "text": [
      "C:\\Users\\skryp\\miniconda3\\envs\\eolearn_water\\lib\\site-packages\\eolearn\\io\\raster_io.py:263: EORuntimeWarning: Data from feature (<FeatureType.MASK: 'mask'>, 'model_output') cannot be exported to tiff with dtype numpy.int64. Will export as numpy.int32 instead\n",
      "  warnings.warn(\n",
      "C:\\Users\\skryp\\miniconda3\\envs\\eolearn_water\\lib\\site-packages\\eolearn\\io\\raster_io.py:263: EORuntimeWarning: Data from feature (<FeatureType.MASK: 'mask'>, 'model_output') cannot be exported to tiff with dtype numpy.int64. Will export as numpy.int32 instead\n",
      "  warnings.warn(\n"
     ]
    },
    {
     "name": "stdout",
     "output_type": "stream",
     "text": [
      "15/63 calculations [23.81%] with 1 thread(s)\t\r"
     ]
    },
    {
     "name": "stderr",
     "output_type": "stream",
     "text": [
      "C:\\Users\\skryp\\miniconda3\\envs\\eolearn_water\\lib\\site-packages\\eolearn\\io\\raster_io.py:263: EORuntimeWarning: Data from feature (<FeatureType.MASK: 'mask'>, 'model_output') cannot be exported to tiff with dtype numpy.int64. Will export as numpy.int32 instead\n",
      "  warnings.warn(\n"
     ]
    },
    {
     "name": "stdout",
     "output_type": "stream",
     "text": [
      "\r",
      "16/63 calculations [25.40%] with 1 thread(s)\t\r"
     ]
    },
    {
     "name": "stderr",
     "output_type": "stream",
     "text": [
      "C:\\Users\\skryp\\miniconda3\\envs\\eolearn_water\\lib\\site-packages\\eolearn\\io\\raster_io.py:263: EORuntimeWarning: Data from feature (<FeatureType.MASK: 'mask'>, 'model_output') cannot be exported to tiff with dtype numpy.int64. Will export as numpy.int32 instead\n",
      "  warnings.warn(\n"
     ]
    },
    {
     "name": "stdout",
     "output_type": "stream",
     "text": [
      "\r",
      "17/63 calculations [26.98%] with 1 thread(s)\t\r"
     ]
    },
    {
     "name": "stderr",
     "output_type": "stream",
     "text": [
      "C:\\Users\\skryp\\miniconda3\\envs\\eolearn_water\\lib\\site-packages\\eolearn\\io\\raster_io.py:263: EORuntimeWarning: Data from feature (<FeatureType.MASK: 'mask'>, 'model_output') cannot be exported to tiff with dtype numpy.int64. Will export as numpy.int32 instead\n",
      "  warnings.warn(\n"
     ]
    },
    {
     "name": "stdout",
     "output_type": "stream",
     "text": [
      "\r",
      "18/63 calculations [28.57%] with 1 thread(s)\t\r"
     ]
    },
    {
     "name": "stderr",
     "output_type": "stream",
     "text": [
      "C:\\Users\\skryp\\miniconda3\\envs\\eolearn_water\\lib\\site-packages\\eolearn\\io\\raster_io.py:263: EORuntimeWarning: Data from feature (<FeatureType.MASK: 'mask'>, 'model_output') cannot be exported to tiff with dtype numpy.int64. Will export as numpy.int32 instead\n",
      "  warnings.warn(\n"
     ]
    },
    {
     "name": "stdout",
     "output_type": "stream",
     "text": [
      "\r",
      "19/63 calculations [30.16%] with 1 thread(s)\t\r"
     ]
    },
    {
     "name": "stderr",
     "output_type": "stream",
     "text": [
      "C:\\Users\\skryp\\miniconda3\\envs\\eolearn_water\\lib\\site-packages\\eolearn\\io\\raster_io.py:263: EORuntimeWarning: Data from feature (<FeatureType.MASK: 'mask'>, 'model_output') cannot be exported to tiff with dtype numpy.int64. Will export as numpy.int32 instead\n",
      "  warnings.warn(\n"
     ]
    },
    {
     "name": "stdout",
     "output_type": "stream",
     "text": [
      "\r",
      "20/63 calculations [31.75%] with 1 thread(s)\t\r"
     ]
    },
    {
     "name": "stderr",
     "output_type": "stream",
     "text": [
      "C:\\Users\\skryp\\miniconda3\\envs\\eolearn_water\\lib\\site-packages\\eolearn\\io\\raster_io.py:263: EORuntimeWarning: Data from feature (<FeatureType.MASK: 'mask'>, 'model_output') cannot be exported to tiff with dtype numpy.int64. Will export as numpy.int32 instead\n",
      "  warnings.warn(\n"
     ]
    },
    {
     "name": "stdout",
     "output_type": "stream",
     "text": [
      "\r",
      "21/63 calculations [33.33%] with 1 thread(s)\t\r"
     ]
    },
    {
     "name": "stderr",
     "output_type": "stream",
     "text": [
      "C:\\Users\\skryp\\miniconda3\\envs\\eolearn_water\\lib\\site-packages\\eolearn\\io\\raster_io.py:263: EORuntimeWarning: Data from feature (<FeatureType.MASK: 'mask'>, 'model_output') cannot be exported to tiff with dtype numpy.int64. Will export as numpy.int32 instead\n",
      "  warnings.warn(\n"
     ]
    },
    {
     "name": "stdout",
     "output_type": "stream",
     "text": [
      "\r",
      "22/63 calculations [34.92%] with 1 thread(s)\t\r"
     ]
    },
    {
     "name": "stderr",
     "output_type": "stream",
     "text": [
      "C:\\Users\\skryp\\miniconda3\\envs\\eolearn_water\\lib\\site-packages\\eolearn\\io\\raster_io.py:263: EORuntimeWarning: Data from feature (<FeatureType.MASK: 'mask'>, 'model_output') cannot be exported to tiff with dtype numpy.int64. Will export as numpy.int32 instead\n",
      "  warnings.warn(\n"
     ]
    },
    {
     "name": "stdout",
     "output_type": "stream",
     "text": [
      "\r",
      "23/63 calculations [36.51%] with 1 thread(s)\t\r"
     ]
    },
    {
     "name": "stderr",
     "output_type": "stream",
     "text": [
      "C:\\Users\\skryp\\miniconda3\\envs\\eolearn_water\\lib\\site-packages\\eolearn\\io\\raster_io.py:263: EORuntimeWarning: Data from feature (<FeatureType.MASK: 'mask'>, 'model_output') cannot be exported to tiff with dtype numpy.int64. Will export as numpy.int32 instead\n",
      "  warnings.warn(\n"
     ]
    },
    {
     "name": "stdout",
     "output_type": "stream",
     "text": [
      "\r",
      "24/63 calculations [38.10%] with 1 thread(s)\t\r"
     ]
    },
    {
     "name": "stderr",
     "output_type": "stream",
     "text": [
      "C:\\Users\\skryp\\miniconda3\\envs\\eolearn_water\\lib\\site-packages\\eolearn\\io\\raster_io.py:263: EORuntimeWarning: Data from feature (<FeatureType.MASK: 'mask'>, 'model_output') cannot be exported to tiff with dtype numpy.int64. Will export as numpy.int32 instead\n",
      "  warnings.warn(\n"
     ]
    },
    {
     "name": "stdout",
     "output_type": "stream",
     "text": [
      "\r",
      "25/63 calculations [39.68%] with 1 thread(s)\t\r"
     ]
    },
    {
     "name": "stderr",
     "output_type": "stream",
     "text": [
      "C:\\Users\\skryp\\miniconda3\\envs\\eolearn_water\\lib\\site-packages\\eolearn\\io\\raster_io.py:263: EORuntimeWarning: Data from feature (<FeatureType.MASK: 'mask'>, 'model_output') cannot be exported to tiff with dtype numpy.int64. Will export as numpy.int32 instead\n",
      "  warnings.warn(\n",
      "C:\\Users\\skryp\\miniconda3\\envs\\eolearn_water\\lib\\site-packages\\eolearn\\io\\raster_io.py:263: EORuntimeWarning: Data from feature (<FeatureType.MASK: 'mask'>, 'model_output') cannot be exported to tiff with dtype numpy.int64. Will export as numpy.int32 instead\n",
      "  warnings.warn(\n"
     ]
    },
    {
     "name": "stdout",
     "output_type": "stream",
     "text": [
      "27/63 calculations [42.86%] with 1 thread(s)\t\r"
     ]
    },
    {
     "name": "stderr",
     "output_type": "stream",
     "text": [
      "C:\\Users\\skryp\\miniconda3\\envs\\eolearn_water\\lib\\site-packages\\eolearn\\io\\raster_io.py:263: EORuntimeWarning: Data from feature (<FeatureType.MASK: 'mask'>, 'model_output') cannot be exported to tiff with dtype numpy.int64. Will export as numpy.int32 instead\n",
      "  warnings.warn(\n"
     ]
    },
    {
     "name": "stdout",
     "output_type": "stream",
     "text": [
      "\r",
      "28/63 calculations [44.44%] with 1 thread(s)\t\r"
     ]
    },
    {
     "name": "stderr",
     "output_type": "stream",
     "text": [
      "C:\\Users\\skryp\\miniconda3\\envs\\eolearn_water\\lib\\site-packages\\eolearn\\io\\raster_io.py:263: EORuntimeWarning: Data from feature (<FeatureType.MASK: 'mask'>, 'model_output') cannot be exported to tiff with dtype numpy.int64. Will export as numpy.int32 instead\n",
      "  warnings.warn(\n"
     ]
    },
    {
     "name": "stdout",
     "output_type": "stream",
     "text": [
      "\r",
      "29/63 calculations [46.03%] with 1 thread(s)\t\r"
     ]
    },
    {
     "name": "stderr",
     "output_type": "stream",
     "text": [
      "C:\\Users\\skryp\\miniconda3\\envs\\eolearn_water\\lib\\site-packages\\eolearn\\io\\raster_io.py:263: EORuntimeWarning: Data from feature (<FeatureType.MASK: 'mask'>, 'model_output') cannot be exported to tiff with dtype numpy.int64. Will export as numpy.int32 instead\n",
      "  warnings.warn(\n"
     ]
    },
    {
     "name": "stdout",
     "output_type": "stream",
     "text": [
      "\r",
      "30/63 calculations [47.62%] with 1 thread(s)\t\r"
     ]
    },
    {
     "name": "stderr",
     "output_type": "stream",
     "text": [
      "C:\\Users\\skryp\\miniconda3\\envs\\eolearn_water\\lib\\site-packages\\eolearn\\io\\raster_io.py:263: EORuntimeWarning: Data from feature (<FeatureType.MASK: 'mask'>, 'model_output') cannot be exported to tiff with dtype numpy.int64. Will export as numpy.int32 instead\n",
      "  warnings.warn(\n"
     ]
    },
    {
     "name": "stdout",
     "output_type": "stream",
     "text": [
      "\r",
      "31/63 calculations [49.21%] with 1 thread(s)\t\r"
     ]
    },
    {
     "name": "stderr",
     "output_type": "stream",
     "text": [
      "C:\\Users\\skryp\\miniconda3\\envs\\eolearn_water\\lib\\site-packages\\eolearn\\io\\raster_io.py:263: EORuntimeWarning: Data from feature (<FeatureType.MASK: 'mask'>, 'model_output') cannot be exported to tiff with dtype numpy.int64. Will export as numpy.int32 instead\n",
      "  warnings.warn(\n"
     ]
    },
    {
     "name": "stdout",
     "output_type": "stream",
     "text": [
      "\r",
      "32/63 calculations [50.79%] with 1 thread(s)\t\r"
     ]
    },
    {
     "name": "stderr",
     "output_type": "stream",
     "text": [
      "C:\\Users\\skryp\\miniconda3\\envs\\eolearn_water\\lib\\site-packages\\eolearn\\io\\raster_io.py:263: EORuntimeWarning: Data from feature (<FeatureType.MASK: 'mask'>, 'model_output') cannot be exported to tiff with dtype numpy.int64. Will export as numpy.int32 instead\n",
      "  warnings.warn(\n"
     ]
    },
    {
     "name": "stdout",
     "output_type": "stream",
     "text": [
      "\r",
      "33/63 calculations [52.38%] with 1 thread(s)\t\r"
     ]
    },
    {
     "name": "stderr",
     "output_type": "stream",
     "text": [
      "C:\\Users\\skryp\\miniconda3\\envs\\eolearn_water\\lib\\site-packages\\eolearn\\io\\raster_io.py:263: EORuntimeWarning: Data from feature (<FeatureType.MASK: 'mask'>, 'model_output') cannot be exported to tiff with dtype numpy.int64. Will export as numpy.int32 instead\n",
      "  warnings.warn(\n"
     ]
    },
    {
     "name": "stdout",
     "output_type": "stream",
     "text": [
      "\r",
      "34/63 calculations [53.97%] with 1 thread(s)\t\r"
     ]
    },
    {
     "name": "stderr",
     "output_type": "stream",
     "text": [
      "C:\\Users\\skryp\\miniconda3\\envs\\eolearn_water\\lib\\site-packages\\eolearn\\io\\raster_io.py:263: EORuntimeWarning: Data from feature (<FeatureType.MASK: 'mask'>, 'model_output') cannot be exported to tiff with dtype numpy.int64. Will export as numpy.int32 instead\n",
      "  warnings.warn(\n"
     ]
    },
    {
     "name": "stdout",
     "output_type": "stream",
     "text": [
      "\r",
      "35/63 calculations [55.56%] with 1 thread(s)\t\r"
     ]
    },
    {
     "name": "stderr",
     "output_type": "stream",
     "text": [
      "C:\\Users\\skryp\\miniconda3\\envs\\eolearn_water\\lib\\site-packages\\eolearn\\io\\raster_io.py:263: EORuntimeWarning: Data from feature (<FeatureType.MASK: 'mask'>, 'model_output') cannot be exported to tiff with dtype numpy.int64. Will export as numpy.int32 instead\n",
      "  warnings.warn(\n"
     ]
    },
    {
     "name": "stdout",
     "output_type": "stream",
     "text": [
      "\r",
      "36/63 calculations [57.14%] with 1 thread(s)\t\r"
     ]
    },
    {
     "name": "stderr",
     "output_type": "stream",
     "text": [
      "C:\\Users\\skryp\\miniconda3\\envs\\eolearn_water\\lib\\site-packages\\eolearn\\io\\raster_io.py:263: EORuntimeWarning: Data from feature (<FeatureType.MASK: 'mask'>, 'model_output') cannot be exported to tiff with dtype numpy.int64. Will export as numpy.int32 instead\n",
      "  warnings.warn(\n",
      "C:\\Users\\skryp\\miniconda3\\envs\\eolearn_water\\lib\\site-packages\\eolearn\\io\\raster_io.py:263: EORuntimeWarning: Data from feature (<FeatureType.MASK: 'mask'>, 'model_output') cannot be exported to tiff with dtype numpy.int64. Will export as numpy.int32 instead\n",
      "  warnings.warn(\n"
     ]
    },
    {
     "name": "stdout",
     "output_type": "stream",
     "text": [
      "38/63 calculations [60.32%] with 1 thread(s)\t\r"
     ]
    },
    {
     "name": "stderr",
     "output_type": "stream",
     "text": [
      "C:\\Users\\skryp\\miniconda3\\envs\\eolearn_water\\lib\\site-packages\\eolearn\\io\\raster_io.py:263: EORuntimeWarning: Data from feature (<FeatureType.MASK: 'mask'>, 'model_output') cannot be exported to tiff with dtype numpy.int64. Will export as numpy.int32 instead\n",
      "  warnings.warn(\n"
     ]
    },
    {
     "name": "stdout",
     "output_type": "stream",
     "text": [
      "\r",
      "39/63 calculations [61.90%] with 1 thread(s)\t\r"
     ]
    },
    {
     "name": "stderr",
     "output_type": "stream",
     "text": [
      "C:\\Users\\skryp\\miniconda3\\envs\\eolearn_water\\lib\\site-packages\\eolearn\\io\\raster_io.py:263: EORuntimeWarning: Data from feature (<FeatureType.MASK: 'mask'>, 'model_output') cannot be exported to tiff with dtype numpy.int64. Will export as numpy.int32 instead\n",
      "  warnings.warn(\n"
     ]
    },
    {
     "name": "stdout",
     "output_type": "stream",
     "text": [
      "\r",
      "40/63 calculations [63.49%] with 1 thread(s)\t\r"
     ]
    },
    {
     "name": "stderr",
     "output_type": "stream",
     "text": [
      "C:\\Users\\skryp\\miniconda3\\envs\\eolearn_water\\lib\\site-packages\\eolearn\\io\\raster_io.py:263: EORuntimeWarning: Data from feature (<FeatureType.MASK: 'mask'>, 'model_output') cannot be exported to tiff with dtype numpy.int64. Will export as numpy.int32 instead\n",
      "  warnings.warn(\n"
     ]
    },
    {
     "name": "stdout",
     "output_type": "stream",
     "text": [
      "\r",
      "41/63 calculations [65.08%] with 1 thread(s)\t\r"
     ]
    },
    {
     "name": "stderr",
     "output_type": "stream",
     "text": [
      "C:\\Users\\skryp\\miniconda3\\envs\\eolearn_water\\lib\\site-packages\\eolearn\\io\\raster_io.py:263: EORuntimeWarning: Data from feature (<FeatureType.MASK: 'mask'>, 'model_output') cannot be exported to tiff with dtype numpy.int64. Will export as numpy.int32 instead\n",
      "  warnings.warn(\n"
     ]
    },
    {
     "name": "stdout",
     "output_type": "stream",
     "text": [
      "\r",
      "42/63 calculations [66.67%] with 1 thread(s)\t\r"
     ]
    },
    {
     "name": "stderr",
     "output_type": "stream",
     "text": [
      "C:\\Users\\skryp\\miniconda3\\envs\\eolearn_water\\lib\\site-packages\\eolearn\\io\\raster_io.py:263: EORuntimeWarning: Data from feature (<FeatureType.MASK: 'mask'>, 'model_output') cannot be exported to tiff with dtype numpy.int64. Will export as numpy.int32 instead\n",
      "  warnings.warn(\n"
     ]
    },
    {
     "name": "stdout",
     "output_type": "stream",
     "text": [
      "\r",
      "43/63 calculations [68.25%] with 1 thread(s)\t\r"
     ]
    },
    {
     "name": "stderr",
     "output_type": "stream",
     "text": [
      "C:\\Users\\skryp\\miniconda3\\envs\\eolearn_water\\lib\\site-packages\\eolearn\\io\\raster_io.py:263: EORuntimeWarning: Data from feature (<FeatureType.MASK: 'mask'>, 'model_output') cannot be exported to tiff with dtype numpy.int64. Will export as numpy.int32 instead\n",
      "  warnings.warn(\n"
     ]
    },
    {
     "name": "stdout",
     "output_type": "stream",
     "text": [
      "\r",
      "44/63 calculations [69.84%] with 1 thread(s)\t\r"
     ]
    },
    {
     "name": "stderr",
     "output_type": "stream",
     "text": [
      "C:\\Users\\skryp\\miniconda3\\envs\\eolearn_water\\lib\\site-packages\\eolearn\\io\\raster_io.py:263: EORuntimeWarning: Data from feature (<FeatureType.MASK: 'mask'>, 'model_output') cannot be exported to tiff with dtype numpy.int64. Will export as numpy.int32 instead\n",
      "  warnings.warn(\n"
     ]
    },
    {
     "name": "stdout",
     "output_type": "stream",
     "text": [
      "\r",
      "45/63 calculations [71.43%] with 1 thread(s)\t\r"
     ]
    },
    {
     "name": "stderr",
     "output_type": "stream",
     "text": [
      "C:\\Users\\skryp\\miniconda3\\envs\\eolearn_water\\lib\\site-packages\\eolearn\\io\\raster_io.py:263: EORuntimeWarning: Data from feature (<FeatureType.MASK: 'mask'>, 'model_output') cannot be exported to tiff with dtype numpy.int64. Will export as numpy.int32 instead\n",
      "  warnings.warn(\n"
     ]
    },
    {
     "name": "stdout",
     "output_type": "stream",
     "text": [
      "\r",
      "46/63 calculations [73.02%] with 1 thread(s)\t\r"
     ]
    },
    {
     "name": "stderr",
     "output_type": "stream",
     "text": [
      "C:\\Users\\skryp\\miniconda3\\envs\\eolearn_water\\lib\\site-packages\\eolearn\\io\\raster_io.py:263: EORuntimeWarning: Data from feature (<FeatureType.MASK: 'mask'>, 'model_output') cannot be exported to tiff with dtype numpy.int64. Will export as numpy.int32 instead\n",
      "  warnings.warn(\n"
     ]
    },
    {
     "name": "stdout",
     "output_type": "stream",
     "text": [
      "\r",
      "47/63 calculations [74.60%] with 1 thread(s)\t\r"
     ]
    },
    {
     "name": "stderr",
     "output_type": "stream",
     "text": [
      "C:\\Users\\skryp\\miniconda3\\envs\\eolearn_water\\lib\\site-packages\\eolearn\\io\\raster_io.py:263: EORuntimeWarning: Data from feature (<FeatureType.MASK: 'mask'>, 'model_output') cannot be exported to tiff with dtype numpy.int64. Will export as numpy.int32 instead\n",
      "  warnings.warn(\n"
     ]
    },
    {
     "name": "stdout",
     "output_type": "stream",
     "text": [
      "\r",
      "48/63 calculations [76.19%] with 1 thread(s)\t\r"
     ]
    },
    {
     "name": "stderr",
     "output_type": "stream",
     "text": [
      "C:\\Users\\skryp\\miniconda3\\envs\\eolearn_water\\lib\\site-packages\\eolearn\\io\\raster_io.py:263: EORuntimeWarning: Data from feature (<FeatureType.MASK: 'mask'>, 'model_output') cannot be exported to tiff with dtype numpy.int64. Will export as numpy.int32 instead\n",
      "  warnings.warn(\n"
     ]
    },
    {
     "name": "stdout",
     "output_type": "stream",
     "text": [
      "\r",
      "49/63 calculations [77.78%] with 1 thread(s)\t\r"
     ]
    },
    {
     "name": "stderr",
     "output_type": "stream",
     "text": [
      "C:\\Users\\skryp\\miniconda3\\envs\\eolearn_water\\lib\\site-packages\\eolearn\\io\\raster_io.py:263: EORuntimeWarning: Data from feature (<FeatureType.MASK: 'mask'>, 'model_output') cannot be exported to tiff with dtype numpy.int64. Will export as numpy.int32 instead\n",
      "  warnings.warn(\n"
     ]
    },
    {
     "name": "stdout",
     "output_type": "stream",
     "text": [
      "\r",
      "50/63 calculations [79.37%] with 1 thread(s)\t\r"
     ]
    },
    {
     "name": "stderr",
     "output_type": "stream",
     "text": [
      "C:\\Users\\skryp\\miniconda3\\envs\\eolearn_water\\lib\\site-packages\\eolearn\\io\\raster_io.py:263: EORuntimeWarning: Data from feature (<FeatureType.MASK: 'mask'>, 'model_output') cannot be exported to tiff with dtype numpy.int64. Will export as numpy.int32 instead\n",
      "  warnings.warn(\n"
     ]
    },
    {
     "name": "stdout",
     "output_type": "stream",
     "text": [
      "\r",
      "51/63 calculations [80.95%] with 1 thread(s)\t\r"
     ]
    },
    {
     "name": "stderr",
     "output_type": "stream",
     "text": [
      "C:\\Users\\skryp\\miniconda3\\envs\\eolearn_water\\lib\\site-packages\\eolearn\\io\\raster_io.py:263: EORuntimeWarning: Data from feature (<FeatureType.MASK: 'mask'>, 'model_output') cannot be exported to tiff with dtype numpy.int64. Will export as numpy.int32 instead\n",
      "  warnings.warn(\n"
     ]
    },
    {
     "name": "stdout",
     "output_type": "stream",
     "text": [
      "\r",
      "52/63 calculations [82.54%] with 1 thread(s)\t\r"
     ]
    },
    {
     "name": "stderr",
     "output_type": "stream",
     "text": [
      "C:\\Users\\skryp\\miniconda3\\envs\\eolearn_water\\lib\\site-packages\\eolearn\\io\\raster_io.py:263: EORuntimeWarning: Data from feature (<FeatureType.MASK: 'mask'>, 'model_output') cannot be exported to tiff with dtype numpy.int64. Will export as numpy.int32 instead\n",
      "  warnings.warn(\n"
     ]
    },
    {
     "name": "stdout",
     "output_type": "stream",
     "text": [
      "\r",
      "53/63 calculations [84.13%] with 1 thread(s)\t\r"
     ]
    },
    {
     "name": "stderr",
     "output_type": "stream",
     "text": [
      "C:\\Users\\skryp\\miniconda3\\envs\\eolearn_water\\lib\\site-packages\\eolearn\\io\\raster_io.py:263: EORuntimeWarning: Data from feature (<FeatureType.MASK: 'mask'>, 'model_output') cannot be exported to tiff with dtype numpy.int64. Will export as numpy.int32 instead\n",
      "  warnings.warn(\n"
     ]
    },
    {
     "name": "stdout",
     "output_type": "stream",
     "text": [
      "\r",
      "54/63 calculations [85.71%] with 1 thread(s)\t\r"
     ]
    },
    {
     "name": "stderr",
     "output_type": "stream",
     "text": [
      "C:\\Users\\skryp\\miniconda3\\envs\\eolearn_water\\lib\\site-packages\\eolearn\\io\\raster_io.py:263: EORuntimeWarning: Data from feature (<FeatureType.MASK: 'mask'>, 'model_output') cannot be exported to tiff with dtype numpy.int64. Will export as numpy.int32 instead\n",
      "  warnings.warn(\n"
     ]
    },
    {
     "name": "stdout",
     "output_type": "stream",
     "text": [
      "\r",
      "55/63 calculations [87.30%] with 1 thread(s)\t\r"
     ]
    },
    {
     "name": "stderr",
     "output_type": "stream",
     "text": [
      "C:\\Users\\skryp\\miniconda3\\envs\\eolearn_water\\lib\\site-packages\\eolearn\\io\\raster_io.py:263: EORuntimeWarning: Data from feature (<FeatureType.MASK: 'mask'>, 'model_output') cannot be exported to tiff with dtype numpy.int64. Will export as numpy.int32 instead\n",
      "  warnings.warn(\n"
     ]
    },
    {
     "name": "stdout",
     "output_type": "stream",
     "text": [
      "\r",
      "56/63 calculations [88.89%] with 1 thread(s)\t\r"
     ]
    },
    {
     "name": "stderr",
     "output_type": "stream",
     "text": [
      "C:\\Users\\skryp\\miniconda3\\envs\\eolearn_water\\lib\\site-packages\\eolearn\\io\\raster_io.py:263: EORuntimeWarning: Data from feature (<FeatureType.MASK: 'mask'>, 'model_output') cannot be exported to tiff with dtype numpy.int64. Will export as numpy.int32 instead\n",
      "  warnings.warn(\n",
      "C:\\Users\\skryp\\miniconda3\\envs\\eolearn_water\\lib\\site-packages\\eolearn\\io\\raster_io.py:263: EORuntimeWarning: Data from feature (<FeatureType.MASK: 'mask'>, 'model_output') cannot be exported to tiff with dtype numpy.int64. Will export as numpy.int32 instead\n",
      "  warnings.warn(\n"
     ]
    },
    {
     "name": "stdout",
     "output_type": "stream",
     "text": [
      "58/63 calculations [92.06%] with 1 thread(s)\t\r"
     ]
    },
    {
     "name": "stderr",
     "output_type": "stream",
     "text": [
      "C:\\Users\\skryp\\miniconda3\\envs\\eolearn_water\\lib\\site-packages\\eolearn\\io\\raster_io.py:263: EORuntimeWarning: Data from feature (<FeatureType.MASK: 'mask'>, 'model_output') cannot be exported to tiff with dtype numpy.int64. Will export as numpy.int32 instead\n",
      "  warnings.warn(\n"
     ]
    },
    {
     "name": "stdout",
     "output_type": "stream",
     "text": [
      "\r",
      "59/63 calculations [93.65%] with 1 thread(s)\t\r"
     ]
    },
    {
     "name": "stderr",
     "output_type": "stream",
     "text": [
      "C:\\Users\\skryp\\miniconda3\\envs\\eolearn_water\\lib\\site-packages\\eolearn\\io\\raster_io.py:263: EORuntimeWarning: Data from feature (<FeatureType.MASK: 'mask'>, 'model_output') cannot be exported to tiff with dtype numpy.int64. Will export as numpy.int32 instead\n",
      "  warnings.warn(\n",
      "C:\\Users\\skryp\\miniconda3\\envs\\eolearn_water\\lib\\site-packages\\eolearn\\io\\raster_io.py:263: EORuntimeWarning: Data from feature (<FeatureType.MASK: 'mask'>, 'model_output') cannot be exported to tiff with dtype numpy.int64. Will export as numpy.int32 instead\n",
      "  warnings.warn(\n"
     ]
    },
    {
     "name": "stdout",
     "output_type": "stream",
     "text": [
      "61/63 calculations [96.83%] with 1 thread(s)\t\r"
     ]
    },
    {
     "name": "stderr",
     "output_type": "stream",
     "text": [
      "C:\\Users\\skryp\\miniconda3\\envs\\eolearn_water\\lib\\site-packages\\eolearn\\io\\raster_io.py:263: EORuntimeWarning: Data from feature (<FeatureType.MASK: 'mask'>, 'model_output') cannot be exported to tiff with dtype numpy.int64. Will export as numpy.int32 instead\n",
      "  warnings.warn(\n"
     ]
    },
    {
     "name": "stdout",
     "output_type": "stream",
     "text": [
      "\r",
      "62/63 calculations [98.41%] with 1 thread(s)\t\r"
     ]
    },
    {
     "name": "stderr",
     "output_type": "stream",
     "text": [
      "C:\\Users\\skryp\\miniconda3\\envs\\eolearn_water\\lib\\site-packages\\eolearn\\io\\raster_io.py:263: EORuntimeWarning: Data from feature (<FeatureType.MASK: 'mask'>, 'model_output') cannot be exported to tiff with dtype numpy.int64. Will export as numpy.int32 instead\n",
      "  warnings.warn(\n"
     ]
    },
    {
     "name": "stdout",
     "output_type": "stream",
     "text": [
      "63/63 calculations [100.00%] with 1 thread(s)\t\n",
      "\n",
      "Time Multi:\t\t295.72664737701416s\n"
     ]
    },
    {
     "name": "stderr",
     "output_type": "stream",
     "text": [
      "C:\\Users\\skryp\\miniconda3\\envs\\eolearn_water\\lib\\site-packages\\eolearn\\io\\raster_io.py:263: EORuntimeWarning: Data from feature (<FeatureType.MASK: 'mask'>, 'model_output') cannot be exported to tiff with dtype numpy.int64. Will export as numpy.int32 instead\n",
      "  warnings.warn(\n"
     ]
    }
   ],
   "source": [
    "if __name__=='__main__':  \n",
    "    start_multi = time.time()\n",
    "    results_multi = ExecuteME.execute(\n",
    "        fun = workflow.execute,\n",
    "        kwargslist = workflow_args,\n",
    "        mpkwargs = mpkwargs,\n",
    "        kwargsmode = None,\n",
    "        resultsqueue = None,\n",
    "        NoReturn = True,\n",
    "        timeout = 1,\n",
    "        threads = 0,#config[\"threads\"],\n",
    "        checkthreads = True,\n",
    "        multiprocessing_context = \"spawn\",\n",
    "        multiprocessing_mode = \"std\",\n",
    "        bequiet = False\n",
    "    )\n",
    "    time_multi = time.time()-start_multi\n",
    "\n",
    "    #%%% results\n",
    "    print(f\"Time Multi:\\t\\t{time_multi}s\")"
   ]
  },
  {
   "cell_type": "markdown",
   "id": "af3a05e9",
   "metadata": {},
   "source": [
    "## Downloaded Data\n",
    "Let's have a look how many `EOPatches` got stored to disk."
   ]
  },
  {
   "cell_type": "code",
   "execution_count": 27,
   "id": "d7ffd9e4",
   "metadata": {},
   "outputs": [
    {
     "name": "stdout",
     "output_type": "stream",
     "text": [
      "Number of showcasedownloads: 63\n",
      "Number of stored showcase EOPatches: 63\n"
     ]
    }
   ],
   "source": [
    "print(f\"Number of showcasedownloads: {len(workflow_args)}\")\n",
    "print(f\"Number of stored showcase EOPatches: {len(os.listdir(config['dir_showcase']))}\")"
   ]
  },
  {
   "cell_type": "markdown",
   "id": "f1b65752",
   "metadata": {},
   "source": [
    "We finally made it!\n",
    "Everything is ready for being analysed!"
   ]
  },
  {
   "cell_type": "markdown",
   "id": "7c511794",
   "metadata": {},
   "source": [
    "# Analysis\n",
    "As a first analysis step, we want to merge all of our computed GeoTiffs."
   ]
  },
  {
   "cell_type": "code",
   "execution_count": 28,
   "id": "e3364cc4",
   "metadata": {},
   "outputs": [
    {
     "data": {
      "text/plain": [
       "0"
      ]
     },
     "execution_count": 28,
     "metadata": {},
     "output_type": "execute_result"
    }
   ],
   "source": [
    "config.importME(\"../utils/RasterME_merge.raster_merge\")(\n",
    "    inputfiles = [os.path.join(config[\"dir_tiffs_showcase\"],dir_) for dir_ in os.listdir(config[\"dir_tiffs_showcase\"]) if \"water\" in dir_.split(\"_\")],\n",
    "    outputfile = os.path.join(config[\"dir_results\"],config[\"savename_showcase_tiff\"]),\n",
    "    format_option = 'COMPRESS=Deflate',\n",
    "    sparse = True,\n",
    "    #nmax_files = 10\n",
    ")"
   ]
  },
  {
   "cell_type": "markdown",
   "id": "da4c35fd",
   "metadata": {},
   "source": [
    "For the purpose of visualization, rather often, we need our results in EPSG:4326.\n",
    "Accordingly, we reproject it."
   ]
  },
  {
   "cell_type": "code",
   "execution_count": 29,
   "id": "9fd93d6a",
   "metadata": {},
   "outputs": [
    {
     "data": {
      "text/plain": [
       "True"
      ]
     },
     "execution_count": 29,
     "metadata": {},
     "output_type": "execute_result"
    }
   ],
   "source": [
    "rasterio_reproject(\n",
    "    inputfile = os.path.join(config[\"dir_results\"],config[\"savename_showcase_tiff\"]),\n",
    "    outputfile = os.path.join(config[\"dir_results\"],config[\"savename_showcase_tiff_reproject\"]),\n",
    "    crs_target = 'EPSG:4326',\n",
    "    compression = \"deflate\"\n",
    ")"
   ]
  },
  {
   "cell_type": "markdown",
   "id": "112b249e",
   "metadata": {},
   "source": [
    "Let's have a look at the water mask on our map!\n",
    "As additional layers, we use some WMTS-layers we [defined in our Sentinel-Hub configuration](TODO)."
   ]
  },
  {
   "cell_type": "code",
   "execution_count": 30,
   "id": "45578099",
   "metadata": {},
   "outputs": [
    {
     "name": "stderr",
     "output_type": "stream",
     "text": [
      "C:\\Users\\skryp\\AppData\\Local\\Temp\\ipykernel_13916\\3433309796.py:4: UserWarning: Geometry is in a geographic CRS. Results from 'centroid' are likely incorrect. Use 'GeoSeries.to_crs()' to re-project geometries to a projected CRS before this operation.\n",
      "\n",
      "  location = [aoi_folium.centroid.y,aoi_folium.centroid.x]\n",
      "C:\\Users\\skryp\\AppData\\Local\\Temp\\ipykernel_13916\\3433309796.py:4: UserWarning: Geometry is in a geographic CRS. Results from 'centroid' are likely incorrect. Use 'GeoSeries.to_crs()' to re-project geometries to a projected CRS before this operation.\n",
      "\n",
      "  location = [aoi_folium.centroid.y,aoi_folium.centroid.x]\n"
     ]
    },
    {
     "data": {
      "text/html": [
       "<div style=\"width:100%;\"><div style=\"position:relative;width:100%;height:0;padding-bottom:60%;\"><span style=\"color:#565656\">Make this Notebook Trusted to load map: File -> Trust Notebook</span><iframe srcdoc=\"&lt;!DOCTYPE html&gt;\n",
       "&lt;head&gt;    \n",
       "    &lt;meta http-equiv=&quot;content-type&quot; content=&quot;text/html; charset=UTF-8&quot; /&gt;\n",
       "    \n",
       "        &lt;script&gt;\n",
       "            L_NO_TOUCH = false;\n",
       "            L_DISABLE_3D = false;\n",
       "        &lt;/script&gt;\n",
       "    \n",
       "    &lt;style&gt;html, body {width: 100%;height: 100%;margin: 0;padding: 0;}&lt;/style&gt;\n",
       "    &lt;style&gt;#map {position:absolute;top:0;bottom:0;right:0;left:0;}&lt;/style&gt;\n",
       "    &lt;script src=&quot;https://cdn.jsdelivr.net/npm/leaflet@1.6.0/dist/leaflet.js&quot;&gt;&lt;/script&gt;\n",
       "    &lt;script src=&quot;https://code.jquery.com/jquery-1.12.4.min.js&quot;&gt;&lt;/script&gt;\n",
       "    &lt;script src=&quot;https://maxcdn.bootstrapcdn.com/bootstrap/3.2.0/js/bootstrap.min.js&quot;&gt;&lt;/script&gt;\n",
       "    &lt;script src=&quot;https://cdnjs.cloudflare.com/ajax/libs/Leaflet.awesome-markers/2.0.2/leaflet.awesome-markers.js&quot;&gt;&lt;/script&gt;\n",
       "    &lt;link rel=&quot;stylesheet&quot; href=&quot;https://cdn.jsdelivr.net/npm/leaflet@1.6.0/dist/leaflet.css&quot;/&gt;\n",
       "    &lt;link rel=&quot;stylesheet&quot; href=&quot;https://maxcdn.bootstrapcdn.com/bootstrap/3.2.0/css/bootstrap.min.css&quot;/&gt;\n",
       "    &lt;link rel=&quot;stylesheet&quot; href=&quot;https://maxcdn.bootstrapcdn.com/bootstrap/3.2.0/css/bootstrap-theme.min.css&quot;/&gt;\n",
       "    &lt;link rel=&quot;stylesheet&quot; href=&quot;https://maxcdn.bootstrapcdn.com/font-awesome/4.6.3/css/font-awesome.min.css&quot;/&gt;\n",
       "    &lt;link rel=&quot;stylesheet&quot; href=&quot;https://cdnjs.cloudflare.com/ajax/libs/Leaflet.awesome-markers/2.0.2/leaflet.awesome-markers.css&quot;/&gt;\n",
       "    &lt;link rel=&quot;stylesheet&quot; href=&quot;https://cdn.jsdelivr.net/gh/python-visualization/folium/folium/templates/leaflet.awesome.rotate.min.css&quot;/&gt;\n",
       "    \n",
       "            &lt;meta name=&quot;viewport&quot; content=&quot;width=device-width,\n",
       "                initial-scale=1.0, maximum-scale=1.0, user-scalable=no&quot; /&gt;\n",
       "            &lt;style&gt;\n",
       "                #map_62c6e633281b543ccd48286748550c4d {\n",
       "                    position: relative;\n",
       "                    width: 100.0%;\n",
       "                    height: 100.0%;\n",
       "                    left: 0.0%;\n",
       "                    top: 0.0%;\n",
       "                }\n",
       "            &lt;/style&gt;\n",
       "        \n",
       "    &lt;script src=&quot;https://cdnjs.cloudflare.com/ajax/libs/jquery/2.0.0/jquery.min.js&quot;&gt;&lt;/script&gt;\n",
       "    &lt;script src=&quot;https://cdnjs.cloudflare.com/ajax/libs/jqueryui/1.10.2/jquery-ui.min.js&quot;&gt;&lt;/script&gt;\n",
       "    &lt;script src=&quot;https://cdn.jsdelivr.net/npm/iso8601-js-period@0.2.1/iso8601.min.js&quot;&gt;&lt;/script&gt;\n",
       "    &lt;script src=&quot;https://cdn.jsdelivr.net/npm/leaflet-timedimension@1.1.1/dist/leaflet.timedimension.min.js&quot;&gt;&lt;/script&gt;\n",
       "    &lt;link rel=&quot;stylesheet&quot; href=&quot;https://cdnjs.cloudflare.com/ajax/libs/highlight.js/8.4/styles/default.min.css&quot;/&gt;\n",
       "    &lt;link rel=&quot;stylesheet&quot; href=&quot;https://cdn.jsdelivr.net/npm/leaflet-timedimension@1.1.1/dist/leaflet.timedimension.control.css&quot;/&gt;\n",
       "    \n",
       "                &lt;style&gt;\n",
       "                    .leaflet-image-layer {\n",
       "                        /* old android/safari*/\n",
       "                        image-rendering: -webkit-optimize-contrast;\n",
       "                        image-rendering: crisp-edges; /* safari */\n",
       "                        image-rendering: pixelated; /* chrome */\n",
       "                        image-rendering: -moz-crisp-edges; /* firefox */\n",
       "                        image-rendering: -o-crisp-edges; /* opera */\n",
       "                        -ms-interpolation-mode: nearest-neighbor; /* ie */\n",
       "                    }\n",
       "                &lt;/style&gt;\n",
       "            \n",
       "    &lt;script src=&quot;https://cdnjs.cloudflare.com/ajax/libs/leaflet.fullscreen/1.4.2/Control.FullScreen.min.js&quot;&gt;&lt;/script&gt;\n",
       "    &lt;link rel=&quot;stylesheet&quot; href=&quot;https://cdnjs.cloudflare.com/ajax/libs/leaflet.fullscreen/1.4.2/Control.FullScreen.min.css&quot;/&gt;\n",
       "&lt;/head&gt;\n",
       "&lt;body&gt;    \n",
       "    \n",
       "            &lt;div class=&quot;folium-map&quot; id=&quot;map_62c6e633281b543ccd48286748550c4d&quot; &gt;&lt;/div&gt;\n",
       "        \n",
       "&lt;/body&gt;\n",
       "&lt;script&gt;    \n",
       "    \n",
       "            var map_62c6e633281b543ccd48286748550c4d = L.map(\n",
       "                &quot;map_62c6e633281b543ccd48286748550c4d&quot;,\n",
       "                {\n",
       "                    center: [7.901396, 6.8413055],\n",
       "                    crs: L.CRS.EPSG3857,\n",
       "                    zoom: 10,\n",
       "                    zoomControl: true,\n",
       "                    preferCanvas: false,\n",
       "                }\n",
       "            );\n",
       "\n",
       "            \n",
       "\n",
       "        \n",
       "    \n",
       "            var tile_layer_cddff500ac7686bdfdbe19243a85fd07 = L.tileLayer(\n",
       "                &quot;https://{s}.tile.openstreetmap.org/{z}/{x}/{y}.png&quot;,\n",
       "                {&quot;attribution&quot;: &quot;Data by \\u0026copy; \\u003ca href=\\&quot;http://openstreetmap.org\\&quot;\\u003eOpenStreetMap\\u003c/a\\u003e, under \\u003ca href=\\&quot;http://www.openstreetmap.org/copyright\\&quot;\\u003eODbL\\u003c/a\\u003e.&quot;, &quot;detectRetina&quot;: false, &quot;maxNativeZoom&quot;: 18, &quot;maxZoom&quot;: 18, &quot;minZoom&quot;: 0, &quot;noWrap&quot;: false, &quot;opacity&quot;: 1, &quot;subdomains&quot;: &quot;abc&quot;, &quot;tms&quot;: false}\n",
       "            ).addTo(map_62c6e633281b543ccd48286748550c4d);\n",
       "        \n",
       "    \n",
       "            var macro_element_04fe5ebb7a36988ccf851d8056812c04 = L.tileLayer.wms(\n",
       "                &quot;https://services.sentinel-hub.com/ogc/wms/cea3abac-212c-45de-a69a-c6d613fb372e?Time=2020-09-07&quot;,\n",
       "                {&quot;attribution&quot;: &quot;&quot;, &quot;format&quot;: &quot;image/jpg&quot;, &quot;layers&quot;: &quot;TRUE_COLOR_VISUALIZATION,DATE&quot;, &quot;styles&quot;: &quot;&quot;, &quot;transparent&quot;: true, &quot;version&quot;: &quot;1.1.1&quot;}\n",
       "            ).addTo(map_62c6e633281b543ccd48286748550c4d);\n",
       "        \n",
       "    \n",
       "            var macro_element_f6768607aa835e8284be64d5c04e04ef = L.tileLayer.wms(\n",
       "                &quot;https://services.sentinel-hub.com/ogc/wms/cea3abac-212c-45de-a69a-c6d613fb372e?Time=2020-09-07&quot;,\n",
       "                {&quot;attribution&quot;: &quot;&quot;, &quot;format&quot;: &quot;image/jpg&quot;, &quot;layers&quot;: &quot;SWIR_VISUALIZATION,DATE&quot;, &quot;styles&quot;: &quot;&quot;, &quot;transparent&quot;: true, &quot;version&quot;: &quot;1.1.1&quot;}\n",
       "            ).addTo(map_62c6e633281b543ccd48286748550c4d);\n",
       "        \n",
       "    \n",
       "            var macro_element_3949216ae63392eb5d14f717c64f368a = L.tileLayer.wms(\n",
       "                &quot;https://services.sentinel-hub.com/ogc/wms/cea3abac-212c-45de-a69a-c6d613fb372e?Time=2020-09-07&quot;,\n",
       "                {&quot;attribution&quot;: &quot;&quot;, &quot;format&quot;: &quot;image/jpg&quot;, &quot;layers&quot;: &quot;SENTINEL-1_IW_VIS2,DATE&quot;, &quot;styles&quot;: &quot;&quot;, &quot;transparent&quot;: true, &quot;version&quot;: &quot;1.1.1&quot;}\n",
       "            ).addTo(map_62c6e633281b543ccd48286748550c4d);\n",
       "        \n",
       "    \n",
       "            map_62c6e633281b543ccd48286748550c4d.timeDimension = L.timeDimension(\n",
       "                {&quot;period&quot;: &quot;P1D&quot;, &quot;timeInterval&quot;: false}\n",
       "            );\n",
       "            map_62c6e633281b543ccd48286748550c4d.timeDimensionControl =\n",
       "                L.control.timeDimension(\n",
       "                    {&quot;autoPlay&quot;: false, &quot;playerOptions&quot;: {&quot;loop&quot;: false, &quot;transitionTime&quot;: 86400000}, &quot;position&quot;: &quot;bottomleft&quot;}\n",
       "                );\n",
       "            map_62c6e633281b543ccd48286748550c4d.addControl(\n",
       "                map_62c6e633281b543ccd48286748550c4d.timeDimensionControl\n",
       "            );\n",
       "\n",
       "            \n",
       "            var macro_element_04fe5ebb7a36988ccf851d8056812c04 = L.timeDimension.layer.wms(\n",
       "                macro_element_04fe5ebb7a36988ccf851d8056812c04,\n",
       "                {\n",
       "                    updateTimeDimension: false,\n",
       "                    wmsVersion: &quot;1.1.1&quot;,\n",
       "                }\n",
       "            ).addTo(map_62c6e633281b543ccd48286748550c4d);\n",
       "            \n",
       "            var macro_element_f6768607aa835e8284be64d5c04e04ef = L.timeDimension.layer.wms(\n",
       "                macro_element_f6768607aa835e8284be64d5c04e04ef,\n",
       "                {\n",
       "                    updateTimeDimension: false,\n",
       "                    wmsVersion: &quot;1.1.1&quot;,\n",
       "                }\n",
       "            ).addTo(map_62c6e633281b543ccd48286748550c4d);\n",
       "            \n",
       "            var macro_element_3949216ae63392eb5d14f717c64f368a = L.timeDimension.layer.wms(\n",
       "                macro_element_3949216ae63392eb5d14f717c64f368a,\n",
       "                {\n",
       "                    updateTimeDimension: false,\n",
       "                    wmsVersion: &quot;1.1.1&quot;,\n",
       "                }\n",
       "            ).addTo(map_62c6e633281b543ccd48286748550c4d);\n",
       "            \n",
       "        \n",
       "    \n",
       "            var image_overlay_9378d2d0c075a4a0d25bc295d5feb493 = L.imageOverlay(\n",
       "                &quot;data:image/png;base64,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&quot;,\n",
       "                [[7.728956951723112, 6.646780017549884], [8.054972257654574, 7.066253044515031]],\n",
       "                {&quot;opacity&quot;: 0.3}\n",
       "            ).addTo(map_62c6e633281b543ccd48286748550c4d);\n",
       "        \n",
       "    \n",
       "            var layer_control_1f3f55ab2a88b34e0561fb1b2734299a = {\n",
       "                base_layers : {\n",
       "                    &quot;openstreetmap&quot; : tile_layer_cddff500ac7686bdfdbe19243a85fd07,\n",
       "                },\n",
       "                overlays :  {\n",
       "                    &quot;Sentinel-2 True Color&quot; : macro_element_04fe5ebb7a36988ccf851d8056812c04,\n",
       "                    &quot;Sentinel-2 SWIR&quot; : macro_element_f6768607aa835e8284be64d5c04e04ef,\n",
       "                    &quot;Sentinel-1&quot; : macro_element_3949216ae63392eb5d14f717c64f368a,\n",
       "                    &quot;WaterMask&quot; : image_overlay_9378d2d0c075a4a0d25bc295d5feb493,\n",
       "                },\n",
       "            };\n",
       "            L.control.layers(\n",
       "                layer_control_1f3f55ab2a88b34e0561fb1b2734299a.base_layers,\n",
       "                layer_control_1f3f55ab2a88b34e0561fb1b2734299a.overlays,\n",
       "                {&quot;autoZIndex&quot;: true, &quot;collapsed&quot;: true, &quot;position&quot;: &quot;topright&quot;}\n",
       "            ).addTo(map_62c6e633281b543ccd48286748550c4d);\n",
       "            macro_element_04fe5ebb7a36988ccf851d8056812c04.remove();\n",
       "            macro_element_f6768607aa835e8284be64d5c04e04ef.remove();\n",
       "            macro_element_3949216ae63392eb5d14f717c64f368a.remove();\n",
       "        \n",
       "    \n",
       "            L.control.fullscreen(\n",
       "                {&quot;forceSeparateButton&quot;: true, &quot;position&quot;: &quot;topleft&quot;, &quot;title&quot;: &quot;Full Screen&quot;, &quot;titleCancel&quot;: &quot;Exit Full Screen&quot;}\n",
       "            ).addTo(map_62c6e633281b543ccd48286748550c4d);\n",
       "        \n",
       "&lt;/script&gt;\" style=\"position:absolute;width:100%;height:100%;left:0;top:0;border:none !important;\" allowfullscreen webkitallowfullscreen mozallowfullscreen></iframe></div></div>"
      ],
      "text/plain": [
       "<folium.folium.Map at 0x28d498c94c0>"
      ]
     },
     "execution_count": 30,
     "metadata": {},
     "output_type": "execute_result"
    }
   ],
   "source": [
    "#%% visualize using folium\n",
    "#%%% predefine\n",
    "aoi_folium = aoi_showcase.to_crs(\"EPSG:4326\")\n",
    "location = [aoi_folium.centroid.y,aoi_folium.centroid.x]\n",
    "\n",
    "riofile = rasterio.open(os.path.join(config[\"dir_results\"],config[\"savename_showcase_tiff_reproject\"]))\n",
    "img = riofile.read().transpose(1,2,0)\n",
    "maxwateridx = np.argmax(np.sum(img,axis=(0,1)))\n",
    "img = img[...,[maxwateridx]]\n",
    "img = np.concatenate([0/255*img,101/255*img,189/255*img,0.3*img],axis=-1)\n",
    "\n",
    "#%%% initialize window\n",
    "mapwindow = folium.Map(location=location, tiles='OpenStreetMap', zoom_start=10)\n",
    "\n",
    "#%%% add WMTS layer\n",
    "#%%%% Sentinel-2 True Color\n",
    "wms1 = folium.WmsTileLayer(\n",
    "    f'https://services.sentinel-hub.com/ogc/wms/cea3abac-212c-45de-a69a-c6d613fb372e?Time={config[\"end_showcase\"].strftime(\"%Y-%m-%d\")}',\n",
    "    name='Sentinel-2 True Color',\n",
    "    styles='',\n",
    "    fmt='image/jpg',\n",
    "    transparent=True,\n",
    "    layers='TRUE_COLOR_VISUALIZATION,DATE',\n",
    "    overlay = True,\n",
    "    control = True,\n",
    "    show = False\n",
    ").add_to(mapwindow)\n",
    "\n",
    "#%%%% Sentinel-2 SWIR\n",
    "wms2 = folium.WmsTileLayer(\n",
    "    f'https://services.sentinel-hub.com/ogc/wms/cea3abac-212c-45de-a69a-c6d613fb372e?Time={config[\"end_showcase\"].strftime(\"%Y-%m-%d\")}',\n",
    "    name='Sentinel-2 SWIR',\n",
    "    styles='',\n",
    "    fmt='image/jpg',\n",
    "    transparent=True,\n",
    "    layers='SWIR_VISUALIZATION,DATE',\n",
    "    overlay = True,\n",
    "    control = True,\n",
    "    show = False\n",
    ").add_to(mapwindow)\n",
    "\n",
    "#%%%% Sentinel-1\n",
    "wms3 = folium.WmsTileLayer(\n",
    "    f'https://services.sentinel-hub.com/ogc/wms/cea3abac-212c-45de-a69a-c6d613fb372e?Time={config[\"end_showcase\"].strftime(\"%Y-%m-%d\")}',\n",
    "    name='Sentinel-1',\n",
    "    styles='',\n",
    "    fmt='image/jpg',\n",
    "    transparent=True,\n",
    "    layers='SENTINEL-1_IW_VIS2,DATE',\n",
    "    overlay = True,\n",
    "    control = True,\n",
    "    show = False\n",
    ").add_to(mapwindow)\n",
    "\n",
    "#%%%% Add WmsTileLayers to time control.\n",
    "time = foliumplugins.TimestampedWmsTileLayers(\n",
    "    data=[wms1,wms2,wms3],\n",
    "    transition_time=24*3600*1000,\n",
    "    loop=False,\n",
    "    auto_play=False,\n",
    "    period='P1D',\n",
    "    time_interval=False,\n",
    "    name=None\n",
    ").add_to(mapwindow)\n",
    "\n",
    "\n",
    "#%%% add water mask to map\n",
    "folium.raster_layers.ImageOverlay(\n",
    "    image = img,\n",
    "    bounds = [[riofile.bounds.bottom,riofile.bounds.left],\n",
    "              [riofile.bounds.top,riofile.bounds.right]\n",
    "             ],\n",
    "    origin = 'upper',\n",
    "    colormap = None,\n",
    "    mercator_project = True,\n",
    "    pixelated = True,\n",
    "    name = \"WaterMask\",\n",
    "    overlay = True,\n",
    "    control = True,\n",
    "    show = True,\n",
    "    opacity = 0.3\n",
    ").add_to(mapwindow)\n",
    "\n",
    "#%%% add some controls\n",
    "folium.LayerControl().add_to(mapwindow)\n",
    "foliumplugins.Fullscreen(force_separate_button=True).add_to(mapwindow)\n",
    "\n",
    "#%%% save, render and display\n",
    "mapwindow.save(os.path.join(config[\"dir_results\"],'showcase.html'))\n",
    "mapwindow.render()\n",
    "mapwindow"
   ]
  },
  {
   "cell_type": "markdown",
   "id": "d3d51318",
   "metadata": {},
   "source": [
    "Now you know how to use the `ModelForwardTask`! :)"
   ]
  }
 ],
 "metadata": {
  "kernelspec": {
   "display_name": "Python 3 (ipykernel)",
   "language": "python",
   "name": "python3"
  },
  "language_info": {
   "codemirror_mode": {
    "name": "ipython",
    "version": 3
   },
   "file_extension": ".py",
   "mimetype": "text/x-python",
   "name": "python",
   "nbconvert_exporter": "python",
   "pygments_lexer": "ipython3",
   "version": "3.8.13"
  }
 },
 "nbformat": 4,
 "nbformat_minor": 5
}
