{
 "cells": [
  {
   "cell_type": "markdown",
   "id": "dfc03e20",
   "metadata": {},
   "source": [
    "# GEM ML Framework Demonstrator - Deforestation Detection\n",
    "In these notebooks, we provide an in-depth example of how the GEM ML framework can be used for segmenting deforested areas using Sentinel-2 imagery as input and the [TMF dataset](https://forobs.jrc.ec.europa.eu/TMF/) as a reference.\n",
    "The idea is to use a neural network (NN) model for the analysis.\n",
    "Thanks to the flexibility of the GEM ML framework, we can easily substitute the model in the future by adjusting only the configuration file.\n",
    "We will have a look at the following notebooks separately:\n",
    "- 00_Configuration\n",
    "- 01_DataAcquisition\n",
    "- 02_DataNormalization\n",
    "- 03_TrainingValidationTesting\n",
    "- 04_Inference_Clouds\n",
    "\n",
    "Authors: Michael Engel (m.engel@tum.de) and Joana Reuss (joana.reuss@tum.de)\n",
    "\n",
    "-----------------------------------------------------------------------------------\n",
    "\n",
    "# Data Acquisition\n",
    "Here, we define our `EOWorkflow` for downloading the desired data."
   ]
  },
  {
   "cell_type": "code",
   "execution_count": 1,
   "id": "d394ea28",
   "metadata": {
    "scrolled": true
   },
   "outputs": [
    {
     "name": "stderr",
     "output_type": "stream",
     "text": [
      "/home/michael/anaconda3/envs/eolearn_water/lib/python3.8/site-packages/tqdm/auto.py:22: TqdmWarning: IProgress not found. Please update jupyter and ipywidgets. See https://ipywidgets.readthedocs.io/en/stable/user_install.html\n",
      "  from .autonotebook import tqdm as notebook_tqdm\n"
     ]
    },
    {
     "name": "stdout",
     "output_type": "stream",
     "text": [
      "Incorporating libs!\n",
      "Incorporating tasks!\n",
      "Incorporating utils!\n",
      "Working Directory: /home/michael/Documents/GEM/TUM-Git/eo-learn-examples/GEM-ML/Example_DeforestationDetection\n"
     ]
    }
   ],
   "source": [
    "import datetime as dt\n",
    "import os\n",
    "\n",
    "import folium\n",
    "import geopandas as gpd\n",
    "import matplotlib.pyplot as plt\n",
    "import numpy as np\n",
    "\n",
    "from folium import plugins as foliumplugins\n",
    "from sentinelhub import DataCollection, UtmZoneSplitter\n",
    "from shapely.geometry import Polygon\n",
    "\n",
    "from libs.ConfigME import Config\n",
    "from tasks.PickIdxTask import PickIdxTask\n",
    "from tasks.SaveValidTask import SaveValidTask\n",
    "from tasks.TDigestTask import TDigestTask\n",
    "from utils.parse_time_interval_observations import parse_time_interval_observations\n",
    "\n",
    "from eolearn.core import EOExecutor, EONode, EOPatch, EOWorkflow, FeatureType, MapFeatureTask, OverwritePermission, \\\n",
    "    ZipFeatureTask\n",
    "from eolearn.features.feature_manipulation import SpatialResizeTask\n",
    "from eolearn.features.utils import ResizeLib, ResizeMethod\n",
    "from eolearn.io import ImportFromTiffTask, SentinelHubInputTask\n",
    "\n",
    "print(\"Working Directory:\", os.getcwd())"
   ]
  },
  {
   "cell_type": "markdown",
   "id": "fa751f3e",
   "metadata": {},
   "source": [
    "## Config\n",
    "First, we load our configuration file which provides all information we need throughout the script and linuxify our paths (if you are working on a Windows machine) as the eo-learn filesystem manager does not support backslashes for now."
   ]
  },
  {
   "cell_type": "code",
   "execution_count": 2,
   "id": "a3d2cc15",
   "metadata": {},
   "outputs": [],
   "source": [
    "#%% load configuration file\n",
    "config = Config.LOAD(\"config.dill\")\n",
    "\n",
    "#%% linuxify\n",
    "config.linuxify()"
   ]
  },
  {
   "cell_type": "markdown",
   "id": "52610a57",
   "metadata": {},
   "source": [
    "## Area of Interest\n",
    "Let's load the geojson of our AOIs for training, validation and testing, respectively."
   ]
  },
  {
   "cell_type": "code",
   "execution_count": 3,
   "id": "7d9c45fa",
   "metadata": {},
   "outputs": [],
   "source": [
    "#%% load geojson files\n",
    "aoi_train = gpd.read_file(config['AOI_train'])\n",
    "aoi_validation = gpd.read_file(config['AOI_validation'])\n",
    "aoi_test = gpd.read_file(config['AOI_test'])\n",
    "\n",
    "#%% find best suitable crs and transform to it\n",
    "crs_train = aoi_train.estimate_utm_crs()\n",
    "aoi_train = aoi_train.to_crs(crs_train)\n",
    "aoi_train = aoi_train.buffer(config['AOIbuffer'])\n",
    "\n",
    "crs_validation = aoi_validation.estimate_utm_crs()\n",
    "aoi_validation = aoi_validation.to_crs(crs_validation)\n",
    "aoi_validation = aoi_validation.buffer(config['AOIbuffer'])\n",
    "\n",
    "crs_test = aoi_test.estimate_utm_crs()\n",
    "aoi_test = aoi_test.to_crs(crs_test)\n",
    "aoi_test = aoi_test.buffer(config['AOIbuffer'])\n",
    "\n",
    "#%% dict for query\n",
    "aois = {\"train\":aoi_train,\n",
    "        \"validation\":aoi_validation,\n",
    "        \"test\":aoi_test}"
   ]
  },
  {
   "cell_type": "code",
   "execution_count": 4,
   "id": "dd8402cc",
   "metadata": {},
   "outputs": [
    {
     "name": "stdout",
     "output_type": "stream",
     "text": [
      "Dimension of the training area is 4.72e+10 m2\n",
      "Dimension of the validation area is 1.18e+10 m2\n",
      "Dimension of the test area is 9.90e+09 m2\n"
     ]
    }
   ],
   "source": [
    "#%% calculate and print size\n",
    "aoi_train_shape = aoi_train.geometry\n",
    "aoi_train_width = [geom.bounds[2]-geom.bounds[0] for geom in aoi_train_shape]\n",
    "aoi_train_height = [geom.bounds[3]-geom.bounds[1] for geom in aoi_train_shape]\n",
    "print(f\"Dimension of the training area is {np.sum(np.array(aoi_train_width)*np.array(aoi_train_height)):.2e} m2\")\n",
    "aoi_validation_shape = aoi_validation.geometry\n",
    "aoi_validation_width = [geom.bounds[2]-geom.bounds[0] for geom in aoi_validation_shape]\n",
    "aoi_validation_height = [geom.bounds[3]-geom.bounds[1] for geom in aoi_validation_shape]\n",
    "print(f\"Dimension of the validation area is {np.sum(np.array(aoi_validation_width)*np.array(aoi_validation_height)):.2e} m2\")\n",
    "aoi_test_shape = aoi_test.geometry\n",
    "aoi_test_width = [geom.bounds[2]-geom.bounds[0] for geom in aoi_test_shape]\n",
    "aoi_test_height = [geom.bounds[3]-geom.bounds[1] for geom in aoi_test_shape]\n",
    "print(f\"Dimension of the test area is {np.sum(np.array(aoi_test_width)*np.array(aoi_test_height)):.2e} m2\")"
   ]
  },
  {
   "cell_type": "markdown",
   "id": "4681b347",
   "metadata": {},
   "source": [
    "### Split into smaller tiles\n",
    "\n",
    "Since our AOIs **are too large**, we split them into a set of smaller bboxes using the `UtmZoneSplitter`."
   ]
  },
  {
   "cell_type": "code",
   "execution_count": 5,
   "id": "8c66cb86",
   "metadata": {},
   "outputs": [],
   "source": [
    "#%% create a splitter to obtain a list of bboxes\n",
    "bbox_splitter_train = UtmZoneSplitter(aoi_train_shape, aoi_train.crs, config[\"patchpixelwidth\"]*config[\"resolution\"])\n",
    "bbox_splitter_validation = UtmZoneSplitter(aoi_validation_shape, aoi_validation.crs, config[\"patchpixelwidth\"]*config[\"resolution\"])\n",
    "bbox_splitter_test = UtmZoneSplitter(aoi_test_shape, aoi_test.crs, config[\"patchpixelwidth\"]*config[\"resolution\"])\n",
    "\n",
    "bbox_list_train = np.array(bbox_splitter_train.get_bbox_list())\n",
    "info_list_train = np.array(bbox_splitter_train.get_info_list())\n",
    "bbox_list_validation = np.array(bbox_splitter_validation.get_bbox_list())\n",
    "info_list_validation = np.array(bbox_splitter_validation.get_info_list())\n",
    "bbox_list_test = np.array(bbox_splitter_test.get_bbox_list())\n",
    "info_list_test = np.array(bbox_splitter_test.get_info_list())\n",
    "\n",
    "#%% dict for query\n",
    "bbox_lists = {\"train\":bbox_list_train,\n",
    "              \"validation\":bbox_list_validation,\n",
    "              \"test\":bbox_list_test}\n",
    "info_lists = {\"train\":info_list_train,\n",
    "              \"validation\":info_list_validation,\n",
    "              \"test\":info_list_test}"
   ]
  },
  {
   "cell_type": "markdown",
   "id": "4299f969",
   "metadata": {},
   "source": [
    "### Visualization (not necessary)\n",
    "\n",
    "The **bbox list would be sufficient** for starting the training procedure using eo-learn.\n",
    "To check if we muddled up something, however, we want to visualize it!\n",
    "Since our area of interest is rather large, we face the problem of multiple coordinate reference systems.\n",
    "Unfortunately, **geopandas does not support multiple crs in one dataframe**, as described [here](https://github.com/sentinel-hub/sentinelhub-py/issues/123).\n",
    "Hence, we have to define a set of tiles for each crs separately.\n",
    "\n",
    "For later parallelization, we have to set an entry point here and the [folium](https://python-visualization.github.io/folium/) based visualization as we do want our notebooks to work on both Linux and Windows platforms.\n",
    "Because of that procedure, you can simply export the notebook as a python-script for parallel execution on Windows machines."
   ]
  },
  {
   "cell_type": "code",
   "execution_count": 6,
   "id": "a763afe7",
   "metadata": {},
   "outputs": [
    {
     "name": "stdout",
     "output_type": "stream",
     "text": [
      "Total number of tiles in train: 1981\n",
      "Total number of tiles in validation: 541\n",
      "Total number of tiles in test: 425\n"
     ]
    }
   ],
   "source": [
    "if __name__=='__main__':\n",
    "    tiles = []\n",
    "    crss_uniques = []\n",
    "    for set_ in [\"train\",\"validation\",\"test\"]:\n",
    "        tiles.append([])\n",
    "        #%% determine number of coordinate reference systems\n",
    "        crss = [bbox_._crs for bbox_ in bbox_lists[set_]]\n",
    "        crss_unique = np.array(list(dict.fromkeys(crss)))\n",
    "        crss_uniques.append(crss_unique)\n",
    "        n_crss = len(crss_unique)\n",
    "\n",
    "        #%% sort geometries and indices by crs and store to disk\n",
    "        geometries = [[] for i in range(n_crss)]\n",
    "        idxs = [[] for i in range(n_crss)]\n",
    "        idxs_x = [[] for i in range(n_crss)]\n",
    "        idxs_y = [[] for i in range(n_crss)]\n",
    "        for i,info in enumerate(info_lists[set_]):\n",
    "            idx_ = np.argmax(crss_unique==bbox_lists[set_][i]._crs)\n",
    "\n",
    "            geometries[idx_].append(Polygon(bbox_lists[set_][i].get_polygon())) # geometries sorted by crs\n",
    "            idxs[idx_].append(info[\"index\"]) # idxs sorted by crs\n",
    "            idxs_x[idx_].append(info[\"index_x\"]) # idxs_x sorted by crs\n",
    "            idxs_y[idx_].append(info[\"index_y\"]) # idxs_y sorted by crs\n",
    "\n",
    "        for i in range(n_crss):\n",
    "            #%% build dataframe of our areas of interest (and each crs)\n",
    "            tiles[-1].append(\n",
    "                gpd.GeoDataFrame(\n",
    "                    {\"index\": idxs[i], \"index_x\": idxs_x[i], \"index_y\": idxs_y[i]},\n",
    "                    crs=\"EPSG:\"+crss_unique[i]._value_,\n",
    "                    geometry=geometries[i]\n",
    "                )\n",
    "            )\n",
    "            #%%% save dataframes to shapefiles\n",
    "            tiles[-1][-1].to_file(os.path.join(config[\"dir_results\"],f\"grid_aoi_{_}_{i}_EPSG{str(crss_unique[i]._value_)}.gpkg\"), driver=\"GPKG\")\n",
    "\n",
    "        #%% print amount of patches\n",
    "        print(\"Total number of tiles in \" + set_ + \":\",len(bbox_lists[set_]))"
   ]
  },
  {
   "cell_type": "markdown",
   "id": "d6bfb20c",
   "metadata": {},
   "source": [
    "We have sorted the tiles accordingly to their corresponding crs and would now like to visualize them in a nice map.\n",
    "\n",
    "Here, it is important to **reproject the tiles** to the crs of our **mapping application** (EPSG:4326). We do that only for purpose of mapping them, the `bbox_lists` **is not affected** by this."
   ]
  },
  {
   "cell_type": "code",
   "execution_count": 7,
   "id": "f700e3e8",
   "metadata": {
    "scrolled": false
   },
   "outputs": [
    {
     "name": "stderr",
     "output_type": "stream",
     "text": [
      "/tmp/ipykernel_265811/3937325905.py:4: UserWarning: Geometry is in a geographic CRS. Results from 'centroid' are likely incorrect. Use 'GeoSeries.to_crs()' to re-project geometries to a projected CRS before this operation.\n",
      "\n",
      "  location = [np.mean(aoi_folium.centroid.y),np.mean(aoi_folium.centroid.x)]\n",
      "/tmp/ipykernel_265811/3937325905.py:4: UserWarning: Geometry is in a geographic CRS. Results from 'centroid' are likely incorrect. Use 'GeoSeries.to_crs()' to re-project geometries to a projected CRS before this operation.\n",
      "\n",
      "  location = [np.mean(aoi_folium.centroid.y),np.mean(aoi_folium.centroid.x)]\n"
     ]
    }
   ],
   "source": [
    "if __name__=='__main__':\n",
    "    #%% visualize using folium\n",
    "    aoi_folium = aoi_validation.to_crs(\"EPSG:4326\") # use validation for visualisation\n",
    "    location = [np.mean(aoi_folium.centroid.y),np.mean(aoi_folium.centroid.x)]\n",
    "\n",
    "    mapwindow = folium.Map(location=location, tiles='Stamen Terrain', zoom_start=6)\n",
    "\n",
    "    colors = [\"blue\",\"green\",\"red\"]\n",
    "    for i,_ in enumerate([\"train\",\"validation\",\"test\"]):\n",
    "        #%%% add aois\n",
    "        #%%%% train\n",
    "        mapwindow.add_child(\n",
    "            folium.features.Choropleth(\n",
    "                aois[_].to_crs(\"EPSG:4326\").to_json(),\n",
    "                fill_color=colors[i],\n",
    "                nan_fill_color=colors[i],\n",
    "                fill_opacity=0,\n",
    "                nan_fill_opacity=0.5,\n",
    "                line_color=colors[i],\n",
    "                line_weight=1,\n",
    "                line_opacity=0.6,\n",
    "                smooth_factor=5,\n",
    "                name=f\"{_} area\"\n",
    "            )\n",
    "        )\n",
    "\n",
    "        #%%% add grids in blue color\n",
    "        for t_,tiles_ in enumerate(tiles[i]):\n",
    "            cp = folium.features.Choropleth(\n",
    "                    tiles_.to_crs(\"EPSG:4326\").to_json(),\n",
    "                    fill_color=colors[i],\n",
    "                    nan_fill_color=\"black\",\n",
    "                    fill_opacity=0,\n",
    "                    nan_fill_opacity=0.5,\n",
    "                    line_color=colors[i],\n",
    "                    line_weight=0.5,\n",
    "                    line_opacity=0.6,\n",
    "                    smooth_factor=5,\n",
    "                    name=f\"{_} grid EPSG:{crss_uniques[i][t_]._value_}\"\n",
    "                ).add_to(mapwindow)\n",
    "\n",
    "            # display index next to cursor\n",
    "            folium.GeoJsonTooltip(\n",
    "                ['index'],\n",
    "                aliases=['Index:'],\n",
    "                labels=False,\n",
    "                style=\"background-color:rgba(0,101,189,0.4); border:2px solid white; color:white;\",\n",
    "                ).add_to(cp.geojson)\n",
    "\n",
    "    #%%% add some controls\n",
    "    folium.LayerControl().add_to(mapwindow)\n",
    "    foliumplugins.Fullscreen(force_separate_button=True).add_to(mapwindow)\n",
    "\n",
    "    #%%% save, render and display\n",
    "    mapwindow.save(os.path.join(config[\"dir_results\"],'gridmap.html'))\n",
    "    mapwindow.render()\n",
    "    mapwindow"
   ]
  },
  {
   "cell_type": "markdown",
   "id": "c1c95704",
   "metadata": {},
   "source": [
    "# eo-learn workflow\n",
    "Now it is time to define our `eo-learn` workflow. It consists of the following elements\n",
    "\n",
    "- __EOTask__\n",
    "- __EONode__\n",
    "- __EOWorkflow__"
   ]
  },
  {
   "cell_type": "markdown",
   "id": "c8b5e9e4",
   "metadata": {},
   "source": [
    "## EOTasks\n",
    "\n",
    "We define and create the follwing [EOTasks](https://eo-learn.readthedocs.io/en/latest/eotasks.html)\n",
    "\n",
    "###  1. Input data\n",
    "#### 1.1 Querying Sentinel data\n",
    ">- __*task_data*__: We take a [Sentinel-Hub-Input-Task](https://eo-learn.readthedocs.io/en/latest/eolearn.io.sentinelhub_process.html#eolearn.io.sentinelhub_process.SentinelHubInputTask) for querying **Sentinel-2 data**. \n",
    ">- __*task_data_pick*__: We use a __`PickIdxTask`__ in order to pick the correct date of the queried data.\n",
    ">- __*task_data_pick_dmask*__ and __*task_data_pick_cmask*__: The __`PickIdxTask`__ will also be applied to the dataMask as well as the cloudMask.\n",
    "\n",
    "#### 1.2 Normalization\n",
    ">- __*task_data_tdigest*__: The T-Digest representation of our data will be computed by using a __`TDigestTask`__ for later normalization.\n",
    "\n",
    "#### 1.3 Area filtering:\n",
    ">- __*task_data_check*__: We filter or mask out non-valid data using a [MapFeatureTask](https://eo-learn.readthedocs.io/en/latest/_modules/eolearn/core/core_tasks.html#MapFeatureTask).\n",
    "\n",
    "\n",
    "###  2. Reference data\n",
    "#### 2.1 Importing reference maps\n",
    ">- __*task_reference*__: We use an [Import-From-Tiff-Task](https://eo-learn.readthedocs.io/en/latest/reference/eolearn.io.raster_io.html#eolearn.io.raster_io.ImportFromTiffTask) to load the [TMF dataset].\n",
    "\n",
    "#### 2.2 Label mapping\n",
    ">- __*task_reference_labelmapping*__: We use a [MapFeatureTask](https://eo-learn.readthedocs.io/en/latest/_modules/eolearn/core/core_tasks.html#MapFeatureTask) for mapping the corresponding labels.\n",
    "\n",
    "#### 2.3 Resizing:\n",
    ">- __*task_reference_resize*__: Furthermore, we adjust the spatial resolution of the provided reference maps through a [SpatialResizeTask](https://eo-learn.readthedocs.io/en/latest/reference)\n",
    "\n",
    "#### 2.4 Cloud masking and mapping:\n",
    ">- __*task_reference_cloudmapping*__: We use the mask calculated by __*S2Cloudless*__ and a [ZipFeatureTask](https://eo-learn.readthedocs.io/en/latest/_modules/eolearn/core/core_tasks.html#ZipFeatureTask) in order to map the new class `clouds` to the reference data.\n",
    "\n",
    "#### 2.5 Area masking:\n",
    ">- __*task_reference_mask*__: We mask out non-valid areas using a [MapFeatureTask](https://eo-learn.readthedocs.io/en/latest/_modules/eolearn/core/core_tasks.html#MapFeatureTask).\n",
    "\n",
    "\n",
    "###  3. Merging and Saving\n",
    ">- __*task_save*__: We save the created EOPatches using a __`SaveValidTask`__."
   ]
  },
  {
   "cell_type": "markdown",
   "id": "8cdd4cac",
   "metadata": {},
   "source": [
    "### 1. Input data:\n",
    "\n",
    "#### 1.1 Querying Sentinel data\n",
    "\n",
    "The date of our reference is considered to be the 2021-12-31.\n",
    "That is, we choose the observation with max `config[\"maxcc\"]` cloud coverage closest ahead of that date.\n",
    "\n",
    "Furthermore, we select the following Sentinel-2 bands: B02, B02, B04, B08, B11, B12"
   ]
  },
  {
   "cell_type": "code",
   "execution_count": 8,
   "id": "eca72100",
   "metadata": {},
   "outputs": [],
   "source": [
    "#%% Sentinel-Hub-Input-Task\n",
    "task_data = SentinelHubInputTask(\n",
    "    data_collection = DataCollection.SENTINEL2_L1C,\n",
    "    size = None,\n",
    "    resolution = config[\"resolution\"],\n",
    "    bands_feature = (FeatureType.DATA, \"data\"),\n",
    "    bands = [\"B02\",\"B03\",\"B04\",\"B08\",\"B11\",\"B12\"],\n",
    "    additional_data = [(FeatureType.MASK, \"dataMask\", \"dmask_data\"),(FeatureType.MASK, \"CLM\", \"cmask_data\")],\n",
    "    evalscript = None,\n",
    "    maxcc = config[\"maxcc\"],\n",
    "    time_difference = dt.timedelta(hours=1),\n",
    "    cache_folder = config[\"dir_cache\"],\n",
    "    max_threads = config[\"threads\"],\n",
    "    config = config[\"SHconfig\"],\n",
    "    bands_dtype = np.float32,\n",
    "    single_scene = False,\n",
    "    mosaicking_order = \"mostRecent\",\n",
    "    aux_request_args = None\n",
    ")"
   ]
  },
  {
   "cell_type": "markdown",
   "id": "509f2d92",
   "metadata": {},
   "source": [
    "We are querying the date closest to the cutoff date with a maximum of `config[\"maxcc\"]` cloud coverage before we download the data. This ensures that we in fact pick the correct date.\n",
    "\n",
    "However, for the sake of safety, we still use the __`PickIdxTask`__ here."
   ]
  },
  {
   "cell_type": "code",
   "execution_count": 9,
   "id": "8b36a0b3",
   "metadata": {},
   "outputs": [],
   "source": [
    "#%% Pick-Idx-Task\n",
    "task_data_pick = PickIdxTask(\n",
    "    in_feature = (FeatureType.DATA, \"data\"),\n",
    "    out_feature = None, # None for replacing in_feature\n",
    "    idx = [[-1],...] # -1 in brackets for keeping dimensions of numpy array\n",
    ")"
   ]
  },
  {
   "cell_type": "markdown",
   "id": "f70e4c28",
   "metadata": {},
   "source": [
    "The same holds true for both our data- and the cloud-mask."
   ]
  },
  {
   "cell_type": "code",
   "execution_count": 10,
   "id": "18e54047",
   "metadata": {},
   "outputs": [],
   "source": [
    "#%% Pick-Idx-Task data mask\n",
    "task_data_pick_dmask = PickIdxTask(\n",
    "    in_feature = (FeatureType.MASK, \"dmask_data\"),\n",
    "    out_feature = None, # None for replacing in_feature\n",
    "    idx = [[-1],...] # -1 in brackets for keeping dimensions of numpy array\n",
    ")\n",
    "\n",
    "#%% Pick-Idx-Task cloud mask\n",
    "task_data_pick_cmask = PickIdxTask(\n",
    "    in_feature = (FeatureType.MASK, \"cmask_data\"),\n",
    "    out_feature = None, # None for replacing in_feature\n",
    "    idx = [[-1],...] # -1 in brackets for keeping dimensions of numpy array\n",
    ")"
   ]
  },
  {
   "cell_type": "markdown",
   "id": "9a628f1f",
   "metadata": {},
   "source": [
    "#### 1.2 Normalization\n",
    "\n",
    "For later normalization of our dataset, we will use the __*T-Digest algorithm*__.\n",
    "It is designed for quantile approximation close to the tails which we need for the common linear quantile scaler in the realm of ML."
   ]
  },
  {
   "cell_type": "code",
   "execution_count": 11,
   "id": "a39bf582",
   "metadata": {},
   "outputs": [],
   "source": [
    "#%% T-Digest-Task\n",
    "task_data_tdigest = TDigestTask(\n",
    "    in_feature = (FeatureType.DATA, 'data'),\n",
    "    out_feature = (FeatureType.SCALAR_TIMELESS, 'tdigest_data'),\n",
    "    mode = None,\n",
    "    pixelwise = False\n",
    ")"
   ]
  },
  {
   "cell_type": "markdown",
   "id": "e96b713f",
   "metadata": {},
   "source": [
    "#### 1.3 Area filtering\n",
    "\n",
    "So far, we have defined the necessary EOTasks for our input and reference data. However, both tasks still contain areas which don't **provide any reasonable data** at all or not in a meaningful way, as __*indefinite land cover*__, for example. Therefore, we still have to add the corresponding areas to the dataMask in order to later filter the respective (non-valid) EOPatches from the input. This will be done based on the analysis of the [MapFeatureTask](https://eo-learn.readthedocs.io/en/latest/_modules/eolearn/core/core_tasks.html#MapFeatureTask) which will then be applied to the dataMask.\n",
    "Furthermore, we will apply a similar procedure to the reference map in step __2.5 Area masking__."
   ]
  },
  {
   "cell_type": "code",
   "execution_count": 12,
   "id": "f6e54d52",
   "metadata": {},
   "outputs": [],
   "source": [
    "#%% Filter out incomplete input data patches\n",
    "def checker_nodata(array):\n",
    "    return bool(np.all(array))\n",
    "\n",
    "task_data_check = MapFeatureTask(\n",
    "    input_features = (FeatureType.MASK, \"dmask_data\"),\n",
    "    output_features = (FeatureType.META_INFO, \"valid\"),\n",
    "    map_function = checker_nodata\n",
    ")"
   ]
  },
  {
   "cell_type": "markdown",
   "id": "4e96db3b",
   "metadata": {},
   "source": [
    "### 2. Reference data\n",
    "\n",
    "#### 2.1 Importing reference maps\n",
    "We use an [ImportFromTiffTask](https://eo-learn.readthedocs.io/en/latest/_modules/eolearn/io/raster_io.html#ImportFromTiffTask) for converting our reference data from a GeoTIFF file into an EOPatch."
   ]
  },
  {
   "cell_type": "code",
   "execution_count": 13,
   "id": "ddf65204",
   "metadata": {},
   "outputs": [],
   "source": [
    "#%% Import-From-Tiff-Task\n",
    "task_reference = ImportFromTiffTask(\n",
    "    feature = (FeatureType.MASK_TIMELESS, \"reference\"),\n",
    "    folder = config[\"path_reference\"],\n",
    "    use_vsi = False,\n",
    "    timestamp_size = None\n",
    ")"
   ]
  },
  {
   "cell_type": "markdown",
   "id": "193fb10f",
   "metadata": {},
   "source": [
    "#### 2.2 Label mapping\n",
    "\n",
    "We apply our labelmapping using a [MapFeatureTask](https://eo-learn.readthedocs.io/en/latest/_modules/eolearn/core/core_tasks.html#MapFeatureTask)."
   ]
  },
  {
   "cell_type": "code",
   "execution_count": 14,
   "id": "e45a9bdc",
   "metadata": {},
   "outputs": [],
   "source": [
    "#%% apply labelmapping\n",
    "def labelmapper(reference,mapping):\n",
    "    refcopy = reference.copy()\n",
    "    for key,value in mapping.items():\n",
    "        refcopy[reference==key] = value\n",
    "    return refcopy\n",
    "\n",
    "task_reference_labelmapping = MapFeatureTask(\n",
    "    input_features = (FeatureType.MASK_TIMELESS, \"reference\"),\n",
    "    output_features = (FeatureType.MASK_TIMELESS, \"reference\"),\n",
    "    map_function = labelmapper,\n",
    "    mapping = config[\"labelmapping\"]\n",
    ")"
   ]
  },
  {
   "cell_type": "markdown",
   "id": "d5ec284d",
   "metadata": {},
   "source": [
    "#### 2.3 Resizing\n",
    "Since the reference data has been acquired using the Landsat missions with 30m resolution, we have to resize our reference to our chosen resolution first."
   ]
  },
  {
   "cell_type": "code",
   "execution_count": 15,
   "id": "960d4799",
   "metadata": {},
   "outputs": [],
   "source": [
    "task_reference_resize = SpatialResizeTask(\n",
    "    features = (FeatureType.MASK_TIMELESS, \"reference\"),\n",
    "    resize_type = \"new_size\",\n",
    "    height_param = config[\"patchpixelwidth\"],\n",
    "    width_param = config[\"patchpixelwidth\"],\n",
    "    resize_method = ResizeMethod.NEAREST,\n",
    "    resize_library = ResizeLib.PIL\n",
    ")"
   ]
  },
  {
   "cell_type": "markdown",
   "id": "2a56d65b",
   "metadata": {},
   "source": [
    "#### 2.4. Cloud masking and mapping:\n",
    "\n",
    "Further, we want our model to segment clouds as well.\n",
    "Hence, we use the __*S2Cloudless*__ (cf. *cmask_data*) and apply some mapping to the reference data using the [ZipFeatureTask](https://eo-learn.readthedocs.io/en/latest/_modules/eolearn/core/core_tasks.html#ZipFeatureTask) in order to combine two features: the reference map and the created cloud mask."
   ]
  },
  {
   "cell_type": "code",
   "execution_count": 16,
   "id": "924b2f03",
   "metadata": {},
   "outputs": [],
   "source": [
    "def mask_key_value_zipper(*arrays,key=0,value=0):\n",
    "    reference = arrays[0]\n",
    "    mask = arrays[1].squeeze(0) # squeeze as originally temporal feature type\n",
    "    reference[mask==key] = value\n",
    "    return reference\n",
    "\n",
    "task_reference_cloudmapping = ZipFeatureTask(\n",
    "    input_features = [\n",
    "        (FeatureType.MASK_TIMELESS, \"reference\"),\n",
    "        (FeatureType.MASK, \"cmask_data\")\n",
    "    ],\n",
    "    output_feature = (FeatureType.MASK_TIMELESS, \"reference\"),\n",
    "    zip_function = mask_key_value_zipper,\n",
    "    key = 1,\n",
    "    value = config[\"class_clouds\"]\n",
    ")"
   ]
  },
  {
   "cell_type": "markdown",
   "id": "1b7fb3e2",
   "metadata": {},
   "source": [
    "#### 2.5. Area masking\n",
    "As described in __1.3 Area filtering__, we have to filter out non-valid areas from both the input (satellite) data, as well as the reference map.\n",
    "Therefore, we again apply a [MapFeatureTask](https://eo-learn.readthedocs.io/en/latest/_modules/eolearn/core/core_tasks.html#MapFeatureTask), this time to our reference map in order to mask out the corresponding areas which are labeled with the __*indefinitie land cover*__ class."
   ]
  },
  {
   "cell_type": "markdown",
   "id": "b9883f32",
   "metadata": {},
   "source": [
    "For the indefinite land cover in our reference data, we calculate a mask using the [MapFeatureTask](https://eo-learn.readthedocs.io/en/latest/_modules/eolearn/core/core_tasks.html#MapFeatureTask)."
   ]
  },
  {
   "cell_type": "code",
   "execution_count": 17,
   "id": "990fefb5",
   "metadata": {},
   "outputs": [],
   "source": [
    "#%% calculate mask\n",
    "def calculatemask(reference,key):\n",
    "    mask = np.ones(reference.shape, dtype=np.uint8)\n",
    "    mask[reference==key] = 0\n",
    "    return mask\n",
    "\n",
    "task_reference_mask = MapFeatureTask(\n",
    "    input_features = (FeatureType.MASK_TIMELESS, \"reference\"),\n",
    "    output_features = (FeatureType.MASK_TIMELESS, \"mask_reference\"),\n",
    "    map_function = calculatemask,\n",
    "    key = config[\"class_indefinite\"]\n",
    ")"
   ]
  },
  {
   "cell_type": "markdown",
   "id": "7ac251d6",
   "metadata": {},
   "source": [
    "### 3. Merging and Saving\n",
    "We save the create `EOPatches` using a __`SaveValidTask`__. \n",
    "Only **valid EOPatches** are saved based on the previously filtered input data in __1.3__.\n",
    "\n",
    "Note the __*compression*__ keyword - if not set, the memory consumption may get really large!"
   ]
  },
  {
   "cell_type": "code",
   "execution_count": 18,
   "id": "3de6fce9",
   "metadata": {},
   "outputs": [],
   "source": [
    "#%% save EOPatches\n",
    "task_save = SaveValidTask(\n",
    "    feature_to_check = (FeatureType.META_INFO, \"valid\"),\n",
    "    path = config[\"dir_data\"],\n",
    "    filesystem = None,\n",
    "    config = config[\"SHconfig\"],\n",
    "    overwrite_permission = OverwritePermission.OVERWRITE_PATCH,\n",
    "    compress_level = 2\n",
    ")"
   ]
  },
  {
   "cell_type": "markdown",
   "id": "fa903de6",
   "metadata": {},
   "source": [
    "## EONodes\n",
    "After we have defined all necessary __`EOTasks`__, we initialize the __`EONodes`__ which will be used in order to run through the workflow afterwards."
   ]
  },
  {
   "cell_type": "code",
   "execution_count": 19,
   "id": "789b691a",
   "metadata": {},
   "outputs": [],
   "source": [
    "#%% input nodes\n",
    "node_data = EONode(\n",
    "    task = task_data,\n",
    "    inputs = [],\n",
    "    name = \"load Sentinel-2 data\"\n",
    ")\n",
    "node_data_pick = EONode(\n",
    "    task = task_data_pick,\n",
    "    inputs = [node_data],\n",
    "    name = \"pick closest observation to reference for data\"\n",
    ")\n",
    "node_data_pick_dmask = EONode(\n",
    "    task = task_data_pick_dmask,\n",
    "    inputs = [node_data_pick],\n",
    "    name = \"pick closest observation to reference for data mask\"\n",
    ")\n",
    "node_data_pick_cmask = EONode(\n",
    "    task = task_data_pick_cmask,\n",
    "    inputs = [node_data_pick_dmask],\n",
    "    name = \"pick closest observation to reference for cloud mask\"\n",
    ")\n",
    "node_data_tdigest = EONode(\n",
    "    task = task_data_tdigest,\n",
    "    inputs = [node_data_pick_cmask],\n",
    "    name = \"compute T-Digest of data\"\n",
    ")\n",
    "node_data_check = EONode(\n",
    "    task = task_data_check,\n",
    "    inputs = [node_data_tdigest],\n",
    "    name = \"check data for completeness\"\n",
    ")\n",
    "\n",
    "#%% reference nodes\n",
    "node_reference = EONode(\n",
    "    task = task_reference,\n",
    "    inputs = [node_data_check],\n",
    "    name = \"load reference from disk\"\n",
    ")\n",
    "node_reference_labelmapping = EONode(\n",
    "    task = task_reference_labelmapping,\n",
    "    inputs = [node_reference],\n",
    "    name = \"apply labelmapping\"\n",
    ")\n",
    "node_reference_resize = EONode(\n",
    "    task = task_reference_resize,\n",
    "    inputs = [node_reference_labelmapping],\n",
    "    name = \"apply labelmapping\"\n",
    ")\n",
    "node_reference_cloudmapping = EONode(\n",
    "    task = task_reference_cloudmapping,\n",
    "    inputs = [node_reference_resize],\n",
    "    name = \"map clouds into reference\"\n",
    ")\n",
    "node_reference_mask = EONode(\n",
    "    task = task_reference_mask,\n",
    "    inputs = [node_reference_cloudmapping],\n",
    "    name = \"mask indefinite reference data\"\n",
    ")"
   ]
  },
  {
   "cell_type": "markdown",
   "id": "feaff73c",
   "metadata": {},
   "source": [
    "We could either put every single one of the above nodes in the constructor using a list or define our whole workflow by just using a single node `node_save` created through our `task_save`."
   ]
  },
  {
   "cell_type": "code",
   "execution_count": 20,
   "id": "135129df",
   "metadata": {},
   "outputs": [],
   "source": [
    "#%% merging and saving nodes\n",
    "node_save = EONode(\n",
    "    task = task_save,\n",
    "    inputs = [node_reference_mask],\n",
    "    name = \"save valid EOPatch\"\n",
    ")"
   ]
  },
  {
   "cell_type": "markdown",
   "id": "48769090",
   "metadata": {},
   "source": [
    "## Final EOWorkflow\n",
    "We define the final workflow using the single node `node_save`."
   ]
  },
  {
   "cell_type": "code",
   "execution_count": 21,
   "id": "42597eb8",
   "metadata": {},
   "outputs": [],
   "source": [
    "workflow = EOWorkflow.from_endnodes(node_save)\n",
    "#workflow.dependency_graph()"
   ]
  },
  {
   "cell_type": "markdown",
   "id": "cbd1b41c",
   "metadata": {},
   "source": [
    "### Test Workflow\n",
    "Now, we want to test our workflow with some arbitrary patch (from our training set) at some arbitrary date (not included into study)."
   ]
  },
  {
   "cell_type": "code",
   "execution_count": 22,
   "id": "38c477f4",
   "metadata": {
    "scrolled": false
   },
   "outputs": [
    {
     "data": {
      "text/plain": [
       "EOPatch(\n",
       "  data={\n",
       "    data: numpy.ndarray(shape=(1, 256, 256, 6), dtype=float32)\n",
       "  }\n",
       "  mask={\n",
       "    cmask_data: numpy.ndarray(shape=(1, 256, 256, 1), dtype=uint8)\n",
       "    dmask_data: numpy.ndarray(shape=(1, 256, 256, 1), dtype=bool)\n",
       "  }\n",
       "  mask_timeless={\n",
       "    mask_reference: numpy.ndarray(shape=(256, 256, 1), dtype=uint8)\n",
       "    reference: numpy.ndarray(shape=(256, 256, 1), dtype=uint8)\n",
       "  }\n",
       "  scalar_timeless={\n",
       "    tdigest_data: numpy.ndarray(shape=(6,), dtype=object)\n",
       "  }\n",
       "  meta_info={\n",
       "    maxcc: 0.3\n",
       "    size_x: 256\n",
       "    size_y: 256\n",
       "    time_difference: 3600.0\n",
       "    time_interval: ['2022-10-01T00:00:00', '2022-10-01T23:59:59']\n",
       "    valid: True\n",
       "  }\n",
       "  bbox=BBox(((558080.0, 9809920.0), (563200.0, 9815040.0)), crs=CRS('32721'))\n",
       "  timestamp=[datetime.datetime(2022, 10, 1, 14, 13, 7)]\n",
       ")"
      ]
     },
     "execution_count": 22,
     "metadata": {},
     "output_type": "execute_result"
    }
   ],
   "source": [
    "workflow.execute({\n",
    "    node_data: {\"bbox\":bbox_list_train[596],\"time_interval\":(\"2022-10-01\",\"2022-10-01\")},\n",
    "    node_save: {\"eopatch_folder\":\"testpatch\"}\n",
    "})\n",
    "eopatch = EOPatch.load(os.path.join(config[\"dir_data\"],\"testpatch\"))\n",
    "eopatch"
   ]
  },
  {
   "cell_type": "markdown",
   "id": "c95c25cd",
   "metadata": {},
   "source": [
    "Let's have a look at our eopatch."
   ]
  },
  {
   "cell_type": "code",
   "execution_count": 23,
   "id": "3990d579",
   "metadata": {},
   "outputs": [
    {
     "name": "stderr",
     "output_type": "stream",
     "text": [
      "Clipping input data to the valid range for imshow with RGB data ([0..1] for floats or [0..255] for integers).\n"
     ]
    },
    {
     "data": {
      "image/png": "[encoded data removed]",
      "text/plain": [
       "<Figure size 640x480 with 4 Axes>"
      ]
     },
     "metadata": {},
     "output_type": "display_data"
    }
   ],
   "source": [
    "RGB = eopatch[\"data\"][\"data\"][0,...,np.array([2,1,0])].transpose(1,2,0)\n",
    "\n",
    "#%% plot testpatch\n",
    "plt.figure()\n",
    "plt.subplot(221)\n",
    "plt.imshow(RGB*2.5)\n",
    "plt.title(\"RGB\")\n",
    "plt.axis(\"off\")\n",
    "plt.subplot(222)\n",
    "plt.imshow(eopatch[\"mask_timeless\"][\"reference\"],vmin=0,vmax=config[\"num_classes\"],cmap=config[\"cmap_reference\"])\n",
    "plt.title(\"Reference\")\n",
    "plt.axis(\"off\")\n",
    "plt.subplot(223)\n",
    "plt.imshow(eopatch[\"mask\"][\"cmask_data\"][0,...],vmin=0,vmax=1,cmap=\"YlOrBr_r\")\n",
    "plt.title(\"Clouds\")\n",
    "plt.axis(\"off\")\n",
    "plt.subplot(224)\n",
    "plt.imshow(eopatch[\"mask_timeless\"][\"mask_reference\"],vmin=0,vmax=1,cmap=\"RdYlGn\")\n",
    "plt.title(\"Mask\")\n",
    "plt.axis(\"off\")\n",
    "\n",
    "plt.tight_layout()\n",
    "plt.savefig(os.path.join(config[\"dir_imgs\"],\"testpatch.png\"),dpi=300)"
   ]
  },
  {
   "cell_type": "markdown",
   "id": "f98d66c2",
   "metadata": {},
   "source": [
    "## Downloading Data\n",
    "Now it's time to download the data.\n",
    "Therefore, we have to define __workflow arguments__, both temporal and spatial.\n",
    "Note that we only want to download the data that is not yet present on our device.\n",
    "Hence, we check for existence first and assign arguments afterwards."
   ]
  },
  {
   "cell_type": "code",
   "execution_count": 24,
   "id": "c12fade8",
   "metadata": {},
   "outputs": [
    {
     "name": "stdout",
     "output_type": "stream",
     "text": [
      "train\n",
      "1981/1981\n",
      "validation\n",
      "541/541\n",
      "test\n",
      "425/425\n",
      "Number of downloads: 161\n"
     ]
    }
   ],
   "source": [
    "workflow_args = []\n",
    "for _ in [\"train\",\"validation\",\"test\"]:\n",
    "    print(_)\n",
    "    bbox_list_ = bbox_lists[_]\n",
    "    for i in range(len(bbox_list_)):\n",
    "        print(f\"\\r{i+1}/{len(bbox_list_)}\",end=\"\\r\")\n",
    "        try:\n",
    "            timestamps = parse_time_interval_observations( ### Will be replaced by new time-filter\n",
    "                time_interval = (config[f\"start_{_}\"],config[f\"end_{_}\"]),\n",
    "                bbox = bbox_list_[i], \n",
    "                data_collection = DataCollection.SENTINEL2_L1C, \n",
    "                check_timedelta = config[\"checktimedelta\"],\n",
    "                include_borders = True,\n",
    "                time_difference = dt.timedelta(hours=1,seconds=0), \n",
    "                maxcc = config[\"maxcc\"], \n",
    "                config = config[\"SHconfig\"]\n",
    "            )\n",
    "\n",
    "            dir_ = f\"{_}/eopatch_{i}_{timestamps[0].strftime(r'%Y-%m-%dT%H-%M-%S_%Z')}_{timestamps[1].strftime(r'%Y-%m-%dT%H-%M-%S_%Z')}\"\n",
    "            if not os.path.exists(os.path.join(config[\"dir_data\"],dir_)):### and False: ### \n",
    "                workflow_args.append(\n",
    "                    {\n",
    "                        node_data: {\"bbox\":bbox_list_[i],\"time_interval\":timestamps},\n",
    "                        node_save: {\"eopatch_folder\":dir_}\n",
    "                    }\n",
    "                )\n",
    "        except Exception as e:\n",
    "            print(e)\n",
    "    print()\n",
    "\n",
    "print(f\"Number of downloads: {len(workflow_args)}\")"
   ]
  },
  {
   "cell_type": "code",
   "execution_count": 25,
   "id": "15c73267",
   "metadata": {},
   "outputs": [
    {
     "data": {
      "text/plain": [
       "{EONode(task=<eolearn.io.sentinelhub_process.SentinelHubInputTask object at 0x7f8772447c40>, inputs=(), name='load Sentinel-2 data'): {'bbox': BBox(((435200.0, 9589760.0), (440320.0, 9594880.0)), crs=CRS('32722')),\n",
       "  'time_interval': (datetime.datetime(2021, 9, 30, 13, 53, 25, tzinfo=tzutc()),\n",
       "   datetime.datetime(2021, 12, 31, 23, 59, 59, tzinfo=<UTC>))},\n",
       " EONode(task=<tasks.SaveValidTask.SaveValidTask object at 0x7f87721923d0>, inputs=(EONode(task=<eolearn.core.core_tasks.MapFeatureTask object at 0x7f87721cbb80>, inputs=(EONode(task=<eolearn.core.core_tasks.ZipFeatureTask object at 0x7f87722d8370>, inputs=(EONode(task=<eolearn.features.feature_manipulation.SpatialResizeTask object at 0x7f8772192700>, inputs=(EONode(task=<eolearn.core.core_tasks.MapFeatureTask object at 0x7f87721cbbb0>, inputs=(EONode(task=<eolearn.io.raster_io.ImportFromTiffTask object at 0x7f87722d8e50>, inputs=(EONode(task=<eolearn.core.core_tasks.MapFeatureTask object at 0x7f87723fee20>, inputs=(EONode(task=<tasks.TDigestTask.TDigestTask object at 0x7f87723150d0>, inputs=(EONode(task=<tasks.PickIdxTask.PickIdxTask object at 0x7f87723fe3d0>, inputs=(EONode(task=<tasks.PickIdxTask.PickIdxTask object at 0x7f87723fe2e0>, inputs=(EONode(task=<tasks.PickIdxTask.PickIdxTask object at 0x7f877246f5b0>, inputs=(EONode(task=<eolearn.io.sentinelhub_process.SentinelHubInputTask object at 0x7f8772447c40>, inputs=(), name='load Sentinel-2 data'),), name='pick closest observation to reference for data'),), name='pick closest observation to reference for data mask'),), name='pick closest observation to reference for cloud mask'),), name='compute T-Digest of data'),), name='check data for completeness'),), name='load reference from disk'),), name='apply labelmapping'),), name='apply labelmapping'),), name='map clouds into reference'),), name='mask indefinite reference data'),), name='save valid EOPatch'): {'eopatch_folder': 'test/eopatch_414_2021-09-30T13-53-25_UTC_2021-12-31T23-59-59_UTC'}}"
      ]
     },
     "execution_count": 25,
     "metadata": {},
     "output_type": "execute_result"
    }
   ],
   "source": [
    "workflow_args[-1]"
   ]
  },
  {
   "cell_type": "markdown",
   "id": "12d96eee",
   "metadata": {},
   "source": [
    "## Executor\n",
    "So far, we have defined our\n",
    "- Area of Interest\n",
    "- Input and reference data\n",
    "- EOWorkflow\n",
    "- Execution (or workflow) arguments\n",
    "\n",
    "What is left, is the definition of our __EOExecutor__. This still has to be done!"
   ]
  },
  {
   "cell_type": "code",
   "execution_count": 26,
   "id": "e400b661",
   "metadata": {},
   "outputs": [],
   "source": [
    "#%% define executor\n",
    "executor = EOExecutor(workflow, workflow_args, save_logs=True)"
   ]
  },
  {
   "cell_type": "markdown",
   "id": "a2000bdd",
   "metadata": {},
   "source": [
    "Let it run!\n",
    "That may take a while..."
   ]
  },
  {
   "cell_type": "code",
   "execution_count": 27,
   "id": "9cbe2983",
   "metadata": {
    "scrolled": true
   },
   "outputs": [
    {
     "name": "stdout",
     "output_type": "stream",
     "text": [
      "Will start data acquisition using 5 threads!\n"
     ]
    },
    {
     "name": "stderr",
     "output_type": "stream",
     "text": [
      "100%|█████████████████████████████████████████| 161/161 [08:58<00:00,  3.35s/it]\n",
      "/home/michael/anaconda3/envs/eolearn_water/lib/python3.8/site-packages/eolearn/visualization/eoexecutor.py:57: EOUserWarning: failed to execute PosixPath('dot'), make sure the Graphviz executables are on your systems' PATH.\n",
      "Please install the system package 'graphviz' (in addition to the python package) to have the dependency graph in the final report!\n",
      "  warnings.warn(\n"
     ]
    }
   ],
   "source": [
    "#%% run\n",
    "print(f\"Will start data acquisition using {config['threads']} threads!\")\n",
    "executor.run(workers=config[\"threads\"])\n",
    "executor.make_report()"
   ]
  },
  {
   "cell_type": "markdown",
   "id": "af37928f",
   "metadata": {},
   "source": [
    "### Downloaded Data\n",
    "After a long time, our executor has finally finished its work.\n",
    "Let's **check** if anything unexpected happened."
   ]
  },
  {
   "cell_type": "code",
   "execution_count": 28,
   "id": "7332943a",
   "metadata": {},
   "outputs": [],
   "source": [
    "failed_ids = executor.get_failed_executions()\n",
    "if failed_ids:\n",
    "    print(\n",
    "        f\"Execution failed EOPatches with IDs:\\n{failed_ids}\\n\"\n",
    "        f\"For more info check report at {executor.get_report_path()}\"\n",
    "    )"
   ]
  },
  {
   "cell_type": "markdown",
   "id": "e2f591d5",
   "metadata": {},
   "source": [
    "Let's have a look at how many `EOPatches` got stored to disk."
   ]
  },
  {
   "cell_type": "code",
   "execution_count": 29,
   "id": "54d3e15e",
   "metadata": {},
   "outputs": [
    {
     "name": "stdout",
     "output_type": "stream",
     "text": [
      "Number of stored train EOPatches: 1876\n",
      "Number of stored validation EOPatches: 503\n",
      "Number of stored test EOPatches: 407\n",
      "\n",
      "Number of downloads: 161\n",
      "Total number of EOPatches: 2786\n"
     ]
    }
   ],
   "source": [
    "print(f\"Number of stored train EOPatches: {len(os.listdir(config['dir_train']))}\")\n",
    "print(f\"Number of stored validation EOPatches: {len(os.listdir(config['dir_validation']))}\")\n",
    "print(f\"Number of stored test EOPatches: {len(os.listdir(config['dir_test']))}\")\n",
    "print()\n",
    "print(f\"Number of downloads: {len(workflow_args)}\")\n",
    "print(f\"Total number of EOPatches: {len(os.listdir(config['dir_train']))+len(os.listdir(config['dir_validation']))+len(os.listdir(config['dir_test']))}\")"
   ]
  },
  {
   "cell_type": "markdown",
   "id": "4a354aa2",
   "metadata": {},
   "source": [
    "We finally made it!\n",
    "Everything is ready for being used!"
   ]
  },
  {
   "cell_type": "code",
   "execution_count": 30,
   "id": "547988e4",
   "metadata": {},
   "outputs": [
    {
     "name": "stdout",
     "output_type": "stream",
     "text": [
      "4\n",
      "3\n",
      "2\n",
      "1\n",
      "4\n",
      "3\n",
      "2\n",
      "1\n",
      "None\n",
      "None\n"
     ]
    }
   ],
   "source": [
    "print(FeatureType.DATA.ndim())\n",
    "print(FeatureType.DATA_TIMELESS.ndim())\n",
    "print(FeatureType.LABEL.ndim())\n",
    "print(FeatureType.LABEL_TIMELESS.ndim())\n",
    "print(FeatureType.MASK.ndim())\n",
    "print(FeatureType.MASK_TIMELESS.ndim())\n",
    "print(FeatureType.SCALAR.ndim())\n",
    "print(FeatureType.SCALAR_TIMELESS.ndim())\n",
    "print(FeatureType.VECTOR.ndim())\n",
    "print(FeatureType.VECTOR_TIMELESS.ndim())"
   ]
  }
 ],
 "metadata": {
  "kernelspec": {
   "display_name": "Python 3 (ipykernel)",
   "language": "python",
   "name": "python3"
  },
  "language_info": {
   "codemirror_mode": {
    "name": "ipython",
    "version": 3
   },
   "file_extension": ".py",
   "mimetype": "text/x-python",
   "name": "python",
   "nbconvert_exporter": "python",
   "pygments_lexer": "ipython3",
   "version": "3.8.13"
  }
 },
 "nbformat": 4,
 "nbformat_minor": 5
}
