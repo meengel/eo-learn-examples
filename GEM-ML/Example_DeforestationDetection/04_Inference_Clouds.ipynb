{
 "cells": [
  {
   "cell_type": "markdown",
   "id": "9f84f86f",
   "metadata": {},
   "source": [
    "# GEM ML Framework Demonstrator - Deforestation Detection\n",
    "In these notebooks, we will get a feeling of how the GEM ML framework can be used for the segmentation of deforested areas using Sentinel-2 imagery as input and the [TMF dataset](https://forobs.jrc.ec.europa.eu/TMF/) as a reference.\n",
    "The idea is to use a neural network (NN) model for the analysis.\n",
    "Thanks to the flexibility of the GEM ML framework, the model used can be replaced by changing the configuration only.\n",
    "We will have a look at the following notebooks separately:\n",
    "- 00_Configuration\n",
    "- 01_DataAcquisition\n",
    "- 02_DataNormalization\n",
    "- 03_TrainingValidationTesting\n",
    "- 04_Inference_Clouds\n",
    "- 04_Inference_Timeseries\n",
    "\n",
    "by Michael Engel (m.engel@tum.de) and Joana Reuss (joana.reuss@tum.de)\n",
    "\n",
    "-----------------------------------------------------------------------------------\n",
    "\n",
    "# Inference - Clouds\n",
    "This notebook shows how the GEM ML Framework can support continuous deforestation monitoring. In the chosen area, deforestation takes place for the sake of bauxite mining, and, e.g. a land surveying office is asking for an analysis. Reference data is not available, and several observations are cloudy. Still, we want a fast and reliable segmentation map of the area - preferably cloudless! For that purpose, a fast inference pipeline is necessary. For that purpose, we can use the `ModelForwardTask` method provided within the `PyTorchTasks` module. It enables the users to integrate an already trained PyTorch-model into their eo-learn workflows. The provided `ExecuteME` package does the management of GPU/CPU shifting. In general, we recommend doing this in standard Python scripts as Jupyter Notebooks do not support the spawn method for parallelization that PyTorch-objects ask for."
   ]
  },
  {
   "cell_type": "code",
   "execution_count": 2,
   "id": "0c981409",
   "metadata": {},
   "outputs": [
    {
     "name": "stderr",
     "output_type": "stream",
     "text": [
      "/home/joana/python_environments/eolearn_deforestation/lib/python3.9/site-packages/eolearn/io/sentinelhub_process.py:36: SHDeprecationWarning: The module `sentinelhub.type_utils` is deprecated, use `sentinelhub.types` instead.\n",
      "  from sentinelhub.type_utils import RawTimeIntervalType\n"
     ]
    },
    {
     "name": "stdout",
     "output_type": "stream",
     "text": [
      "Incorporating libs!\n",
      "Incorporating tasks!\n",
      "Incorporating utils!\n",
      "Working Directory: /home/joana/Documents/Promotion/Deforestation/eolearn/eo-learn-examples/GEM-ML/Example_DeforestationDetection\n",
      "Executable: /home/joana/python_environments/eolearn_deforestation/bin/python3.9\n"
     ]
    }
   ],
   "source": [
    "import os\n",
    "import sys\n",
    "import platform\n",
    "import numpy as np\n",
    "import datetime as dt\n",
    "import matplotlib.pyplot as plt\n",
    "import time\n",
    "import natsort\n",
    "\n",
    "import torch\n",
    "import torch.multiprocessing as mp\n",
    "from tensorboardX import SummaryWriter\n",
    "from tensorboard import notebook\n",
    "\n",
    "from sentinelhub import SHConfig, BBox, CRS, DataCollection, UtmZoneSplitter, DataCollection\n",
    "from eolearn.core import FeatureType, EOPatch, MergeEOPatchesTask, MapFeatureTask, MergeFeatureTask, ZipFeatureTask, LoadTask, EONode, EOWorkflow, EOExecutor, OverwritePermission, SaveTask\n",
    "from eolearn.io import SentinelHubDemTask, ExportToTiffTask, SentinelHubInputTask, SentinelHubEvalscriptTask, get_available_timestamps, ImportFromTiffTask\n",
    "from eolearn.mask import CloudMaskTask, JoinMasksTask\n",
    "from eolearn.features.feature_manipulation import SpatialResizeTask\n",
    "from eolearn.features.utils import ResizeMethod, ResizeLib\n",
    "\n",
    "import rasterio\n",
    "import geopandas as gpd\n",
    "import pandas as pd\n",
    "from shapely.geometry import Polygon,Point\n",
    "import folium\n",
    "from folium import plugins as foliumplugins\n",
    "\n",
    "from libs.ConfigME import Config, importME\n",
    "from libs.MergeTDigests import mergeTDigests\n",
    "from libs.QuantileScaler_eolearn import QuantileScaler_eolearn_tdigest\n",
    "from libs.Dataset_eolearn import Dataset_eolearn\n",
    "from libs import AugmentME\n",
    "from libs import ExecuteME\n",
    "\n",
    "from tasks.TDigestTask import TDigestTask\n",
    "from tasks.PickIdxTask import PickIdxTask\n",
    "from tasks.SaveValidTask import SaveValidTask\n",
    "from tasks.PyTorchTasks import ModelForwardTask\n",
    "\n",
    "from utils.rasterio_reproject import rasterio_reproject\n",
    "from utils.transforms import batchify, predict, mover, Torchify\n",
    "from utils.parse_time_interval_observations import parse_time_interval_observations\n",
    "\n",
    "print(\"Working Directory:\",os.getcwd())\n",
    "print(\"Environment:\",os.environ['CONDA_DEFAULT_ENV'])\n",
    "print(\"Executable:\",sys.executable)"
   ]
  },
  {
   "cell_type": "markdown",
   "id": "2484bf33",
   "metadata": {},
   "source": [
    "# Config\n",
    "First, we load our configuration file which provides all information we need throughout the script."
   ]
  },
  {
   "cell_type": "code",
   "execution_count": 4,
   "id": "267b86b1",
   "metadata": {},
   "outputs": [],
   "source": [
    "#%% load configuration file\n",
    "config = Config.LOAD(\"config.dill\")\n",
    "config.linuxify()"
   ]
  },
  {
   "cell_type": "markdown",
   "id": "4838c8b3",
   "metadata": {},
   "source": [
    "# Area of Interest\n",
    "Let's load the geojson of our area of interest for decision making."
   ]
  },
  {
   "cell_type": "code",
   "execution_count": 5,
   "id": "565d166e",
   "metadata": {},
   "outputs": [],
   "source": [
    "#%% load geojson files\n",
    "aoi_showcase = gpd.read_file(config['AOI_showcase'])\n",
    "\n",
    "#%% find best suitable crs and transform to it\n",
    "crs_showcase = aoi_showcase.estimate_utm_crs()\n",
    "aoi_showcase = aoi_showcase.to_crs(crs_showcase)"
   ]
  },
  {
   "cell_type": "code",
   "execution_count": 7,
   "id": "ee204fe3",
   "metadata": {},
   "outputs": [
    {
     "name": "stdout",
     "output_type": "stream",
     "text": [
      "Dimension of the showcase area is 2.53e+09 m2\n"
     ]
    }
   ],
   "source": [
    "#%% calculate and print size\n",
    "aoi_showcase_shape = aoi_showcase.geometry\n",
    "aoi_showcase_width = [geom.bounds[2]-geom.bounds[0] for geom in aoi_showcase_shape]\n",
    "aoi_showcase_height = [geom.bounds[3]-geom.bounds[1] for geom in aoi_showcase_shape]\n",
    "print(f\"Dimension of the showcase area is {np.sum(np.array(aoi_showcase_width)*np.array(aoi_showcase_height)):.2e} m2\")\n",
    "\n",
    "#%% create a splitter to obtain a list of bboxes\n",
    "bbox_splitter_showcase = UtmZoneSplitter(aoi_showcase_shape, aoi_showcase.crs, config[\"patchpixelwidth\"]*config[\"resolution\"])\n",
    "\n",
    "bbox_list_showcase = np.array(bbox_splitter_showcase.get_bbox_list())\n",
    "info_list_showcase = np.array(bbox_splitter_showcase.get_info_list())"
   ]
  },
  {
   "cell_type": "code",
   "execution_count": 8,
   "id": "5473a46a",
   "metadata": {},
   "outputs": [
    {
     "name": "stdout",
     "output_type": "stream",
     "text": [
      "Total number of tiles: 121\n"
     ]
    }
   ],
   "source": [
    "#%% determine number of coordinate reference systems\n",
    "crss = [bbox_._crs for bbox_ in bbox_list_showcase]\n",
    "crss_unique = np.array(list(dict.fromkeys(crss)))\n",
    "n_crss = len(crss_unique)\n",
    "\n",
    "#%% sort geometries and indices by crs and store to disk\n",
    "geometries = [[] for i in range(n_crss)]\n",
    "idxs = [[] for i in range(n_crss)]\n",
    "idxs_x = [[] for i in range(n_crss)]\n",
    "idxs_y = [[] for i in range(n_crss)]\n",
    "for i,info in enumerate(info_list_showcase):\n",
    "    idx_ = np.argmax(crss_unique==bbox_list_showcase[i]._crs)\n",
    "\n",
    "    geometries[idx_].append(Polygon(bbox_list_showcase[i].get_polygon())) # geometries sorted by crs\n",
    "    idxs[idx_].append(info[\"index\"]) # idxs sorted by crs\n",
    "    idxs_x[idx_].append(info[\"index_x\"]) # idxs_x sorted by crs\n",
    "    idxs_y[idx_].append(info[\"index_y\"]) # idxs_y sorted by crs\n",
    "\n",
    "tiles = []\n",
    "for i in range(n_crss):\n",
    "    #%%% build dataframe of our areas of interest (and each crs)\n",
    "    tiles.append(\n",
    "        gpd.GeoDataFrame(\n",
    "            {\"index\": idxs[i], \"index_x\": idxs_x[i], \"index_y\": idxs_y[i]},\n",
    "            crs=\"EPSG:\"+crss_unique[i]._value_,\n",
    "            geometry=geometries[i]\n",
    "        )\n",
    "    )\n",
    "    #%%% save dataframes to shapefiles\n",
    "    tiles[-1].to_file(os.path.join(config[\"dir_results\"],f\"grid_aoi_showcase_{i}_EPSG{str(crss_unique[i]._value_)}.gpkg\"), driver=\"GPKG\")\n",
    "    \n",
    "#%% print amount of patches\n",
    "print(\"Total number of tiles:\",len(bbox_list_showcase))    "
   ]
  },
  {
   "cell_type": "code",
   "execution_count": 9,
   "id": "e2caa372",
   "metadata": {},
   "outputs": [
    {
     "name": "stderr",
     "output_type": "stream",
     "text": [
      "/tmp/ipykernel_376694/3448311620.py:3: UserWarning: Geometry is in a geographic CRS. Results from 'centroid' are likely incorrect. Use 'GeoSeries.to_crs()' to re-project geometries to a projected CRS before this operation.\n",
      "\n",
      "  location = [aoi_folium.centroid.y,aoi_folium.centroid.x]\n",
      "/tmp/ipykernel_376694/3448311620.py:3: UserWarning: Geometry is in a geographic CRS. Results from 'centroid' are likely incorrect. Use 'GeoSeries.to_crs()' to re-project geometries to a projected CRS before this operation.\n",
      "\n",
      "  location = [aoi_folium.centroid.y,aoi_folium.centroid.x]\n"
     ]
    },
    {
     "data": {
      "text/html": [
       "<div style=\"width:100%;\"><div style=\"position:relative;width:100%;height:0;padding-bottom:60%;\"><span style=\"color:#565656\">Make this Notebook Trusted to load map: File -> Trust Notebook</span><iframe srcdoc=\"&lt;!DOCTYPE html&gt;\n",
       "&lt;head&gt;    \n",
       "    &lt;meta http-equiv=&quot;content-type&quot; content=&quot;text/html; charset=UTF-8&quot; /&gt;\n",
       "    \n",
       "        &lt;script&gt;\n",
       "            L_NO_TOUCH = false;\n",
       "            L_DISABLE_3D = false;\n",
       "        &lt;/script&gt;\n",
       "    \n",
       "    &lt;style&gt;html, body {width: 100%;height: 100%;margin: 0;padding: 0;}&lt;/style&gt;\n",
       "    &lt;style&gt;#map {position:absolute;top:0;bottom:0;right:0;left:0;}&lt;/style&gt;\n",
       "    &lt;script src=&quot;https://cdn.jsdelivr.net/npm/leaflet@1.6.0/dist/leaflet.js&quot;&gt;&lt;/script&gt;\n",
       "    &lt;script src=&quot;https://code.jquery.com/jquery-1.12.4.min.js&quot;&gt;&lt;/script&gt;\n",
       "    &lt;script src=&quot;https://maxcdn.bootstrapcdn.com/bootstrap/3.2.0/js/bootstrap.min.js&quot;&gt;&lt;/script&gt;\n",
       "    &lt;script src=&quot;https://cdnjs.cloudflare.com/ajax/libs/Leaflet.awesome-markers/2.0.2/leaflet.awesome-markers.js&quot;&gt;&lt;/script&gt;\n",
       "    &lt;link rel=&quot;stylesheet&quot; href=&quot;https://cdn.jsdelivr.net/npm/leaflet@1.6.0/dist/leaflet.css&quot;/&gt;\n",
       "    &lt;link rel=&quot;stylesheet&quot; href=&quot;https://maxcdn.bootstrapcdn.com/bootstrap/3.2.0/css/bootstrap.min.css&quot;/&gt;\n",
       "    &lt;link rel=&quot;stylesheet&quot; href=&quot;https://maxcdn.bootstrapcdn.com/bootstrap/3.2.0/css/bootstrap-theme.min.css&quot;/&gt;\n",
       "    &lt;link rel=&quot;stylesheet&quot; href=&quot;https://maxcdn.bootstrapcdn.com/font-awesome/4.6.3/css/font-awesome.min.css&quot;/&gt;\n",
       "    &lt;link rel=&quot;stylesheet&quot; href=&quot;https://cdnjs.cloudflare.com/ajax/libs/Leaflet.awesome-markers/2.0.2/leaflet.awesome-markers.css&quot;/&gt;\n",
       "    &lt;link rel=&quot;stylesheet&quot; href=&quot;https://cdn.jsdelivr.net/gh/python-visualization/folium/folium/templates/leaflet.awesome.rotate.min.css&quot;/&gt;\n",
       "    \n",
       "            &lt;meta name=&quot;viewport&quot; content=&quot;width=device-width,\n",
       "                initial-scale=1.0, maximum-scale=1.0, user-scalable=no&quot; /&gt;\n",
       "            &lt;style&gt;\n",
       "                #map_239060e3e7a33ce4daee4320d366dddc {\n",
       "                    position: relative;\n",
       "                    width: 100.0%;\n",
       "                    height: 100.0%;\n",
       "                    left: 0.0%;\n",
       "                    top: 0.0%;\n",
       "                }\n",
       "            &lt;/style&gt;\n",
       "        \n",
       "    \n",
       "                    &lt;style&gt;\n",
       "                        .foliumtooltip {\n",
       "                            background-color:rgba(0,101,189,0.4); border:2px solid white; color:white;\n",
       "                        }\n",
       "                       .foliumtooltip table{\n",
       "                            margin: auto;\n",
       "                        }\n",
       "                        .foliumtooltip tr{\n",
       "                            text-align: left;\n",
       "                        }\n",
       "                        .foliumtooltip th{\n",
       "                            padding: 2px; padding-right: 8px;\n",
       "                        }\n",
       "                    &lt;/style&gt;\n",
       "            \n",
       "    &lt;script src=&quot;https://cdnjs.cloudflare.com/ajax/libs/leaflet.fullscreen/1.4.2/Control.FullScreen.min.js&quot;&gt;&lt;/script&gt;\n",
       "    &lt;link rel=&quot;stylesheet&quot; href=&quot;https://cdnjs.cloudflare.com/ajax/libs/leaflet.fullscreen/1.4.2/Control.FullScreen.min.css&quot;/&gt;\n",
       "&lt;/head&gt;\n",
       "&lt;body&gt;    \n",
       "    \n",
       "            &lt;div class=&quot;folium-map&quot; id=&quot;map_239060e3e7a33ce4daee4320d366dddc&quot; &gt;&lt;/div&gt;\n",
       "        \n",
       "&lt;/body&gt;\n",
       "&lt;script&gt;    \n",
       "    \n",
       "            var map_239060e3e7a33ce4daee4320d366dddc = L.map(\n",
       "                &quot;map_239060e3e7a33ce4daee4320d366dddc&quot;,\n",
       "                {\n",
       "                    center: [-2.350078773701861, -56.13430645859289],\n",
       "                    crs: L.CRS.EPSG3857,\n",
       "                    zoom: 8,\n",
       "                    zoomControl: true,\n",
       "                    preferCanvas: false,\n",
       "                }\n",
       "            );\n",
       "\n",
       "            \n",
       "\n",
       "        \n",
       "    \n",
       "            var tile_layer_da23aa1a7a743f78ff254a08a804cdd7 = L.tileLayer(\n",
       "                &quot;https://stamen-tiles-{s}.a.ssl.fastly.net/terrain/{z}/{x}/{y}.jpg&quot;,\n",
       "                {&quot;attribution&quot;: &quot;Map tiles by \\u003ca href=\\&quot;http://stamen.com\\&quot;\\u003eStamen Design\\u003c/a\\u003e, under \\u003ca href=\\&quot;http://creativecommons.org/licenses/by/3.0\\&quot;\\u003eCC BY 3.0\\u003c/a\\u003e. Data by \\u0026copy; \\u003ca href=\\&quot;http://openstreetmap.org\\&quot;\\u003eOpenStreetMap\\u003c/a\\u003e, under \\u003ca href=\\&quot;http://creativecommons.org/licenses/by-sa/3.0\\&quot;\\u003eCC BY SA\\u003c/a\\u003e.&quot;, &quot;detectRetina&quot;: false, &quot;maxNativeZoom&quot;: 18, &quot;maxZoom&quot;: 18, &quot;minZoom&quot;: 0, &quot;noWrap&quot;: false, &quot;opacity&quot;: 1, &quot;subdomains&quot;: &quot;abc&quot;, &quot;tms&quot;: false}\n",
       "            ).addTo(map_239060e3e7a33ce4daee4320d366dddc);\n",
       "        \n",
       "    \n",
       "            var choropleth_535656884a88e3171bbdbe765f4bf51a = L.featureGroup(\n",
       "                {}\n",
       "            ).addTo(map_239060e3e7a33ce4daee4320d366dddc);\n",
       "        \n",
       "    \n",
       "        function geo_json_edcb8989fdbfecbd04ba8eb11a38f8de_styler(feature) {\n",
       "            switch(feature.id) {\n",
       "                default:\n",
       "                    return {&quot;color&quot;: &quot;royalblue&quot;, &quot;fillColor&quot;: &quot;royalblue&quot;, &quot;fillOpacity&quot;: 0, &quot;opacity&quot;: 0.6, &quot;weight&quot;: 1};\n",
       "            }\n",
       "        }\n",
       "\n",
       "        function geo_json_edcb8989fdbfecbd04ba8eb11a38f8de_onEachFeature(feature, layer) {\n",
       "            layer.on({\n",
       "            });\n",
       "        };\n",
       "        var geo_json_edcb8989fdbfecbd04ba8eb11a38f8de = L.geoJson(null, {\n",
       "                smoothFactor: 5,\n",
       "                onEachFeature: geo_json_edcb8989fdbfecbd04ba8eb11a38f8de_onEachFeature,\n",
       "            \n",
       "                style: geo_json_edcb8989fdbfecbd04ba8eb11a38f8de_styler,\n",
       "        });\n",
       "\n",
       "        function geo_json_edcb8989fdbfecbd04ba8eb11a38f8de_add (data) {\n",
       "            geo_json_edcb8989fdbfecbd04ba8eb11a38f8de\n",
       "                .addData(data)\n",
       "                .addTo(choropleth_535656884a88e3171bbdbe765f4bf51a);\n",
       "        }\n",
       "            geo_json_edcb8989fdbfecbd04ba8eb11a38f8de_add({&quot;features&quot;: [{&quot;geometry&quot;: {&quot;coordinates&quot;: [[[[-56.370445813250186, -2.567760619935554], [-56.370445813250186, -2.1323969274681644], [-55.89816710393563, -2.132396927468169], [-55.89816710393563, -2.567760619935559], [-56.370445813250186, -2.567760619935554]]]], &quot;type&quot;: &quot;MultiPolygon&quot;}, &quot;id&quot;: &quot;0&quot;, &quot;properties&quot;: {&quot;id&quot;: 1}, &quot;type&quot;: &quot;Feature&quot;}], &quot;type&quot;: &quot;FeatureCollection&quot;});\n",
       "\n",
       "        \n",
       "    \n",
       "            var choropleth_78a32a0f14ff4db0503a853d41bc11d6 = L.featureGroup(\n",
       "                {}\n",
       "            ).addTo(map_239060e3e7a33ce4daee4320d366dddc);\n",
       "        \n",
       "    \n",
       "        function geo_json_3f100503141a345daebea3c8eec0150c_styler(feature) {\n",
       "            switch(feature.id) {\n",
       "                default:\n",
       "                    return {&quot;color&quot;: &quot;royalblue&quot;, &quot;fillColor&quot;: &quot;royalblue&quot;, &quot;fillOpacity&quot;: 0, &quot;opacity&quot;: 0.6, &quot;weight&quot;: 0.5};\n",
       "            }\n",
       "        }\n",
       "\n",
       "        function geo_json_3f100503141a345daebea3c8eec0150c_onEachFeature(feature, layer) {\n",
       "            layer.on({\n",
       "            });\n",
       "        };\n",
       "        var geo_json_3f100503141a345daebea3c8eec0150c = L.geoJson(null, {\n",
       "                smoothFactor: 5,\n",
       "                onEachFeature: geo_json_3f100503141a345daebea3c8eec0150c_onEachFeature,\n",
       "            \n",
       "                style: geo_json_3f100503141a345daebea3c8eec0150c_styler,\n",
       "        });\n",
       "\n",
       "        function geo_json_3f100503141a345daebea3c8eec0150c_add (data) {\n",
       "            geo_json_3f100503141a345daebea3c8eec0150c\n",
       "                .addData(data)\n",
       "                .addTo(choropleth_78a32a0f14ff4db0503a853d41bc11d6);\n",
       "        }\n",
       "            geo_json_3f100503141a345daebea3c8eec0150c_add({&quot;features&quot;: [{&quot;geometry&quot;: {&quot;coordinates&quot;: [[[-56.38540892365047, -2.5996677874441874], [-56.38543113213998, -2.553349163965266], [-56.339376435784736, -2.5533262005146686], [-56.33935256331531, -2.5996444068843445], [-56.38540892365047, -2.5996677874441874]]], &quot;type&quot;: &quot;Polygon&quot;}, &quot;id&quot;: &quot;0&quot;, &quot;properties&quot;: {&quot;index&quot;: 0, &quot;index_x&quot;: 0, &quot;index_y&quot;: 0}, &quot;type&quot;: &quot;Feature&quot;}, {&quot;geometry&quot;: {&quot;coordinates&quot;: [[[-56.38543113213998, -2.553349163965266], [-56.385452940081045, -2.5070305068281096], [-56.339399877694504, -2.507007960458189], [-56.339376435784736, -2.5533262005146686], [-56.38543113213998, -2.553349163965266]]], &quot;type&quot;: &quot;Polygon&quot;}, &quot;id&quot;: &quot;1&quot;, &quot;properties&quot;: {&quot;index&quot;: 1, &quot;index_x&quot;: 0, &quot;index_y&quot;: 1}, &quot;type&quot;: &quot;Feature&quot;}, {&quot;geometry&quot;: {&quot;coordinates&quot;: [[[-56.385452940081045, -2.5070305068281096], [-56.38547434754425, -2.4607118166417115], [-56.33942288912047, -2.460689687324424], [-56.339399877694504, -2.507007960458189], [-56.385452940081045, -2.5070305068281096]]], &quot;type&quot;: &quot;Polygon&quot;}, &quot;id&quot;: &quot;2&quot;, &quot;properties&quot;: {&quot;index&quot;: 2, &quot;index_x&quot;: 0, &quot;index_y&quot;: 2}, &quot;type&quot;: &quot;Feature&quot;}, {&quot;geometry&quot;: {&quot;coordinates&quot;: [[[-56.38547434754425, -2.4607118166417115], [-56.38549535459885, -2.414393094015151], [-56.339445470137086, -2.4143713817229706], [-56.33942288912047, -2.460689687324424], [-56.38547434754425, -2.4607118166417115]]], &quot;type&quot;: &quot;Polygon&quot;}, &quot;id&quot;: &quot;3&quot;, &quot;properties&quot;: {&quot;index&quot;: 3, &quot;index_x&quot;: 0, &quot;index_y&quot;: 3}, &quot;type&quot;: &quot;Feature&quot;}, {&quot;geometry&quot;: {&quot;coordinates&quot;: [[[-56.38549535459885, -2.414393094015151], [-56.38551596131282, -2.3680743395575954], [-56.339467620817416, -2.368053044263518], [-56.339445470137086, -2.4143713817229706], [-56.38549535459885, -2.414393094015151]]], &quot;type&quot;: &quot;Polygon&quot;}, &quot;id&quot;: &quot;4&quot;, &quot;properties&quot;: {&quot;index&quot;: 4, &quot;index_x&quot;: 0, &quot;index_y&quot;: 4}, &quot;type&quot;: &quot;Feature&quot;}, {&quot;geometry&quot;: {&quot;coordinates&quot;: [[[-56.38551596131282, -2.3680743395575954], [-56.38553616775281, -2.321755553878295], [-56.339489341233104, -2.321734675555836], [-56.339467620817416, -2.368053044263518], [-56.38551596131282, -2.3680743395575954]]], &quot;type&quot;: &quot;Polygon&quot;}, &quot;id&quot;: &quot;5&quot;, &quot;properties&quot;: {&quot;index&quot;: 5, &quot;index_x&quot;: 0, &quot;index_y&quot;: 5}, &quot;type&quot;: &quot;Feature&quot;}, {&quot;geometry&quot;: {&quot;coordinates&quot;: [[[-56.38553616775281, -2.321755553878295], [-56.38555597398418, -2.27543673758658], [-56.33951063145441, -2.2754162762097763], [-56.339489341233104, -2.321734675555836], [-56.38553616775281, -2.321755553878295]]], &quot;type&quot;: &quot;Polygon&quot;}, &quot;id&quot;: &quot;6&quot;, &quot;properties&quot;: {&quot;index&quot;: 6, &quot;index_x&quot;: 0, &quot;index_y&quot;: 6}, &quot;type&quot;: &quot;Feature&quot;}, {&quot;geometry&quot;: {&quot;coordinates&quot;: [[[-56.38555597398418, -2.27543673758658], [-56.38557538007102, -2.2291178912918634], [-56.3395314915502, -2.2290978468352716], [-56.33951063145441, -2.2754162762097763], [-56.38555597398418, -2.27543673758658]]], &quot;type&quot;: &quot;Polygon&quot;}, &quot;id&quot;: &quot;7&quot;, &quot;properties&quot;: {&quot;index&quot;: 7, &quot;index_x&quot;: 0, &quot;index_y&quot;: 7}, &quot;type&quot;: &quot;Feature&quot;}, {&quot;geometry&quot;: {&quot;coordinates&quot;: [[[-56.38557538007102, -2.2291178912918634], [-56.38559438607607, -2.1827990156036376], [-56.33955192158795, -2.182779388042335], [-56.3395314915502, -2.2290978468352716], [-56.38557538007102, -2.2291178912918634]]], &quot;type&quot;: &quot;Polygon&quot;}, &quot;id&quot;: &quot;8&quot;, &quot;properties&quot;: {&quot;index&quot;: 8, &quot;index_x&quot;: 0, &quot;index_y&quot;: 8}, &quot;type&quot;: &quot;Feature&quot;}, {&quot;geometry&quot;: {&quot;coordinates&quot;: [[[-56.38559438607607, -2.1827990156036376], [-56.38561299206081, -2.1364801111314713], [-56.339571921633706, -2.136460900441055], [-56.33955192158795, -2.182779388042335], [-56.38559438607607, -2.1827990156036376]]], &quot;type&quot;: &quot;Polygon&quot;}, &quot;id&quot;: &quot;9&quot;, &quot;properties&quot;: {&quot;index&quot;: 9, &quot;index_x&quot;: 0, &quot;index_y&quot;: 9}, &quot;type&quot;: &quot;Feature&quot;}, {&quot;geometry&quot;: {&quot;coordinates&quot;: [[[-56.38561299206081, -2.1364801111314713], [-56.38563119808539, -2.0901611784850114], [-56.33959149175217, -2.0901423846415965], [-56.339571921633706, -2.136460900441055], [-56.38561299206081, -2.1364801111314713]]], &quot;type&quot;: &quot;Polygon&quot;}, &quot;id&quot;: &quot;10&quot;, &quot;properties&quot;: {&quot;index&quot;: 10, &quot;index_x&quot;: 0, &quot;index_y&quot;: 10}, &quot;type&quot;: &quot;Feature&quot;}, {&quot;geometry&quot;: {&quot;coordinates&quot;: [[[-56.33935256331531, -2.5996444068843445], [-56.339376435784736, -2.5533262005146686], [-56.29332216998891, -2.5533015786851823], [-56.293296633616826, -2.599619337822755], [-56.33935256331531, -2.5996444068843445]]], &quot;type&quot;: &quot;Polygon&quot;}, &quot;id&quot;: &quot;11&quot;, &quot;properties&quot;: {&quot;index&quot;: 11, &quot;index_x&quot;: 1, &quot;index_y&quot;: 0}, &quot;type&quot;: &quot;Feature&quot;}, {&quot;geometry&quot;: {&quot;coordinates&quot;: [[[-56.339376435784736, -2.5533262005146686], [-56.339399877694504, -2.507007960458189], [-56.29334724579153, -2.5069837858301787], [-56.29332216998891, -2.5533015786851823], [-56.339376435784736, -2.5533262005146686]]], &quot;type&quot;: &quot;Polygon&quot;}, &quot;id&quot;: &quot;12&quot;, &quot;properties&quot;: {&quot;index&quot;: 12, &quot;index_x&quot;: 1, &quot;index_y&quot;: 1}, &quot;type&quot;: &quot;Feature&quot;}, {&quot;geometry&quot;: {&quot;coordinates&quot;: [[[-56.339399877694504, -2.507007960458189], [-56.33942288912047, -2.460689687324424], [-56.29337186110581, -2.4606659598678178], [-56.29334724579153, -2.5069837858301787], [-56.339399877694504, -2.507007960458189]]], &quot;type&quot;: &quot;Polygon&quot;}, &quot;id&quot;: &quot;13&quot;, &quot;properties&quot;: {&quot;index&quot;: 13, &quot;index_x&quot;: 1, &quot;index_y&quot;: 2}, &quot;type&quot;: &quot;Feature&quot;}, {&quot;geometry&quot;: {&quot;coordinates&quot;: [[[-56.33942288912047, -2.460689687324424], [-56.339445470137086, -2.4143713817229706], [-56.293396016011386, -2.414348101408258], [-56.29337186110581, -2.4606659598678178], [-56.33942288912047, -2.460689687324424]]], &quot;type&quot;: &quot;Polygon&quot;}, &quot;id&quot;: &quot;14&quot;, &quot;properties&quot;: {&quot;index&quot;: 14, &quot;index_x&quot;: 1, &quot;index_y&quot;: 3}, &quot;type&quot;: &quot;Feature&quot;}, {&quot;geometry&quot;: {&quot;coordinates&quot;: [[[-56.339445470137086, -2.4143713817229706], [-56.339467620817416, -2.368053044263518], [-56.29341971058641, -2.368030211061744], [-56.293396016011386, -2.414348101408258], [-56.339445470137086, -2.4143713817229706]]], &quot;type&quot;: &quot;Polygon&quot;}, &quot;id&quot;: &quot;15&quot;, &quot;properties&quot;: {&quot;index&quot;: 15, &quot;index_x&quot;: 1, &quot;index_y&quot;: 4}, &quot;type&quot;: &quot;Feature&quot;}, {&quot;geometry&quot;: {&quot;coordinates&quot;: [[[-56.339467620817416, -2.368053044263518], [-56.339489341233104, -2.321734675555836], [-56.29344294490754, -2.3217122894386044], [-56.29341971058641, -2.368030211061744], [-56.339467620817416, -2.368053044263518]]], &quot;type&quot;: &quot;Polygon&quot;}, &quot;id&quot;: &quot;16&quot;, &quot;properties&quot;: {&quot;index&quot;: 16, &quot;index_x&quot;: 1, &quot;index_y&quot;: 5}, &quot;type&quot;: &quot;Feature&quot;}, {&quot;geometry&quot;: {&quot;coordinates&quot;: [[[-56.339489341233104, -2.321734675555836], [-56.33951063145441, -2.2754162762097763], [-56.29346571904991, -2.27539433714925], [-56.29344294490754, -2.3217122894386044], [-56.339489341233104, -2.321734675555836]]], &quot;type&quot;: &quot;Polygon&quot;}, &quot;id&quot;: &quot;17&quot;, &quot;properties&quot;: {&quot;index&quot;: 17, &quot;index_x&quot;: 1, &quot;index_y&quot;: 6}, &quot;type&quot;: &quot;Feature&quot;}, {&quot;geometry&quot;: {&quot;coordinates&quot;: [[[-56.33951063145441, -2.2754162762097763], [-56.3395314915502, -2.2290978468352716], [-56.2934880330872, -2.2290763548041714], [-56.29346571904991, -2.27539433714925], [-56.33951063145441, -2.2754162762097763]]], &quot;type&quot;: &quot;Polygon&quot;}, &quot;id&quot;: &quot;18&quot;, &quot;properties&quot;: {&quot;index&quot;: 18, &quot;index_x&quot;: 1, &quot;index_y&quot;: 7}, &quot;type&quot;: &quot;Feature&quot;}, {&quot;geometry&quot;: {&quot;coordinates&quot;: [[[-56.3395314915502, -2.2290978468352716], [-56.33955192158795, -2.182779388042335], [-56.29350988709157, -2.182758343013938], [-56.2934880330872, -2.2290763548041714], [-56.3395314915502, -2.2290978468352716]]], &quot;type&quot;: &quot;Polygon&quot;}, &quot;id&quot;: &quot;19&quot;, &quot;properties&quot;: {&quot;index&quot;: 19, &quot;index_x&quot;: 1, &quot;index_y&quot;: 8}, &quot;type&quot;: &quot;Feature&quot;}, {&quot;geometry&quot;: {&quot;coordinates&quot;: [[[-56.33955192158795, -2.182779388042335], [-56.339571921633706, -2.136460900441055], [-56.29353128113368, -2.1364403023891962], [-56.29350988709157, -2.182758343013938], [-56.33955192158795, -2.182779388042335]]], &quot;type&quot;: &quot;Polygon&quot;}, &quot;id&quot;: &quot;20&quot;, &quot;properties&quot;: {&quot;index&quot;: 20, &quot;index_x&quot;: 1, &quot;index_y&quot;: 9}, &quot;type&quot;: &quot;Feature&quot;}, {&quot;geometry&quot;: {&quot;coordinates&quot;: [[[-56.339571921633706, -2.136460900441055], [-56.33959149175217, -2.0901423846415965], [-56.29355221528274, -2.0901222335406695], [-56.29353128113368, -2.1364403023891962], [-56.339571921633706, -2.136460900441055]]], &quot;type&quot;: &quot;Polygon&quot;}, &quot;id&quot;: &quot;21&quot;, &quot;properties&quot;: {&quot;index&quot;: 21, &quot;index_x&quot;: 1, &quot;index_y&quot;: 10}, &quot;type&quot;: &quot;Feature&quot;}, {&quot;geometry&quot;: {&quot;coordinates&quot;: [[[-56.293296633616826, -2.599619337822755], [-56.29332216998891, -2.5533015786851823], [-56.24726836476233, -2.5532752985563856], [-56.2472411645702, -2.5995925803404427], [-56.293296633616826, -2.599619337822755]]], &quot;type&quot;: &quot;Polygon&quot;}, &quot;id&quot;: &quot;22&quot;, &quot;properties&quot;: {&quot;index&quot;: 22, &quot;index_x&quot;: 2, &quot;index_y&quot;: 0}, &quot;type&quot;: &quot;Feature&quot;}, {&quot;geometry&quot;: {&quot;coordinates&quot;: [[[-56.29332216998891, -2.5533015786851823], [-56.29334724579153, -2.5069837858301787], [-56.247295074376645, -2.506957983022206], [-56.24726836476233, -2.5532752985563856], [-56.29332216998891, -2.5533015786851823]]], &quot;type&quot;: &quot;Polygon&quot;}, &quot;id&quot;: &quot;23&quot;, &quot;properties&quot;: {&quot;index&quot;: 23, &quot;index_x&quot;: 2, &quot;index_y&quot;: 1}, &quot;type&quot;: &quot;Feature&quot;}, {&quot;geometry&quot;: {&quot;coordinates&quot;: [[[-56.29334724579153, -2.5069837858301787], [-56.29337186110581, -2.4606659598678178], [-56.247321293499596, -2.460640634348574], [-56.247295074376645, -2.506957983022206], [-56.29334724579153, -2.5069837858301787]]], &quot;type&quot;: &quot;Polygon&quot;}, &quot;id&quot;: &quot;24&quot;, &quot;properties&quot;: {&quot;index&quot;: 24, &quot;index_x&quot;: 2, &quot;index_y&quot;: 2}, &quot;type&quot;: &quot;Feature&quot;}, {&quot;geometry&quot;: {&quot;coordinates&quot;: [[[-56.29337186110581, -2.4606659598678178], [-56.293396016011386, -2.414348101408258], [-56.24734702221599, -2.414323253146243], [-56.247321293499596, -2.460640634348574], [-56.29337186110581, -2.4606659598678178]]], &quot;type&quot;: &quot;Polygon&quot;}, &quot;id&quot;: &quot;25&quot;, &quot;properties&quot;: {&quot;index&quot;: 25, &quot;index_x&quot;: 2, &quot;index_y&quot;: 3}, &quot;type&quot;: &quot;Feature&quot;}, {&quot;geometry&quot;: {&quot;coordinates&quot;: [[[-56.293396016011386, -2.414348101408258], [-56.29341971058641, -2.368030211061744], [-56.24737226060907, -2.368005840026057], [-56.24734702221599, -2.414323253146243], [-56.293396016011386, -2.414348101408258]]], &quot;type&quot;: &quot;Polygon&quot;}, &quot;id&quot;: &quot;26&quot;, &quot;properties&quot;: {&quot;index&quot;: 26, &quot;index_x&quot;: 2, &quot;index_y&quot;: 4}, &quot;type&quot;: &quot;Feature&quot;}, {&quot;geometry&quot;: {&quot;coordinates&quot;: [[[-56.29341971058641, -2.368030211061744], [-56.29344294490754, -2.3217122894386044], [-56.24739700876047, -2.3216883955989376], [-56.24737226060907, -2.368005840026057], [-56.29341971058641, -2.368030211061744]]], &quot;type&quot;: &quot;Polygon&quot;}, &quot;id&quot;: &quot;27&quot;, &quot;properties&quot;: {&quot;index&quot;: 27, &quot;index_x&quot;: 2, &quot;index_y&quot;: 5}, &quot;type&quot;: &quot;Feature&quot;}, {&quot;geometry&quot;: {&quot;coordinates&quot;: [[[-56.29344294490754, -2.3217122894386044], [-56.29346571904991, -2.27539433714925], [-56.24742126675026, -2.2753709204758916], [-56.24739700876047, -2.3216883955989376], [-56.29344294490754, -2.3217122894386044]]], &quot;type&quot;: &quot;Polygon&quot;}, &quot;id&quot;: &quot;28&quot;, &quot;properties&quot;: {&quot;index&quot;: 28, &quot;index_x&quot;: 2, &quot;index_y&quot;: 6}, &quot;type&quot;: &quot;Feature&quot;}, {&quot;geometry&quot;: {&quot;coordinates&quot;: [[[-56.29346571904991, -2.27539433714925], [-56.2934880330872, -2.2290763548041714], [-56.24744503465687, -2.2290534152680044], [-56.24742126675026, -2.2753709204758916], [-56.29346571904991, -2.27539433714925]]], &quot;type&quot;: &quot;Polygon&quot;}, &quot;id&quot;: &quot;29&quot;, &quot;properties&quot;: {&quot;index&quot;: 29, &quot;index_x&quot;: 2, &quot;index_y&quot;: 7}, &quot;type&quot;: &quot;Feature&quot;}, {&quot;geometry&quot;: {&quot;coordinates&quot;: [[[-56.2934880330872, -2.2290763548041714], [-56.29350988709157, -2.182758343013938], [-56.24746831255719, -2.182735880586441], [-56.24744503465687, -2.2290534152680044], [-56.2934880330872, -2.2290763548041714]]], &quot;type&quot;: &quot;Polygon&quot;}, &quot;id&quot;: &quot;30&quot;, &quot;properties&quot;: {&quot;index&quot;: 30, &quot;index_x&quot;: 2, &quot;index_y&quot;: 8}, &quot;type&quot;: &quot;Feature&quot;}, {&quot;geometry&quot;: {&quot;coordinates&quot;: [[[-56.29350988709157, -2.182758343013938], [-56.29353128113368, -2.1364403023891962], [-56.247491100526474, -2.1364183170424447], [-56.24746831255719, -2.182735880586441], [-56.29350988709157, -2.182758343013938]]], &quot;type&quot;: &quot;Polygon&quot;}, &quot;id&quot;: &quot;31&quot;, &quot;properties&quot;: {&quot;index&quot;: 31, &quot;index_x&quot;: 2, &quot;index_y&quot;: 9}, &quot;type&quot;: &quot;Feature&quot;}, {&quot;geometry&quot;: {&quot;coordinates&quot;: [[[-56.29353128113368, -2.1364403023891962], [-56.29355221528274, -2.0901222335406695], [-56.247513398638425, -2.0901007252473307], [-56.247491100526474, -2.1364183170424447], [-56.29353128113368, -2.1364403023891962]]], &quot;type&quot;: &quot;Polygon&quot;}, &quot;id&quot;: &quot;32&quot;, &quot;properties&quot;: {&quot;index&quot;: 32, &quot;index_x&quot;: 2, &quot;index_y&quot;: 10}, &quot;type&quot;: &quot;Feature&quot;}, {&quot;geometry&quot;: {&quot;coordinates&quot;: [[[-56.2472411645702, -2.5995925803404427], [-56.24726836476233, -2.5532752985563856], [-56.20121505011326, -2.5532473602132115], [-56.201186186189126, -2.59956413452389], [-56.2472411645702, -2.5995925803404427]]], &quot;type&quot;: &quot;Polygon&quot;}, &quot;id&quot;: &quot;33&quot;, &quot;properties&quot;: {&quot;index&quot;: 33, &quot;index_x&quot;: 3, &quot;index_y&quot;: 0}, &quot;type&quot;: &quot;Feature&quot;}, {&quot;geometry&quot;: {&quot;coordinates&quot;: [[[-56.24726836476233, -2.5532752985563856], [-56.247295074376645, -2.506957983022206], [-56.20124339345288, -2.506930552117658], [-56.20121505011326, -2.5532473602132115], [-56.24726836476233, -2.5532752985563856]]], &quot;type&quot;: &quot;Polygon&quot;}, &quot;id&quot;: &quot;34&quot;, &quot;properties&quot;: {&quot;index&quot;: 34, &quot;index_x&quot;: 3, &quot;index_y&quot;: 1}, &quot;type&quot;: &quot;Feature&quot;}, {&quot;geometry&quot;: {&quot;coordinates&quot;: [[[-56.247295074376645, -2.506957983022206], [-56.247321293499596, -2.460640634348574], [-56.20127121629966, -2.4606137108485324], [-56.20124339345288, -2.506930552117658], [-56.247295074376645, -2.506957983022206]]], &quot;type&quot;: &quot;Polygon&quot;}, &quot;id&quot;: &quot;35&quot;, &quot;properties&quot;: {&quot;index&quot;: 35, &quot;index_x&quot;: 3, &quot;index_y&quot;: 2}, &quot;type&quot;: &quot;Feature&quot;}, {&quot;geometry&quot;: {&quot;coordinates&quot;: [[[-56.247321293499596, -2.460640634348574], [-56.24734702221599, -2.414323253146243], [-56.20129851874364, -2.414296837017225], [-56.20127121629966, -2.4606137108485324], [-56.247321293499596, -2.460640634348574]]], &quot;type&quot;: &quot;Polygon&quot;}, &quot;id&quot;: &quot;36&quot;, &quot;properties&quot;: {&quot;index&quot;: 36, &quot;index_x&quot;: 3, &quot;index_y&quot;: 3}, &quot;type&quot;: &quot;Feature&quot;}, {&quot;geometry&quot;: {&quot;coordinates&quot;: [[[-56.24734702221599, -2.414323253146243], [-56.24737226060907, -2.368005840026057], [-56.20132530087313, -2.367979931235209], [-56.20129851874364, -2.414296837017225], [-56.24734702221599, -2.414323253146243]]], &quot;type&quot;: &quot;Polygon&quot;}, &quot;id&quot;: &quot;37&quot;, &quot;properties&quot;: {&quot;index&quot;: 37, &quot;index_x&quot;: 3, &quot;index_y&quot;: 4}, &quot;type&quot;: &quot;Feature&quot;}, {&quot;geometry&quot;: {&quot;coordinates&quot;: [[[-56.24737226060907, -2.368005840026057], [-56.24739700876047, -2.3216883955989376], [-56.20135156277477, -2.3216629941140408], [-56.20132530087313, -2.367979931235209], [-56.24737226060907, -2.368005840026057]]], &quot;type&quot;: &quot;Polygon&quot;}, &quot;id&quot;: &quot;38&quot;, &quot;properties&quot;: {&quot;index&quot;: 38, &quot;index_x&quot;: 3, &quot;index_y&quot;: 5}, &quot;type&quot;: &quot;Feature&quot;}, {&quot;geometry&quot;: {&quot;coordinates&quot;: [[[-56.24739700876047, -2.3216883955989376], [-56.24742126675026, -2.2753709204758916], [-56.2013773045335, -2.2753460262653613], [-56.20135156277477, -2.3216629941140408], [-56.24739700876047, -2.3216883955989376]]], &quot;type&quot;: &quot;Polygon&quot;}, &quot;id&quot;: &quot;39&quot;, &quot;properties&quot;: {&quot;index&quot;: 39, &quot;index_x&quot;: 3, &quot;index_y&quot;: 6}, &quot;type&quot;: &quot;Feature&quot;}, {&quot;geometry&quot;: {&quot;coordinates&quot;: [[[-56.24742126675026, -2.2753709204758916], [-56.24744503465687, -2.2290534152680044], [-56.20140252623258, -2.229029028300888], [-56.2013773045335, -2.2753460262653613], [-56.24742126675026, -2.2753709204758916]]], &quot;type&quot;: &quot;Polygon&quot;}, &quot;id&quot;: &quot;40&quot;, &quot;properties&quot;: {&quot;index&quot;: 40, &quot;index_x&quot;: 3, &quot;index_y&quot;: 7}, &quot;type&quot;: &quot;Feature&quot;}, {&quot;geometry&quot;: {&quot;coordinates&quot;: [[[-56.24744503465687, -2.2290534152680044], [-56.24746831255719, -2.182735880586441], [-56.201427227953566, -2.1827120008324186], [-56.20140252623258, -2.229029028300888], [-56.24744503465687, -2.2290534152680044]]], &quot;type&quot;: &quot;Polygon&quot;}, &quot;id&quot;: &quot;41&quot;, &quot;properties&quot;: {&quot;index&quot;: 41, &quot;index_x&quot;: 3, &quot;index_y&quot;: 8}, &quot;type&quot;: &quot;Feature&quot;}, {&quot;geometry&quot;: {&quot;coordinates&quot;: [[[-56.24746831255719, -2.182735880586441], [-56.247491100526474, -2.1364183170424447], [-56.20145140977635, -2.136394944471829], [-56.201427227953566, -2.1827120008324186], [-56.24746831255719, -2.182735880586441]]], &quot;type&quot;: &quot;Polygon&quot;}, &quot;id&quot;: &quot;42&quot;, &quot;properties&quot;: {&quot;index&quot;: 42, &quot;index_x&quot;: 3, &quot;index_y&quot;: 9}, &quot;type&quot;: &quot;Feature&quot;}, {&quot;geometry&quot;: {&quot;coordinates&quot;: [[[-56.247491100526474, -2.1364183170424447], [-56.247513398638425, -2.0901007252473307], [-56.2014750717791, -2.0900778598310676], [-56.20145140977635, -2.136394944471829], [-56.247491100526474, -2.1364183170424447]]], &quot;type&quot;: &quot;Polygon&quot;}, &quot;id&quot;: &quot;43&quot;, &quot;properties&quot;: {&quot;index&quot;: 43, &quot;index_x&quot;: 3, &quot;index_y&quot;: 10}, &quot;type&quot;: &quot;Feature&quot;}, {&quot;geometry&quot;: {&quot;coordinates&quot;: [[[-56.201186186189126, -2.59956413452389], [-56.20121505011326, -2.5532473602132115], [-56.155162256048456, -2.5532177637459506], [-56.1551317284857, -2.5995340004650305], [-56.201186186189126, -2.59956413452389]]], &quot;type&quot;: &quot;Polygon&quot;}, &quot;id&quot;: &quot;44&quot;, &quot;properties&quot;: {&quot;index&quot;: 44, &quot;index_x&quot;: 4, &quot;index_y&quot;: 0}, &quot;type&quot;: &quot;Feature&quot;}, {&quot;geometry&quot;: {&quot;coordinates&quot;: [[[-56.20121505011326, -2.5532473602132115], [-56.20124339345288, -2.506930552117658], [-56.155192233021644, -2.506901493205181], [-56.155162256048456, -2.5532177637459506], [-56.20121505011326, -2.5532473602132115]]], &quot;type&quot;: &quot;Polygon&quot;}, &quot;id&quot;: &quot;45&quot;, &quot;properties&quot;: {&quot;index&quot;: 45, &quot;index_x&quot;: 4, &quot;index_y&quot;: 1}, &quot;type&quot;: &quot;Feature&quot;}, {&quot;geometry&quot;: {&quot;coordinates&quot;: [[[-56.20124339345288, -2.506930552117658], [-56.20127121629966, -2.4606137108485324], [-56.15522165950226, -2.4605851894546995], [-56.155192233021644, -2.506901493205181], [-56.20124339345288, -2.506930552117658]]], &quot;type&quot;: &quot;Polygon&quot;}, &quot;id&quot;: &quot;46&quot;, &quot;properties&quot;: {&quot;index&quot;: 46, &quot;index_x&quot;: 4, &quot;index_y&quot;: 2}, &quot;type&quot;: &quot;Feature&quot;}, {&quot;geometry&quot;: {&quot;coordinates&quot;: [[[-56.20127121629966, -2.4606137108485324], [-56.20129851874364, -2.414296837017225], [-56.155250535585495, -2.4142688531065626], [-56.15522165950226, -2.4605851894546995], [-56.20127121629966, -2.4606137108485324]]], &quot;type&quot;: &quot;Polygon&quot;}, &quot;id&quot;: &quot;47&quot;, &quot;properties&quot;: {&quot;index&quot;: 47, &quot;index_x&quot;: 4, &quot;index_y&quot;: 3}, &quot;type&quot;: &quot;Feature&quot;}, {&quot;geometry&quot;: {&quot;coordinates&quot;: [[[-56.20129851874364, -2.414296837017225], [-56.20132530087313, -2.367979931235209], [-56.15527886136477, -2.367952484772917], [-56.155250535585495, -2.4142688531065626], [-56.20129851874364, -2.414296837017225]]], &quot;type&quot;: &quot;Polygon&quot;}, &quot;id&quot;: &quot;48&quot;, &quot;properties&quot;: {&quot;index&quot;: 48, &quot;index_x&quot;: 4, &quot;index_y&quot;: 4}, &quot;type&quot;: &quot;Feature&quot;}, {&quot;geometry&quot;: {&quot;coordinates&quot;: [[[-56.20132530087313, -2.367979931235209], [-56.20135156277477, -2.3216629941140408], [-56.1553066369317, -2.3216360850659905], [-56.15527886136477, -2.367952484772917], [-56.20132530087313, -2.367979931235209]]], &quot;type&quot;: &quot;Polygon&quot;}, &quot;id&quot;: &quot;49&quot;, &quot;properties&quot;: {&quot;index&quot;: 49, &quot;index_x&quot;: 4, &quot;index_y&quot;: 5}, &quot;type&quot;: &quot;Feature&quot;}, {&quot;geometry&quot;: {&quot;coordinates&quot;: [[[-56.20135156277477, -2.3216629941140408], [-56.2013773045335, -2.2753460262653613], [-56.155333862376125, -2.2753196545980936], [-56.1553066369317, -2.3216360850659905], [-56.20135156277477, -2.3216629941140408]]], &quot;type&quot;: &quot;Polygon&quot;}, &quot;id&quot;: &quot;50&quot;, &quot;properties&quot;: {&quot;index&quot;: 50, &quot;index_x&quot;: 4, &quot;index_y&quot;: 6}, &quot;type&quot;: &quot;Feature&quot;}, {&quot;geometry&quot;: {&quot;coordinates&quot;: [[[-56.2013773045335, -2.2753460262653613], [-56.20140252623258, -2.229029028300888], [-56.15536053778609, -2.2290031939816144], [-56.155333862376125, -2.2753196545980936], [-56.2013773045335, -2.2753460262653613]]], &quot;type&quot;: &quot;Polygon&quot;}, &quot;id&quot;: &quot;51&quot;, &quot;properties&quot;: {&quot;index&quot;: 51, &quot;index_x&quot;: 4, &quot;index_y&quot;: 7}, &quot;type&quot;: &quot;Feature&quot;}, {&quot;geometry&quot;: {&quot;coordinates&quot;: [[[-56.20140252623258, -2.229029028300888], [-56.201427227953566, -2.1827120008324186], [-56.155386663247874, -2.182686703829021], [-56.15536053778609, -2.2290031939816144], [-56.20140252623258, -2.229029028300888]]], &quot;type&quot;: &quot;Polygon&quot;}, &quot;id&quot;: &quot;52&quot;, &quot;properties&quot;: {&quot;index&quot;: 52, &quot;index_x&quot;: 4, &quot;index_y&quot;: 8}, &quot;type&quot;: &quot;Feature&quot;}, {&quot;geometry&quot;: {&quot;coordinates&quot;: [[[-56.201427227953566, -2.1827120008324186], [-56.20145140977635, -2.136394944471829], [-56.15541223884594, -2.1363701847528582], [-56.155386663247874, -2.182686703829021], [-56.201427227953566, -2.1827120008324186]]], &quot;type&quot;: &quot;Polygon&quot;}, &quot;id&quot;: &quot;53&quot;, &quot;properties&quot;: {&quot;index&quot;: 53, &quot;index_x&quot;: 4, &quot;index_y&quot;: 9}, &quot;type&quot;: &quot;Feature&quot;}, {&quot;geometry&quot;: {&quot;coordinates&quot;: [[[-56.20145140977635, -2.136394944471829], [-56.2014750717791, -2.0900778598310676], [-56.15543726466301, -2.0900536373657466], [-56.15541223884594, -2.1363701847528582], [-56.20145140977635, -2.136394944471829]]], &quot;type&quot;: &quot;Polygon&quot;}, &quot;id&quot;: &quot;54&quot;, &quot;properties&quot;: {&quot;index&quot;: 54, &quot;index_x&quot;: 4, &quot;index_y&quot;: 10}, &quot;type&quot;: &quot;Feature&quot;}, {&quot;geometry&quot;: {&quot;coordinates&quot;: [[[-56.1551317284857, -2.5995340004650305], [-56.155162256048456, -2.5532177637459506], [-56.10911001257291, -2.5531865092502493], [-56.109077821470315, -2.5995021782612517], [-56.1551317284857, -2.5995340004650305]]], &quot;type&quot;: &quot;Polygon&quot;}, &quot;id&quot;: &quot;55&quot;, &quot;properties&quot;: {&quot;index&quot;: 55, &quot;index_x&quot;: 5, &quot;index_y&quot;: 0}, &quot;type&quot;: &quot;Feature&quot;}, {&quot;geometry&quot;: {&quot;coordinates&quot;: [[[-56.155162256048456, -2.5532177637459506], [-56.155192233021644, -2.506901493205181], [-56.10914162308269, -2.5068708063786835], [-56.10911001257291, -2.5531865092502493], [-56.155162256048456, -2.5532177637459506]]], &quot;type&quot;: &quot;Polygon&quot;}, &quot;id&quot;: &quot;56&quot;, &quot;properties&quot;: {&quot;index&quot;: 56, &quot;index_x&quot;: 5, &quot;index_y&quot;: 1}, &quot;type&quot;: &quot;Feature&quot;}, {&quot;geometry&quot;: {&quot;coordinates&quot;: [[[-56.155192233021644, -2.506901493205181], [-56.15522165950226, -2.4605851894546995], [-56.109172653101936, -2.460555070259238], [-56.10914162308269, -2.5068708063786835], [-56.155192233021644, -2.506901493205181]]], &quot;type&quot;: &quot;Polygon&quot;}, &quot;id&quot;: &quot;57&quot;, &quot;properties&quot;: {&quot;index&quot;: 57, &quot;index_x&quot;: 5, &quot;index_y&quot;: 2}, &quot;type&quot;: &quot;Feature&quot;}, {&quot;geometry&quot;: {&quot;coordinates&quot;: [[[-56.15522165950226, -2.4605851894546995], [-56.155250535585495, -2.4142688531065626], [-56.109203102731016, -2.4142393015046806], [-56.109172653101936, -2.460555070259238], [-56.15522165950226, -2.4605851894546995]]], &quot;type&quot;: &quot;Polygon&quot;}, &quot;id&quot;: &quot;58&quot;, &quot;properties&quot;: {&quot;index&quot;: 58, &quot;index_x&quot;: 5, &quot;index_y&quot;: 3}, &quot;type&quot;: &quot;Feature&quot;}, {&quot;geometry&quot;: {&quot;coordinates&quot;: [[[-56.155250535585495, -2.4142688531065626], [-56.15527886136477, -2.367952484772917], [-56.10923297206845, -2.367923500727866], [-56.109203102731016, -2.4142393015046806], [-56.155250535585495, -2.4142688531065626]]], &quot;type&quot;: &quot;Polygon&quot;}, &quot;id&quot;: &quot;59&quot;, &quot;properties&quot;: {&quot;index&quot;: 59, &quot;index_x&quot;: 5, &quot;index_y&quot;: 4}, &quot;type&quot;: &quot;Feature&quot;}, {&quot;geometry&quot;: {&quot;coordinates&quot;: [[[-56.15527886136477, -2.367952484772917], [-56.1553066369317, -2.3216360850659905], [-56.10926226121083, -2.3216076685417315], [-56.10923297206845, -2.367923500727866], [-56.15527886136477, -2.367952484772917]]], &quot;type&quot;: &quot;Polygon&quot;}, &quot;id&quot;: &quot;60&quot;, &quot;properties&quot;: {&quot;index&quot;: 60, &quot;index_x&quot;: 5, &quot;index_y&quot;: 5}, &quot;type&quot;: &quot;Feature&quot;}, {&quot;geometry&quot;: {&quot;coordinates&quot;: [[[-56.1553066369317, -2.3216360850659905], [-56.155333862376125, -2.2753196545980936], [-56.1092909702529, -2.275291805559293], [-56.10926226121083, -2.3216076685417315], [-56.1553066369317, -2.3216360850659905]]], &quot;type&quot;: &quot;Polygon&quot;}, &quot;id&quot;: &quot;61&quot;, &quot;properties&quot;: {&quot;index&quot;: 61, &quot;index_x&quot;: 5, &quot;index_y&quot;: 6}, &quot;type&quot;: &quot;Feature&quot;}, {&quot;geometry&quot;: {&quot;coordinates&quot;: [[[-56.155333862376125, -2.2753196545980936], [-56.15536053778609, -2.2290031939816144], [-56.1093190992875, -2.2289759123936483], [-56.1092909702529, -2.275291805559293], [-56.155333862376125, -2.2753196545980936]]], &quot;type&quot;: &quot;Polygon&quot;}, &quot;id&quot;: &quot;62&quot;, &quot;properties&quot;: {&quot;index&quot;: 62, &quot;index_x&quot;: 5, &quot;index_y&quot;: 7}, &quot;type&quot;: &quot;Feature&quot;}, {&quot;geometry&quot;: {&quot;coordinates&quot;: [[[-56.15536053778609, -2.2290031939816144], [-56.155386663247874, -2.182686703829021], [-56.10934664840559, -2.1826599896579744], [-56.1093190992875, -2.2289759123936483], [-56.15536053778609, -2.2290031939816144]]], &quot;type&quot;: &quot;Polygon&quot;}, &quot;id&quot;: &quot;63&quot;, &quot;properties&quot;: {&quot;index&quot;: 63, &quot;index_x&quot;: 5, &quot;index_y&quot;: 8}, &quot;type&quot;: &quot;Feature&quot;}, {&quot;geometry&quot;: {&quot;coordinates&quot;: [[[-56.155386663247874, -2.182686703829021], [-56.15541223884594, -2.1363701847528582], [-56.10937361769626, -2.1363440379655216], [-56.10934664840559, -2.1826599896579744], [-56.155386663247874, -2.182686703829021]]], &quot;type&quot;: &quot;Polygon&quot;}, &quot;id&quot;: &quot;64&quot;, &quot;properties&quot;: {&quot;index&quot;: 64, &quot;index_x&quot;: 5, &quot;index_y&quot;: 9}, &quot;type&quot;: &quot;Feature&quot;}, {&quot;geometry&quot;: {&quot;coordinates&quot;: [[[-56.15541223884594, -2.1363701847528582], [-56.15543726466301, -2.0900536373657466], [-56.10940000724671, -2.090028057929619], [-56.10937361769626, -2.1363440379655216], [-56.15541223884594, -2.1363701847528582]]], &quot;type&quot;: &quot;Polygon&quot;}, &quot;id&quot;: &quot;65&quot;, &quot;properties&quot;: {&quot;index&quot;: 65, &quot;index_x&quot;: 5, &quot;index_y&quot;: 10}, &quot;type&quot;: &quot;Feature&quot;}, {&quot;geometry&quot;: {&quot;coordinates&quot;: [[[-56.109077821470315, -2.5995021782612517], [-56.10911001257291, -2.5531865092502493], [-56.06305834968986, -2.5531535968271113], [-56.06302449515159, -2.5994686680153967], [-56.109077821470315, -2.5995021782612517]]], &quot;type&quot;: &quot;Polygon&quot;}, &quot;id&quot;: &quot;66&quot;, &quot;properties&quot;: {&quot;index&quot;: 66, &quot;index_x&quot;: 6, &quot;index_y&quot;: 0}, &quot;type&quot;: &quot;Feature&quot;}, {&quot;geometry&quot;: {&quot;coordinates&quot;: [[[-56.10911001257291, -2.5531865092502493], [-56.10914162308269, -2.5068708063786835], [-56.06309159363397, -2.5068384917373265], [-56.06305834968986, -2.5531535968271113], [-56.10911001257291, -2.5531865092502493]]], &quot;type&quot;: &quot;Polygon&quot;}, &quot;id&quot;: &quot;67&quot;, &quot;properties&quot;: {&quot;index&quot;: 67, &quot;index_x&quot;: 6, &quot;index_y&quot;: 1}, &quot;type&quot;: &quot;Feature&quot;}, {&quot;geometry&quot;: {&quot;coordinates&quot;: [[[-56.10914162308269, -2.5068708063786835], [-56.109172653101936, -2.460555070259238], [-56.06312422709145, -2.460523353359474], [-56.06309159363397, -2.5068384917373265], [-56.10914162308269, -2.5068708063786835]]], &quot;type&quot;: &quot;Polygon&quot;}, &quot;id&quot;: &quot;68&quot;, &quot;properties&quot;: {&quot;index&quot;: 68, &quot;index_x&quot;: 6, &quot;index_y&quot;: 2}, &quot;type&quot;: &quot;Feature&quot;}, {&quot;geometry&quot;: {&quot;coordinates&quot;: [[[-56.109172653101936, -2.460555070259238], [-56.109203102731016, -2.4142393015046806], [-56.063156250167886, -2.4142081823070676], [-56.06312422709145, -2.460523353359474], [-56.109172653101936, -2.460555070259238]]], &quot;type&quot;: &quot;Polygon&quot;}, &quot;id&quot;: &quot;69&quot;, &quot;properties&quot;: {&quot;index&quot;: 69, &quot;index_x&quot;: 6, &quot;index_y&quot;: 3}, &quot;type&quot;: &quot;Feature&quot;}, {&quot;geometry&quot;: {&quot;coordinates&quot;: [[[-56.109203102731016, -2.4142393015046806], [-56.10923297206845, -2.367923500727866], [-56.063187662966854, -2.367892979193707], [-56.063156250167886, -2.4142081823070676], [-56.109203102731016, -2.4142393015046806]]], &quot;type&quot;: &quot;Polygon&quot;}, &quot;id&quot;: &quot;70&quot;, &quot;properties&quot;: {&quot;index&quot;: 70, &quot;index_x&quot;: 6, &quot;index_y&quot;: 4}, &quot;type&quot;: &quot;Feature&quot;}, {&quot;geometry&quot;: {&quot;coordinates&quot;: [[[-56.10923297206845, -2.367923500727866], [-56.10926226121083, -2.3216076685417315], [-56.06321846558996, -2.321577744633075], [-56.063187662966854, -2.367892979193707], [-56.10923297206845, -2.367923500727866]]], &quot;type&quot;: &quot;Polygon&quot;}, &quot;id&quot;: &quot;71&quot;, &quot;properties&quot;: {&quot;index&quot;: 71, &quot;index_x&quot;: 6, &quot;index_y&quot;: 5}, &quot;type&quot;: &quot;Feature&quot;}, {&quot;geometry&quot;: {&quot;coordinates&quot;: [[[-56.10926226121083, -2.3216076685417315], [-56.1092909702529, -2.275291805559293], [-56.06324865813683, -2.2752624792389353], [-56.06321846558996, -2.321577744633075], [-56.10926226121083, -2.3216076685417315]]], &quot;type&quot;: &quot;Polygon&quot;}, &quot;id&quot;: &quot;72&quot;, &quot;properties&quot;: {&quot;index&quot;: 72, &quot;index_x&quot;: 6, &quot;index_y&quot;: 6}, &quot;type&quot;: &quot;Feature&quot;}, {&quot;geometry&quot;: {&quot;coordinates&quot;: [[[-56.1092909702529, -2.275291805559293], [-56.1093190992875, -2.2289759123936483], [-56.063278240705095, -2.2289471836251304], [-56.06324865813683, -2.2752624792389353], [-56.1092909702529, -2.275291805559293]]], &quot;type&quot;: &quot;Polygon&quot;}, &quot;id&quot;: &quot;73&quot;, &quot;properties&quot;: {&quot;index&quot;: 73, &quot;index_x&quot;: 6, &quot;index_y&quot;: 7}, &quot;type&quot;: &quot;Feature&quot;}, {&quot;geometry&quot;: {&quot;coordinates&quot;: [[[-56.1093190992875, -2.2289759123936483], [-56.10934664840559, -2.1826599896579744], [-56.06330721339042, -2.1826318584055815], [-56.063278240705095, -2.2289471836251304], [-56.1093190992875, -2.2289759123936483]]], &quot;type&quot;: &quot;Polygon&quot;}, &quot;id&quot;: &quot;74&quot;, &quot;properties&quot;: {&quot;index&quot;: 74, &quot;index_x&quot;: 6, &quot;index_y&quot;: 8}, &quot;type&quot;: &quot;Feature&quot;}, {&quot;geometry&quot;: {&quot;coordinates&quot;: [[[-56.10934664840559, -2.1826599896579744], [-56.10937361769626, -2.1363440379655216], [-56.06333557628649, -2.1363165041942858], [-56.06330721339042, -2.1826318584055815], [-56.10934664840559, -2.1826599896579744]]], &quot;type&quot;: &quot;Polygon&quot;}, &quot;id&quot;: &quot;75&quot;, &quot;properties&quot;: {&quot;index&quot;: 75, &quot;index_x&quot;: 6, &quot;index_y&quot;: 9}, &quot;type&quot;: &quot;Feature&quot;}, {&quot;geometry&quot;: {&quot;coordinates&quot;: [[[-56.10937361769626, -2.1363440379655216], [-56.10940000724671, -2.090028057929619], [-56.06336332948501, -2.090001121605315], [-56.06333557628649, -2.1363165041942858], [-56.10937361769626, -2.1363440379655216]]], &quot;type&quot;: &quot;Polygon&quot;}, &quot;id&quot;: &quot;76&quot;, &quot;properties&quot;: {&quot;index&quot;: 76, &quot;index_x&quot;: 6, &quot;index_y&quot;: 10}, &quot;type&quot;: &quot;Feature&quot;}, {&quot;geometry&quot;: {&quot;coordinates&quot;: [[[-56.06302449515159, -2.5994686680153967], [-56.06305834968986, -2.5531535968271113], [-56.01700729740065, -2.5531190265828916], [-56.016971779536235, -2.5994334698357564], [-56.06302449515159, -2.5994686680153967]]], &quot;type&quot;: &quot;Polygon&quot;}, &quot;id&quot;: &quot;77&quot;, &quot;properties&quot;: {&quot;index&quot;: 77, &quot;index_x&quot;: 7, &quot;index_y&quot;: 0}, &quot;type&quot;: &quot;Feature&quot;}, {&quot;geometry&quot;: {&quot;coordinates&quot;: [[[-56.06305834968986, -2.5531535968271113], [-56.06309159363397, -2.5068384917373265], [-56.01704217467152, -2.5068045493855324], [-56.01700729740065, -2.5531190265828916], [-56.06305834968986, -2.5531535968271113]]], &quot;type&quot;: &quot;Polygon&quot;}, &quot;id&quot;: &quot;78&quot;, &quot;properties&quot;: {&quot;index&quot;: 78, &quot;index_x&quot;: 7, &quot;index_y&quot;: 1}, &quot;type&quot;: &quot;Feature&quot;}, {&quot;geometry&quot;: {&quot;coordinates&quot;: [[[-56.06309159363397, -2.5068384917373265], [-56.06312422709145, -2.460523353359474], [-56.01707641146169, -2.460490038857893], [-56.01704217467152, -2.5068045493855324], [-56.06309159363397, -2.5068384917373265]]], &quot;type&quot;: &quot;Polygon&quot;}, &quot;id&quot;: &quot;79&quot;, &quot;properties&quot;: {&quot;index&quot;: 79, &quot;index_x&quot;: 7, &quot;index_y&quot;: 2}, &quot;type&quot;: &quot;Feature&quot;}, {&quot;geometry&quot;: {&quot;coordinates&quot;: [[[-56.06312422709145, -2.460523353359474], [-56.063156250167886, -2.4142081823070676], [-56.01711000788188, -2.4141754956142716], [-56.01707641146169, -2.460490038857893], [-56.06312422709145, -2.460523353359474]]], &quot;type&quot;: &quot;Polygon&quot;}, &quot;id&quot;: &quot;80&quot;, &quot;properties&quot;: {&quot;index&quot;: 80, &quot;index_x&quot;: 7, &quot;index_y&quot;: 3}, &quot;type&quot;: &quot;Feature&quot;}, {&quot;geometry&quot;: {&quot;coordinates&quot;: [[[-56.063156250167886, -2.4142081823070676], [-56.063187662966854, -2.367892979193707], [-56.017142964040794, -2.367860920269053], [-56.01711000788188, -2.4141754956142716], [-56.063156250167886, -2.4142081823070676]]], &quot;type&quot;: &quot;Polygon&quot;}, &quot;id&quot;: &quot;81&quot;, &quot;properties&quot;: {&quot;index&quot;: 81, &quot;index_x&quot;: 7, &quot;index_y&quot;: 4}, &quot;type&quot;: &quot;Feature&quot;}, {&quot;geometry&quot;: {&quot;coordinates&quot;: [[[-56.063187662966854, -2.367892979193707], [-56.06321846558996, -2.321577744633075], [-56.017175280045, -2.321546313436703], [-56.017142964040794, -2.367860920269053], [-56.063187662966854, -2.367892979193707]]], &quot;type&quot;: &quot;Polygon&quot;}, &quot;id&quot;: &quot;82&quot;, &quot;properties&quot;: {&quot;index&quot;: 82, &quot;index_x&quot;: 7, &quot;index_y&quot;: 5}, &quot;type&quot;: &quot;Feature&quot;}, {&quot;geometry&quot;: {&quot;coordinates&quot;: [[[-56.06321846558996, -2.321577744633075], [-56.06324865813683, -2.2752624792389353], [-56.01720695599903, -2.275231675731767], [-56.017175280045, -2.321546313436703], [-56.06321846558996, -2.321577744633075]]], &quot;type&quot;: &quot;Polygon&quot;}, &quot;id&quot;: &quot;83&quot;, &quot;properties&quot;: {&quot;index&quot;: 83, &quot;index_x&quot;: 7, &quot;index_y&quot;: 6}, &quot;type&quot;: &quot;Feature&quot;}, {&quot;geometry&quot;: {&quot;coordinates&quot;: [[[-56.06324865813683, -2.2752624792389353], [-56.063278240705095, -2.2289471836251304], [-56.017237992005306, -2.2289170077688722], [-56.01720695599903, -2.275231675731767], [-56.06324865813683, -2.2752624792389353]]], &quot;type&quot;: &quot;Polygon&quot;}, &quot;id&quot;: &quot;84&quot;, &quot;properties&quot;: {&quot;index&quot;: 84, &quot;index_x&quot;: 7, &quot;index_y&quot;: 7}, &quot;type&quot;: &quot;Feature&quot;}, {&quot;geometry&quot;: {&quot;coordinates&quot;: [[[-56.063278240705095, -2.2289471836251304], [-56.06330721339042, -2.1826318584055815], [-56.01726838816418, -2.1826023101627214], [-56.017237992005306, -2.2289170077688722], [-56.063278240705095, -2.2289471836251304]]], &quot;type&quot;: &quot;Polygon&quot;}, &quot;id&quot;: &quot;85&quot;, &quot;properties&quot;: {&quot;index&quot;: 85, &quot;index_x&quot;: 7, &quot;index_y&quot;: 8}, &quot;type&quot;: &quot;Feature&quot;}, {&quot;geometry&quot;: {&quot;coordinates&quot;: [[[-56.06330721339042, -2.1826318584055815], [-56.06333557628649, -2.1363165041942858], [-56.01729814457394, -2.1362875835280946], [-56.01726838816418, -2.1826023101627214], [-56.06330721339042, -2.1826318584055815]]], &quot;type&quot;: &quot;Polygon&quot;}, &quot;id&quot;: &quot;86&quot;, &quot;properties&quot;: {&quot;index&quot;: 86, &quot;index_x&quot;: 7, &quot;index_y&quot;: 9}, &quot;type&quot;: &quot;Feature&quot;}, {&quot;geometry&quot;: {&quot;coordinates&quot;: [[[-56.06333557628649, -2.1363165041942858], [-56.06336332948501, -2.090001121605315], [-56.0173272613308, -2.0899728284798473], [-56.01729814457394, -2.1362875835280946], [-56.06333557628649, -2.1363165041942858]]], &quot;type&quot;: &quot;Polygon&quot;}, &quot;id&quot;: &quot;87&quot;, &quot;properties&quot;: {&quot;index&quot;: 87, &quot;index_x&quot;: 7, &quot;index_y&quot;: 10}, &quot;type&quot;: &quot;Feature&quot;}, {&quot;geometry&quot;: {&quot;coordinates&quot;: [[[-56.016971779536235, -2.5994334698357564], [-56.01700729740065, -2.5531190265828916], [-55.970956885704645, -2.553082798629302], [-55.970919704629004, -2.599396583836077], [-56.016971779536235, -2.5994334698357564]]], &quot;type&quot;: &quot;Polygon&quot;}, &quot;id&quot;: &quot;88&quot;, &quot;properties&quot;: {&quot;index&quot;: 88, &quot;index_x&quot;: 8, &quot;index_y&quot;: 0}, &quot;type&quot;: &quot;Feature&quot;}, {&quot;geometry&quot;: {&quot;coordinates&quot;: [[[-56.01700729740065, -2.5531190265828916], [-56.01704217467152, -2.5068045493855324], [-55.970993396189456, -2.506768979432977], [-55.970956885704645, -2.553082798629302], [-56.01700729740065, -2.5531190265828916]]], &quot;type&quot;: &quot;Polygon&quot;}, &quot;id&quot;: &quot;89&quot;, &quot;properties&quot;: {&quot;index&quot;: 89, &quot;index_x&quot;: 8, &quot;index_y&quot;: 1}, &quot;type&quot;: &quot;Feature&quot;}, {&quot;geometry&quot;: {&quot;coordinates&quot;: [[[-56.01704217467152, -2.5068045493855324], [-56.01707641146169, -2.460490038857893], [-55.971029236201545, -2.460455126862138], [-55.970993396189456, -2.506768979432977], [-56.01704217467152, -2.5068045493855324]]], &quot;type&quot;: &quot;Polygon&quot;}, &quot;id&quot;: &quot;90&quot;, &quot;properties&quot;: {&quot;index&quot;: 90, &quot;index_x&quot;: 8, &quot;index_y&quot;: 2}, &quot;type&quot;: &quot;Feature&quot;}, {&quot;geometry&quot;: {&quot;coordinates&quot;: [[[-56.01707641146169, -2.460490038857893], [-56.01711000788188, -2.4141754956142716], [-55.97106440585683, -2.414141241531905], [-55.971029236201545, -2.460455126862138], [-56.01707641146169, -2.460490038857893]]], &quot;type&quot;: &quot;Polygon&quot;}, &quot;id&quot;: &quot;91&quot;, &quot;properties&quot;: {&quot;index&quot;: 91, &quot;index_x&quot;: 8, &quot;index_y&quot;: 3}, &quot;type&quot;: &quot;Feature&quot;}, {&quot;geometry&quot;: {&quot;coordinates&quot;: [[[-56.01711000788188, -2.4141754956142716], [-56.017142964040794, -2.367860920269053], [-55.97109890526909, -2.367827324057484], [-55.97106440585683, -2.414141241531905], [-56.01711000788188, -2.4141754956142716]]], &quot;type&quot;: &quot;Polygon&quot;}, &quot;id&quot;: &quot;92&quot;, &quot;properties&quot;: {&quot;index&quot;: 92, &quot;index_x&quot;: 8, &quot;index_y&quot;: 4}, &quot;type&quot;: &quot;Feature&quot;}, {&quot;geometry&quot;: {&quot;coordinates&quot;: [[[-56.017142964040794, -2.367860920269053], [-56.017175280045, -2.321546313436703], [-55.97113273454989, -2.321513375054161], [-55.97109890526909, -2.367827324057484], [-56.017142964040794, -2.367860920269053]]], &quot;type&quot;: &quot;Polygon&quot;}, &quot;id&quot;: &quot;93&quot;, &quot;properties&quot;: {&quot;index&quot;: 93, &quot;index_x&quot;: 8, &quot;index_y&quot;: 5}, &quot;type&quot;: &quot;Feature&quot;}, {&quot;geometry&quot;: {&quot;coordinates&quot;: [[[-56.017175280045, -2.321546313436703], [-56.01720695599903, -2.275231675731767], [-55.97116589380864, -2.275199395137303], [-55.97113273454989, -2.321513375054161], [-56.017175280045, -2.321546313436703]]], &quot;type&quot;: &quot;Polygon&quot;}, &quot;id&quot;: &quot;94&quot;, &quot;properties&quot;: {&quot;index&quot;: 94, &quot;index_x&quot;: 8, &quot;index_y&quot;: 6}, &quot;type&quot;: &quot;Feature&quot;}, {&quot;geometry&quot;: {&quot;coordinates&quot;: [[[-56.01720695599903, -2.275231675731767], [-56.017237992005306, -2.2289170077688722], [-55.971198383152554, -2.228885384922356], [-55.97116589380864, -2.275199395137303], [-56.01720695599903, -2.275231675731767]]], &quot;type&quot;: &quot;Polygon&quot;}, &quot;id&quot;: &quot;95&quot;, &quot;properties&quot;: {&quot;index&quot;: 95, &quot;index_x&quot;: 8, &quot;index_y&quot;: 7}, &quot;type&quot;: &quot;Feature&quot;}, {&quot;geometry&quot;: {&quot;coordinates&quot;: [[[-56.017237992005306, -2.2289170077688722], [-56.01726838816418, -2.1826023101627214], [-55.971230202686705, -2.182571345024846], [-55.971198383152554, -2.228885384922356], [-56.017237992005306, -2.2289170077688722]]], &quot;type&quot;: &quot;Polygon&quot;}, &quot;id&quot;: &quot;96&quot;, &quot;properties&quot;: {&quot;index&quot;: 96, &quot;index_x&quot;: 8, &quot;index_y&quot;: 8}, &quot;type&quot;: &quot;Feature&quot;}, {&quot;geometry&quot;: {&quot;coordinates&quot;: [[[-56.01726838816418, -2.1826023101627214], [-56.01729814457394, -2.1362875835280946], [-55.971261352513956, -2.1362572760603715], [-55.971230202686705, -2.182571345024846], [-56.01726838816418, -2.1826023101627214]]], &quot;type&quot;: &quot;Polygon&quot;}, &quot;id&quot;: &quot;97&quot;, &quot;properties&quot;: {&quot;index&quot;: 97, &quot;index_x&quot;: 8, &quot;index_y&quot;: 9}, &quot;type&quot;: &quot;Feature&quot;}, {&quot;geometry&quot;: {&quot;coordinates&quot;: [[[-56.01729814457394, -2.1362875835280946], [-56.0173272613308, -2.0899728284798473], [-55.97129183273503, -2.089943178644608], [-55.971261352513956, -2.1362572760603715], [-56.01729814457394, -2.1362875835280946]]], &quot;type&quot;: &quot;Polygon&quot;}, &quot;id&quot;: &quot;98&quot;, &quot;properties&quot;: {&quot;index&quot;: 98, &quot;index_x&quot;: 8, &quot;index_y&quot;: 10}, &quot;type&quot;: &quot;Feature&quot;}, {&quot;geometry&quot;: {&quot;coordinates&quot;: [[[-55.970919704629004, -2.599396583836077], [-55.970956885704645, -2.553082798629302], [-55.92490714459911, -2.5530449130834048], [-55.92486830043253, -2.599358010135552], [-55.970919704629004, -2.599396583836077]]], &quot;type&quot;: &quot;Polygon&quot;}, &quot;id&quot;: &quot;99&quot;, &quot;properties&quot;: {&quot;index&quot;: 99, &quot;index_x&quot;: 9, &quot;index_y&quot;: 0}, &quot;type&quot;: &quot;Feature&quot;}, {&quot;geometry&quot;: {&quot;coordinates&quot;: [[[-55.970956885704645, -2.553082798629302], [-55.970993396189456, -2.506768979432977], [-55.92494528817975, -2.506731781994593], [-55.92490714459911, -2.5530449130834048], [-55.970956885704645, -2.553082798629302]]], &quot;type&quot;: &quot;Polygon&quot;}, &quot;id&quot;: &quot;100&quot;, &quot;properties&quot;: {&quot;index&quot;: 100, &quot;index_x&quot;: 9, &quot;index_y&quot;: 1}, &quot;type&quot;: &quot;Feature&quot;}, {&quot;geometry&quot;: {&quot;coordinates&quot;: [[[-55.970993396189456, -2.506768979432977], [-55.971029236201545, -2.460455126862138], [-55.92498273129782, -2.4604186174850113], [-55.92494528817975, -2.506731781994593], [-55.970993396189456, -2.506768979432977]]], &quot;type&quot;: &quot;Polygon&quot;}, &quot;id&quot;: &quot;101&quot;, &quot;properties&quot;: {&quot;index&quot;: 101, &quot;index_x&quot;: 9, &quot;index_y&quot;: 2}, &quot;type&quot;: &quot;Feature&quot;}, {&quot;geometry&quot;: {&quot;coordinates&quot;: [[[-55.971029236201545, -2.460455126862138], [-55.97106440585683, -2.414141241531905], [-55.925019474074446, -2.4141054201706402], [-55.92498273129782, -2.4604186174850113], [-55.971029236201545, -2.460455126862138]]], &quot;type&quot;: &quot;Polygon&quot;}, &quot;id&quot;: &quot;102&quot;, &quot;properties&quot;: {&quot;index&quot;: 102, &quot;index_x&quot;: 9, &quot;index_y&quot;: 3}, &quot;type&quot;: &quot;Feature&quot;}, {&quot;geometry&quot;: {&quot;coordinates&quot;: [[[-55.97106440585683, -2.414141241531905], [-55.97109890526909, -2.367827324057484], [-55.925055516628476, -2.3677921906675405], [-55.925019474074446, -2.4141054201706402], [-55.97106440585683, -2.414141241531905]]], &quot;type&quot;: &quot;Polygon&quot;}, &quot;id&quot;: &quot;103&quot;, &quot;properties&quot;: {&quot;index&quot;: 103, &quot;index_x&quot;: 9, &quot;index_y&quot;: 4}, &quot;type&quot;: &quot;Feature&quot;}, {&quot;geometry&quot;: {&quot;coordinates&quot;: [[[-55.97109890526909, -2.367827324057484], [-55.97113273454989, -2.321513375054161], [-55.92509085907646, -2.3214789295918616], [-55.925055516628476, -2.3677921906675405], [-55.97109890526909, -2.367827324057484]]], &quot;type&quot;: &quot;Polygon&quot;}, &quot;id&quot;: &quot;104&quot;, &quot;properties&quot;: {&quot;index&quot;: 104, &quot;index_x&quot;: 9, &quot;index_y&quot;: 5}, &quot;type&quot;: &quot;Feature&quot;}, {&quot;geometry&quot;: {&quot;coordinates&quot;: [[[-55.97113273454989, -2.321513375054161], [-55.97116589380864, -2.275199395137303], [-55.925125501532705, -2.2751656375598253], [-55.92509085907646, -2.3214789295918616], [-55.97113273454989, -2.321513375054161]]], &quot;type&quot;: &quot;Polygon&quot;}, &quot;id&quot;: &quot;105&quot;, &quot;properties&quot;: {&quot;index&quot;: 105, &quot;index_x&quot;: 9, &quot;index_y&quot;: 6}, &quot;type&quot;: &quot;Feature&quot;}, {&quot;geometry&quot;: {&quot;coordinates&quot;: [[[-55.97116589380864, -2.275199395137303], [-55.971198383152554, -2.228885384922356], [-55.92515944410922, -2.228852315187739], [-55.925125501532705, -2.2751656375598253], [-55.97116589380864, -2.275199395137303]]], &quot;type&quot;: &quot;Polygon&quot;}, &quot;id&quot;: &quot;106&quot;, &quot;properties&quot;: {&quot;index&quot;: 106, &quot;index_x&quot;: 9, &quot;index_y&quot;: 7}, &quot;type&quot;: &quot;Feature&quot;}, {&quot;geometry&quot;: {&quot;coordinates&quot;: [[[-55.971198383152554, -2.228885384922356], [-55.971230202686705, -2.182571345024846], [-55.92519268691576, -2.1825389630919827], [-55.92515944410922, -2.228852315187739], [-55.971198383152554, -2.228885384922356]]], &quot;type&quot;: &quot;Polygon&quot;}, &quot;id&quot;: &quot;107&quot;, &quot;properties&quot;: {&quot;index&quot;: 107, &quot;index_x&quot;: 9, &quot;index_y&quot;: 8}, &quot;type&quot;: &quot;Feature&quot;}, {&quot;geometry&quot;: {&quot;coordinates&quot;: [[[-55.971230202686705, -2.182571345024846], [-55.971261352513956, -2.1362572760603715], [-55.9252252300598, -2.136225581889015], [-55.92519268691576, -2.1825389630919827], [-55.971230202686705, -2.182571345024846]]], &quot;type&quot;: &quot;Polygon&quot;}, &quot;id&quot;: &quot;108&quot;, &quot;properties&quot;: {&quot;index&quot;: 108, &quot;index_x&quot;: 9, &quot;index_y&quot;: 9}, &quot;type&quot;: &quot;Feature&quot;}, {&quot;geometry&quot;: {&quot;coordinates&quot;: [[[-55.971261352513956, -2.1362572760603715], [-55.97129183273503, -2.089943178644608], [-55.92525707364654, -2.0899121721953664], [-55.9252252300598, -2.136225581889015], [-55.971261352513956, -2.1362572760603715]]], &quot;type&quot;: &quot;Polygon&quot;}, &quot;id&quot;: &quot;109&quot;, &quot;properties&quot;: {&quot;index&quot;: 109, &quot;index_x&quot;: 9, &quot;index_y&quot;: 10}, &quot;type&quot;: &quot;Feature&quot;}, {&quot;geometry&quot;: {&quot;coordinates&quot;: [[[-55.92486830043253, -2.599358010135552], [-55.92490714459911, -2.5530449130834048], [-55.87885810407915, -2.553005370067616], [-55.8788175969473, -2.5993177488588266], [-55.92486830043253, -2.599358010135552]]], &quot;type&quot;: &quot;Polygon&quot;}, &quot;id&quot;: &quot;110&quot;, &quot;properties&quot;: {&quot;index&quot;: 110, &quot;index_x&quot;: 10, &quot;index_y&quot;: 0}, &quot;type&quot;: &quot;Feature&quot;}, {&quot;geometry&quot;: {&quot;coordinates&quot;: [[[-55.92490714459911, -2.5530449130834048], [-55.92494528817975, -2.506731781994593], [-55.878897880632216, -2.5066929571905674], [-55.87885810407915, -2.553005370067616], [-55.92490714459911, -2.5530449130834048]]], &quot;type&quot;: &quot;Polygon&quot;}, &quot;id&quot;: &quot;111&quot;, &quot;properties&quot;: {&quot;index&quot;: 111, &quot;index_x&quot;: 10, &quot;index_y&quot;: 1}, &quot;type&quot;: &quot;Feature&quot;}, {&quot;geometry&quot;: {&quot;coordinates&quot;: [[[-55.92494528817975, -2.506731781994593], [-55.92498273129782, -2.4604186174850113], [-55.878936926735165, -2.460380510844472], [-55.878897880632216, -2.5066929571905674], [-55.92494528817975, -2.506731781994593]]], &quot;type&quot;: &quot;Polygon&quot;}, &quot;id&quot;: &quot;112&quot;, &quot;properties&quot;: {&quot;index&quot;: 112, &quot;index_x&quot;: 10, &quot;index_y&quot;: 2}, &quot;type&quot;: &quot;Feature&quot;}, {&quot;geometry&quot;: {&quot;coordinates&quot;: [[[-55.92498273129782, -2.4604186174850113], [-55.925019474074446, -2.4141054201706402], [-55.878975242514294, -2.414068031646206], [-55.878936926735165, -2.460380510844472], [-55.92498273129782, -2.4604186174850113]]], &quot;type&quot;: &quot;Polygon&quot;}, &quot;id&quot;: &quot;113&quot;, &quot;properties&quot;: {&quot;index&quot;: 113, &quot;index_x&quot;: 10, &quot;index_y&quot;: 3}, &quot;type&quot;: &quot;Feature&quot;}, {&quot;geometry&quot;: {&quot;coordinates&quot;: [[[-55.925019474074446, -2.4141054201706402], [-55.925055516628476, -2.3677921906675405], [-55.87901282809352, -2.3677555202127287], [-55.878975242514294, -2.414068031646206], [-55.925019474074446, -2.4141054201706402]]], &quot;type&quot;: &quot;Polygon&quot;}, &quot;id&quot;: &quot;114&quot;, &quot;properties&quot;: {&quot;index&quot;: 114, &quot;index_x&quot;: 10, &quot;index_y&quot;: 4}, &quot;type&quot;: &quot;Feature&quot;}, {&quot;geometry&quot;: {&quot;coordinates&quot;: [[[-55.925055516628476, -2.3677921906675405], [-55.92509085907646, -2.3214789295918616], [-55.87904968359441, -2.321442977161082], [-55.87901282809352, -2.3677555202127287], [-55.925055516628476, -2.3677921906675405]]], &quot;type&quot;: &quot;Polygon&quot;}, &quot;id&quot;: &quot;115&quot;, &quot;properties&quot;: {&quot;index&quot;: 115, &quot;index_x&quot;: 10, &quot;index_y&quot;: 5}, &quot;type&quot;: &quot;Feature&quot;}, {&quot;geometry&quot;: {&quot;coordinates&quot;: [[[-55.92509085907646, -2.3214789295918616], [-55.925125501532705, -2.2751656375598253], [-55.87908580913612, -2.2751304031083874], [-55.87904968359441, -2.321442977161082], [-55.92509085907646, -2.3214789295918616]]], &quot;type&quot;: &quot;Polygon&quot;}, &quot;id&quot;: &quot;116&quot;, &quot;properties&quot;: {&quot;index&quot;: 116, &quot;index_x&quot;: 10, &quot;index_y&quot;: 6}, &quot;type&quot;: &quot;Feature&quot;}, {&quot;geometry&quot;: {&quot;coordinates&quot;: [[[-55.925125501532705, -2.2751656375598253], [-55.92515944410922, -2.228852315187739], [-55.879121204835485, -2.2288177986718445], [-55.87908580913612, -2.2751304031083874], [-55.925125501532705, -2.2751656375598253]]], &quot;type&quot;: &quot;Polygon&quot;}, &quot;id&quot;: &quot;117&quot;, &quot;properties&quot;: {&quot;index&quot;: 117, &quot;index_x&quot;: 10, &quot;index_y&quot;: 7}, &quot;type&quot;: &quot;Feature&quot;}, {&quot;geometry&quot;: {&quot;coordinates&quot;: [[[-55.92515944410922, -2.228852315187739], [-55.92519268691576, -2.1825389630919827], [-55.87915587080694, -2.1825051644687306], [-55.879121204835485, -2.2288177986718445], [-55.92515944410922, -2.228852315187739]]], &quot;type&quot;: &quot;Polygon&quot;}, &quot;id&quot;: &quot;118&quot;, &quot;properties&quot;: {&quot;index&quot;: 118, &quot;index_x&quot;: 10, &quot;index_y&quot;: 8}, &quot;type&quot;: &quot;Feature&quot;}, {&quot;geometry&quot;: {&quot;coordinates&quot;: [[[-55.92519268691576, -2.1825389630919827], [-55.9252252300598, -2.136225581889015], [-55.879189807162554, -2.136192501116398], [-55.87915587080694, -2.1825051644687306], [-55.92519268691576, -2.1825389630919827]]], &quot;type&quot;: &quot;Polygon&quot;}, &quot;id&quot;: &quot;119&quot;, &quot;properties&quot;: {&quot;index&quot;: 119, &quot;index_x&quot;: 10, &quot;index_y&quot;: 9}, &quot;type&quot;: &quot;Feature&quot;}, {&quot;geometry&quot;: {&quot;coordinates&quot;: [[[-55.9252252300598, -2.136225581889015], [-55.92525707364654, -2.0899121721953664], [-55.87922301401204, -2.0898798092322743], [-55.879189807162554, -2.136192501116398], [-55.9252252300598, -2.136225581889015]]], &quot;type&quot;: &quot;Polygon&quot;}, &quot;id&quot;: &quot;120&quot;, &quot;properties&quot;: {&quot;index&quot;: 120, &quot;index_x&quot;: 10, &quot;index_y&quot;: 10}, &quot;type&quot;: &quot;Feature&quot;}], &quot;type&quot;: &quot;FeatureCollection&quot;});\n",
       "\n",
       "        \n",
       "    \n",
       "    geo_json_3f100503141a345daebea3c8eec0150c.bindTooltip(\n",
       "    function(layer){\n",
       "    let div = L.DomUtil.create(&#x27;div&#x27;);\n",
       "    \n",
       "    let handleObject = feature=&gt;typeof(feature)==&#x27;object&#x27; ? JSON.stringify(feature) : feature;\n",
       "    let fields = [&quot;index&quot;];\n",
       "    let aliases = [&quot;Index:&quot;];\n",
       "    let table = &#x27;&lt;table&gt;&#x27; +\n",
       "        String(\n",
       "        fields.map(\n",
       "        (v,i)=&gt;\n",
       "        `&lt;tr&gt;\n",
       "            &lt;td&gt;${handleObject(layer.feature.properties[v])}&lt;/td&gt;\n",
       "        &lt;/tr&gt;`).join(&#x27;&#x27;))\n",
       "    +&#x27;&lt;/table&gt;&#x27;;\n",
       "    div.innerHTML=table;\n",
       "    \n",
       "    return div\n",
       "    }\n",
       "    ,{&quot;className&quot;: &quot;foliumtooltip&quot;, &quot;sticky&quot;: true});\n",
       "                     \n",
       "    \n",
       "            var layer_control_0876252cc1977196225ad7d33ea68bac = {\n",
       "                base_layers : {\n",
       "                    &quot;stamenterrain&quot; : tile_layer_da23aa1a7a743f78ff254a08a804cdd7,\n",
       "                },\n",
       "                overlays :  {\n",
       "                    &quot;showcase area&quot; : choropleth_535656884a88e3171bbdbe765f4bf51a,\n",
       "                    &quot;showcase grid EPSG:32721&quot; : choropleth_78a32a0f14ff4db0503a853d41bc11d6,\n",
       "                },\n",
       "            };\n",
       "            L.control.layers(\n",
       "                layer_control_0876252cc1977196225ad7d33ea68bac.base_layers,\n",
       "                layer_control_0876252cc1977196225ad7d33ea68bac.overlays,\n",
       "                {&quot;autoZIndex&quot;: true, &quot;collapsed&quot;: true, &quot;position&quot;: &quot;topright&quot;}\n",
       "            ).addTo(map_239060e3e7a33ce4daee4320d366dddc);\n",
       "        \n",
       "    \n",
       "            L.control.fullscreen(\n",
       "                {&quot;forceSeparateButton&quot;: true, &quot;position&quot;: &quot;topleft&quot;, &quot;title&quot;: &quot;Full Screen&quot;, &quot;titleCancel&quot;: &quot;Exit Full Screen&quot;}\n",
       "            ).addTo(map_239060e3e7a33ce4daee4320d366dddc);\n",
       "        \n",
       "&lt;/script&gt;\" style=\"position:absolute;width:100%;height:100%;left:0;top:0;border:none !important;\" allowfullscreen webkitallowfullscreen mozallowfullscreen></iframe></div></div>"
      ],
      "text/plain": [
       "<folium.folium.Map at 0x7f89ac3afca0>"
      ]
     },
     "execution_count": 9,
     "metadata": {},
     "output_type": "execute_result"
    }
   ],
   "source": [
    "#%% visualize using folium\n",
    "aoi_folium = aoi_showcase.to_crs(\"EPSG:4326\")\n",
    "location = [aoi_folium.centroid.y,aoi_folium.centroid.x]\n",
    "\n",
    "mapwindow = folium.Map(location=location, tiles='Stamen Terrain', zoom_start=8)\n",
    "\n",
    "#%%% add aois\n",
    "#%%%% train\n",
    "mapwindow.add_child(\n",
    "    folium.features.Choropleth(\n",
    "        aoi_folium.to_json(),\n",
    "        fill_color=\"royalblue\",\n",
    "        nan_fill_color=\"royalblue\",\n",
    "        fill_opacity=0,\n",
    "        nan_fill_opacity=0.5,\n",
    "        line_color=\"royalblue\",\n",
    "        line_weight=1,\n",
    "        line_opacity=0.6,\n",
    "        smooth_factor=5,\n",
    "        name=f\"showcase area\"\n",
    "    )\n",
    ")\n",
    "\n",
    "#%%% add grids in color\n",
    "for t_,tiles_ in enumerate(tiles):\n",
    "    cp = folium.features.Choropleth(\n",
    "            tiles_.to_crs(\"EPSG:4326\").to_json(),\n",
    "            fill_color=\"royalblue\",\n",
    "            nan_fill_color=\"black\",\n",
    "            fill_opacity=0,\n",
    "            nan_fill_opacity=0.5,\n",
    "            line_color=\"royalblue\",\n",
    "            line_weight=0.5,\n",
    "            line_opacity=0.6,\n",
    "            smooth_factor=5,\n",
    "            name=f\"showcase grid EPSG:{crss_unique[t_]._value_}\"\n",
    "        ).add_to(mapwindow)\n",
    "\n",
    "    # display index next to cursor\n",
    "    folium.GeoJsonTooltip(\n",
    "        ['index'],\n",
    "        aliases=['Index:'],\n",
    "        labels=False,\n",
    "        style=\"background-color:rgba(0,101,189,0.4); border:2px solid white; color:white;\",\n",
    "        ).add_to(cp.geojson)\n",
    "\n",
    "#%%% add some controls\n",
    "folium.LayerControl().add_to(mapwindow)\n",
    "foliumplugins.Fullscreen(force_separate_button=True).add_to(mapwindow)\n",
    "\n",
    "#%%% save, render and display\n",
    "mapwindow.save(os.path.join(config[\"dir_results\"],'gridmap_showcase.html'))\n",
    "mapwindow.render()\n",
    "mapwindow"
   ]
  },
  {
   "cell_type": "markdown",
   "id": "1dcd25ec",
   "metadata": {},
   "source": [
    "# eo-learn worlflow\n",
    "Similar to the workflow we have defined in [01_DataAcquisition]().\n",
    "\n",
    "It again consists of the following elements\n",
    "\n",
    "- __EOTask__\n",
    "- __EONode__\n",
    "- __EOWorkflow__\n",
    "\n",
    "This time, we define the following `EOTasks`:\n",
    "\n",
    "\n",
    "##  1. Input data: Querying Sentinel data\n",
    ">- __*task_data*__: We take a [Sentinel-Hub-Input-Task](https://eo-learn.readthedocs.io/en/latest/eolearn.io.sentinelhub_process.html#eolearn.io.sentinelhub_process.SentinelHubInputTask) for querying **Sentinel-2 data**.\n",
    "\n",
    "## 2. PyTorch tasks\n",
    ">- __*task_model*__: We take a [ModelForwardTask]() for defining the model's forward function.\n",
    "\n",
    "## 3. Cloud removal\n",
    ">- __*task_postprocessing*__: We remove clouds from the prediction using a [MapFeatureTask](https://eo-learn.readthedocs.io/en/latest/_modules/eolearn/core/core_tasks.html#MapFeatureTask).\n",
    "\n",
    "\n",
    "## 4. Exporting and Saving\n",
    "#### 4.1 Exporting\n",
    ">- __*task_tiff*__: We export the model's predictions as tif-files using an [`ExportToTiffTask`](https://eo-learn.readthedocs.io/en/latest/reference/eolearn.io.raster_io.html#eolearn.io.raster_io.ExportToTiffTask).\n",
    ">- __*task_tiff_postprocessing*__: We export the model's predictions without clouds as tif-files using an [`ExportToTiffTask`](https://eo-learn.readthedocs.io/en/latest/reference/eolearn.io.raster_io.html#eolearn.io.raster_io.ExportToTiffTask).\n",
    "\n",
    "#### 4.2 Saving\n",
    ">- __*task_save*__: We save the created EOPatches using a __`SaveValidTask`__."
   ]
  },
  {
   "cell_type": "markdown",
   "id": "57c8e53e",
   "metadata": {},
   "source": [
    "## 1. Input data: Querying Sentinel data\n",
    "First, we define our `EOTasks` for the input data. They are the same as for the training, validation and testing procedure. Except that we skip the checking and reference this time (as there is none).\n",
    "\n",
    "Please note that we do not apply a cloud filtering here!"
   ]
  },
  {
   "cell_type": "code",
   "execution_count": 10,
   "id": "3b4cdb4b",
   "metadata": {},
   "outputs": [],
   "source": [
    "#%% Sentinel-Hub-Input-Task\n",
    "task_data = SentinelHubInputTask(\n",
    "    data_collection = DataCollection.SENTINEL2_L1C,\n",
    "    size = None,\n",
    "    resolution = config[\"resolution\"],\n",
    "    bands_feature = (FeatureType.DATA, \"data\"),\n",
    "    bands = [\"B02\",\"B03\",\"B04\",\"B08\",\"B11\",\"B12\"],\n",
    "    additional_data = [(FeatureType.MASK, \"dataMask\", \"dmask_data\"),(FeatureType.MASK, \"CLM\", \"cmask_data\")],\n",
    "    evalscript = None,\n",
    "    maxcc = 1,\n",
    "    time_difference = dt.timedelta(hours=1),\n",
    "    cache_folder = config[\"dir_cache\"],\n",
    "    max_threads = config[\"threads\"],\n",
    "    config = config[\"SHconfig\"],\n",
    "    bands_dtype = np.float32,\n",
    "    single_scene = False,\n",
    "    mosaicking_order = \"mostRecent\",\n",
    "    aux_request_args = None\n",
    ")"
   ]
  },
  {
   "cell_type": "markdown",
   "id": "caff44ea",
   "metadata": {},
   "source": [
    "## 2. PyTorch Tasks\n",
    "As a first step, however, we need to load our Scaler as built in [02_DataNormalization]()."
   ]
  },
  {
   "cell_type": "code",
   "execution_count": null,
   "id": "36e0d840",
   "metadata": {},
   "outputs": [],
   "source": [
    "Scaler = QuantileScaler_eolearn_tdigest.LOAD(os.path.join(config[\"dir_results\"],config[\"savename_scaler\"]))"
   ]
  },
  {
   "cell_type": "markdown",
   "id": "ee3e972e",
   "metadata": {},
   "source": [
    "Subsequently, we load our __best model__ using the `BaseClass` of `AugmentME`.\n",
    "Further, we set it to evaluation mode and tell it to share its memory for being deployed on multiple CPUs.\n",
    "Loading the model to the `CPU` is essential as you get in trouble with the parallelization of `ExecuteME` otherwise."
   ]
  },
  {
   "cell_type": "code",
   "execution_count": null,
   "id": "6c95f68e",
   "metadata": {},
   "outputs": [],
   "source": [
    "model = AugmentME.BaseClass(mode=\"torch\")\n",
    "model.load(os.path.join(config[\"dir_results\"],config[\"model_savename_bestloss\"]),device=\"cpu\")\n",
    "model.eval()\n",
    "model.share_memory()"
   ]
  },
  {
   "cell_type": "markdown",
   "id": "0c5978c8",
   "metadata": {},
   "source": [
    "### ModelForwardTask\n",
    "As discussed, we want to respond to the request immediately.\n",
    "That means, we want to use our trained, validated and tested model for prediction!\n",
    "Fortunately, TUM established the `PyTorchTask` as a base class for many PyTorch related `EOTasks` like the `ModelForwardTask`, the `LayerGradCamTask` or the `GradientShapTask`, for example.\n",
    "In this notebook, we focus on the `ModelForwardTask` since we need to implement a functionality for returning the model's prediction, as the model's regular forward method only returns the logits and not the final prediction.\n",
    "This ensures that the input feature is fed to our model and the output is returned as intended.\n",
    "\n",
    "As for all `EOTasks`, we choose the in- and output features.\n",
    "The `in_feature` is fed to the model, whereas its result is stored in the `out_feature`.\n",
    "In order to properly normalize the downloaded data, we have to insert our scaler for `in_transform`.\n",
    "Since we are interested in the predicted water mask, we have to insert our prediction transform for `out_transform`."
   ]
  },
  {
   "cell_type": "code",
   "execution_count": null,
   "id": "4c19daf7",
   "metadata": {},
   "outputs": [],
   "source": [
    "task_model = ModelForwardTask(\n",
    "    in_feature = (FeatureType.DATA,\"data\"),\n",
    "    out_feature = (FeatureType.MASK,\"model_output\"),\n",
    "    model = model,\n",
    "\n",
    "    in_transform = Scaler,\n",
    "    out_transform = predict,\n",
    "    in_torchtype = torch.FloatTensor,\n",
    "    batch_size = config[\"max_batch_size\"],\n",
    "\n",
    "    maxtries=3,\n",
    "    timeout=22,\n",
    ")"
   ]
  },
  {
   "cell_type": "markdown",
   "id": "3280e0da",
   "metadata": {},
   "source": [
    "## 3. Cloud Removal\n",
    "Since our scenario represents a request made by a land surveying office, we preferably do not want to have clouds in our analysis while sticking to the robustness of our model using multispectral satellite data.\n",
    "Fortunately, we defined our labels accordingly: by using the maximum predicted value out of a series of predictions, we always remove a cloud (class 0) if a less cloudy observation is available, meaning a class value greater 0.\n",
    "Further, we always overwrite forest (class 2) by deforestation (class 3), since it is unlikely that a full forest follows deforestation.\n",
    "By doing so, we always catch the deforestation which took place in a certain time period which is chosen by the user within the workflow arguments.\n",
    "That post-processing is done using the [MapFeatureTask](https://eo-learn.readthedocs.io/en/latest/_modules/eolearn/core/core_tasks.html#MapFeatureTask)."
   ]
  },
  {
   "cell_type": "code",
   "execution_count": null,
   "id": "afa11626",
   "metadata": {},
   "outputs": [],
   "source": [
    "#%% apply labelmapping\n",
    "def maximizer(reference):\n",
    "    return np.max(reference,axis=0)\n",
    "task_postprocessing = MapFeatureTask(\n",
    "    input_features = (FeatureType.MASK, \"model_output\"),\n",
    "    output_features = (FeatureType.MASK_TIMELESS, \"model_output_post\"),\n",
    "    map_function = maximizer\n",
    ")"
   ]
  },
  {
   "cell_type": "markdown",
   "id": "0160f27f",
   "metadata": {},
   "source": [
    "## 4. Exporting and saving\n",
    "#### 4.1 Exporting\n",
    "Of course, we want to export the both the model's output as a GeoTiff for others to analyze it using a common GIS software.\n",
    "\n",
    "We can use the [`ExportToTiffTask`](https://eo-learn.readthedocs.io/en/latest/reference/eolearn.io.raster_io.html#eolearn.io.raster_io.ExportToTiffTask) in order to export both the model's output before and after removing clouds."
   ]
  },
  {
   "cell_type": "code",
   "execution_count": null,
   "id": "d12d0bc5",
   "metadata": {},
   "outputs": [],
   "source": [
    "#%% export raw model output\n",
    "task_tiff = ExportToTiffTask(\n",
    "    feature = (FeatureType.MASK,\"model_output\"),\n",
    "    folder = config[\"dir_tiffs_showcase\"],\n",
    "    date_indices = None,\n",
    "    band_indices = None,\n",
    "    crs = None,\n",
    "    fail_on_missing = True,\n",
    "    compress = \"deflate\"\n",
    ")\n",
    "\n",
    "#%% export post-processed model output\n",
    "task_tiff_postprocessing = ExportToTiffTask(\n",
    "    feature = (FeatureType.MASK_TIMELESS,\"model_output_post\"),\n",
    "    folder = config[\"dir_tiffs_showcase\"],\n",
    "    date_indices = None,\n",
    "    band_indices = None,\n",
    "    crs = None,\n",
    "    fail_on_missing = True,\n",
    "    compress = \"deflate\"\n",
    ")"
   ]
  },
  {
   "cell_type": "markdown",
   "id": "f6a68cf7",
   "metadata": {},
   "source": [
    "### 4.2 Saving\n",
    "Finally, we want to store the resulting patches."
   ]
  },
  {
   "cell_type": "code",
   "execution_count": null,
   "id": "bb358599",
   "metadata": {},
   "outputs": [],
   "source": [
    "#%% save EOPatches\n",
    "task_save = SaveTask(\n",
    "    path = config[\"dir_data\"],\n",
    "    filesystem = None,\n",
    "    config = config[\"SHconfig\"],\n",
    "    overwrite_permission = OverwritePermission.OVERWRITE_PATCH,\n",
    "    compress_level = 2\n",
    ")"
   ]
  },
  {
   "cell_type": "markdown",
   "id": "590fc9b2",
   "metadata": {},
   "source": [
    "## EONodes\n",
    "After we have defined all necessary __`EOTasks`__, we initialize the __`EONodes`__ which will be used in order to run through the workflow afterwards."
   ]
  },
  {
   "cell_type": "code",
   "execution_count": null,
   "id": "9386477c",
   "metadata": {},
   "outputs": [],
   "source": [
    "#%% input nodes\n",
    "node_data = EONode(\n",
    "    task = task_data,\n",
    "    inputs = [],\n",
    "    name = \"load Sentinel-2 data\"\n",
    ")\n",
    "\n",
    "#%% inference node\n",
    "node_model = EONode(\n",
    "    task = task_model,\n",
    "    inputs = [node_data],\n",
    "    name = \"predict water mask\"\n",
    ")\n",
    "\n",
    "node_postprocessing = EONode(\n",
    "    task = task_postprocessing,\n",
    "    inputs = [node_model],\n",
    "    name = \"predict water mask\"\n",
    ")\n",
    "\n",
    "#%% export and save\n",
    "node_tiff = EONode(\n",
    "    task = task_tiff,\n",
    "    inputs = [node_postprocessing],\n",
    "    name = \"export GeoTiff of model output\"\n",
    ")\n",
    "\n",
    "node_tiff_postprocessing = EONode(\n",
    "    task = task_tiff_postprocessing,\n",
    "    inputs = [node_tiff],\n",
    "    name = \"export GeoTiff of model output\"\n",
    ")\n",
    "\n",
    "node_save = EONode(\n",
    "    task = task_save,\n",
    "    inputs = [node_tiff_postprocessing],\n",
    "    name = \"save EOPatch\"\n",
    ")"
   ]
  },
  {
   "cell_type": "markdown",
   "id": "b0819005",
   "metadata": {},
   "source": [
    "## Final EOWorkflow\n",
    "\n",
    "Finally, we can define our workflow using the end node."
   ]
  },
  {
   "cell_type": "code",
   "execution_count": null,
   "id": "56870be9",
   "metadata": {},
   "outputs": [],
   "source": [
    "workflow = EOWorkflow.from_endnodes(node_save)\n",
    "#workflow.dependency_graph()"
   ]
  },
  {
   "cell_type": "markdown",
   "id": "eafa40b6",
   "metadata": {},
   "source": [
    "## Execution\n",
    "So far, we have defined our\n",
    "- Area of Interest\n",
    "- Input tasks\n",
    "- Model tasks\n",
    "- EOWorkflow\n",
    "\n",
    "What is left, is the definition of our __EOExecutor__ as well as the __execution (or workflow) arguments__."
   ]
  },
  {
   "cell_type": "markdown",
   "id": "5183819c",
   "metadata": {},
   "source": [
    "We want to execute our workflow in parallel. This can be done using the package `ExecuteME`.\n",
    "\n",
    "Since PyTorch models demand the spawn start method for subprocesses, we must ensure the entry point. This is accomplished by setting the file that defines the subprocesses as the main file. We recommend doing this in standard Python scripts, as Jupyter Notebooks require clarifying the entry point in every cell and do not support the spawn method.\n",
    "Still, the parallelization does not work in Jupyter Notebooks, but you may let it run using one worker."
   ]
  },
  {
   "cell_type": "markdown",
   "id": "17c8a73d",
   "metadata": {},
   "source": [
    "### Workflow Arguments\n",
    "First, we have to define __workflow arguments__, both temporal and spatial.\n",
    "Note that we only want to download the data that is not yet present on our device.\n",
    "Hence, we check for existence first and assign arguments afterwards."
   ]
  },
  {
   "cell_type": "code",
   "execution_count": null,
   "id": "8b684889",
   "metadata": {},
   "outputs": [],
   "source": [
    "if __name__=='__main__':  \n",
    "    #%% define workflow arguments\n",
    "    workflow_args = []\n",
    "    bbox_list_ = bbox_list_showcase\n",
    "    for i in range(len(bbox_list_)):\n",
    "        print(f\"\\rChecking workflow args {i+1}/{len(bbox_list_)}\",end=\"\\r\")\n",
    "        try:\n",
    "            timeinterval = (config[\"start_showcase\"],config[\"end_showcase\"])\n",
    "            timeintervalstring = f\"{timeinterval[0].strftime(r'%Y-%m-%dT%H-%M-%S_%Z')}--{timeinterval[1].strftime(r'%Y-%m-%dT%H-%M-%S_%Z')}\"\n",
    "            dir_ = f\"showcase/eopatch_{i}_{timeintervalstring}\"\n",
    "            if not os.path.exists(os.path.join(config[\"dir_data\"],dir_)):### and False: ### \n",
    "                workflow_args.append(\n",
    "                    {\n",
    "                        node_data: {\"bbox\":bbox_list_[i],\"time_interval\":timeinterval},\n",
    "                        node_tiff: {\"filename\": f\"deforestation_raw_{i}_{timeintervalstring}\"},\n",
    "                        node_tiff_postprocessing: {\"filename\": f\"deforestation_postprocessed_{i}_{timeintervalstring}\"},\n",
    "                        node_save: {\"eopatch_folder\":dir_}\n",
    "                    }\n",
    "                )\n",
    "        except Exception as e:\n",
    "            print(e)\n",
    "    print()\n",
    "\n",
    "    print(f\"Number of downloads/calculations: {len(workflow_args)}\")"
   ]
  },
  {
   "cell_type": "markdown",
   "id": "f05bd64f",
   "metadata": {},
   "source": [
    "### Devices\n",
    "Secondly, we need to initialize a multiprocessor queue containing our devices' names.\n",
    "This way, we can use any number of GPUs.\n",
    "Of course, it can also stay on the CPU by setting the config.device accordingly.\n",
    "\n",
    "The `PyTorchTasks` can be used for features that contain multiple timestamps to be analyzed.\n",
    "Accordingly, the `batch_size` parameter of the `ModelForwardTask` refers to the timestamps, i.e., the first dimension of a feature array.\n",
    "If you do not have multiple timestamps, you can insert a kind of `batch_size` for a device by defining `batch_size x available_devices` devices or especially `batch_size` times the device you want to use multiple times.\n",
    "Please be careful with this as there is an additional cost per patch to initialize the model since the model is not shared between multiple `EOPatches`.\n",
    "Nevertheless, this behavior is advantageous if an analysis is to be carried out using the `ModelUncertaintyTask`.\n",
    "Here it is necessary to use the model several times anyway."
   ]
  },
  {
   "cell_type": "code",
   "execution_count": null,
   "id": "d69d6090",
   "metadata": {},
   "outputs": [],
   "source": [
    "if __name__=='__main__':  \n",
    "    devices = ExecuteME.Devices([\"cuda\"],multiprocessing_context=\"spawn\")"
   ]
  },
  {
   "cell_type": "markdown",
   "id": "2556f405",
   "metadata": {},
   "source": [
    "In the next step, we will define the multiprocessor keyword arguments that must be passed to our tasks separately. These keyword arguments must be shared between the processes because the list of available devices should be known to the different processes and, hence, be shared or provided separately."
   ]
  },
  {
   "cell_type": "code",
   "execution_count": null,
   "id": "94e604f7",
   "metadata": {},
   "outputs": [],
   "source": [
    "if __name__=='__main__':  \n",
    "    mpkwargs = {\n",
    "        node_model: {\"devices\":devices},\n",
    "    }"
   ]
  },
  {
   "cell_type": "markdown",
   "id": "218b0d3b",
   "metadata": {},
   "source": [
    "### Run\n",
    "Now, it's time to let it run!\n",
    "Please notice that we insert a 0 for `threads` since Jupyter Notebooks do not allow for the spawn method.\n",
    "In a Python script, you may choose as many threads as you like."
   ]
  },
  {
   "cell_type": "code",
   "execution_count": null,
   "id": "30b8c4fc",
   "metadata": {
    "scrolled": true
   },
   "outputs": [],
   "source": [
    "if __name__=='__main__':  \n",
    "    start_multi = time.time()\n",
    "    results_multi = ExecuteME.execute(\n",
    "        fun = workflow.execute,\n",
    "        kwargslist = workflow_args,\n",
    "        mpkwargs = mpkwargs,\n",
    "        kwargsmode = None,\n",
    "        resultsqueue = None,\n",
    "        NoReturn = True,\n",
    "        timeout = 1,\n",
    "        threads = 0, #config[\"threads\"],#3,\n",
    "        checkthreads = True,\n",
    "        multiprocessing_context = \"spawn\",\n",
    "        multiprocessing_mode = \"std\",\n",
    "        bequiet = False\n",
    "    )\n",
    "    time_multi = time.time()-start_multi\n",
    "\n",
    "    #%%% results\n",
    "    print(f\"Time Multi:\\t\\t{time_multi}s\")"
   ]
  },
  {
   "cell_type": "markdown",
   "id": "af3a05e9",
   "metadata": {},
   "source": [
    "### Downloaded Data\n",
    "Let's have a look at how many `EOPatches` got stored to disk."
   ]
  },
  {
   "cell_type": "code",
   "execution_count": null,
   "id": "d7ffd9e4",
   "metadata": {},
   "outputs": [],
   "source": [
    "print(f\"Number of showcasedownloads: {len(workflow_args)}\")\n",
    "print(f\"Number of stored showcase EOPatches: {len(os.listdir(config['dir_showcase']))}\")"
   ]
  },
  {
   "cell_type": "markdown",
   "id": "f1b65752",
   "metadata": {},
   "source": [
    "We finally made it!\n",
    "Everything is ready for being analyzed!"
   ]
  },
  {
   "cell_type": "markdown",
   "id": "7c511794",
   "metadata": {},
   "source": [
    "## Analysis\n",
    "As a first analysis step, we want to merge all of our computed GeoTiffs, both for the raw and postprocessed model output."
   ]
  },
  {
   "cell_type": "code",
   "execution_count": null,
   "id": "cc6c9edb",
   "metadata": {},
   "outputs": [],
   "source": [
    "#%% merge raw model output\n",
    "importME(\"../utils/RasterME_merge.raster_merge\")(\n",
    "    inputfiles = [\n",
    "        os.path.join(config[\"dir_tiffs_showcase\"],dir_)\n",
    "        for dir_ in os.listdir(config[\"dir_tiffs_showcase\"])\n",
    "        if \"deforestation\" in dir_.split(\"_\") and \"raw\" in dir_.split(\"_\")\n",
    "    ],\n",
    "    outputfile = os.path.join(config[\"dir_results\"],config[\"savename_showcase_tiff\"]),\n",
    "    format_option = 'COMPRESS=Deflate',\n",
    "    sparse = True,\n",
    "    #nmax_files = 10\n",
    ")\n",
    "\n",
    "#%% merge postprocessed model output\n",
    "importME(\"../utils/RasterME_merge.raster_merge\")(\n",
    "    inputfiles = [\n",
    "        os.path.join(config[\"dir_tiffs_showcase\"],dir_)\n",
    "        for dir_ in os.listdir(config[\"dir_tiffs_showcase\"])\n",
    "        if \"deforestation\" in dir_.split(\"_\") and \"postprocessed\" in dir_.split(\"_\")\n",
    "    ],\n",
    "    outputfile = os.path.join(config[\"dir_results\"],config[\"savename_showcase_tiff_post\"]),\n",
    "    format_option = 'COMPRESS=Deflate',\n",
    "    sparse = True,\n",
    "    #nmax_files = 10\n",
    ")"
   ]
  },
  {
   "cell_type": "markdown",
   "id": "d3d51318",
   "metadata": {},
   "source": [
    "Now you know how to use the `ModelForwardTask` and post-processing for analysis! :)"
   ]
  }
 ],
 "metadata": {
  "kernelspec": {
   "display_name": "Python 3 (ipykernel)",
   "language": "python",
   "name": "python3"
  },
  "language_info": {
   "codemirror_mode": {
    "name": "ipython",
    "version": 3
   },
   "file_extension": ".py",
   "mimetype": "text/x-python",
   "name": "python",
   "nbconvert_exporter": "python",
   "pygments_lexer": "ipython3",
   "version": "3.9.16"
  }
 },
 "nbformat": 4,
 "nbformat_minor": 5
}
