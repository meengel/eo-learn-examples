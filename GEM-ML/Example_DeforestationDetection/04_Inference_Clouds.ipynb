{
 "cells": [
  {
   "cell_type": "markdown",
   "id": "9f84f86f",
   "metadata": {},
   "source": [
    "# GEM ML Framework Demonstrator - Deforestation Detection\n",
    "In these notebooks, we provide an in-depth example of how the GEM ML framework can be used for segmenting deforested areas using Sentinel-2 imagery as input and the [TMF dataset](https://forobs.jrc.ec.europa.eu/TMF/) as a reference.\n",
    "The idea is to use a neural network (NN) model for the analysis.\n",
    "Thanks to the flexibility of the GEM ML framework, we can easily substitute the model in the future by adjusting only the configuration file.\n",
    "We will have a look at the following notebooks separately:\n",
    "- 00_Configuration\n",
    "- 01_DataAcquisition\n",
    "- 02_DataNormalization\n",
    "- 03_TrainingValidationTesting\n",
    "- 04_Inference_Clouds\n",
    "\n",
    "Authors: Michael Engel (m.engel@tum.de) and Joana Reuss (joana.reuss@tum.de)\n",
    "\n",
    "-----------------------------------------------------------------------------------\n",
    "\n",
    "# Inference - Clouds\n",
    "This notebook shows how the GEM ML Framework can support continuous deforestation monitoring. In the chosen area, deforestation takes place for the sake of bauxite mining, and, e.g. a land surveying office is asking for an analysis.\n",
    "Reference data is not available, and several observations are cloudy. Still, we want a fast and reliable segmentation map of the area - preferably cloudless! For that purpose, a fast inference pipeline is necessary.\n",
    "For that purpose, we can use the `ModelForwardTask` method provided within the `PyTorchTasks` module.\n",
    "It enables the users to integrate an already trained PyTorch-model into their eo-learn workflows.\n",
    "The provided `ExecuteME` package does the management of GPU/CPU shifting.\n",
    "In general, we recommend doing this in standard Python scripts as Jupyter Notebooks do not support the spawn method for parallelization that PyTorch-objects ask for."
   ]
  },
  {
   "cell_type": "code",
   "execution_count": 1,
   "id": "0c981409",
   "metadata": {},
   "outputs": [
    {
     "name": "stderr",
     "output_type": "stream",
     "text": [
      "/home/michael/anaconda3/envs/eolearn_water/lib/python3.8/site-packages/tqdm/auto.py:22: TqdmWarning: IProgress not found. Please update jupyter and ipywidgets. See https://ipywidgets.readthedocs.io/en/stable/user_install.html\n",
      "  from .autonotebook import tqdm as notebook_tqdm\n"
     ]
    },
    {
     "name": "stdout",
     "output_type": "stream",
     "text": [
      "Incorporating tasks!\n",
      "Incorporating utils!\n",
      "Working Directory: /home/michael/Documents/GEM/TUM-Git/eo-learn-examples/GEM-ML/Example_DeforestationDetection\n",
      "Environment: eolearn_water\n",
      "Executable: /home/michael/anaconda3/envs/eolearn_water/bin/python\n"
     ]
    }
   ],
   "source": [
    "import datetime as dt\n",
    "import os\n",
    "import time\n",
    "\n",
    "import folium\n",
    "import geopandas as gpd\n",
    "import numpy as np\n",
    "import torch\n",
    "\n",
    "from folium import plugins as foliumplugins\n",
    "from sentinelhub import DataCollection, UtmZoneSplitter\n",
    "from shapely.geometry import Polygon\n",
    "\n",
    "from libs import AugmentME\n",
    "from libs import ExecuteME\n",
    "from libs.ConfigME import Config, importME\n",
    "from libs.QuantileScaler_eolearn import QuantileScaler_eolearn_tdigest\n",
    "from tasks.PyTorchTasks import ModelForwardTask\n",
    "from utils.transforms import predict\n",
    "\n",
    "from eolearn.core import EONode, EOWorkflow, FeatureType, MapFeatureTask, OverwritePermission, SaveTask\n",
    "from eolearn.io import ExportToTiffTask, SentinelHubInputTask\n",
    "\n",
    "print(\"Working Directory:\", os.getcwd())"
   ]
  },
  {
   "cell_type": "markdown",
   "id": "2484bf33",
   "metadata": {},
   "source": [
    "# Config\n",
    "First, we load our configuration file which provides all information we need throughout the script and linuxify our paths (if you are working on a Windows machine) as the eo-learn filesystem manager does not support backslashes for now."
   ]
  },
  {
   "cell_type": "code",
   "execution_count": 2,
   "id": "267b86b1",
   "metadata": {},
   "outputs": [],
   "source": [
    "#%% load configuration file\n",
    "config = Config.LOAD(\"config.dill\")\n",
    "\n",
    "#%% linuxify\n",
    "config.linuxify()"
   ]
  },
  {
   "cell_type": "markdown",
   "id": "4838c8b3",
   "metadata": {},
   "source": [
    "# Area of Interest\n",
    "Let's load the geojson of our area of interest for our use-case."
   ]
  },
  {
   "cell_type": "code",
   "execution_count": 3,
   "id": "565d166e",
   "metadata": {},
   "outputs": [],
   "source": [
    "#%% load geojson files\n",
    "aoi_showcase = gpd.read_file(config['AOI_showcase'])\n",
    "\n",
    "#%% find best suitable crs and transform to it\n",
    "crs_showcase = aoi_showcase.estimate_utm_crs()\n",
    "aoi_showcase = aoi_showcase.to_crs(crs_showcase)"
   ]
  },
  {
   "cell_type": "code",
   "execution_count": 4,
   "id": "ee204fe3",
   "metadata": {
    "scrolled": true
   },
   "outputs": [
    {
     "name": "stdout",
     "output_type": "stream",
     "text": [
      "Dimension of the showcase area is 2.53e+09 m2\n"
     ]
    }
   ],
   "source": [
    "#%% calculate and print size\n",
    "aoi_showcase_shape = aoi_showcase.geometry\n",
    "aoi_showcase_width = [geom.bounds[2]-geom.bounds[0] for geom in aoi_showcase_shape]\n",
    "aoi_showcase_height = [geom.bounds[3]-geom.bounds[1] for geom in aoi_showcase_shape]\n",
    "print(f\"Dimension of the showcase area is {np.sum(np.array(aoi_showcase_width)*np.array(aoi_showcase_height)):.2e} m2\")\n",
    "\n",
    "#%% create a splitter to obtain a list of bboxes\n",
    "bbox_splitter_showcase = UtmZoneSplitter(aoi_showcase_shape, aoi_showcase.crs, config[\"patchpixelwidth\"]*config[\"resolution\"])\n",
    "\n",
    "bbox_list_showcase = np.array(bbox_splitter_showcase.get_bbox_list())\n",
    "info_list_showcase = np.array(bbox_splitter_showcase.get_info_list())"
   ]
  },
  {
   "cell_type": "markdown",
   "id": "66e9bbe5",
   "metadata": {},
   "source": [
    "# Visualization of AOI\n",
    "Please note that this part is not necessary for the analysis but we highly recommend doing these type of things!\n",
    "Again, we define our entry points for later parallelization on Windows machines."
   ]
  },
  {
   "cell_type": "code",
   "execution_count": 5,
   "id": "5473a46a",
   "metadata": {},
   "outputs": [
    {
     "name": "stdout",
     "output_type": "stream",
     "text": [
      "Total number of tiles: 121\n"
     ]
    }
   ],
   "source": [
    "if __name__=='__main__':\n",
    "    #%% determine number of coordinate reference systems\n",
    "    crss = [bbox_._crs for bbox_ in bbox_list_showcase]\n",
    "    crss_unique = np.array(list(dict.fromkeys(crss)))\n",
    "    n_crss = len(crss_unique)\n",
    "\n",
    "    #%% sort geometries and indices by crs and store to disk\n",
    "    geometries = [[] for i in range(n_crss)]\n",
    "    idxs = [[] for i in range(n_crss)]\n",
    "    idxs_x = [[] for i in range(n_crss)]\n",
    "    idxs_y = [[] for i in range(n_crss)]\n",
    "    for i,info in enumerate(info_list_showcase):\n",
    "        idx_ = np.argmax(crss_unique==bbox_list_showcase[i]._crs)\n",
    "\n",
    "        geometries[idx_].append(Polygon(bbox_list_showcase[i].get_polygon())) # geometries sorted by crs\n",
    "        idxs[idx_].append(info[\"index\"]) # idxs sorted by crs\n",
    "        idxs_x[idx_].append(info[\"index_x\"]) # idxs_x sorted by crs\n",
    "        idxs_y[idx_].append(info[\"index_y\"]) # idxs_y sorted by crs\n",
    "\n",
    "    tiles = []\n",
    "    for i in range(n_crss):\n",
    "        #%%% build dataframe of our areas of interest (and each crs)\n",
    "        tiles.append(\n",
    "            gpd.GeoDataFrame(\n",
    "                {\"index\": idxs[i], \"index_x\": idxs_x[i], \"index_y\": idxs_y[i]},\n",
    "                crs=\"EPSG:\"+crss_unique[i]._value_,\n",
    "                geometry=geometries[i]\n",
    "            )\n",
    "        )\n",
    "        #%%% save dataframes to shapefiles\n",
    "        tiles[-1].to_file(os.path.join(config[\"dir_results\"],f\"grid_aoi_showcase_{i}_EPSG{str(crss_unique[i]._value_)}.gpkg\"), driver=\"GPKG\")\n",
    "\n",
    "    #%% print amount of patches\n",
    "    print(\"Total number of tiles:\",len(bbox_list_showcase))    "
   ]
  },
  {
   "cell_type": "code",
   "execution_count": 6,
   "id": "e2caa372",
   "metadata": {},
   "outputs": [
    {
     "name": "stderr",
     "output_type": "stream",
     "text": [
      "/tmp/ipykernel_220501/1121714447.py:4: UserWarning: Geometry is in a geographic CRS. Results from 'centroid' are likely incorrect. Use 'GeoSeries.to_crs()' to re-project geometries to a projected CRS before this operation.\n",
      "\n",
      "  location = [aoi_folium.centroid.y,aoi_folium.centroid.x]\n",
      "/tmp/ipykernel_220501/1121714447.py:4: UserWarning: Geometry is in a geographic CRS. Results from 'centroid' are likely incorrect. Use 'GeoSeries.to_crs()' to re-project geometries to a projected CRS before this operation.\n",
      "\n",
      "  location = [aoi_folium.centroid.y,aoi_folium.centroid.x]\n"
     ]
    }
   ],
   "source": [
    "if __name__=='__main__':\n",
    "    #%% visualize using folium\n",
    "    aoi_folium = aoi_showcase.to_crs(\"EPSG:4326\")\n",
    "    location = [aoi_folium.centroid.y,aoi_folium.centroid.x]\n",
    "\n",
    "    mapwindow = folium.Map(location=location, tiles='Stamen Terrain', zoom_start=8)\n",
    "\n",
    "    #%%% add aois\n",
    "    #%%%% train\n",
    "    mapwindow.add_child(\n",
    "        folium.features.Choropleth(\n",
    "            aoi_folium.to_json(),\n",
    "            fill_color=\"royalblue\",\n",
    "            nan_fill_color=\"royalblue\",\n",
    "            fill_opacity=0,\n",
    "            nan_fill_opacity=0.5,\n",
    "            line_color=\"royalblue\",\n",
    "            line_weight=1,\n",
    "            line_opacity=0.6,\n",
    "            smooth_factor=5,\n",
    "            name=f\"showcase area\"\n",
    "        )\n",
    "    )\n",
    "\n",
    "    #%%% add grids in color\n",
    "    for t_,tiles_ in enumerate(tiles):\n",
    "        cp = folium.features.Choropleth(\n",
    "                tiles_.to_crs(\"EPSG:4326\").to_json(),\n",
    "                fill_color=\"royalblue\",\n",
    "                nan_fill_color=\"black\",\n",
    "                fill_opacity=0,\n",
    "                nan_fill_opacity=0.5,\n",
    "                line_color=\"royalblue\",\n",
    "                line_weight=0.5,\n",
    "                line_opacity=0.6,\n",
    "                smooth_factor=5,\n",
    "                name=f\"showcase grid EPSG:{crss_unique[t_]._value_}\"\n",
    "            ).add_to(mapwindow)\n",
    "\n",
    "        # display index next to cursor\n",
    "        folium.GeoJsonTooltip(\n",
    "            ['index'],\n",
    "            aliases=['Index:'],\n",
    "            labels=False,\n",
    "            style=\"background-color:rgba(0,101,189,0.4); border:2px solid white; color:white;\",\n",
    "            ).add_to(cp.geojson)\n",
    "\n",
    "    #%%% add some controls\n",
    "    folium.LayerControl().add_to(mapwindow)\n",
    "    foliumplugins.Fullscreen(force_separate_button=True).add_to(mapwindow)\n",
    "\n",
    "    #%%% save, render and display\n",
    "    mapwindow.save(os.path.join(config[\"dir_results\"],'gridmap_showcase.html'))\n",
    "    mapwindow.render()\n",
    "    mapwindow"
   ]
  },
  {
   "cell_type": "markdown",
   "id": "1dcd25ec",
   "metadata": {},
   "source": [
    "# eo-learn worlflow\n",
    "Similar to the workflow we have defined in [01_DataAcquisition]().\n",
    "\n",
    "It again consists of the following elements\n",
    "\n",
    "- __EOTask__\n",
    "- __EONode__\n",
    "- __EOWorkflow__\n",
    "\n",
    "This time, we define the following `EOTasks`:\n",
    "\n",
    "\n",
    "##  1. Input data: Querying Sentinel data\n",
    ">- __*task_data*__: We take a [Sentinel-Hub-Input-Task](https://eo-learn.readthedocs.io/en/latest/eolearn.io.sentinelhub_process.html#eolearn.io.sentinelhub_process.SentinelHubInputTask) for querying **Sentinel-2 data**.\n",
    "\n",
    "## 2. PyTorch tasks\n",
    ">- __*task_model*__: We take a [ModelForwardTask]() for defining the model's forward function.\n",
    "\n",
    "## 3. Cloud removal\n",
    ">- __*task_postprocessing*__: We remove clouds from the prediction using a [MapFeatureTask](https://eo-learn.readthedocs.io/en/latest/_modules/eolearn/core/core_tasks.html#MapFeatureTask).\n",
    "\n",
    "\n",
    "## 4. Exporting and Saving\n",
    "#### 4.1 Exporting\n",
    ">- __*task_tiff*__: We export the model's predictions as tif-files using an [`ExportToTiffTask`](https://eo-learn.readthedocs.io/en/latest/reference/eolearn.io.raster_io.html#eolearn.io.raster_io.ExportToTiffTask).\n",
    ">- __*task_tiff_postprocessing*__: We export the model's predictions without clouds as tif-files using an [`ExportToTiffTask`](https://eo-learn.readthedocs.io/en/latest/reference/eolearn.io.raster_io.html#eolearn.io.raster_io.ExportToTiffTask).\n",
    "\n",
    "#### 4.2 Saving\n",
    ">- __*task_save*__: We save the created EOPatches using a __`SaveValidTask`__."
   ]
  },
  {
   "cell_type": "markdown",
   "id": "57c8e53e",
   "metadata": {},
   "source": [
    "## 1. Input data: Querying Sentinel data\n",
    "First, we define our `EOTasks` for the input data. They are the same as for the training, validation and testing procedure. Except that we skip the checking and reference this time (as there is none).\n",
    "\n",
    "Please note that we do not apply a cloud filtering here!"
   ]
  },
  {
   "cell_type": "code",
   "execution_count": 7,
   "id": "3b4cdb4b",
   "metadata": {},
   "outputs": [],
   "source": [
    "#%% Sentinel-Hub-Input-Task\n",
    "task_data = SentinelHubInputTask(\n",
    "    data_collection = DataCollection.SENTINEL2_L1C,\n",
    "    size = None,\n",
    "    resolution = config[\"resolution\"],\n",
    "    bands_feature = (FeatureType.DATA, \"data\"),\n",
    "    bands = [\"B02\",\"B03\",\"B04\",\"B08\",\"B11\",\"B12\"],\n",
    "    additional_data = [(FeatureType.MASK, \"dataMask\", \"dmask_data\"),(FeatureType.MASK, \"CLM\", \"cmask_data\")],\n",
    "    evalscript = None,\n",
    "    maxcc = 1,\n",
    "    time_difference = dt.timedelta(hours=1),\n",
    "    cache_folder = config[\"dir_cache\"],\n",
    "    max_threads = config[\"threads\"],\n",
    "    config = config[\"SHconfig\"],\n",
    "    bands_dtype = np.float32,\n",
    "    single_scene = False,\n",
    "    mosaicking_order = \"mostRecent\",\n",
    "    aux_request_args = None\n",
    ")"
   ]
  },
  {
   "cell_type": "markdown",
   "id": "caff44ea",
   "metadata": {},
   "source": [
    "## 2. PyTorch Tasks\n",
    "As a first step, however, we need to load our Scaler as built in [02_DataNormalization]()."
   ]
  },
  {
   "cell_type": "code",
   "execution_count": 8,
   "id": "36e0d840",
   "metadata": {},
   "outputs": [],
   "source": [
    "Scaler = QuantileScaler_eolearn_tdigest.LOAD(os.path.join(config[\"dir_results\"],config[\"savename_scaler\"]))"
   ]
  },
  {
   "cell_type": "markdown",
   "id": "ee3e972e",
   "metadata": {},
   "source": [
    "Subsequently, we load our __best model__ using the `BaseClass` of `AugmentME`.\n",
    "Further, we set it to evaluation mode and tell it to share its memory for being deployed on multiple CPUs.\n",
    "Loading the model to the `CPU` is essential as you get in trouble with the parallelization of `ExecuteME` otherwise."
   ]
  },
  {
   "cell_type": "code",
   "execution_count": 9,
   "id": "6c95f68e",
   "metadata": {},
   "outputs": [
    {
     "name": "stdout",
     "output_type": "stream",
     "text": [
      "loadME_torch: start loading of the entire model!\n",
      "loadME_torch: loaded\n"
     ]
    },
    {
     "data": {
      "text/plain": [
       "DeepLabV3Plus(\n",
       "  (encoder): ResNetEncoder(\n",
       "    (conv1): Conv2d(6, 64, kernel_size=(7, 7), stride=(2, 2), padding=(3, 3), bias=False)\n",
       "    (bn1): BatchNorm2d(64, eps=1e-05, momentum=0.1, affine=True, track_running_stats=True)\n",
       "    (relu): ReLU(inplace=True)\n",
       "    (maxpool): MaxPool2d(kernel_size=3, stride=2, padding=1, dilation=1, ceil_mode=False)\n",
       "    (layer1): Sequential(\n",
       "      (0): BasicBlock(\n",
       "        (conv1): Conv2d(64, 64, kernel_size=(3, 3), stride=(1, 1), padding=(1, 1), bias=False)\n",
       "        (bn1): BatchNorm2d(64, eps=1e-05, momentum=0.1, affine=True, track_running_stats=True)\n",
       "        (relu): ReLU(inplace=True)\n",
       "        (conv2): Conv2d(64, 64, kernel_size=(3, 3), stride=(1, 1), padding=(1, 1), bias=False)\n",
       "        (bn2): BatchNorm2d(64, eps=1e-05, momentum=0.1, affine=True, track_running_stats=True)\n",
       "      )\n",
       "      (1): BasicBlock(\n",
       "        (conv1): Conv2d(64, 64, kernel_size=(3, 3), stride=(1, 1), padding=(1, 1), bias=False)\n",
       "        (bn1): BatchNorm2d(64, eps=1e-05, momentum=0.1, affine=True, track_running_stats=True)\n",
       "        (relu): ReLU(inplace=True)\n",
       "        (conv2): Conv2d(64, 64, kernel_size=(3, 3), stride=(1, 1), padding=(1, 1), bias=False)\n",
       "        (bn2): BatchNorm2d(64, eps=1e-05, momentum=0.1, affine=True, track_running_stats=True)\n",
       "      )\n",
       "      (2): BasicBlock(\n",
       "        (conv1): Conv2d(64, 64, kernel_size=(3, 3), stride=(1, 1), padding=(1, 1), bias=False)\n",
       "        (bn1): BatchNorm2d(64, eps=1e-05, momentum=0.1, affine=True, track_running_stats=True)\n",
       "        (relu): ReLU(inplace=True)\n",
       "        (conv2): Conv2d(64, 64, kernel_size=(3, 3), stride=(1, 1), padding=(1, 1), bias=False)\n",
       "        (bn2): BatchNorm2d(64, eps=1e-05, momentum=0.1, affine=True, track_running_stats=True)\n",
       "      )\n",
       "    )\n",
       "    (layer2): Sequential(\n",
       "      (0): BasicBlock(\n",
       "        (conv1): Conv2d(64, 128, kernel_size=(3, 3), stride=(2, 2), padding=(1, 1), bias=False)\n",
       "        (bn1): BatchNorm2d(128, eps=1e-05, momentum=0.1, affine=True, track_running_stats=True)\n",
       "        (relu): ReLU(inplace=True)\n",
       "        (conv2): Conv2d(128, 128, kernel_size=(3, 3), stride=(1, 1), padding=(1, 1), bias=False)\n",
       "        (bn2): BatchNorm2d(128, eps=1e-05, momentum=0.1, affine=True, track_running_stats=True)\n",
       "        (downsample): Sequential(\n",
       "          (0): Conv2d(64, 128, kernel_size=(1, 1), stride=(2, 2), bias=False)\n",
       "          (1): BatchNorm2d(128, eps=1e-05, momentum=0.1, affine=True, track_running_stats=True)\n",
       "        )\n",
       "      )\n",
       "      (1): BasicBlock(\n",
       "        (conv1): Conv2d(128, 128, kernel_size=(3, 3), stride=(1, 1), padding=(1, 1), bias=False)\n",
       "        (bn1): BatchNorm2d(128, eps=1e-05, momentum=0.1, affine=True, track_running_stats=True)\n",
       "        (relu): ReLU(inplace=True)\n",
       "        (conv2): Conv2d(128, 128, kernel_size=(3, 3), stride=(1, 1), padding=(1, 1), bias=False)\n",
       "        (bn2): BatchNorm2d(128, eps=1e-05, momentum=0.1, affine=True, track_running_stats=True)\n",
       "      )\n",
       "      (2): BasicBlock(\n",
       "        (conv1): Conv2d(128, 128, kernel_size=(3, 3), stride=(1, 1), padding=(1, 1), bias=False)\n",
       "        (bn1): BatchNorm2d(128, eps=1e-05, momentum=0.1, affine=True, track_running_stats=True)\n",
       "        (relu): ReLU(inplace=True)\n",
       "        (conv2): Conv2d(128, 128, kernel_size=(3, 3), stride=(1, 1), padding=(1, 1), bias=False)\n",
       "        (bn2): BatchNorm2d(128, eps=1e-05, momentum=0.1, affine=True, track_running_stats=True)\n",
       "      )\n",
       "      (3): BasicBlock(\n",
       "        (conv1): Conv2d(128, 128, kernel_size=(3, 3), stride=(1, 1), padding=(1, 1), bias=False)\n",
       "        (bn1): BatchNorm2d(128, eps=1e-05, momentum=0.1, affine=True, track_running_stats=True)\n",
       "        (relu): ReLU(inplace=True)\n",
       "        (conv2): Conv2d(128, 128, kernel_size=(3, 3), stride=(1, 1), padding=(1, 1), bias=False)\n",
       "        (bn2): BatchNorm2d(128, eps=1e-05, momentum=0.1, affine=True, track_running_stats=True)\n",
       "      )\n",
       "    )\n",
       "    (layer3): Sequential(\n",
       "      (0): BasicBlock(\n",
       "        (conv1): Conv2d(128, 256, kernel_size=(3, 3), stride=(2, 2), padding=(1, 1), bias=False)\n",
       "        (bn1): BatchNorm2d(256, eps=1e-05, momentum=0.1, affine=True, track_running_stats=True)\n",
       "        (relu): ReLU(inplace=True)\n",
       "        (conv2): Conv2d(256, 256, kernel_size=(3, 3), stride=(1, 1), padding=(1, 1), bias=False)\n",
       "        (bn2): BatchNorm2d(256, eps=1e-05, momentum=0.1, affine=True, track_running_stats=True)\n",
       "        (downsample): Sequential(\n",
       "          (0): Conv2d(128, 256, kernel_size=(1, 1), stride=(2, 2), bias=False)\n",
       "          (1): BatchNorm2d(256, eps=1e-05, momentum=0.1, affine=True, track_running_stats=True)\n",
       "        )\n",
       "      )\n",
       "      (1): BasicBlock(\n",
       "        (conv1): Conv2d(256, 256, kernel_size=(3, 3), stride=(1, 1), padding=(1, 1), bias=False)\n",
       "        (bn1): BatchNorm2d(256, eps=1e-05, momentum=0.1, affine=True, track_running_stats=True)\n",
       "        (relu): ReLU(inplace=True)\n",
       "        (conv2): Conv2d(256, 256, kernel_size=(3, 3), stride=(1, 1), padding=(1, 1), bias=False)\n",
       "        (bn2): BatchNorm2d(256, eps=1e-05, momentum=0.1, affine=True, track_running_stats=True)\n",
       "      )\n",
       "      (2): BasicBlock(\n",
       "        (conv1): Conv2d(256, 256, kernel_size=(3, 3), stride=(1, 1), padding=(1, 1), bias=False)\n",
       "        (bn1): BatchNorm2d(256, eps=1e-05, momentum=0.1, affine=True, track_running_stats=True)\n",
       "        (relu): ReLU(inplace=True)\n",
       "        (conv2): Conv2d(256, 256, kernel_size=(3, 3), stride=(1, 1), padding=(1, 1), bias=False)\n",
       "        (bn2): BatchNorm2d(256, eps=1e-05, momentum=0.1, affine=True, track_running_stats=True)\n",
       "      )\n",
       "      (3): BasicBlock(\n",
       "        (conv1): Conv2d(256, 256, kernel_size=(3, 3), stride=(1, 1), padding=(1, 1), bias=False)\n",
       "        (bn1): BatchNorm2d(256, eps=1e-05, momentum=0.1, affine=True, track_running_stats=True)\n",
       "        (relu): ReLU(inplace=True)\n",
       "        (conv2): Conv2d(256, 256, kernel_size=(3, 3), stride=(1, 1), padding=(1, 1), bias=False)\n",
       "        (bn2): BatchNorm2d(256, eps=1e-05, momentum=0.1, affine=True, track_running_stats=True)\n",
       "      )\n",
       "      (4): BasicBlock(\n",
       "        (conv1): Conv2d(256, 256, kernel_size=(3, 3), stride=(1, 1), padding=(1, 1), bias=False)\n",
       "        (bn1): BatchNorm2d(256, eps=1e-05, momentum=0.1, affine=True, track_running_stats=True)\n",
       "        (relu): ReLU(inplace=True)\n",
       "        (conv2): Conv2d(256, 256, kernel_size=(3, 3), stride=(1, 1), padding=(1, 1), bias=False)\n",
       "        (bn2): BatchNorm2d(256, eps=1e-05, momentum=0.1, affine=True, track_running_stats=True)\n",
       "      )\n",
       "      (5): BasicBlock(\n",
       "        (conv1): Conv2d(256, 256, kernel_size=(3, 3), stride=(1, 1), padding=(1, 1), bias=False)\n",
       "        (bn1): BatchNorm2d(256, eps=1e-05, momentum=0.1, affine=True, track_running_stats=True)\n",
       "        (relu): ReLU(inplace=True)\n",
       "        (conv2): Conv2d(256, 256, kernel_size=(3, 3), stride=(1, 1), padding=(1, 1), bias=False)\n",
       "        (bn2): BatchNorm2d(256, eps=1e-05, momentum=0.1, affine=True, track_running_stats=True)\n",
       "      )\n",
       "    )\n",
       "    (layer4): Sequential(\n",
       "      (0): BasicBlock(\n",
       "        (conv1): Conv2d(256, 512, kernel_size=(3, 3), stride=(1, 1), padding=(2, 2), dilation=(2, 2), bias=False)\n",
       "        (bn1): BatchNorm2d(512, eps=1e-05, momentum=0.1, affine=True, track_running_stats=True)\n",
       "        (relu): ReLU(inplace=True)\n",
       "        (conv2): Conv2d(512, 512, kernel_size=(3, 3), stride=(1, 1), padding=(2, 2), dilation=(2, 2), bias=False)\n",
       "        (bn2): BatchNorm2d(512, eps=1e-05, momentum=0.1, affine=True, track_running_stats=True)\n",
       "        (downsample): Sequential(\n",
       "          (0): Conv2d(256, 512, kernel_size=(1, 1), stride=(1, 1), dilation=(2, 2), bias=False)\n",
       "          (1): BatchNorm2d(512, eps=1e-05, momentum=0.1, affine=True, track_running_stats=True)\n",
       "        )\n",
       "      )\n",
       "      (1): BasicBlock(\n",
       "        (conv1): Conv2d(512, 512, kernel_size=(3, 3), stride=(1, 1), padding=(2, 2), dilation=(2, 2), bias=False)\n",
       "        (bn1): BatchNorm2d(512, eps=1e-05, momentum=0.1, affine=True, track_running_stats=True)\n",
       "        (relu): ReLU(inplace=True)\n",
       "        (conv2): Conv2d(512, 512, kernel_size=(3, 3), stride=(1, 1), padding=(2, 2), dilation=(2, 2), bias=False)\n",
       "        (bn2): BatchNorm2d(512, eps=1e-05, momentum=0.1, affine=True, track_running_stats=True)\n",
       "      )\n",
       "      (2): BasicBlock(\n",
       "        (conv1): Conv2d(512, 512, kernel_size=(3, 3), stride=(1, 1), padding=(2, 2), dilation=(2, 2), bias=False)\n",
       "        (bn1): BatchNorm2d(512, eps=1e-05, momentum=0.1, affine=True, track_running_stats=True)\n",
       "        (relu): ReLU(inplace=True)\n",
       "        (conv2): Conv2d(512, 512, kernel_size=(3, 3), stride=(1, 1), padding=(2, 2), dilation=(2, 2), bias=False)\n",
       "        (bn2): BatchNorm2d(512, eps=1e-05, momentum=0.1, affine=True, track_running_stats=True)\n",
       "      )\n",
       "    )\n",
       "  )\n",
       "  (decoder): DeepLabV3PlusDecoder(\n",
       "    (aspp): Sequential(\n",
       "      (0): ASPP(\n",
       "        (convs): ModuleList(\n",
       "          (0): Sequential(\n",
       "            (0): Conv2d(512, 256, kernel_size=(1, 1), stride=(1, 1), bias=False)\n",
       "            (1): BatchNorm2d(256, eps=1e-05, momentum=0.1, affine=True, track_running_stats=True)\n",
       "            (2): ReLU()\n",
       "          )\n",
       "          (1): ASPPSeparableConv(\n",
       "            (0): SeparableConv2d(\n",
       "              (0): Conv2d(512, 512, kernel_size=(3, 3), stride=(1, 1), padding=(12, 12), dilation=(12, 12), groups=512, bias=False)\n",
       "              (1): Conv2d(512, 256, kernel_size=(1, 1), stride=(1, 1), bias=False)\n",
       "            )\n",
       "            (1): BatchNorm2d(256, eps=1e-05, momentum=0.1, affine=True, track_running_stats=True)\n",
       "            (2): ReLU()\n",
       "          )\n",
       "          (2): ASPPSeparableConv(\n",
       "            (0): SeparableConv2d(\n",
       "              (0): Conv2d(512, 512, kernel_size=(3, 3), stride=(1, 1), padding=(24, 24), dilation=(24, 24), groups=512, bias=False)\n",
       "              (1): Conv2d(512, 256, kernel_size=(1, 1), stride=(1, 1), bias=False)\n",
       "            )\n",
       "            (1): BatchNorm2d(256, eps=1e-05, momentum=0.1, affine=True, track_running_stats=True)\n",
       "            (2): ReLU()\n",
       "          )\n",
       "          (3): ASPPSeparableConv(\n",
       "            (0): SeparableConv2d(\n",
       "              (0): Conv2d(512, 512, kernel_size=(3, 3), stride=(1, 1), padding=(36, 36), dilation=(36, 36), groups=512, bias=False)\n",
       "              (1): Conv2d(512, 256, kernel_size=(1, 1), stride=(1, 1), bias=False)\n",
       "            )\n",
       "            (1): BatchNorm2d(256, eps=1e-05, momentum=0.1, affine=True, track_running_stats=True)\n",
       "            (2): ReLU()\n",
       "          )\n",
       "          (4): ASPPPooling(\n",
       "            (0): AdaptiveAvgPool2d(output_size=1)\n",
       "            (1): Conv2d(512, 256, kernel_size=(1, 1), stride=(1, 1), bias=False)\n",
       "            (2): BatchNorm2d(256, eps=1e-05, momentum=0.1, affine=True, track_running_stats=True)\n",
       "            (3): ReLU()\n",
       "          )\n",
       "        )\n",
       "        (project): Sequential(\n",
       "          (0): Conv2d(1280, 256, kernel_size=(1, 1), stride=(1, 1), bias=False)\n",
       "          (1): BatchNorm2d(256, eps=1e-05, momentum=0.1, affine=True, track_running_stats=True)\n",
       "          (2): ReLU()\n",
       "          (3): Dropout(p=0.5, inplace=False)\n",
       "        )\n",
       "      )\n",
       "      (1): SeparableConv2d(\n",
       "        (0): Conv2d(256, 256, kernel_size=(3, 3), stride=(1, 1), padding=(1, 1), groups=256, bias=False)\n",
       "        (1): Conv2d(256, 256, kernel_size=(1, 1), stride=(1, 1), bias=False)\n",
       "      )\n",
       "      (2): BatchNorm2d(256, eps=1e-05, momentum=0.1, affine=True, track_running_stats=True)\n",
       "      (3): ReLU()\n",
       "    )\n",
       "    (up): UpsamplingBilinear2d(scale_factor=4.0, mode=bilinear)\n",
       "    (block1): Sequential(\n",
       "      (0): Conv2d(64, 48, kernel_size=(1, 1), stride=(1, 1), bias=False)\n",
       "      (1): BatchNorm2d(48, eps=1e-05, momentum=0.1, affine=True, track_running_stats=True)\n",
       "      (2): ReLU()\n",
       "    )\n",
       "    (block2): Sequential(\n",
       "      (0): SeparableConv2d(\n",
       "        (0): Conv2d(304, 304, kernel_size=(3, 3), stride=(1, 1), padding=(1, 1), groups=304, bias=False)\n",
       "        (1): Conv2d(304, 256, kernel_size=(1, 1), stride=(1, 1), bias=False)\n",
       "      )\n",
       "      (1): BatchNorm2d(256, eps=1e-05, momentum=0.1, affine=True, track_running_stats=True)\n",
       "      (2): ReLU()\n",
       "    )\n",
       "  )\n",
       "  (segmentation_head): SegmentationHead(\n",
       "    (0): Conv2d(256, 4, kernel_size=(1, 1), stride=(1, 1))\n",
       "    (1): UpsamplingBilinear2d(scale_factor=4.0, mode=bilinear)\n",
       "    (2): Activation(\n",
       "      (activation): Identity()\n",
       "    )\n",
       "  )\n",
       ")"
      ]
     },
     "execution_count": 9,
     "metadata": {},
     "output_type": "execute_result"
    }
   ],
   "source": [
    "model = AugmentME.BaseClass(mode=\"torch\")\n",
    "model.load(os.path.join(config[\"dir_results\"],config[\"model_savename_bestloss\"]),device=\"cpu\")\n",
    "model.eval()\n",
    "model.share_memory()"
   ]
  },
  {
   "cell_type": "markdown",
   "id": "0c5978c8",
   "metadata": {},
   "source": [
    "### ModelForwardTask\n",
    "As discussed, we want to respond to the request immediately.\n",
    "That means, we want to use our trained, validated and tested model for prediction!\n",
    "Fortunately, TUM established the `PyTorchTask` as a base class for many PyTorch related `EOTasks` like the `ModelForwardTask`, the `LayerGradCamTask` or the `GradientShapTask`, for example.\n",
    "In this notebook, we focus on the `ModelForwardTask` since we need to implement a functionality for returning the model's prediction, as the model's regular forward method only returns the logits and not the final prediction.\n",
    "This ensures that the input feature is fed to our model and the output is returned as intended.\n",
    "\n",
    "As for all `EOTasks`, we choose the in- and output features.\n",
    "The `in_feature` is fed to the model, whereas its result is stored in the `out_feature`.\n",
    "In order to properly normalize the downloaded data, we have to insert our scaler for `in_transform`.\n",
    "Since we are interested in the predicted land cover, we have to insert our prediction transform for `out_transform`."
   ]
  },
  {
   "cell_type": "code",
   "execution_count": 10,
   "id": "4c19daf7",
   "metadata": {},
   "outputs": [],
   "source": [
    "task_model = ModelForwardTask(\n",
    "    in_feature = (FeatureType.DATA,\"data\"),\n",
    "    out_feature = (FeatureType.MASK,\"model_output\"),\n",
    "    model = model,\n",
    "\n",
    "    in_transform = Scaler,\n",
    "    out_transform = predict,\n",
    "    in_torchtype = torch.FloatTensor,\n",
    "    batch_size = config[\"max_batch_size\"],\n",
    "\n",
    "    maxtries=3,\n",
    "    timeout=22,\n",
    ")"
   ]
  },
  {
   "cell_type": "markdown",
   "id": "3280e0da",
   "metadata": {},
   "source": [
    "## 3. Cloud Removal\n",
    "Since our scenario represents a request made by a land surveying office, we preferably do not want to have clouds in our analysis while sticking to the robustness of our model using multispectral satellite data.\n",
    "Fortunately, we defined our labels accordingly: by using the maximum predicted value out of a series of predictions, we always remove a cloud (class 0) if a less cloudy observation is available, meaning a class value greater 0.\n",
    "Further, we always overwrite forest (class 2) by deforestation (class 3), since it is unlikely that a full forest follows deforestation.\n",
    "By doing so, we always catch the deforestation which took place in a certain time period which is chosen by the user within the workflow arguments.\n",
    "That post-processing is done using the [MapFeatureTask](https://eo-learn.readthedocs.io/en/latest/_modules/eolearn/core/core_tasks.html#MapFeatureTask)."
   ]
  },
  {
   "cell_type": "code",
   "execution_count": 11,
   "id": "afa11626",
   "metadata": {},
   "outputs": [],
   "source": [
    "def maximizer(reference):\n",
    "    return np.max(reference,axis=0)\n",
    "task_postprocessing = MapFeatureTask(\n",
    "    input_features = (FeatureType.MASK, \"model_output\"),\n",
    "    output_features = (FeatureType.MASK_TIMELESS, \"model_output_post\"),\n",
    "    map_function = maximizer\n",
    ")"
   ]
  },
  {
   "cell_type": "markdown",
   "id": "0160f27f",
   "metadata": {},
   "source": [
    "## 4. Exporting and saving\n",
    "#### 4.1 Exporting\n",
    "Of course, we want to export the both the model's output as a GeoTiff for others to analyze it using a common GIS software.\n",
    "\n",
    "We can use the [`ExportToTiffTask`](https://eo-learn.readthedocs.io/en/latest/reference/eolearn.io.raster_io.html#eolearn.io.raster_io.ExportToTiffTask) in order to export both the model's output before and after removing clouds."
   ]
  },
  {
   "cell_type": "code",
   "execution_count": 12,
   "id": "d12d0bc5",
   "metadata": {},
   "outputs": [],
   "source": [
    "#%% export raw model output\n",
    "task_tiff = ExportToTiffTask(\n",
    "    feature = (FeatureType.MASK,\"model_output\"),\n",
    "    folder = config[\"dir_tiffs_showcase\"],\n",
    "    date_indices = None,\n",
    "    band_indices = None,\n",
    "    crs = None,\n",
    "    fail_on_missing = True,\n",
    "    compress = \"deflate\"\n",
    ")\n",
    "\n",
    "#%% export post-processed model output\n",
    "task_tiff_postprocessing = ExportToTiffTask(\n",
    "    feature = (FeatureType.MASK_TIMELESS,\"model_output_post\"),\n",
    "    folder = config[\"dir_tiffs_showcase\"],\n",
    "    date_indices = None,\n",
    "    band_indices = None,\n",
    "    crs = None,\n",
    "    fail_on_missing = True,\n",
    "    compress = \"deflate\"\n",
    ")"
   ]
  },
  {
   "cell_type": "markdown",
   "id": "f6a68cf7",
   "metadata": {},
   "source": [
    "### 4.2 Saving\n",
    "Finally, we want to store the resulting patches."
   ]
  },
  {
   "cell_type": "code",
   "execution_count": 13,
   "id": "bb358599",
   "metadata": {},
   "outputs": [],
   "source": [
    "#%% save EOPatches\n",
    "task_save = SaveTask(\n",
    "    path = config[\"dir_data\"],\n",
    "    filesystem = None,\n",
    "    config = config[\"SHconfig\"],\n",
    "    overwrite_permission = OverwritePermission.OVERWRITE_PATCH,\n",
    "    compress_level = 2\n",
    ")"
   ]
  },
  {
   "cell_type": "markdown",
   "id": "590fc9b2",
   "metadata": {},
   "source": [
    "## EONodes\n",
    "After we have defined all necessary __`EOTasks`__, we initialize the __`EONodes`__ which will be used in order to run through the workflow afterwards."
   ]
  },
  {
   "cell_type": "code",
   "execution_count": 14,
   "id": "9386477c",
   "metadata": {},
   "outputs": [],
   "source": [
    "#%% input nodes\n",
    "node_data = EONode(\n",
    "    task = task_data,\n",
    "    inputs = [],\n",
    "    name = \"load Sentinel-2 data\"\n",
    ")\n",
    "\n",
    "#%% inference node\n",
    "node_model = EONode(\n",
    "    task = task_model,\n",
    "    inputs = [node_data],\n",
    "    name = \"predict water mask\"\n",
    ")\n",
    "\n",
    "node_postprocessing = EONode(\n",
    "    task = task_postprocessing,\n",
    "    inputs = [node_model],\n",
    "    name = \"predict water mask\"\n",
    ")\n",
    "\n",
    "#%% export and save\n",
    "node_tiff = EONode(\n",
    "    task = task_tiff,\n",
    "    inputs = [node_postprocessing],\n",
    "    name = \"export GeoTiff of model output\"\n",
    ")\n",
    "\n",
    "node_tiff_postprocessing = EONode(\n",
    "    task = task_tiff_postprocessing,\n",
    "    inputs = [node_tiff],\n",
    "    name = \"export GeoTiff of model output\"\n",
    ")\n",
    "\n",
    "node_save = EONode(\n",
    "    task = task_save,\n",
    "    inputs = [node_tiff_postprocessing],\n",
    "    name = \"save EOPatch\"\n",
    ")"
   ]
  },
  {
   "cell_type": "markdown",
   "id": "b0819005",
   "metadata": {},
   "source": [
    "## Final EOWorkflow\n",
    "\n",
    "Finally, we can define our workflow using the end node."
   ]
  },
  {
   "cell_type": "code",
   "execution_count": 15,
   "id": "56870be9",
   "metadata": {},
   "outputs": [],
   "source": [
    "workflow = EOWorkflow.from_endnodes(node_save)\n",
    "#workflow.dependency_graph()"
   ]
  },
  {
   "cell_type": "markdown",
   "id": "eafa40b6",
   "metadata": {},
   "source": [
    "## Execution\n",
    "So far, we have defined our\n",
    "- Area of Interest\n",
    "- Input tasks\n",
    "- Model tasks\n",
    "- EOWorkflow\n",
    "\n",
    "What is left, is the definition of our __execution (or workflow) arguments__.\n",
    "We want to execute our workflow in parallel.\n",
    "This can be done using the package `ExecuteME`.\n",
    "\n",
    "Since PyTorch models demand the spawn start method for subprocesses, we must ensure the entry point.\n",
    "This is accomplished by setting the file that defines the subprocesses as the main file.\n",
    "We recommend doing this in standard Python scripts, as Jupyter Notebooks require clarifying the entry point in every cell (so you can easily export it as a script) and do not support the spawn method.\n",
    "That is, the parallelization does not work in Jupyter Notebooks, but you may let it run using one worker."
   ]
  },
  {
   "cell_type": "markdown",
   "id": "17c8a73d",
   "metadata": {},
   "source": [
    "### Workflow Arguments\n",
    "First, we have to define __workflow arguments__, both temporal and spatial.\n",
    "Note that we only want to download the data that is not yet present on our device.\n",
    "Hence, we check for existence first and assign arguments afterwards."
   ]
  },
  {
   "cell_type": "code",
   "execution_count": 16,
   "id": "8b684889",
   "metadata": {},
   "outputs": [
    {
     "name": "stdout",
     "output_type": "stream",
     "text": [
      "\r",
      "Checking workflow args 1/121\r",
      "\r",
      "Checking workflow args 2/121\r",
      "\r",
      "Checking workflow args 3/121\r",
      "\r",
      "Checking workflow args 4/121\r",
      "\r",
      "Checking workflow args 5/121\r",
      "\r",
      "Checking workflow args 6/121\r",
      "\r",
      "Checking workflow args 7/121\r",
      "\r",
      "Checking workflow args 8/121\r",
      "\r",
      "Checking workflow args 9/121\r",
      "\r",
      "Checking workflow args 10/121\r",
      "\r",
      "Checking workflow args 11/121\r",
      "\r",
      "Checking workflow args 12/121\r",
      "\r",
      "Checking workflow args 13/121\r",
      "\r",
      "Checking workflow args 14/121\r",
      "\r",
      "Checking workflow args 15/121\r",
      "\r",
      "Checking workflow args 16/121\r",
      "\r",
      "Checking workflow args 17/121\r",
      "\r",
      "Checking workflow args 18/121\r",
      "\r",
      "Checking workflow args 19/121\r",
      "\r",
      "Checking workflow args 20/121\r",
      "\r",
      "Checking workflow args 21/121\r",
      "\r",
      "Checking workflow args 22/121\r",
      "\r",
      "Checking workflow args 23/121\r",
      "\r",
      "Checking workflow args 24/121\r",
      "\r",
      "Checking workflow args 25/121\r",
      "\r",
      "Checking workflow args 26/121\r",
      "\r",
      "Checking workflow args 27/121\r",
      "\r",
      "Checking workflow args 28/121\r",
      "\r",
      "Checking workflow args 29/121\r",
      "\r",
      "Checking workflow args 30/121\r",
      "\r",
      "Checking workflow args 31/121\r",
      "\r",
      "Checking workflow args 32/121\r",
      "\r",
      "Checking workflow args 33/121\r",
      "\r",
      "Checking workflow args 34/121\r",
      "\r",
      "Checking workflow args 35/121\r",
      "\r",
      "Checking workflow args 36/121\r",
      "\r",
      "Checking workflow args 37/121\r",
      "\r",
      "Checking workflow args 38/121\r",
      "\r",
      "Checking workflow args 39/121\r",
      "\r",
      "Checking workflow args 40/121\r",
      "\r",
      "Checking workflow args 41/121\r",
      "\r",
      "Checking workflow args 42/121\r",
      "\r",
      "Checking workflow args 43/121\r",
      "\r",
      "Checking workflow args 44/121\r",
      "\r",
      "Checking workflow args 45/121\r",
      "\r",
      "Checking workflow args 46/121\r",
      "\r",
      "Checking workflow args 47/121\r",
      "\r",
      "Checking workflow args 48/121\r",
      "\r",
      "Checking workflow args 49/121\r",
      "\r",
      "Checking workflow args 50/121\r",
      "\r",
      "Checking workflow args 51/121\r",
      "\r",
      "Checking workflow args 52/121\r",
      "\r",
      "Checking workflow args 53/121\r",
      "\r",
      "Checking workflow args 54/121\r",
      "\r",
      "Checking workflow args 55/121\r",
      "\r",
      "Checking workflow args 56/121\r",
      "\r",
      "Checking workflow args 57/121\r",
      "\r",
      "Checking workflow args 58/121\r",
      "\r",
      "Checking workflow args 59/121\r",
      "\r",
      "Checking workflow args 60/121\r",
      "\r",
      "Checking workflow args 61/121\r",
      "\r",
      "Checking workflow args 62/121\r",
      "\r",
      "Checking workflow args 63/121\r",
      "\r",
      "Checking workflow args 64/121\r",
      "\r",
      "Checking workflow args 65/121\r",
      "\r",
      "Checking workflow args 66/121\r",
      "\r",
      "Checking workflow args 67/121\r",
      "\r",
      "Checking workflow args 68/121\r",
      "\r",
      "Checking workflow args 69/121\r",
      "\r",
      "Checking workflow args 70/121\r",
      "\r",
      "Checking workflow args 71/121\r",
      "\r",
      "Checking workflow args 72/121\r",
      "\r",
      "Checking workflow args 73/121\r",
      "\r",
      "Checking workflow args 74/121\r",
      "\r",
      "Checking workflow args 75/121\r",
      "\r",
      "Checking workflow args 76/121\r",
      "\r",
      "Checking workflow args 77/121\r",
      "\r",
      "Checking workflow args 78/121\r",
      "\r",
      "Checking workflow args 79/121\r",
      "\r",
      "Checking workflow args 80/121\r",
      "\r",
      "Checking workflow args 81/121\r",
      "\r",
      "Checking workflow args 82/121\r",
      "\r",
      "Checking workflow args 83/121\r",
      "\r",
      "Checking workflow args 84/121\r",
      "\r",
      "Checking workflow args 85/121\r",
      "\r",
      "Checking workflow args 86/121\r",
      "\r",
      "Checking workflow args 87/121\r",
      "\r",
      "Checking workflow args 88/121\r",
      "\r",
      "Checking workflow args 89/121\r",
      "\r",
      "Checking workflow args 90/121\r",
      "\r",
      "Checking workflow args 91/121\r",
      "\r",
      "Checking workflow args 92/121\r",
      "\r",
      "Checking workflow args 93/121\r",
      "\r",
      "Checking workflow args 94/121\r",
      "\r",
      "Checking workflow args 95/121\r",
      "\r",
      "Checking workflow args 96/121\r",
      "\r",
      "Checking workflow args 97/121\r",
      "\r",
      "Checking workflow args 98/121\r",
      "\r",
      "Checking workflow args 99/121\r",
      "\r",
      "Checking workflow args 100/121\r",
      "\r",
      "Checking workflow args 101/121\r",
      "\r",
      "Checking workflow args 102/121\r",
      "\r",
      "Checking workflow args 103/121\r",
      "\r",
      "Checking workflow args 104/121\r",
      "\r",
      "Checking workflow args 105/121\r",
      "\r",
      "Checking workflow args 106/121\r",
      "\r",
      "Checking workflow args 107/121\r",
      "\r",
      "Checking workflow args 108/121\r",
      "\r",
      "Checking workflow args 109/121\r",
      "\r",
      "Checking workflow args 110/121\r",
      "\r",
      "Checking workflow args 111/121\r",
      "\r",
      "Checking workflow args 112/121\r",
      "\r",
      "Checking workflow args 113/121\r",
      "\r",
      "Checking workflow args 114/121\r",
      "\r",
      "Checking workflow args 115/121\r",
      "\r",
      "Checking workflow args 116/121\r",
      "\r",
      "Checking workflow args 117/121\r",
      "\r",
      "Checking workflow args 118/121\r",
      "\r",
      "Checking workflow args 119/121\r",
      "\r",
      "Checking workflow args 120/121\r",
      "\r",
      "Checking workflow args 121/121\r\n",
      "Number of downloads/calculations: 121\n"
     ]
    }
   ],
   "source": [
    "if __name__=='__main__':  \n",
    "    #%% define workflow arguments\n",
    "    workflow_args = []\n",
    "    bbox_list_ = bbox_list_showcase\n",
    "    for i in range(len(bbox_list_)):\n",
    "        print(f\"\\rChecking workflow args {i+1}/{len(bbox_list_)}\",end=\"\\r\")\n",
    "        try:\n",
    "            timeinterval = (config[\"start_showcase\"],config[\"end_showcase\"])\n",
    "            timeintervalstring = f\"{timeinterval[0].strftime(r'%Y-%m-%dT%H-%M-%S_%Z')}--{timeinterval[1].strftime(r'%Y-%m-%dT%H-%M-%S_%Z')}\"\n",
    "            \n",
    "            dir_ = f\"showcase/eopatch_{i}_{timeintervalstring}\"\n",
    "            if not os.path.exists(os.path.join(config[\"dir_data\"],dir_)):### and False: ### \n",
    "                workflow_args.append(\n",
    "                    {\n",
    "                        node_data: {\"bbox\":bbox_list_[i],\"time_interval\":timeinterval},\n",
    "                        node_tiff: {\"filename\": f\"deforestation_raw_{i}_{timeintervalstring}\"},\n",
    "                        node_tiff_postprocessing: {\"filename\": f\"deforestation_postprocessed_{i}_{timeintervalstring}\"},\n",
    "                        node_save: {\"eopatch_folder\":dir_}\n",
    "                    }\n",
    "                )\n",
    "        except Exception as e:\n",
    "            print(e)\n",
    "    print()\n",
    "\n",
    "    print(f\"Number of downloads/calculations: {len(workflow_args)}\")"
   ]
  },
  {
   "cell_type": "markdown",
   "id": "f05bd64f",
   "metadata": {},
   "source": [
    "### Devices\n",
    "Secondly, we need to initialize a multiprocessor queue containing our devices' names.\n",
    "This way, we can use any number of GPUs.\n",
    "Of course, it can also stay on the CPU by setting the config.device accordingly.\n",
    "\n",
    "The `PyTorchTasks` can be used for features that contain multiple timestamps to be analyzed.\n",
    "Accordingly, the `batch_size` parameter of the `ModelForwardTask` refers to the timestamps, i.e., the first dimension of a feature array.\n",
    "If you do not have multiple timestamps, you can insert a kind of `batch_size` for a device by defining `batch_size x available_devices` devices or especially `batch_size` times the device you want to use multiple times.\n",
    "Please be careful with this as there is an additional cost per patch to initialize the model since the model is not shared between multiple `EOPatches`.\n",
    "Nevertheless, this behavior is advantageous if an analysis is to be carried out using the `ModelUncertaintyTask`, for example.\n",
    "Here it is necessary to use the model several times anyway."
   ]
  },
  {
   "cell_type": "code",
   "execution_count": 17,
   "id": "d69d6090",
   "metadata": {},
   "outputs": [],
   "source": [
    "if __name__=='__main__':  \n",
    "    devices = ExecuteME.Devices([\"cuda\"],multiprocessing_context=\"spawn\")"
   ]
  },
  {
   "cell_type": "markdown",
   "id": "2556f405",
   "metadata": {},
   "source": [
    "In the next step, we will define the multiprocessor keyword arguments that must be passed to our tasks separately. These keyword arguments must be shared between the processes because the list of available devices should be known to the different processes and, hence, be shared or provided separately."
   ]
  },
  {
   "cell_type": "code",
   "execution_count": 18,
   "id": "94e604f7",
   "metadata": {},
   "outputs": [],
   "source": [
    "if __name__=='__main__':  \n",
    "    mpkwargs = {\n",
    "        node_model: {\"devices\":devices},\n",
    "    }"
   ]
  },
  {
   "cell_type": "markdown",
   "id": "218b0d3b",
   "metadata": {},
   "source": [
    "### Run\n",
    "Now, it's time to let it run!\n",
    "Please notice that we insert a 0 for `threads` since Jupyter Notebooks do not allow for the spawn method.\n",
    "In a Python script, you may choose as many threads as you like."
   ]
  },
  {
   "cell_type": "code",
   "execution_count": 19,
   "id": "30b8c4fc",
   "metadata": {
    "scrolled": true
   },
   "outputs": [
    {
     "name": "stderr",
     "output_type": "stream",
     "text": [
      "/home/michael/anaconda3/envs/eolearn_water/lib/python3.8/site-packages/eolearn/io/raster_io.py:263: EORuntimeWarning: Data from feature (<FeatureType.MASK: 'mask'>, 'model_output') cannot be exported to tiff with dtype numpy.int64. Will export as numpy.int32 instead\n",
      "  warnings.warn(\n",
      "/home/michael/anaconda3/envs/eolearn_water/lib/python3.8/site-packages/eolearn/io/raster_io.py:263: EORuntimeWarning: Data from feature (<FeatureType.MASK_TIMELESS: 'mask_timeless'>, 'model_output_post') cannot be exported to tiff with dtype numpy.int64. Will export as numpy.int32 instead\n",
      "  warnings.warn(\n"
     ]
    },
    {
     "name": "stdout",
     "output_type": "stream",
     "text": [
      "\r",
      "1/121 calculations [0.83%] with 1 thread(s)\t\r"
     ]
    },
    {
     "name": "stderr",
     "output_type": "stream",
     "text": [
      "/home/michael/anaconda3/envs/eolearn_water/lib/python3.8/site-packages/eolearn/io/raster_io.py:263: EORuntimeWarning: Data from feature (<FeatureType.MASK: 'mask'>, 'model_output') cannot be exported to tiff with dtype numpy.int64. Will export as numpy.int32 instead\n",
      "  warnings.warn(\n",
      "/home/michael/anaconda3/envs/eolearn_water/lib/python3.8/site-packages/eolearn/io/raster_io.py:263: EORuntimeWarning: Data from feature (<FeatureType.MASK_TIMELESS: 'mask_timeless'>, 'model_output_post') cannot be exported to tiff with dtype numpy.int64. Will export as numpy.int32 instead\n",
      "  warnings.warn(\n"
     ]
    },
    {
     "name": "stdout",
     "output_type": "stream",
     "text": [
      "\r",
      "2/121 calculations [1.65%] with 1 thread(s)\t\r"
     ]
    },
    {
     "name": "stderr",
     "output_type": "stream",
     "text": [
      "/home/michael/anaconda3/envs/eolearn_water/lib/python3.8/site-packages/eolearn/io/raster_io.py:263: EORuntimeWarning: Data from feature (<FeatureType.MASK: 'mask'>, 'model_output') cannot be exported to tiff with dtype numpy.int64. Will export as numpy.int32 instead\n",
      "  warnings.warn(\n",
      "/home/michael/anaconda3/envs/eolearn_water/lib/python3.8/site-packages/eolearn/io/raster_io.py:263: EORuntimeWarning: Data from feature (<FeatureType.MASK_TIMELESS: 'mask_timeless'>, 'model_output_post') cannot be exported to tiff with dtype numpy.int64. Will export as numpy.int32 instead\n",
      "  warnings.warn(\n"
     ]
    },
    {
     "name": "stdout",
     "output_type": "stream",
     "text": [
      "\r",
      "3/121 calculations [2.48%] with 1 thread(s)\t\r"
     ]
    },
    {
     "name": "stderr",
     "output_type": "stream",
     "text": [
      "/home/michael/anaconda3/envs/eolearn_water/lib/python3.8/site-packages/eolearn/io/raster_io.py:263: EORuntimeWarning: Data from feature (<FeatureType.MASK: 'mask'>, 'model_output') cannot be exported to tiff with dtype numpy.int64. Will export as numpy.int32 instead\n",
      "  warnings.warn(\n",
      "/home/michael/anaconda3/envs/eolearn_water/lib/python3.8/site-packages/eolearn/io/raster_io.py:263: EORuntimeWarning: Data from feature (<FeatureType.MASK_TIMELESS: 'mask_timeless'>, 'model_output_post') cannot be exported to tiff with dtype numpy.int64. Will export as numpy.int32 instead\n",
      "  warnings.warn(\n"
     ]
    },
    {
     "name": "stdout",
     "output_type": "stream",
     "text": [
      "\r",
      "4/121 calculations [3.31%] with 1 thread(s)\t\r"
     ]
    },
    {
     "name": "stderr",
     "output_type": "stream",
     "text": [
      "/home/michael/anaconda3/envs/eolearn_water/lib/python3.8/site-packages/eolearn/io/raster_io.py:263: EORuntimeWarning: Data from feature (<FeatureType.MASK: 'mask'>, 'model_output') cannot be exported to tiff with dtype numpy.int64. Will export as numpy.int32 instead\n",
      "  warnings.warn(\n",
      "/home/michael/anaconda3/envs/eolearn_water/lib/python3.8/site-packages/eolearn/io/raster_io.py:263: EORuntimeWarning: Data from feature (<FeatureType.MASK_TIMELESS: 'mask_timeless'>, 'model_output_post') cannot be exported to tiff with dtype numpy.int64. Will export as numpy.int32 instead\n",
      "  warnings.warn(\n"
     ]
    },
    {
     "name": "stdout",
     "output_type": "stream",
     "text": [
      "\r",
      "5/121 calculations [4.13%] with 1 thread(s)\t\r"
     ]
    },
    {
     "name": "stderr",
     "output_type": "stream",
     "text": [
      "/home/michael/anaconda3/envs/eolearn_water/lib/python3.8/site-packages/eolearn/io/raster_io.py:263: EORuntimeWarning: Data from feature (<FeatureType.MASK: 'mask'>, 'model_output') cannot be exported to tiff with dtype numpy.int64. Will export as numpy.int32 instead\n",
      "  warnings.warn(\n",
      "/home/michael/anaconda3/envs/eolearn_water/lib/python3.8/site-packages/eolearn/io/raster_io.py:263: EORuntimeWarning: Data from feature (<FeatureType.MASK_TIMELESS: 'mask_timeless'>, 'model_output_post') cannot be exported to tiff with dtype numpy.int64. Will export as numpy.int32 instead\n",
      "  warnings.warn(\n"
     ]
    },
    {
     "name": "stdout",
     "output_type": "stream",
     "text": [
      "\r",
      "6/121 calculations [4.96%] with 1 thread(s)\t\r"
     ]
    },
    {
     "name": "stderr",
     "output_type": "stream",
     "text": [
      "/home/michael/anaconda3/envs/eolearn_water/lib/python3.8/site-packages/eolearn/io/raster_io.py:263: EORuntimeWarning: Data from feature (<FeatureType.MASK: 'mask'>, 'model_output') cannot be exported to tiff with dtype numpy.int64. Will export as numpy.int32 instead\n",
      "  warnings.warn(\n",
      "/home/michael/anaconda3/envs/eolearn_water/lib/python3.8/site-packages/eolearn/io/raster_io.py:263: EORuntimeWarning: Data from feature (<FeatureType.MASK_TIMELESS: 'mask_timeless'>, 'model_output_post') cannot be exported to tiff with dtype numpy.int64. Will export as numpy.int32 instead\n",
      "  warnings.warn(\n"
     ]
    },
    {
     "name": "stdout",
     "output_type": "stream",
     "text": [
      "\r",
      "7/121 calculations [5.79%] with 1 thread(s)\t\r"
     ]
    },
    {
     "name": "stderr",
     "output_type": "stream",
     "text": [
      "/home/michael/anaconda3/envs/eolearn_water/lib/python3.8/site-packages/eolearn/io/raster_io.py:263: EORuntimeWarning: Data from feature (<FeatureType.MASK: 'mask'>, 'model_output') cannot be exported to tiff with dtype numpy.int64. Will export as numpy.int32 instead\n",
      "  warnings.warn(\n",
      "/home/michael/anaconda3/envs/eolearn_water/lib/python3.8/site-packages/eolearn/io/raster_io.py:263: EORuntimeWarning: Data from feature (<FeatureType.MASK_TIMELESS: 'mask_timeless'>, 'model_output_post') cannot be exported to tiff with dtype numpy.int64. Will export as numpy.int32 instead\n",
      "  warnings.warn(\n"
     ]
    },
    {
     "name": "stdout",
     "output_type": "stream",
     "text": [
      "\r",
      "8/121 calculations [6.61%] with 1 thread(s)\t\r"
     ]
    },
    {
     "name": "stderr",
     "output_type": "stream",
     "text": [
      "/home/michael/anaconda3/envs/eolearn_water/lib/python3.8/site-packages/eolearn/io/raster_io.py:263: EORuntimeWarning: Data from feature (<FeatureType.MASK: 'mask'>, 'model_output') cannot be exported to tiff with dtype numpy.int64. Will export as numpy.int32 instead\n",
      "  warnings.warn(\n",
      "/home/michael/anaconda3/envs/eolearn_water/lib/python3.8/site-packages/eolearn/io/raster_io.py:263: EORuntimeWarning: Data from feature (<FeatureType.MASK_TIMELESS: 'mask_timeless'>, 'model_output_post') cannot be exported to tiff with dtype numpy.int64. Will export as numpy.int32 instead\n",
      "  warnings.warn(\n"
     ]
    },
    {
     "name": "stdout",
     "output_type": "stream",
     "text": [
      "\r",
      "9/121 calculations [7.44%] with 1 thread(s)\t\r"
     ]
    },
    {
     "name": "stderr",
     "output_type": "stream",
     "text": [
      "/home/michael/anaconda3/envs/eolearn_water/lib/python3.8/site-packages/eolearn/io/raster_io.py:263: EORuntimeWarning: Data from feature (<FeatureType.MASK: 'mask'>, 'model_output') cannot be exported to tiff with dtype numpy.int64. Will export as numpy.int32 instead\n",
      "  warnings.warn(\n",
      "/home/michael/anaconda3/envs/eolearn_water/lib/python3.8/site-packages/eolearn/io/raster_io.py:263: EORuntimeWarning: Data from feature (<FeatureType.MASK_TIMELESS: 'mask_timeless'>, 'model_output_post') cannot be exported to tiff with dtype numpy.int64. Will export as numpy.int32 instead\n",
      "  warnings.warn(\n"
     ]
    },
    {
     "name": "stdout",
     "output_type": "stream",
     "text": [
      "\r",
      "10/121 calculations [8.26%] with 1 thread(s)\t\r"
     ]
    },
    {
     "name": "stderr",
     "output_type": "stream",
     "text": [
      "/home/michael/anaconda3/envs/eolearn_water/lib/python3.8/site-packages/eolearn/io/raster_io.py:263: EORuntimeWarning: Data from feature (<FeatureType.MASK: 'mask'>, 'model_output') cannot be exported to tiff with dtype numpy.int64. Will export as numpy.int32 instead\n",
      "  warnings.warn(\n",
      "/home/michael/anaconda3/envs/eolearn_water/lib/python3.8/site-packages/eolearn/io/raster_io.py:263: EORuntimeWarning: Data from feature (<FeatureType.MASK_TIMELESS: 'mask_timeless'>, 'model_output_post') cannot be exported to tiff with dtype numpy.int64. Will export as numpy.int32 instead\n",
      "  warnings.warn(\n"
     ]
    },
    {
     "name": "stdout",
     "output_type": "stream",
     "text": [
      "\r",
      "11/121 calculations [9.09%] with 1 thread(s)\t\r"
     ]
    },
    {
     "name": "stderr",
     "output_type": "stream",
     "text": [
      "/home/michael/anaconda3/envs/eolearn_water/lib/python3.8/site-packages/eolearn/io/raster_io.py:263: EORuntimeWarning: Data from feature (<FeatureType.MASK: 'mask'>, 'model_output') cannot be exported to tiff with dtype numpy.int64. Will export as numpy.int32 instead\n",
      "  warnings.warn(\n",
      "/home/michael/anaconda3/envs/eolearn_water/lib/python3.8/site-packages/eolearn/io/raster_io.py:263: EORuntimeWarning: Data from feature (<FeatureType.MASK_TIMELESS: 'mask_timeless'>, 'model_output_post') cannot be exported to tiff with dtype numpy.int64. Will export as numpy.int32 instead\n",
      "  warnings.warn(\n"
     ]
    },
    {
     "name": "stdout",
     "output_type": "stream",
     "text": [
      "\r",
      "12/121 calculations [9.92%] with 1 thread(s)\t\r"
     ]
    },
    {
     "name": "stderr",
     "output_type": "stream",
     "text": [
      "/home/michael/anaconda3/envs/eolearn_water/lib/python3.8/site-packages/eolearn/io/raster_io.py:263: EORuntimeWarning: Data from feature (<FeatureType.MASK: 'mask'>, 'model_output') cannot be exported to tiff with dtype numpy.int64. Will export as numpy.int32 instead\n",
      "  warnings.warn(\n",
      "/home/michael/anaconda3/envs/eolearn_water/lib/python3.8/site-packages/eolearn/io/raster_io.py:263: EORuntimeWarning: Data from feature (<FeatureType.MASK_TIMELESS: 'mask_timeless'>, 'model_output_post') cannot be exported to tiff with dtype numpy.int64. Will export as numpy.int32 instead\n",
      "  warnings.warn(\n"
     ]
    },
    {
     "name": "stdout",
     "output_type": "stream",
     "text": [
      "\r",
      "13/121 calculations [10.74%] with 1 thread(s)\t\r"
     ]
    },
    {
     "name": "stderr",
     "output_type": "stream",
     "text": [
      "/home/michael/anaconda3/envs/eolearn_water/lib/python3.8/site-packages/eolearn/io/raster_io.py:263: EORuntimeWarning: Data from feature (<FeatureType.MASK: 'mask'>, 'model_output') cannot be exported to tiff with dtype numpy.int64. Will export as numpy.int32 instead\n",
      "  warnings.warn(\n",
      "/home/michael/anaconda3/envs/eolearn_water/lib/python3.8/site-packages/eolearn/io/raster_io.py:263: EORuntimeWarning: Data from feature (<FeatureType.MASK_TIMELESS: 'mask_timeless'>, 'model_output_post') cannot be exported to tiff with dtype numpy.int64. Will export as numpy.int32 instead\n",
      "  warnings.warn(\n"
     ]
    },
    {
     "name": "stdout",
     "output_type": "stream",
     "text": [
      "\r",
      "14/121 calculations [11.57%] with 1 thread(s)\t\r"
     ]
    },
    {
     "name": "stderr",
     "output_type": "stream",
     "text": [
      "/home/michael/anaconda3/envs/eolearn_water/lib/python3.8/site-packages/eolearn/io/raster_io.py:263: EORuntimeWarning: Data from feature (<FeatureType.MASK: 'mask'>, 'model_output') cannot be exported to tiff with dtype numpy.int64. Will export as numpy.int32 instead\n",
      "  warnings.warn(\n",
      "/home/michael/anaconda3/envs/eolearn_water/lib/python3.8/site-packages/eolearn/io/raster_io.py:263: EORuntimeWarning: Data from feature (<FeatureType.MASK_TIMELESS: 'mask_timeless'>, 'model_output_post') cannot be exported to tiff with dtype numpy.int64. Will export as numpy.int32 instead\n",
      "  warnings.warn(\n"
     ]
    },
    {
     "name": "stdout",
     "output_type": "stream",
     "text": [
      "\r",
      "15/121 calculations [12.40%] with 1 thread(s)\t\r"
     ]
    },
    {
     "name": "stderr",
     "output_type": "stream",
     "text": [
      "/home/michael/anaconda3/envs/eolearn_water/lib/python3.8/site-packages/eolearn/io/raster_io.py:263: EORuntimeWarning: Data from feature (<FeatureType.MASK: 'mask'>, 'model_output') cannot be exported to tiff with dtype numpy.int64. Will export as numpy.int32 instead\n",
      "  warnings.warn(\n",
      "/home/michael/anaconda3/envs/eolearn_water/lib/python3.8/site-packages/eolearn/io/raster_io.py:263: EORuntimeWarning: Data from feature (<FeatureType.MASK_TIMELESS: 'mask_timeless'>, 'model_output_post') cannot be exported to tiff with dtype numpy.int64. Will export as numpy.int32 instead\n",
      "  warnings.warn(\n"
     ]
    },
    {
     "name": "stdout",
     "output_type": "stream",
     "text": [
      "\r",
      "16/121 calculations [13.22%] with 1 thread(s)\t\r"
     ]
    },
    {
     "name": "stderr",
     "output_type": "stream",
     "text": [
      "/home/michael/anaconda3/envs/eolearn_water/lib/python3.8/site-packages/eolearn/io/raster_io.py:263: EORuntimeWarning: Data from feature (<FeatureType.MASK: 'mask'>, 'model_output') cannot be exported to tiff with dtype numpy.int64. Will export as numpy.int32 instead\n",
      "  warnings.warn(\n",
      "/home/michael/anaconda3/envs/eolearn_water/lib/python3.8/site-packages/eolearn/io/raster_io.py:263: EORuntimeWarning: Data from feature (<FeatureType.MASK_TIMELESS: 'mask_timeless'>, 'model_output_post') cannot be exported to tiff with dtype numpy.int64. Will export as numpy.int32 instead\n",
      "  warnings.warn(\n"
     ]
    },
    {
     "name": "stdout",
     "output_type": "stream",
     "text": [
      "\r",
      "17/121 calculations [14.05%] with 1 thread(s)\t\r"
     ]
    },
    {
     "name": "stderr",
     "output_type": "stream",
     "text": [
      "/home/michael/anaconda3/envs/eolearn_water/lib/python3.8/site-packages/eolearn/io/raster_io.py:263: EORuntimeWarning: Data from feature (<FeatureType.MASK: 'mask'>, 'model_output') cannot be exported to tiff with dtype numpy.int64. Will export as numpy.int32 instead\n",
      "  warnings.warn(\n",
      "/home/michael/anaconda3/envs/eolearn_water/lib/python3.8/site-packages/eolearn/io/raster_io.py:263: EORuntimeWarning: Data from feature (<FeatureType.MASK_TIMELESS: 'mask_timeless'>, 'model_output_post') cannot be exported to tiff with dtype numpy.int64. Will export as numpy.int32 instead\n",
      "  warnings.warn(\n"
     ]
    },
    {
     "name": "stdout",
     "output_type": "stream",
     "text": [
      "\r",
      "18/121 calculations [14.88%] with 1 thread(s)\t\r"
     ]
    },
    {
     "name": "stderr",
     "output_type": "stream",
     "text": [
      "/home/michael/anaconda3/envs/eolearn_water/lib/python3.8/site-packages/eolearn/io/raster_io.py:263: EORuntimeWarning: Data from feature (<FeatureType.MASK: 'mask'>, 'model_output') cannot be exported to tiff with dtype numpy.int64. Will export as numpy.int32 instead\n",
      "  warnings.warn(\n",
      "/home/michael/anaconda3/envs/eolearn_water/lib/python3.8/site-packages/eolearn/io/raster_io.py:263: EORuntimeWarning: Data from feature (<FeatureType.MASK_TIMELESS: 'mask_timeless'>, 'model_output_post') cannot be exported to tiff with dtype numpy.int64. Will export as numpy.int32 instead\n",
      "  warnings.warn(\n"
     ]
    },
    {
     "name": "stdout",
     "output_type": "stream",
     "text": [
      "\r",
      "19/121 calculations [15.70%] with 1 thread(s)\t\r"
     ]
    },
    {
     "name": "stderr",
     "output_type": "stream",
     "text": [
      "/home/michael/anaconda3/envs/eolearn_water/lib/python3.8/site-packages/eolearn/io/raster_io.py:263: EORuntimeWarning: Data from feature (<FeatureType.MASK: 'mask'>, 'model_output') cannot be exported to tiff with dtype numpy.int64. Will export as numpy.int32 instead\n",
      "  warnings.warn(\n",
      "/home/michael/anaconda3/envs/eolearn_water/lib/python3.8/site-packages/eolearn/io/raster_io.py:263: EORuntimeWarning: Data from feature (<FeatureType.MASK_TIMELESS: 'mask_timeless'>, 'model_output_post') cannot be exported to tiff with dtype numpy.int64. Will export as numpy.int32 instead\n",
      "  warnings.warn(\n"
     ]
    },
    {
     "name": "stdout",
     "output_type": "stream",
     "text": [
      "\r",
      "20/121 calculations [16.53%] with 1 thread(s)\t\r"
     ]
    },
    {
     "name": "stderr",
     "output_type": "stream",
     "text": [
      "/home/michael/anaconda3/envs/eolearn_water/lib/python3.8/site-packages/eolearn/io/raster_io.py:263: EORuntimeWarning: Data from feature (<FeatureType.MASK: 'mask'>, 'model_output') cannot be exported to tiff with dtype numpy.int64. Will export as numpy.int32 instead\n",
      "  warnings.warn(\n",
      "/home/michael/anaconda3/envs/eolearn_water/lib/python3.8/site-packages/eolearn/io/raster_io.py:263: EORuntimeWarning: Data from feature (<FeatureType.MASK_TIMELESS: 'mask_timeless'>, 'model_output_post') cannot be exported to tiff with dtype numpy.int64. Will export as numpy.int32 instead\n",
      "  warnings.warn(\n"
     ]
    },
    {
     "name": "stdout",
     "output_type": "stream",
     "text": [
      "\r",
      "21/121 calculations [17.36%] with 1 thread(s)\t\r"
     ]
    },
    {
     "name": "stderr",
     "output_type": "stream",
     "text": [
      "/home/michael/anaconda3/envs/eolearn_water/lib/python3.8/site-packages/eolearn/io/raster_io.py:263: EORuntimeWarning: Data from feature (<FeatureType.MASK: 'mask'>, 'model_output') cannot be exported to tiff with dtype numpy.int64. Will export as numpy.int32 instead\n",
      "  warnings.warn(\n",
      "/home/michael/anaconda3/envs/eolearn_water/lib/python3.8/site-packages/eolearn/io/raster_io.py:263: EORuntimeWarning: Data from feature (<FeatureType.MASK_TIMELESS: 'mask_timeless'>, 'model_output_post') cannot be exported to tiff with dtype numpy.int64. Will export as numpy.int32 instead\n",
      "  warnings.warn(\n"
     ]
    },
    {
     "name": "stdout",
     "output_type": "stream",
     "text": [
      "\r",
      "22/121 calculations [18.18%] with 1 thread(s)\t\r"
     ]
    },
    {
     "name": "stderr",
     "output_type": "stream",
     "text": [
      "/home/michael/anaconda3/envs/eolearn_water/lib/python3.8/site-packages/eolearn/io/raster_io.py:263: EORuntimeWarning: Data from feature (<FeatureType.MASK: 'mask'>, 'model_output') cannot be exported to tiff with dtype numpy.int64. Will export as numpy.int32 instead\n",
      "  warnings.warn(\n",
      "/home/michael/anaconda3/envs/eolearn_water/lib/python3.8/site-packages/eolearn/io/raster_io.py:263: EORuntimeWarning: Data from feature (<FeatureType.MASK_TIMELESS: 'mask_timeless'>, 'model_output_post') cannot be exported to tiff with dtype numpy.int64. Will export as numpy.int32 instead\n",
      "  warnings.warn(\n"
     ]
    },
    {
     "name": "stdout",
     "output_type": "stream",
     "text": [
      "\r",
      "23/121 calculations [19.01%] with 1 thread(s)\t\r"
     ]
    },
    {
     "name": "stderr",
     "output_type": "stream",
     "text": [
      "/home/michael/anaconda3/envs/eolearn_water/lib/python3.8/site-packages/eolearn/io/raster_io.py:263: EORuntimeWarning: Data from feature (<FeatureType.MASK: 'mask'>, 'model_output') cannot be exported to tiff with dtype numpy.int64. Will export as numpy.int32 instead\n",
      "  warnings.warn(\n",
      "/home/michael/anaconda3/envs/eolearn_water/lib/python3.8/site-packages/eolearn/io/raster_io.py:263: EORuntimeWarning: Data from feature (<FeatureType.MASK_TIMELESS: 'mask_timeless'>, 'model_output_post') cannot be exported to tiff with dtype numpy.int64. Will export as numpy.int32 instead\n",
      "  warnings.warn(\n"
     ]
    },
    {
     "name": "stdout",
     "output_type": "stream",
     "text": [
      "\r",
      "24/121 calculations [19.83%] with 1 thread(s)\t\r"
     ]
    },
    {
     "name": "stderr",
     "output_type": "stream",
     "text": [
      "/home/michael/anaconda3/envs/eolearn_water/lib/python3.8/site-packages/eolearn/io/raster_io.py:263: EORuntimeWarning: Data from feature (<FeatureType.MASK: 'mask'>, 'model_output') cannot be exported to tiff with dtype numpy.int64. Will export as numpy.int32 instead\n",
      "  warnings.warn(\n",
      "/home/michael/anaconda3/envs/eolearn_water/lib/python3.8/site-packages/eolearn/io/raster_io.py:263: EORuntimeWarning: Data from feature (<FeatureType.MASK_TIMELESS: 'mask_timeless'>, 'model_output_post') cannot be exported to tiff with dtype numpy.int64. Will export as numpy.int32 instead\n",
      "  warnings.warn(\n"
     ]
    },
    {
     "name": "stdout",
     "output_type": "stream",
     "text": [
      "\r",
      "25/121 calculations [20.66%] with 1 thread(s)\t\r"
     ]
    },
    {
     "name": "stderr",
     "output_type": "stream",
     "text": [
      "/home/michael/anaconda3/envs/eolearn_water/lib/python3.8/site-packages/eolearn/io/raster_io.py:263: EORuntimeWarning: Data from feature (<FeatureType.MASK: 'mask'>, 'model_output') cannot be exported to tiff with dtype numpy.int64. Will export as numpy.int32 instead\n",
      "  warnings.warn(\n",
      "/home/michael/anaconda3/envs/eolearn_water/lib/python3.8/site-packages/eolearn/io/raster_io.py:263: EORuntimeWarning: Data from feature (<FeatureType.MASK_TIMELESS: 'mask_timeless'>, 'model_output_post') cannot be exported to tiff with dtype numpy.int64. Will export as numpy.int32 instead\n",
      "  warnings.warn(\n"
     ]
    },
    {
     "name": "stdout",
     "output_type": "stream",
     "text": [
      "\r",
      "26/121 calculations [21.49%] with 1 thread(s)\t\r"
     ]
    },
    {
     "name": "stderr",
     "output_type": "stream",
     "text": [
      "/home/michael/anaconda3/envs/eolearn_water/lib/python3.8/site-packages/eolearn/io/raster_io.py:263: EORuntimeWarning: Data from feature (<FeatureType.MASK: 'mask'>, 'model_output') cannot be exported to tiff with dtype numpy.int64. Will export as numpy.int32 instead\n",
      "  warnings.warn(\n",
      "/home/michael/anaconda3/envs/eolearn_water/lib/python3.8/site-packages/eolearn/io/raster_io.py:263: EORuntimeWarning: Data from feature (<FeatureType.MASK_TIMELESS: 'mask_timeless'>, 'model_output_post') cannot be exported to tiff with dtype numpy.int64. Will export as numpy.int32 instead\n",
      "  warnings.warn(\n"
     ]
    },
    {
     "name": "stdout",
     "output_type": "stream",
     "text": [
      "\r",
      "27/121 calculations [22.31%] with 1 thread(s)\t\r"
     ]
    },
    {
     "name": "stderr",
     "output_type": "stream",
     "text": [
      "/home/michael/anaconda3/envs/eolearn_water/lib/python3.8/site-packages/eolearn/io/raster_io.py:263: EORuntimeWarning: Data from feature (<FeatureType.MASK: 'mask'>, 'model_output') cannot be exported to tiff with dtype numpy.int64. Will export as numpy.int32 instead\n",
      "  warnings.warn(\n",
      "/home/michael/anaconda3/envs/eolearn_water/lib/python3.8/site-packages/eolearn/io/raster_io.py:263: EORuntimeWarning: Data from feature (<FeatureType.MASK_TIMELESS: 'mask_timeless'>, 'model_output_post') cannot be exported to tiff with dtype numpy.int64. Will export as numpy.int32 instead\n",
      "  warnings.warn(\n"
     ]
    },
    {
     "name": "stdout",
     "output_type": "stream",
     "text": [
      "\r",
      "28/121 calculations [23.14%] with 1 thread(s)\t\r"
     ]
    },
    {
     "name": "stderr",
     "output_type": "stream",
     "text": [
      "/home/michael/anaconda3/envs/eolearn_water/lib/python3.8/site-packages/eolearn/io/raster_io.py:263: EORuntimeWarning: Data from feature (<FeatureType.MASK: 'mask'>, 'model_output') cannot be exported to tiff with dtype numpy.int64. Will export as numpy.int32 instead\n",
      "  warnings.warn(\n",
      "/home/michael/anaconda3/envs/eolearn_water/lib/python3.8/site-packages/eolearn/io/raster_io.py:263: EORuntimeWarning: Data from feature (<FeatureType.MASK_TIMELESS: 'mask_timeless'>, 'model_output_post') cannot be exported to tiff with dtype numpy.int64. Will export as numpy.int32 instead\n",
      "  warnings.warn(\n"
     ]
    },
    {
     "name": "stdout",
     "output_type": "stream",
     "text": [
      "\r",
      "29/121 calculations [23.97%] with 1 thread(s)\t\r"
     ]
    },
    {
     "name": "stderr",
     "output_type": "stream",
     "text": [
      "/home/michael/anaconda3/envs/eolearn_water/lib/python3.8/site-packages/eolearn/io/raster_io.py:263: EORuntimeWarning: Data from feature (<FeatureType.MASK: 'mask'>, 'model_output') cannot be exported to tiff with dtype numpy.int64. Will export as numpy.int32 instead\n",
      "  warnings.warn(\n",
      "/home/michael/anaconda3/envs/eolearn_water/lib/python3.8/site-packages/eolearn/io/raster_io.py:263: EORuntimeWarning: Data from feature (<FeatureType.MASK_TIMELESS: 'mask_timeless'>, 'model_output_post') cannot be exported to tiff with dtype numpy.int64. Will export as numpy.int32 instead\n",
      "  warnings.warn(\n"
     ]
    },
    {
     "name": "stdout",
     "output_type": "stream",
     "text": [
      "\r",
      "30/121 calculations [24.79%] with 1 thread(s)\t\r"
     ]
    },
    {
     "name": "stderr",
     "output_type": "stream",
     "text": [
      "/home/michael/anaconda3/envs/eolearn_water/lib/python3.8/site-packages/eolearn/io/raster_io.py:263: EORuntimeWarning: Data from feature (<FeatureType.MASK: 'mask'>, 'model_output') cannot be exported to tiff with dtype numpy.int64. Will export as numpy.int32 instead\n",
      "  warnings.warn(\n",
      "/home/michael/anaconda3/envs/eolearn_water/lib/python3.8/site-packages/eolearn/io/raster_io.py:263: EORuntimeWarning: Data from feature (<FeatureType.MASK_TIMELESS: 'mask_timeless'>, 'model_output_post') cannot be exported to tiff with dtype numpy.int64. Will export as numpy.int32 instead\n",
      "  warnings.warn(\n"
     ]
    },
    {
     "name": "stdout",
     "output_type": "stream",
     "text": [
      "\r",
      "31/121 calculations [25.62%] with 1 thread(s)\t\r"
     ]
    },
    {
     "name": "stderr",
     "output_type": "stream",
     "text": [
      "/home/michael/anaconda3/envs/eolearn_water/lib/python3.8/site-packages/eolearn/io/raster_io.py:263: EORuntimeWarning: Data from feature (<FeatureType.MASK: 'mask'>, 'model_output') cannot be exported to tiff with dtype numpy.int64. Will export as numpy.int32 instead\n",
      "  warnings.warn(\n",
      "/home/michael/anaconda3/envs/eolearn_water/lib/python3.8/site-packages/eolearn/io/raster_io.py:263: EORuntimeWarning: Data from feature (<FeatureType.MASK_TIMELESS: 'mask_timeless'>, 'model_output_post') cannot be exported to tiff with dtype numpy.int64. Will export as numpy.int32 instead\n",
      "  warnings.warn(\n"
     ]
    },
    {
     "name": "stdout",
     "output_type": "stream",
     "text": [
      "\r",
      "32/121 calculations [26.45%] with 1 thread(s)\t\r"
     ]
    },
    {
     "name": "stderr",
     "output_type": "stream",
     "text": [
      "/home/michael/anaconda3/envs/eolearn_water/lib/python3.8/site-packages/eolearn/io/raster_io.py:263: EORuntimeWarning: Data from feature (<FeatureType.MASK: 'mask'>, 'model_output') cannot be exported to tiff with dtype numpy.int64. Will export as numpy.int32 instead\n",
      "  warnings.warn(\n",
      "/home/michael/anaconda3/envs/eolearn_water/lib/python3.8/site-packages/eolearn/io/raster_io.py:263: EORuntimeWarning: Data from feature (<FeatureType.MASK_TIMELESS: 'mask_timeless'>, 'model_output_post') cannot be exported to tiff with dtype numpy.int64. Will export as numpy.int32 instead\n",
      "  warnings.warn(\n"
     ]
    },
    {
     "name": "stdout",
     "output_type": "stream",
     "text": [
      "\r",
      "33/121 calculations [27.27%] with 1 thread(s)\t\r"
     ]
    },
    {
     "name": "stderr",
     "output_type": "stream",
     "text": [
      "/home/michael/anaconda3/envs/eolearn_water/lib/python3.8/site-packages/eolearn/io/raster_io.py:263: EORuntimeWarning: Data from feature (<FeatureType.MASK: 'mask'>, 'model_output') cannot be exported to tiff with dtype numpy.int64. Will export as numpy.int32 instead\n",
      "  warnings.warn(\n",
      "/home/michael/anaconda3/envs/eolearn_water/lib/python3.8/site-packages/eolearn/io/raster_io.py:263: EORuntimeWarning: Data from feature (<FeatureType.MASK_TIMELESS: 'mask_timeless'>, 'model_output_post') cannot be exported to tiff with dtype numpy.int64. Will export as numpy.int32 instead\n",
      "  warnings.warn(\n"
     ]
    },
    {
     "name": "stdout",
     "output_type": "stream",
     "text": [
      "\r",
      "34/121 calculations [28.10%] with 1 thread(s)\t\r"
     ]
    },
    {
     "name": "stderr",
     "output_type": "stream",
     "text": [
      "/home/michael/anaconda3/envs/eolearn_water/lib/python3.8/site-packages/eolearn/io/raster_io.py:263: EORuntimeWarning: Data from feature (<FeatureType.MASK: 'mask'>, 'model_output') cannot be exported to tiff with dtype numpy.int64. Will export as numpy.int32 instead\n",
      "  warnings.warn(\n",
      "/home/michael/anaconda3/envs/eolearn_water/lib/python3.8/site-packages/eolearn/io/raster_io.py:263: EORuntimeWarning: Data from feature (<FeatureType.MASK_TIMELESS: 'mask_timeless'>, 'model_output_post') cannot be exported to tiff with dtype numpy.int64. Will export as numpy.int32 instead\n",
      "  warnings.warn(\n"
     ]
    },
    {
     "name": "stdout",
     "output_type": "stream",
     "text": [
      "\r",
      "35/121 calculations [28.93%] with 1 thread(s)\t\r"
     ]
    },
    {
     "name": "stderr",
     "output_type": "stream",
     "text": [
      "/home/michael/anaconda3/envs/eolearn_water/lib/python3.8/site-packages/eolearn/io/raster_io.py:263: EORuntimeWarning: Data from feature (<FeatureType.MASK: 'mask'>, 'model_output') cannot be exported to tiff with dtype numpy.int64. Will export as numpy.int32 instead\n",
      "  warnings.warn(\n",
      "/home/michael/anaconda3/envs/eolearn_water/lib/python3.8/site-packages/eolearn/io/raster_io.py:263: EORuntimeWarning: Data from feature (<FeatureType.MASK_TIMELESS: 'mask_timeless'>, 'model_output_post') cannot be exported to tiff with dtype numpy.int64. Will export as numpy.int32 instead\n",
      "  warnings.warn(\n"
     ]
    },
    {
     "name": "stdout",
     "output_type": "stream",
     "text": [
      "\r",
      "36/121 calculations [29.75%] with 1 thread(s)\t\r"
     ]
    },
    {
     "name": "stderr",
     "output_type": "stream",
     "text": [
      "/home/michael/anaconda3/envs/eolearn_water/lib/python3.8/site-packages/eolearn/io/raster_io.py:263: EORuntimeWarning: Data from feature (<FeatureType.MASK: 'mask'>, 'model_output') cannot be exported to tiff with dtype numpy.int64. Will export as numpy.int32 instead\n",
      "  warnings.warn(\n",
      "/home/michael/anaconda3/envs/eolearn_water/lib/python3.8/site-packages/eolearn/io/raster_io.py:263: EORuntimeWarning: Data from feature (<FeatureType.MASK_TIMELESS: 'mask_timeless'>, 'model_output_post') cannot be exported to tiff with dtype numpy.int64. Will export as numpy.int32 instead\n",
      "  warnings.warn(\n"
     ]
    },
    {
     "name": "stdout",
     "output_type": "stream",
     "text": [
      "\r",
      "37/121 calculations [30.58%] with 1 thread(s)\t\r"
     ]
    },
    {
     "name": "stderr",
     "output_type": "stream",
     "text": [
      "/home/michael/anaconda3/envs/eolearn_water/lib/python3.8/site-packages/eolearn/io/raster_io.py:263: EORuntimeWarning: Data from feature (<FeatureType.MASK: 'mask'>, 'model_output') cannot be exported to tiff with dtype numpy.int64. Will export as numpy.int32 instead\n",
      "  warnings.warn(\n",
      "/home/michael/anaconda3/envs/eolearn_water/lib/python3.8/site-packages/eolearn/io/raster_io.py:263: EORuntimeWarning: Data from feature (<FeatureType.MASK_TIMELESS: 'mask_timeless'>, 'model_output_post') cannot be exported to tiff with dtype numpy.int64. Will export as numpy.int32 instead\n",
      "  warnings.warn(\n"
     ]
    },
    {
     "name": "stdout",
     "output_type": "stream",
     "text": [
      "\r",
      "38/121 calculations [31.40%] with 1 thread(s)\t\r"
     ]
    },
    {
     "name": "stderr",
     "output_type": "stream",
     "text": [
      "/home/michael/anaconda3/envs/eolearn_water/lib/python3.8/site-packages/eolearn/io/raster_io.py:263: EORuntimeWarning: Data from feature (<FeatureType.MASK: 'mask'>, 'model_output') cannot be exported to tiff with dtype numpy.int64. Will export as numpy.int32 instead\n",
      "  warnings.warn(\n",
      "/home/michael/anaconda3/envs/eolearn_water/lib/python3.8/site-packages/eolearn/io/raster_io.py:263: EORuntimeWarning: Data from feature (<FeatureType.MASK_TIMELESS: 'mask_timeless'>, 'model_output_post') cannot be exported to tiff with dtype numpy.int64. Will export as numpy.int32 instead\n",
      "  warnings.warn(\n"
     ]
    },
    {
     "name": "stdout",
     "output_type": "stream",
     "text": [
      "\r",
      "39/121 calculations [32.23%] with 1 thread(s)\t\r"
     ]
    },
    {
     "name": "stderr",
     "output_type": "stream",
     "text": [
      "/home/michael/anaconda3/envs/eolearn_water/lib/python3.8/site-packages/eolearn/io/raster_io.py:263: EORuntimeWarning: Data from feature (<FeatureType.MASK: 'mask'>, 'model_output') cannot be exported to tiff with dtype numpy.int64. Will export as numpy.int32 instead\n",
      "  warnings.warn(\n",
      "/home/michael/anaconda3/envs/eolearn_water/lib/python3.8/site-packages/eolearn/io/raster_io.py:263: EORuntimeWarning: Data from feature (<FeatureType.MASK_TIMELESS: 'mask_timeless'>, 'model_output_post') cannot be exported to tiff with dtype numpy.int64. Will export as numpy.int32 instead\n",
      "  warnings.warn(\n"
     ]
    },
    {
     "name": "stdout",
     "output_type": "stream",
     "text": [
      "\r",
      "40/121 calculations [33.06%] with 1 thread(s)\t\r"
     ]
    },
    {
     "name": "stderr",
     "output_type": "stream",
     "text": [
      "/home/michael/anaconda3/envs/eolearn_water/lib/python3.8/site-packages/eolearn/io/raster_io.py:263: EORuntimeWarning: Data from feature (<FeatureType.MASK: 'mask'>, 'model_output') cannot be exported to tiff with dtype numpy.int64. Will export as numpy.int32 instead\n",
      "  warnings.warn(\n",
      "/home/michael/anaconda3/envs/eolearn_water/lib/python3.8/site-packages/eolearn/io/raster_io.py:263: EORuntimeWarning: Data from feature (<FeatureType.MASK_TIMELESS: 'mask_timeless'>, 'model_output_post') cannot be exported to tiff with dtype numpy.int64. Will export as numpy.int32 instead\n",
      "  warnings.warn(\n"
     ]
    },
    {
     "name": "stdout",
     "output_type": "stream",
     "text": [
      "\r",
      "41/121 calculations [33.88%] with 1 thread(s)\t\r"
     ]
    },
    {
     "name": "stderr",
     "output_type": "stream",
     "text": [
      "/home/michael/anaconda3/envs/eolearn_water/lib/python3.8/site-packages/eolearn/io/raster_io.py:263: EORuntimeWarning: Data from feature (<FeatureType.MASK: 'mask'>, 'model_output') cannot be exported to tiff with dtype numpy.int64. Will export as numpy.int32 instead\n",
      "  warnings.warn(\n",
      "/home/michael/anaconda3/envs/eolearn_water/lib/python3.8/site-packages/eolearn/io/raster_io.py:263: EORuntimeWarning: Data from feature (<FeatureType.MASK_TIMELESS: 'mask_timeless'>, 'model_output_post') cannot be exported to tiff with dtype numpy.int64. Will export as numpy.int32 instead\n",
      "  warnings.warn(\n"
     ]
    },
    {
     "name": "stdout",
     "output_type": "stream",
     "text": [
      "\r",
      "42/121 calculations [34.71%] with 1 thread(s)\t\r"
     ]
    },
    {
     "name": "stderr",
     "output_type": "stream",
     "text": [
      "/home/michael/anaconda3/envs/eolearn_water/lib/python3.8/site-packages/eolearn/io/raster_io.py:263: EORuntimeWarning: Data from feature (<FeatureType.MASK: 'mask'>, 'model_output') cannot be exported to tiff with dtype numpy.int64. Will export as numpy.int32 instead\n",
      "  warnings.warn(\n",
      "/home/michael/anaconda3/envs/eolearn_water/lib/python3.8/site-packages/eolearn/io/raster_io.py:263: EORuntimeWarning: Data from feature (<FeatureType.MASK_TIMELESS: 'mask_timeless'>, 'model_output_post') cannot be exported to tiff with dtype numpy.int64. Will export as numpy.int32 instead\n",
      "  warnings.warn(\n"
     ]
    },
    {
     "name": "stdout",
     "output_type": "stream",
     "text": [
      "\r",
      "43/121 calculations [35.54%] with 1 thread(s)\t\r"
     ]
    },
    {
     "name": "stderr",
     "output_type": "stream",
     "text": [
      "/home/michael/anaconda3/envs/eolearn_water/lib/python3.8/site-packages/eolearn/io/raster_io.py:263: EORuntimeWarning: Data from feature (<FeatureType.MASK: 'mask'>, 'model_output') cannot be exported to tiff with dtype numpy.int64. Will export as numpy.int32 instead\n",
      "  warnings.warn(\n",
      "/home/michael/anaconda3/envs/eolearn_water/lib/python3.8/site-packages/eolearn/io/raster_io.py:263: EORuntimeWarning: Data from feature (<FeatureType.MASK_TIMELESS: 'mask_timeless'>, 'model_output_post') cannot be exported to tiff with dtype numpy.int64. Will export as numpy.int32 instead\n",
      "  warnings.warn(\n"
     ]
    },
    {
     "name": "stdout",
     "output_type": "stream",
     "text": [
      "\r",
      "44/121 calculations [36.36%] with 1 thread(s)\t\r"
     ]
    },
    {
     "name": "stderr",
     "output_type": "stream",
     "text": [
      "/home/michael/anaconda3/envs/eolearn_water/lib/python3.8/site-packages/eolearn/io/raster_io.py:263: EORuntimeWarning: Data from feature (<FeatureType.MASK: 'mask'>, 'model_output') cannot be exported to tiff with dtype numpy.int64. Will export as numpy.int32 instead\n",
      "  warnings.warn(\n",
      "/home/michael/anaconda3/envs/eolearn_water/lib/python3.8/site-packages/eolearn/io/raster_io.py:263: EORuntimeWarning: Data from feature (<FeatureType.MASK_TIMELESS: 'mask_timeless'>, 'model_output_post') cannot be exported to tiff with dtype numpy.int64. Will export as numpy.int32 instead\n",
      "  warnings.warn(\n"
     ]
    },
    {
     "name": "stdout",
     "output_type": "stream",
     "text": [
      "\r",
      "45/121 calculations [37.19%] with 1 thread(s)\t\r"
     ]
    },
    {
     "name": "stderr",
     "output_type": "stream",
     "text": [
      "/home/michael/anaconda3/envs/eolearn_water/lib/python3.8/site-packages/eolearn/io/raster_io.py:263: EORuntimeWarning: Data from feature (<FeatureType.MASK: 'mask'>, 'model_output') cannot be exported to tiff with dtype numpy.int64. Will export as numpy.int32 instead\n",
      "  warnings.warn(\n",
      "/home/michael/anaconda3/envs/eolearn_water/lib/python3.8/site-packages/eolearn/io/raster_io.py:263: EORuntimeWarning: Data from feature (<FeatureType.MASK_TIMELESS: 'mask_timeless'>, 'model_output_post') cannot be exported to tiff with dtype numpy.int64. Will export as numpy.int32 instead\n",
      "  warnings.warn(\n"
     ]
    },
    {
     "name": "stdout",
     "output_type": "stream",
     "text": [
      "\r",
      "46/121 calculations [38.02%] with 1 thread(s)\t\r"
     ]
    },
    {
     "name": "stderr",
     "output_type": "stream",
     "text": [
      "/home/michael/anaconda3/envs/eolearn_water/lib/python3.8/site-packages/eolearn/io/raster_io.py:263: EORuntimeWarning: Data from feature (<FeatureType.MASK: 'mask'>, 'model_output') cannot be exported to tiff with dtype numpy.int64. Will export as numpy.int32 instead\n",
      "  warnings.warn(\n",
      "/home/michael/anaconda3/envs/eolearn_water/lib/python3.8/site-packages/eolearn/io/raster_io.py:263: EORuntimeWarning: Data from feature (<FeatureType.MASK_TIMELESS: 'mask_timeless'>, 'model_output_post') cannot be exported to tiff with dtype numpy.int64. Will export as numpy.int32 instead\n",
      "  warnings.warn(\n"
     ]
    },
    {
     "name": "stdout",
     "output_type": "stream",
     "text": [
      "\r",
      "47/121 calculations [38.84%] with 1 thread(s)\t\r"
     ]
    },
    {
     "name": "stderr",
     "output_type": "stream",
     "text": [
      "/home/michael/anaconda3/envs/eolearn_water/lib/python3.8/site-packages/eolearn/io/raster_io.py:263: EORuntimeWarning: Data from feature (<FeatureType.MASK: 'mask'>, 'model_output') cannot be exported to tiff with dtype numpy.int64. Will export as numpy.int32 instead\n",
      "  warnings.warn(\n",
      "/home/michael/anaconda3/envs/eolearn_water/lib/python3.8/site-packages/eolearn/io/raster_io.py:263: EORuntimeWarning: Data from feature (<FeatureType.MASK_TIMELESS: 'mask_timeless'>, 'model_output_post') cannot be exported to tiff with dtype numpy.int64. Will export as numpy.int32 instead\n",
      "  warnings.warn(\n"
     ]
    },
    {
     "name": "stdout",
     "output_type": "stream",
     "text": [
      "\r",
      "48/121 calculations [39.67%] with 1 thread(s)\t\r"
     ]
    },
    {
     "name": "stderr",
     "output_type": "stream",
     "text": [
      "/home/michael/anaconda3/envs/eolearn_water/lib/python3.8/site-packages/eolearn/io/raster_io.py:263: EORuntimeWarning: Data from feature (<FeatureType.MASK: 'mask'>, 'model_output') cannot be exported to tiff with dtype numpy.int64. Will export as numpy.int32 instead\n",
      "  warnings.warn(\n",
      "/home/michael/anaconda3/envs/eolearn_water/lib/python3.8/site-packages/eolearn/io/raster_io.py:263: EORuntimeWarning: Data from feature (<FeatureType.MASK_TIMELESS: 'mask_timeless'>, 'model_output_post') cannot be exported to tiff with dtype numpy.int64. Will export as numpy.int32 instead\n",
      "  warnings.warn(\n"
     ]
    },
    {
     "name": "stdout",
     "output_type": "stream",
     "text": [
      "\r",
      "49/121 calculations [40.50%] with 1 thread(s)\t\r"
     ]
    },
    {
     "name": "stderr",
     "output_type": "stream",
     "text": [
      "/home/michael/anaconda3/envs/eolearn_water/lib/python3.8/site-packages/eolearn/io/raster_io.py:263: EORuntimeWarning: Data from feature (<FeatureType.MASK: 'mask'>, 'model_output') cannot be exported to tiff with dtype numpy.int64. Will export as numpy.int32 instead\n",
      "  warnings.warn(\n",
      "/home/michael/anaconda3/envs/eolearn_water/lib/python3.8/site-packages/eolearn/io/raster_io.py:263: EORuntimeWarning: Data from feature (<FeatureType.MASK_TIMELESS: 'mask_timeless'>, 'model_output_post') cannot be exported to tiff with dtype numpy.int64. Will export as numpy.int32 instead\n",
      "  warnings.warn(\n"
     ]
    },
    {
     "name": "stdout",
     "output_type": "stream",
     "text": [
      "\r",
      "50/121 calculations [41.32%] with 1 thread(s)\t\r"
     ]
    },
    {
     "name": "stderr",
     "output_type": "stream",
     "text": [
      "/home/michael/anaconda3/envs/eolearn_water/lib/python3.8/site-packages/eolearn/io/raster_io.py:263: EORuntimeWarning: Data from feature (<FeatureType.MASK: 'mask'>, 'model_output') cannot be exported to tiff with dtype numpy.int64. Will export as numpy.int32 instead\n",
      "  warnings.warn(\n",
      "/home/michael/anaconda3/envs/eolearn_water/lib/python3.8/site-packages/eolearn/io/raster_io.py:263: EORuntimeWarning: Data from feature (<FeatureType.MASK_TIMELESS: 'mask_timeless'>, 'model_output_post') cannot be exported to tiff with dtype numpy.int64. Will export as numpy.int32 instead\n",
      "  warnings.warn(\n"
     ]
    },
    {
     "name": "stdout",
     "output_type": "stream",
     "text": [
      "\r",
      "51/121 calculations [42.15%] with 1 thread(s)\t\r"
     ]
    },
    {
     "name": "stderr",
     "output_type": "stream",
     "text": [
      "/home/michael/anaconda3/envs/eolearn_water/lib/python3.8/site-packages/eolearn/io/raster_io.py:263: EORuntimeWarning: Data from feature (<FeatureType.MASK: 'mask'>, 'model_output') cannot be exported to tiff with dtype numpy.int64. Will export as numpy.int32 instead\n",
      "  warnings.warn(\n",
      "/home/michael/anaconda3/envs/eolearn_water/lib/python3.8/site-packages/eolearn/io/raster_io.py:263: EORuntimeWarning: Data from feature (<FeatureType.MASK_TIMELESS: 'mask_timeless'>, 'model_output_post') cannot be exported to tiff with dtype numpy.int64. Will export as numpy.int32 instead\n",
      "  warnings.warn(\n"
     ]
    },
    {
     "name": "stdout",
     "output_type": "stream",
     "text": [
      "\r",
      "52/121 calculations [42.98%] with 1 thread(s)\t\r"
     ]
    },
    {
     "name": "stderr",
     "output_type": "stream",
     "text": [
      "/home/michael/anaconda3/envs/eolearn_water/lib/python3.8/site-packages/eolearn/io/raster_io.py:263: EORuntimeWarning: Data from feature (<FeatureType.MASK: 'mask'>, 'model_output') cannot be exported to tiff with dtype numpy.int64. Will export as numpy.int32 instead\n",
      "  warnings.warn(\n",
      "/home/michael/anaconda3/envs/eolearn_water/lib/python3.8/site-packages/eolearn/io/raster_io.py:263: EORuntimeWarning: Data from feature (<FeatureType.MASK_TIMELESS: 'mask_timeless'>, 'model_output_post') cannot be exported to tiff with dtype numpy.int64. Will export as numpy.int32 instead\n",
      "  warnings.warn(\n"
     ]
    },
    {
     "name": "stdout",
     "output_type": "stream",
     "text": [
      "\r",
      "53/121 calculations [43.80%] with 1 thread(s)\t\r"
     ]
    },
    {
     "name": "stderr",
     "output_type": "stream",
     "text": [
      "/home/michael/anaconda3/envs/eolearn_water/lib/python3.8/site-packages/eolearn/io/raster_io.py:263: EORuntimeWarning: Data from feature (<FeatureType.MASK: 'mask'>, 'model_output') cannot be exported to tiff with dtype numpy.int64. Will export as numpy.int32 instead\n",
      "  warnings.warn(\n",
      "/home/michael/anaconda3/envs/eolearn_water/lib/python3.8/site-packages/eolearn/io/raster_io.py:263: EORuntimeWarning: Data from feature (<FeatureType.MASK_TIMELESS: 'mask_timeless'>, 'model_output_post') cannot be exported to tiff with dtype numpy.int64. Will export as numpy.int32 instead\n",
      "  warnings.warn(\n"
     ]
    },
    {
     "name": "stdout",
     "output_type": "stream",
     "text": [
      "\r",
      "54/121 calculations [44.63%] with 1 thread(s)\t\r"
     ]
    },
    {
     "name": "stderr",
     "output_type": "stream",
     "text": [
      "/home/michael/anaconda3/envs/eolearn_water/lib/python3.8/site-packages/eolearn/io/raster_io.py:263: EORuntimeWarning: Data from feature (<FeatureType.MASK: 'mask'>, 'model_output') cannot be exported to tiff with dtype numpy.int64. Will export as numpy.int32 instead\n",
      "  warnings.warn(\n",
      "/home/michael/anaconda3/envs/eolearn_water/lib/python3.8/site-packages/eolearn/io/raster_io.py:263: EORuntimeWarning: Data from feature (<FeatureType.MASK_TIMELESS: 'mask_timeless'>, 'model_output_post') cannot be exported to tiff with dtype numpy.int64. Will export as numpy.int32 instead\n",
      "  warnings.warn(\n"
     ]
    },
    {
     "name": "stdout",
     "output_type": "stream",
     "text": [
      "\r",
      "55/121 calculations [45.45%] with 1 thread(s)\t\r"
     ]
    },
    {
     "name": "stderr",
     "output_type": "stream",
     "text": [
      "/home/michael/anaconda3/envs/eolearn_water/lib/python3.8/site-packages/eolearn/io/raster_io.py:263: EORuntimeWarning: Data from feature (<FeatureType.MASK: 'mask'>, 'model_output') cannot be exported to tiff with dtype numpy.int64. Will export as numpy.int32 instead\n",
      "  warnings.warn(\n",
      "/home/michael/anaconda3/envs/eolearn_water/lib/python3.8/site-packages/eolearn/io/raster_io.py:263: EORuntimeWarning: Data from feature (<FeatureType.MASK_TIMELESS: 'mask_timeless'>, 'model_output_post') cannot be exported to tiff with dtype numpy.int64. Will export as numpy.int32 instead\n",
      "  warnings.warn(\n"
     ]
    },
    {
     "name": "stdout",
     "output_type": "stream",
     "text": [
      "\r",
      "56/121 calculations [46.28%] with 1 thread(s)\t\r"
     ]
    },
    {
     "name": "stderr",
     "output_type": "stream",
     "text": [
      "/home/michael/anaconda3/envs/eolearn_water/lib/python3.8/site-packages/eolearn/io/raster_io.py:263: EORuntimeWarning: Data from feature (<FeatureType.MASK: 'mask'>, 'model_output') cannot be exported to tiff with dtype numpy.int64. Will export as numpy.int32 instead\n",
      "  warnings.warn(\n",
      "/home/michael/anaconda3/envs/eolearn_water/lib/python3.8/site-packages/eolearn/io/raster_io.py:263: EORuntimeWarning: Data from feature (<FeatureType.MASK_TIMELESS: 'mask_timeless'>, 'model_output_post') cannot be exported to tiff with dtype numpy.int64. Will export as numpy.int32 instead\n",
      "  warnings.warn(\n"
     ]
    },
    {
     "name": "stdout",
     "output_type": "stream",
     "text": [
      "\r",
      "57/121 calculations [47.11%] with 1 thread(s)\t\r"
     ]
    },
    {
     "name": "stderr",
     "output_type": "stream",
     "text": [
      "/home/michael/anaconda3/envs/eolearn_water/lib/python3.8/site-packages/eolearn/io/raster_io.py:263: EORuntimeWarning: Data from feature (<FeatureType.MASK: 'mask'>, 'model_output') cannot be exported to tiff with dtype numpy.int64. Will export as numpy.int32 instead\n",
      "  warnings.warn(\n",
      "/home/michael/anaconda3/envs/eolearn_water/lib/python3.8/site-packages/eolearn/io/raster_io.py:263: EORuntimeWarning: Data from feature (<FeatureType.MASK_TIMELESS: 'mask_timeless'>, 'model_output_post') cannot be exported to tiff with dtype numpy.int64. Will export as numpy.int32 instead\n",
      "  warnings.warn(\n"
     ]
    },
    {
     "name": "stdout",
     "output_type": "stream",
     "text": [
      "\r",
      "58/121 calculations [47.93%] with 1 thread(s)\t\r"
     ]
    },
    {
     "name": "stderr",
     "output_type": "stream",
     "text": [
      "/home/michael/anaconda3/envs/eolearn_water/lib/python3.8/site-packages/eolearn/io/raster_io.py:263: EORuntimeWarning: Data from feature (<FeatureType.MASK: 'mask'>, 'model_output') cannot be exported to tiff with dtype numpy.int64. Will export as numpy.int32 instead\n",
      "  warnings.warn(\n",
      "/home/michael/anaconda3/envs/eolearn_water/lib/python3.8/site-packages/eolearn/io/raster_io.py:263: EORuntimeWarning: Data from feature (<FeatureType.MASK_TIMELESS: 'mask_timeless'>, 'model_output_post') cannot be exported to tiff with dtype numpy.int64. Will export as numpy.int32 instead\n",
      "  warnings.warn(\n"
     ]
    },
    {
     "name": "stdout",
     "output_type": "stream",
     "text": [
      "\r",
      "59/121 calculations [48.76%] with 1 thread(s)\t\r"
     ]
    },
    {
     "name": "stderr",
     "output_type": "stream",
     "text": [
      "/home/michael/anaconda3/envs/eolearn_water/lib/python3.8/site-packages/eolearn/io/raster_io.py:263: EORuntimeWarning: Data from feature (<FeatureType.MASK: 'mask'>, 'model_output') cannot be exported to tiff with dtype numpy.int64. Will export as numpy.int32 instead\n",
      "  warnings.warn(\n",
      "/home/michael/anaconda3/envs/eolearn_water/lib/python3.8/site-packages/eolearn/io/raster_io.py:263: EORuntimeWarning: Data from feature (<FeatureType.MASK_TIMELESS: 'mask_timeless'>, 'model_output_post') cannot be exported to tiff with dtype numpy.int64. Will export as numpy.int32 instead\n",
      "  warnings.warn(\n"
     ]
    },
    {
     "name": "stdout",
     "output_type": "stream",
     "text": [
      "\r",
      "60/121 calculations [49.59%] with 1 thread(s)\t\r"
     ]
    },
    {
     "name": "stderr",
     "output_type": "stream",
     "text": [
      "/home/michael/anaconda3/envs/eolearn_water/lib/python3.8/site-packages/eolearn/io/raster_io.py:263: EORuntimeWarning: Data from feature (<FeatureType.MASK: 'mask'>, 'model_output') cannot be exported to tiff with dtype numpy.int64. Will export as numpy.int32 instead\n",
      "  warnings.warn(\n",
      "/home/michael/anaconda3/envs/eolearn_water/lib/python3.8/site-packages/eolearn/io/raster_io.py:263: EORuntimeWarning: Data from feature (<FeatureType.MASK_TIMELESS: 'mask_timeless'>, 'model_output_post') cannot be exported to tiff with dtype numpy.int64. Will export as numpy.int32 instead\n",
      "  warnings.warn(\n"
     ]
    },
    {
     "name": "stdout",
     "output_type": "stream",
     "text": [
      "\r",
      "61/121 calculations [50.41%] with 1 thread(s)\t\r"
     ]
    },
    {
     "name": "stderr",
     "output_type": "stream",
     "text": [
      "/home/michael/anaconda3/envs/eolearn_water/lib/python3.8/site-packages/eolearn/io/raster_io.py:263: EORuntimeWarning: Data from feature (<FeatureType.MASK: 'mask'>, 'model_output') cannot be exported to tiff with dtype numpy.int64. Will export as numpy.int32 instead\n",
      "  warnings.warn(\n",
      "/home/michael/anaconda3/envs/eolearn_water/lib/python3.8/site-packages/eolearn/io/raster_io.py:263: EORuntimeWarning: Data from feature (<FeatureType.MASK_TIMELESS: 'mask_timeless'>, 'model_output_post') cannot be exported to tiff with dtype numpy.int64. Will export as numpy.int32 instead\n",
      "  warnings.warn(\n"
     ]
    },
    {
     "name": "stdout",
     "output_type": "stream",
     "text": [
      "\r",
      "62/121 calculations [51.24%] with 1 thread(s)\t\r"
     ]
    },
    {
     "name": "stderr",
     "output_type": "stream",
     "text": [
      "/home/michael/anaconda3/envs/eolearn_water/lib/python3.8/site-packages/eolearn/io/raster_io.py:263: EORuntimeWarning: Data from feature (<FeatureType.MASK: 'mask'>, 'model_output') cannot be exported to tiff with dtype numpy.int64. Will export as numpy.int32 instead\n",
      "  warnings.warn(\n",
      "/home/michael/anaconda3/envs/eolearn_water/lib/python3.8/site-packages/eolearn/io/raster_io.py:263: EORuntimeWarning: Data from feature (<FeatureType.MASK_TIMELESS: 'mask_timeless'>, 'model_output_post') cannot be exported to tiff with dtype numpy.int64. Will export as numpy.int32 instead\n",
      "  warnings.warn(\n"
     ]
    },
    {
     "name": "stdout",
     "output_type": "stream",
     "text": [
      "\r",
      "63/121 calculations [52.07%] with 1 thread(s)\t\r"
     ]
    },
    {
     "name": "stderr",
     "output_type": "stream",
     "text": [
      "/home/michael/anaconda3/envs/eolearn_water/lib/python3.8/site-packages/eolearn/io/raster_io.py:263: EORuntimeWarning: Data from feature (<FeatureType.MASK: 'mask'>, 'model_output') cannot be exported to tiff with dtype numpy.int64. Will export as numpy.int32 instead\n",
      "  warnings.warn(\n",
      "/home/michael/anaconda3/envs/eolearn_water/lib/python3.8/site-packages/eolearn/io/raster_io.py:263: EORuntimeWarning: Data from feature (<FeatureType.MASK_TIMELESS: 'mask_timeless'>, 'model_output_post') cannot be exported to tiff with dtype numpy.int64. Will export as numpy.int32 instead\n",
      "  warnings.warn(\n"
     ]
    },
    {
     "name": "stdout",
     "output_type": "stream",
     "text": [
      "\r",
      "64/121 calculations [52.89%] with 1 thread(s)\t\r"
     ]
    },
    {
     "name": "stderr",
     "output_type": "stream",
     "text": [
      "/home/michael/anaconda3/envs/eolearn_water/lib/python3.8/site-packages/eolearn/io/raster_io.py:263: EORuntimeWarning: Data from feature (<FeatureType.MASK: 'mask'>, 'model_output') cannot be exported to tiff with dtype numpy.int64. Will export as numpy.int32 instead\n",
      "  warnings.warn(\n",
      "/home/michael/anaconda3/envs/eolearn_water/lib/python3.8/site-packages/eolearn/io/raster_io.py:263: EORuntimeWarning: Data from feature (<FeatureType.MASK_TIMELESS: 'mask_timeless'>, 'model_output_post') cannot be exported to tiff with dtype numpy.int64. Will export as numpy.int32 instead\n",
      "  warnings.warn(\n"
     ]
    },
    {
     "name": "stdout",
     "output_type": "stream",
     "text": [
      "\r",
      "65/121 calculations [53.72%] with 1 thread(s)\t\r"
     ]
    },
    {
     "name": "stderr",
     "output_type": "stream",
     "text": [
      "/home/michael/anaconda3/envs/eolearn_water/lib/python3.8/site-packages/eolearn/io/raster_io.py:263: EORuntimeWarning: Data from feature (<FeatureType.MASK: 'mask'>, 'model_output') cannot be exported to tiff with dtype numpy.int64. Will export as numpy.int32 instead\n",
      "  warnings.warn(\n",
      "/home/michael/anaconda3/envs/eolearn_water/lib/python3.8/site-packages/eolearn/io/raster_io.py:263: EORuntimeWarning: Data from feature (<FeatureType.MASK_TIMELESS: 'mask_timeless'>, 'model_output_post') cannot be exported to tiff with dtype numpy.int64. Will export as numpy.int32 instead\n",
      "  warnings.warn(\n"
     ]
    },
    {
     "name": "stdout",
     "output_type": "stream",
     "text": [
      "\r",
      "66/121 calculations [54.55%] with 1 thread(s)\t\r"
     ]
    },
    {
     "name": "stderr",
     "output_type": "stream",
     "text": [
      "/home/michael/anaconda3/envs/eolearn_water/lib/python3.8/site-packages/eolearn/io/raster_io.py:263: EORuntimeWarning: Data from feature (<FeatureType.MASK: 'mask'>, 'model_output') cannot be exported to tiff with dtype numpy.int64. Will export as numpy.int32 instead\n",
      "  warnings.warn(\n",
      "/home/michael/anaconda3/envs/eolearn_water/lib/python3.8/site-packages/eolearn/io/raster_io.py:263: EORuntimeWarning: Data from feature (<FeatureType.MASK_TIMELESS: 'mask_timeless'>, 'model_output_post') cannot be exported to tiff with dtype numpy.int64. Will export as numpy.int32 instead\n",
      "  warnings.warn(\n"
     ]
    },
    {
     "name": "stdout",
     "output_type": "stream",
     "text": [
      "\r",
      "67/121 calculations [55.37%] with 1 thread(s)\t\r"
     ]
    },
    {
     "name": "stderr",
     "output_type": "stream",
     "text": [
      "/home/michael/anaconda3/envs/eolearn_water/lib/python3.8/site-packages/eolearn/io/raster_io.py:263: EORuntimeWarning: Data from feature (<FeatureType.MASK: 'mask'>, 'model_output') cannot be exported to tiff with dtype numpy.int64. Will export as numpy.int32 instead\n",
      "  warnings.warn(\n",
      "/home/michael/anaconda3/envs/eolearn_water/lib/python3.8/site-packages/eolearn/io/raster_io.py:263: EORuntimeWarning: Data from feature (<FeatureType.MASK_TIMELESS: 'mask_timeless'>, 'model_output_post') cannot be exported to tiff with dtype numpy.int64. Will export as numpy.int32 instead\n",
      "  warnings.warn(\n"
     ]
    },
    {
     "name": "stdout",
     "output_type": "stream",
     "text": [
      "\r",
      "68/121 calculations [56.20%] with 1 thread(s)\t\r"
     ]
    },
    {
     "name": "stderr",
     "output_type": "stream",
     "text": [
      "/home/michael/anaconda3/envs/eolearn_water/lib/python3.8/site-packages/eolearn/io/raster_io.py:263: EORuntimeWarning: Data from feature (<FeatureType.MASK: 'mask'>, 'model_output') cannot be exported to tiff with dtype numpy.int64. Will export as numpy.int32 instead\n",
      "  warnings.warn(\n",
      "/home/michael/anaconda3/envs/eolearn_water/lib/python3.8/site-packages/eolearn/io/raster_io.py:263: EORuntimeWarning: Data from feature (<FeatureType.MASK_TIMELESS: 'mask_timeless'>, 'model_output_post') cannot be exported to tiff with dtype numpy.int64. Will export as numpy.int32 instead\n",
      "  warnings.warn(\n"
     ]
    },
    {
     "name": "stdout",
     "output_type": "stream",
     "text": [
      "\r",
      "69/121 calculations [57.02%] with 1 thread(s)\t\r"
     ]
    },
    {
     "name": "stderr",
     "output_type": "stream",
     "text": [
      "/home/michael/anaconda3/envs/eolearn_water/lib/python3.8/site-packages/eolearn/io/raster_io.py:263: EORuntimeWarning: Data from feature (<FeatureType.MASK: 'mask'>, 'model_output') cannot be exported to tiff with dtype numpy.int64. Will export as numpy.int32 instead\n",
      "  warnings.warn(\n",
      "/home/michael/anaconda3/envs/eolearn_water/lib/python3.8/site-packages/eolearn/io/raster_io.py:263: EORuntimeWarning: Data from feature (<FeatureType.MASK_TIMELESS: 'mask_timeless'>, 'model_output_post') cannot be exported to tiff with dtype numpy.int64. Will export as numpy.int32 instead\n",
      "  warnings.warn(\n"
     ]
    },
    {
     "name": "stdout",
     "output_type": "stream",
     "text": [
      "\r",
      "70/121 calculations [57.85%] with 1 thread(s)\t\r"
     ]
    },
    {
     "name": "stderr",
     "output_type": "stream",
     "text": [
      "/home/michael/anaconda3/envs/eolearn_water/lib/python3.8/site-packages/eolearn/io/raster_io.py:263: EORuntimeWarning: Data from feature (<FeatureType.MASK: 'mask'>, 'model_output') cannot be exported to tiff with dtype numpy.int64. Will export as numpy.int32 instead\n",
      "  warnings.warn(\n",
      "/home/michael/anaconda3/envs/eolearn_water/lib/python3.8/site-packages/eolearn/io/raster_io.py:263: EORuntimeWarning: Data from feature (<FeatureType.MASK_TIMELESS: 'mask_timeless'>, 'model_output_post') cannot be exported to tiff with dtype numpy.int64. Will export as numpy.int32 instead\n",
      "  warnings.warn(\n"
     ]
    },
    {
     "name": "stdout",
     "output_type": "stream",
     "text": [
      "\r",
      "71/121 calculations [58.68%] with 1 thread(s)\t\r"
     ]
    },
    {
     "name": "stderr",
     "output_type": "stream",
     "text": [
      "/home/michael/anaconda3/envs/eolearn_water/lib/python3.8/site-packages/eolearn/io/raster_io.py:263: EORuntimeWarning: Data from feature (<FeatureType.MASK: 'mask'>, 'model_output') cannot be exported to tiff with dtype numpy.int64. Will export as numpy.int32 instead\n",
      "  warnings.warn(\n",
      "/home/michael/anaconda3/envs/eolearn_water/lib/python3.8/site-packages/eolearn/io/raster_io.py:263: EORuntimeWarning: Data from feature (<FeatureType.MASK_TIMELESS: 'mask_timeless'>, 'model_output_post') cannot be exported to tiff with dtype numpy.int64. Will export as numpy.int32 instead\n",
      "  warnings.warn(\n"
     ]
    },
    {
     "name": "stdout",
     "output_type": "stream",
     "text": [
      "\r",
      "72/121 calculations [59.50%] with 1 thread(s)\t\r"
     ]
    },
    {
     "name": "stderr",
     "output_type": "stream",
     "text": [
      "/home/michael/anaconda3/envs/eolearn_water/lib/python3.8/site-packages/eolearn/io/raster_io.py:263: EORuntimeWarning: Data from feature (<FeatureType.MASK: 'mask'>, 'model_output') cannot be exported to tiff with dtype numpy.int64. Will export as numpy.int32 instead\n",
      "  warnings.warn(\n",
      "/home/michael/anaconda3/envs/eolearn_water/lib/python3.8/site-packages/eolearn/io/raster_io.py:263: EORuntimeWarning: Data from feature (<FeatureType.MASK_TIMELESS: 'mask_timeless'>, 'model_output_post') cannot be exported to tiff with dtype numpy.int64. Will export as numpy.int32 instead\n",
      "  warnings.warn(\n"
     ]
    },
    {
     "name": "stdout",
     "output_type": "stream",
     "text": [
      "\r",
      "73/121 calculations [60.33%] with 1 thread(s)\t\r"
     ]
    },
    {
     "name": "stderr",
     "output_type": "stream",
     "text": [
      "/home/michael/anaconda3/envs/eolearn_water/lib/python3.8/site-packages/eolearn/io/raster_io.py:263: EORuntimeWarning: Data from feature (<FeatureType.MASK: 'mask'>, 'model_output') cannot be exported to tiff with dtype numpy.int64. Will export as numpy.int32 instead\n",
      "  warnings.warn(\n",
      "/home/michael/anaconda3/envs/eolearn_water/lib/python3.8/site-packages/eolearn/io/raster_io.py:263: EORuntimeWarning: Data from feature (<FeatureType.MASK_TIMELESS: 'mask_timeless'>, 'model_output_post') cannot be exported to tiff with dtype numpy.int64. Will export as numpy.int32 instead\n",
      "  warnings.warn(\n"
     ]
    },
    {
     "name": "stdout",
     "output_type": "stream",
     "text": [
      "\r",
      "74/121 calculations [61.16%] with 1 thread(s)\t\r"
     ]
    },
    {
     "name": "stderr",
     "output_type": "stream",
     "text": [
      "/home/michael/anaconda3/envs/eolearn_water/lib/python3.8/site-packages/eolearn/io/raster_io.py:263: EORuntimeWarning: Data from feature (<FeatureType.MASK: 'mask'>, 'model_output') cannot be exported to tiff with dtype numpy.int64. Will export as numpy.int32 instead\n",
      "  warnings.warn(\n",
      "/home/michael/anaconda3/envs/eolearn_water/lib/python3.8/site-packages/eolearn/io/raster_io.py:263: EORuntimeWarning: Data from feature (<FeatureType.MASK_TIMELESS: 'mask_timeless'>, 'model_output_post') cannot be exported to tiff with dtype numpy.int64. Will export as numpy.int32 instead\n",
      "  warnings.warn(\n"
     ]
    },
    {
     "name": "stdout",
     "output_type": "stream",
     "text": [
      "\r",
      "75/121 calculations [61.98%] with 1 thread(s)\t\r"
     ]
    },
    {
     "name": "stderr",
     "output_type": "stream",
     "text": [
      "/home/michael/anaconda3/envs/eolearn_water/lib/python3.8/site-packages/eolearn/io/raster_io.py:263: EORuntimeWarning: Data from feature (<FeatureType.MASK: 'mask'>, 'model_output') cannot be exported to tiff with dtype numpy.int64. Will export as numpy.int32 instead\n",
      "  warnings.warn(\n",
      "/home/michael/anaconda3/envs/eolearn_water/lib/python3.8/site-packages/eolearn/io/raster_io.py:263: EORuntimeWarning: Data from feature (<FeatureType.MASK_TIMELESS: 'mask_timeless'>, 'model_output_post') cannot be exported to tiff with dtype numpy.int64. Will export as numpy.int32 instead\n",
      "  warnings.warn(\n"
     ]
    },
    {
     "name": "stdout",
     "output_type": "stream",
     "text": [
      "\r",
      "76/121 calculations [62.81%] with 1 thread(s)\t\r"
     ]
    },
    {
     "name": "stderr",
     "output_type": "stream",
     "text": [
      "/home/michael/anaconda3/envs/eolearn_water/lib/python3.8/site-packages/eolearn/io/raster_io.py:263: EORuntimeWarning: Data from feature (<FeatureType.MASK: 'mask'>, 'model_output') cannot be exported to tiff with dtype numpy.int64. Will export as numpy.int32 instead\n",
      "  warnings.warn(\n",
      "/home/michael/anaconda3/envs/eolearn_water/lib/python3.8/site-packages/eolearn/io/raster_io.py:263: EORuntimeWarning: Data from feature (<FeatureType.MASK_TIMELESS: 'mask_timeless'>, 'model_output_post') cannot be exported to tiff with dtype numpy.int64. Will export as numpy.int32 instead\n",
      "  warnings.warn(\n"
     ]
    },
    {
     "name": "stdout",
     "output_type": "stream",
     "text": [
      "\r",
      "77/121 calculations [63.64%] with 1 thread(s)\t\r"
     ]
    },
    {
     "name": "stderr",
     "output_type": "stream",
     "text": [
      "/home/michael/anaconda3/envs/eolearn_water/lib/python3.8/site-packages/eolearn/io/raster_io.py:263: EORuntimeWarning: Data from feature (<FeatureType.MASK: 'mask'>, 'model_output') cannot be exported to tiff with dtype numpy.int64. Will export as numpy.int32 instead\n",
      "  warnings.warn(\n",
      "/home/michael/anaconda3/envs/eolearn_water/lib/python3.8/site-packages/eolearn/io/raster_io.py:263: EORuntimeWarning: Data from feature (<FeatureType.MASK_TIMELESS: 'mask_timeless'>, 'model_output_post') cannot be exported to tiff with dtype numpy.int64. Will export as numpy.int32 instead\n",
      "  warnings.warn(\n"
     ]
    },
    {
     "name": "stdout",
     "output_type": "stream",
     "text": [
      "\r",
      "78/121 calculations [64.46%] with 1 thread(s)\t\r"
     ]
    },
    {
     "name": "stderr",
     "output_type": "stream",
     "text": [
      "/home/michael/anaconda3/envs/eolearn_water/lib/python3.8/site-packages/eolearn/io/raster_io.py:263: EORuntimeWarning: Data from feature (<FeatureType.MASK: 'mask'>, 'model_output') cannot be exported to tiff with dtype numpy.int64. Will export as numpy.int32 instead\n",
      "  warnings.warn(\n",
      "/home/michael/anaconda3/envs/eolearn_water/lib/python3.8/site-packages/eolearn/io/raster_io.py:263: EORuntimeWarning: Data from feature (<FeatureType.MASK_TIMELESS: 'mask_timeless'>, 'model_output_post') cannot be exported to tiff with dtype numpy.int64. Will export as numpy.int32 instead\n",
      "  warnings.warn(\n"
     ]
    },
    {
     "name": "stdout",
     "output_type": "stream",
     "text": [
      "\r",
      "79/121 calculations [65.29%] with 1 thread(s)\t\r"
     ]
    },
    {
     "name": "stderr",
     "output_type": "stream",
     "text": [
      "/home/michael/anaconda3/envs/eolearn_water/lib/python3.8/site-packages/eolearn/io/raster_io.py:263: EORuntimeWarning: Data from feature (<FeatureType.MASK: 'mask'>, 'model_output') cannot be exported to tiff with dtype numpy.int64. Will export as numpy.int32 instead\n",
      "  warnings.warn(\n",
      "/home/michael/anaconda3/envs/eolearn_water/lib/python3.8/site-packages/eolearn/io/raster_io.py:263: EORuntimeWarning: Data from feature (<FeatureType.MASK_TIMELESS: 'mask_timeless'>, 'model_output_post') cannot be exported to tiff with dtype numpy.int64. Will export as numpy.int32 instead\n",
      "  warnings.warn(\n"
     ]
    },
    {
     "name": "stdout",
     "output_type": "stream",
     "text": [
      "\r",
      "80/121 calculations [66.12%] with 1 thread(s)\t\r"
     ]
    },
    {
     "name": "stderr",
     "output_type": "stream",
     "text": [
      "/home/michael/anaconda3/envs/eolearn_water/lib/python3.8/site-packages/eolearn/io/raster_io.py:263: EORuntimeWarning: Data from feature (<FeatureType.MASK: 'mask'>, 'model_output') cannot be exported to tiff with dtype numpy.int64. Will export as numpy.int32 instead\n",
      "  warnings.warn(\n",
      "/home/michael/anaconda3/envs/eolearn_water/lib/python3.8/site-packages/eolearn/io/raster_io.py:263: EORuntimeWarning: Data from feature (<FeatureType.MASK_TIMELESS: 'mask_timeless'>, 'model_output_post') cannot be exported to tiff with dtype numpy.int64. Will export as numpy.int32 instead\n",
      "  warnings.warn(\n"
     ]
    },
    {
     "name": "stdout",
     "output_type": "stream",
     "text": [
      "\r",
      "81/121 calculations [66.94%] with 1 thread(s)\t\r"
     ]
    },
    {
     "name": "stderr",
     "output_type": "stream",
     "text": [
      "/home/michael/anaconda3/envs/eolearn_water/lib/python3.8/site-packages/eolearn/io/raster_io.py:263: EORuntimeWarning: Data from feature (<FeatureType.MASK: 'mask'>, 'model_output') cannot be exported to tiff with dtype numpy.int64. Will export as numpy.int32 instead\n",
      "  warnings.warn(\n",
      "/home/michael/anaconda3/envs/eolearn_water/lib/python3.8/site-packages/eolearn/io/raster_io.py:263: EORuntimeWarning: Data from feature (<FeatureType.MASK_TIMELESS: 'mask_timeless'>, 'model_output_post') cannot be exported to tiff with dtype numpy.int64. Will export as numpy.int32 instead\n",
      "  warnings.warn(\n"
     ]
    },
    {
     "name": "stdout",
     "output_type": "stream",
     "text": [
      "\r",
      "82/121 calculations [67.77%] with 1 thread(s)\t\r"
     ]
    },
    {
     "name": "stderr",
     "output_type": "stream",
     "text": [
      "/home/michael/anaconda3/envs/eolearn_water/lib/python3.8/site-packages/eolearn/io/raster_io.py:263: EORuntimeWarning: Data from feature (<FeatureType.MASK: 'mask'>, 'model_output') cannot be exported to tiff with dtype numpy.int64. Will export as numpy.int32 instead\n",
      "  warnings.warn(\n",
      "/home/michael/anaconda3/envs/eolearn_water/lib/python3.8/site-packages/eolearn/io/raster_io.py:263: EORuntimeWarning: Data from feature (<FeatureType.MASK_TIMELESS: 'mask_timeless'>, 'model_output_post') cannot be exported to tiff with dtype numpy.int64. Will export as numpy.int32 instead\n",
      "  warnings.warn(\n"
     ]
    },
    {
     "name": "stdout",
     "output_type": "stream",
     "text": [
      "\r",
      "83/121 calculations [68.60%] with 1 thread(s)\t\r"
     ]
    },
    {
     "name": "stderr",
     "output_type": "stream",
     "text": [
      "/home/michael/anaconda3/envs/eolearn_water/lib/python3.8/site-packages/eolearn/io/raster_io.py:263: EORuntimeWarning: Data from feature (<FeatureType.MASK: 'mask'>, 'model_output') cannot be exported to tiff with dtype numpy.int64. Will export as numpy.int32 instead\n",
      "  warnings.warn(\n",
      "/home/michael/anaconda3/envs/eolearn_water/lib/python3.8/site-packages/eolearn/io/raster_io.py:263: EORuntimeWarning: Data from feature (<FeatureType.MASK_TIMELESS: 'mask_timeless'>, 'model_output_post') cannot be exported to tiff with dtype numpy.int64. Will export as numpy.int32 instead\n",
      "  warnings.warn(\n"
     ]
    },
    {
     "name": "stdout",
     "output_type": "stream",
     "text": [
      "\r",
      "84/121 calculations [69.42%] with 1 thread(s)\t\r"
     ]
    },
    {
     "name": "stderr",
     "output_type": "stream",
     "text": [
      "/home/michael/anaconda3/envs/eolearn_water/lib/python3.8/site-packages/eolearn/io/raster_io.py:263: EORuntimeWarning: Data from feature (<FeatureType.MASK: 'mask'>, 'model_output') cannot be exported to tiff with dtype numpy.int64. Will export as numpy.int32 instead\n",
      "  warnings.warn(\n",
      "/home/michael/anaconda3/envs/eolearn_water/lib/python3.8/site-packages/eolearn/io/raster_io.py:263: EORuntimeWarning: Data from feature (<FeatureType.MASK_TIMELESS: 'mask_timeless'>, 'model_output_post') cannot be exported to tiff with dtype numpy.int64. Will export as numpy.int32 instead\n",
      "  warnings.warn(\n"
     ]
    },
    {
     "name": "stdout",
     "output_type": "stream",
     "text": [
      "\r",
      "85/121 calculations [70.25%] with 1 thread(s)\t\r"
     ]
    },
    {
     "name": "stderr",
     "output_type": "stream",
     "text": [
      "/home/michael/anaconda3/envs/eolearn_water/lib/python3.8/site-packages/eolearn/io/raster_io.py:263: EORuntimeWarning: Data from feature (<FeatureType.MASK: 'mask'>, 'model_output') cannot be exported to tiff with dtype numpy.int64. Will export as numpy.int32 instead\n",
      "  warnings.warn(\n",
      "/home/michael/anaconda3/envs/eolearn_water/lib/python3.8/site-packages/eolearn/io/raster_io.py:263: EORuntimeWarning: Data from feature (<FeatureType.MASK_TIMELESS: 'mask_timeless'>, 'model_output_post') cannot be exported to tiff with dtype numpy.int64. Will export as numpy.int32 instead\n",
      "  warnings.warn(\n"
     ]
    },
    {
     "name": "stdout",
     "output_type": "stream",
     "text": [
      "\r",
      "86/121 calculations [71.07%] with 1 thread(s)\t\r"
     ]
    },
    {
     "name": "stderr",
     "output_type": "stream",
     "text": [
      "/home/michael/anaconda3/envs/eolearn_water/lib/python3.8/site-packages/eolearn/io/raster_io.py:263: EORuntimeWarning: Data from feature (<FeatureType.MASK: 'mask'>, 'model_output') cannot be exported to tiff with dtype numpy.int64. Will export as numpy.int32 instead\n",
      "  warnings.warn(\n",
      "/home/michael/anaconda3/envs/eolearn_water/lib/python3.8/site-packages/eolearn/io/raster_io.py:263: EORuntimeWarning: Data from feature (<FeatureType.MASK_TIMELESS: 'mask_timeless'>, 'model_output_post') cannot be exported to tiff with dtype numpy.int64. Will export as numpy.int32 instead\n",
      "  warnings.warn(\n"
     ]
    },
    {
     "name": "stdout",
     "output_type": "stream",
     "text": [
      "\r",
      "87/121 calculations [71.90%] with 1 thread(s)\t\r"
     ]
    },
    {
     "name": "stderr",
     "output_type": "stream",
     "text": [
      "/home/michael/anaconda3/envs/eolearn_water/lib/python3.8/site-packages/eolearn/io/raster_io.py:263: EORuntimeWarning: Data from feature (<FeatureType.MASK: 'mask'>, 'model_output') cannot be exported to tiff with dtype numpy.int64. Will export as numpy.int32 instead\n",
      "  warnings.warn(\n",
      "/home/michael/anaconda3/envs/eolearn_water/lib/python3.8/site-packages/eolearn/io/raster_io.py:263: EORuntimeWarning: Data from feature (<FeatureType.MASK_TIMELESS: 'mask_timeless'>, 'model_output_post') cannot be exported to tiff with dtype numpy.int64. Will export as numpy.int32 instead\n",
      "  warnings.warn(\n"
     ]
    },
    {
     "name": "stdout",
     "output_type": "stream",
     "text": [
      "\r",
      "88/121 calculations [72.73%] with 1 thread(s)\t\r"
     ]
    },
    {
     "name": "stderr",
     "output_type": "stream",
     "text": [
      "/home/michael/anaconda3/envs/eolearn_water/lib/python3.8/site-packages/eolearn/io/raster_io.py:263: EORuntimeWarning: Data from feature (<FeatureType.MASK: 'mask'>, 'model_output') cannot be exported to tiff with dtype numpy.int64. Will export as numpy.int32 instead\n",
      "  warnings.warn(\n",
      "/home/michael/anaconda3/envs/eolearn_water/lib/python3.8/site-packages/eolearn/io/raster_io.py:263: EORuntimeWarning: Data from feature (<FeatureType.MASK_TIMELESS: 'mask_timeless'>, 'model_output_post') cannot be exported to tiff with dtype numpy.int64. Will export as numpy.int32 instead\n",
      "  warnings.warn(\n"
     ]
    },
    {
     "name": "stdout",
     "output_type": "stream",
     "text": [
      "\r",
      "89/121 calculations [73.55%] with 1 thread(s)\t\r"
     ]
    },
    {
     "name": "stderr",
     "output_type": "stream",
     "text": [
      "/home/michael/anaconda3/envs/eolearn_water/lib/python3.8/site-packages/eolearn/io/raster_io.py:263: EORuntimeWarning: Data from feature (<FeatureType.MASK: 'mask'>, 'model_output') cannot be exported to tiff with dtype numpy.int64. Will export as numpy.int32 instead\n",
      "  warnings.warn(\n",
      "/home/michael/anaconda3/envs/eolearn_water/lib/python3.8/site-packages/eolearn/io/raster_io.py:263: EORuntimeWarning: Data from feature (<FeatureType.MASK_TIMELESS: 'mask_timeless'>, 'model_output_post') cannot be exported to tiff with dtype numpy.int64. Will export as numpy.int32 instead\n",
      "  warnings.warn(\n"
     ]
    },
    {
     "name": "stdout",
     "output_type": "stream",
     "text": [
      "\r",
      "90/121 calculations [74.38%] with 1 thread(s)\t\r"
     ]
    },
    {
     "name": "stderr",
     "output_type": "stream",
     "text": [
      "/home/michael/anaconda3/envs/eolearn_water/lib/python3.8/site-packages/eolearn/io/raster_io.py:263: EORuntimeWarning: Data from feature (<FeatureType.MASK: 'mask'>, 'model_output') cannot be exported to tiff with dtype numpy.int64. Will export as numpy.int32 instead\n",
      "  warnings.warn(\n",
      "/home/michael/anaconda3/envs/eolearn_water/lib/python3.8/site-packages/eolearn/io/raster_io.py:263: EORuntimeWarning: Data from feature (<FeatureType.MASK_TIMELESS: 'mask_timeless'>, 'model_output_post') cannot be exported to tiff with dtype numpy.int64. Will export as numpy.int32 instead\n",
      "  warnings.warn(\n"
     ]
    },
    {
     "name": "stdout",
     "output_type": "stream",
     "text": [
      "\r",
      "91/121 calculations [75.21%] with 1 thread(s)\t\r"
     ]
    },
    {
     "name": "stderr",
     "output_type": "stream",
     "text": [
      "/home/michael/anaconda3/envs/eolearn_water/lib/python3.8/site-packages/eolearn/io/raster_io.py:263: EORuntimeWarning: Data from feature (<FeatureType.MASK: 'mask'>, 'model_output') cannot be exported to tiff with dtype numpy.int64. Will export as numpy.int32 instead\n",
      "  warnings.warn(\n",
      "/home/michael/anaconda3/envs/eolearn_water/lib/python3.8/site-packages/eolearn/io/raster_io.py:263: EORuntimeWarning: Data from feature (<FeatureType.MASK_TIMELESS: 'mask_timeless'>, 'model_output_post') cannot be exported to tiff with dtype numpy.int64. Will export as numpy.int32 instead\n",
      "  warnings.warn(\n"
     ]
    },
    {
     "name": "stdout",
     "output_type": "stream",
     "text": [
      "\r",
      "92/121 calculations [76.03%] with 1 thread(s)\t\r"
     ]
    },
    {
     "name": "stderr",
     "output_type": "stream",
     "text": [
      "/home/michael/anaconda3/envs/eolearn_water/lib/python3.8/site-packages/eolearn/io/raster_io.py:263: EORuntimeWarning: Data from feature (<FeatureType.MASK: 'mask'>, 'model_output') cannot be exported to tiff with dtype numpy.int64. Will export as numpy.int32 instead\n",
      "  warnings.warn(\n",
      "/home/michael/anaconda3/envs/eolearn_water/lib/python3.8/site-packages/eolearn/io/raster_io.py:263: EORuntimeWarning: Data from feature (<FeatureType.MASK_TIMELESS: 'mask_timeless'>, 'model_output_post') cannot be exported to tiff with dtype numpy.int64. Will export as numpy.int32 instead\n",
      "  warnings.warn(\n"
     ]
    },
    {
     "name": "stdout",
     "output_type": "stream",
     "text": [
      "\r",
      "93/121 calculations [76.86%] with 1 thread(s)\t\r"
     ]
    },
    {
     "name": "stderr",
     "output_type": "stream",
     "text": [
      "/home/michael/anaconda3/envs/eolearn_water/lib/python3.8/site-packages/eolearn/io/raster_io.py:263: EORuntimeWarning: Data from feature (<FeatureType.MASK: 'mask'>, 'model_output') cannot be exported to tiff with dtype numpy.int64. Will export as numpy.int32 instead\n",
      "  warnings.warn(\n",
      "/home/michael/anaconda3/envs/eolearn_water/lib/python3.8/site-packages/eolearn/io/raster_io.py:263: EORuntimeWarning: Data from feature (<FeatureType.MASK_TIMELESS: 'mask_timeless'>, 'model_output_post') cannot be exported to tiff with dtype numpy.int64. Will export as numpy.int32 instead\n",
      "  warnings.warn(\n"
     ]
    },
    {
     "name": "stdout",
     "output_type": "stream",
     "text": [
      "\r",
      "94/121 calculations [77.69%] with 1 thread(s)\t\r"
     ]
    },
    {
     "name": "stderr",
     "output_type": "stream",
     "text": [
      "/home/michael/anaconda3/envs/eolearn_water/lib/python3.8/site-packages/eolearn/io/raster_io.py:263: EORuntimeWarning: Data from feature (<FeatureType.MASK: 'mask'>, 'model_output') cannot be exported to tiff with dtype numpy.int64. Will export as numpy.int32 instead\n",
      "  warnings.warn(\n",
      "/home/michael/anaconda3/envs/eolearn_water/lib/python3.8/site-packages/eolearn/io/raster_io.py:263: EORuntimeWarning: Data from feature (<FeatureType.MASK_TIMELESS: 'mask_timeless'>, 'model_output_post') cannot be exported to tiff with dtype numpy.int64. Will export as numpy.int32 instead\n",
      "  warnings.warn(\n"
     ]
    },
    {
     "name": "stdout",
     "output_type": "stream",
     "text": [
      "\r",
      "95/121 calculations [78.51%] with 1 thread(s)\t\r"
     ]
    },
    {
     "name": "stderr",
     "output_type": "stream",
     "text": [
      "/home/michael/anaconda3/envs/eolearn_water/lib/python3.8/site-packages/eolearn/io/raster_io.py:263: EORuntimeWarning: Data from feature (<FeatureType.MASK: 'mask'>, 'model_output') cannot be exported to tiff with dtype numpy.int64. Will export as numpy.int32 instead\n",
      "  warnings.warn(\n",
      "/home/michael/anaconda3/envs/eolearn_water/lib/python3.8/site-packages/eolearn/io/raster_io.py:263: EORuntimeWarning: Data from feature (<FeatureType.MASK_TIMELESS: 'mask_timeless'>, 'model_output_post') cannot be exported to tiff with dtype numpy.int64. Will export as numpy.int32 instead\n",
      "  warnings.warn(\n"
     ]
    },
    {
     "name": "stdout",
     "output_type": "stream",
     "text": [
      "\r",
      "96/121 calculations [79.34%] with 1 thread(s)\t\r"
     ]
    },
    {
     "name": "stderr",
     "output_type": "stream",
     "text": [
      "/home/michael/anaconda3/envs/eolearn_water/lib/python3.8/site-packages/eolearn/io/raster_io.py:263: EORuntimeWarning: Data from feature (<FeatureType.MASK: 'mask'>, 'model_output') cannot be exported to tiff with dtype numpy.int64. Will export as numpy.int32 instead\n",
      "  warnings.warn(\n",
      "/home/michael/anaconda3/envs/eolearn_water/lib/python3.8/site-packages/eolearn/io/raster_io.py:263: EORuntimeWarning: Data from feature (<FeatureType.MASK_TIMELESS: 'mask_timeless'>, 'model_output_post') cannot be exported to tiff with dtype numpy.int64. Will export as numpy.int32 instead\n",
      "  warnings.warn(\n"
     ]
    },
    {
     "name": "stdout",
     "output_type": "stream",
     "text": [
      "\r",
      "97/121 calculations [80.17%] with 1 thread(s)\t\r"
     ]
    },
    {
     "name": "stderr",
     "output_type": "stream",
     "text": [
      "/home/michael/anaconda3/envs/eolearn_water/lib/python3.8/site-packages/eolearn/io/raster_io.py:263: EORuntimeWarning: Data from feature (<FeatureType.MASK: 'mask'>, 'model_output') cannot be exported to tiff with dtype numpy.int64. Will export as numpy.int32 instead\n",
      "  warnings.warn(\n",
      "/home/michael/anaconda3/envs/eolearn_water/lib/python3.8/site-packages/eolearn/io/raster_io.py:263: EORuntimeWarning: Data from feature (<FeatureType.MASK_TIMELESS: 'mask_timeless'>, 'model_output_post') cannot be exported to tiff with dtype numpy.int64. Will export as numpy.int32 instead\n",
      "  warnings.warn(\n"
     ]
    },
    {
     "name": "stdout",
     "output_type": "stream",
     "text": [
      "\r",
      "98/121 calculations [80.99%] with 1 thread(s)\t\r"
     ]
    },
    {
     "name": "stderr",
     "output_type": "stream",
     "text": [
      "/home/michael/anaconda3/envs/eolearn_water/lib/python3.8/site-packages/eolearn/io/raster_io.py:263: EORuntimeWarning: Data from feature (<FeatureType.MASK: 'mask'>, 'model_output') cannot be exported to tiff with dtype numpy.int64. Will export as numpy.int32 instead\n",
      "  warnings.warn(\n",
      "/home/michael/anaconda3/envs/eolearn_water/lib/python3.8/site-packages/eolearn/io/raster_io.py:263: EORuntimeWarning: Data from feature (<FeatureType.MASK_TIMELESS: 'mask_timeless'>, 'model_output_post') cannot be exported to tiff with dtype numpy.int64. Will export as numpy.int32 instead\n",
      "  warnings.warn(\n"
     ]
    },
    {
     "name": "stdout",
     "output_type": "stream",
     "text": [
      "\r",
      "99/121 calculations [81.82%] with 1 thread(s)\t\r"
     ]
    },
    {
     "name": "stderr",
     "output_type": "stream",
     "text": [
      "/home/michael/anaconda3/envs/eolearn_water/lib/python3.8/site-packages/eolearn/io/raster_io.py:263: EORuntimeWarning: Data from feature (<FeatureType.MASK: 'mask'>, 'model_output') cannot be exported to tiff with dtype numpy.int64. Will export as numpy.int32 instead\n",
      "  warnings.warn(\n",
      "/home/michael/anaconda3/envs/eolearn_water/lib/python3.8/site-packages/eolearn/io/raster_io.py:263: EORuntimeWarning: Data from feature (<FeatureType.MASK_TIMELESS: 'mask_timeless'>, 'model_output_post') cannot be exported to tiff with dtype numpy.int64. Will export as numpy.int32 instead\n",
      "  warnings.warn(\n"
     ]
    },
    {
     "name": "stdout",
     "output_type": "stream",
     "text": [
      "\r",
      "100/121 calculations [82.64%] with 1 thread(s)\t\r"
     ]
    },
    {
     "name": "stderr",
     "output_type": "stream",
     "text": [
      "/home/michael/anaconda3/envs/eolearn_water/lib/python3.8/site-packages/eolearn/io/raster_io.py:263: EORuntimeWarning: Data from feature (<FeatureType.MASK: 'mask'>, 'model_output') cannot be exported to tiff with dtype numpy.int64. Will export as numpy.int32 instead\n",
      "  warnings.warn(\n",
      "/home/michael/anaconda3/envs/eolearn_water/lib/python3.8/site-packages/eolearn/io/raster_io.py:263: EORuntimeWarning: Data from feature (<FeatureType.MASK_TIMELESS: 'mask_timeless'>, 'model_output_post') cannot be exported to tiff with dtype numpy.int64. Will export as numpy.int32 instead\n",
      "  warnings.warn(\n"
     ]
    },
    {
     "name": "stdout",
     "output_type": "stream",
     "text": [
      "\r",
      "101/121 calculations [83.47%] with 1 thread(s)\t\r"
     ]
    },
    {
     "name": "stderr",
     "output_type": "stream",
     "text": [
      "/home/michael/anaconda3/envs/eolearn_water/lib/python3.8/site-packages/eolearn/io/raster_io.py:263: EORuntimeWarning: Data from feature (<FeatureType.MASK: 'mask'>, 'model_output') cannot be exported to tiff with dtype numpy.int64. Will export as numpy.int32 instead\n",
      "  warnings.warn(\n",
      "/home/michael/anaconda3/envs/eolearn_water/lib/python3.8/site-packages/eolearn/io/raster_io.py:263: EORuntimeWarning: Data from feature (<FeatureType.MASK_TIMELESS: 'mask_timeless'>, 'model_output_post') cannot be exported to tiff with dtype numpy.int64. Will export as numpy.int32 instead\n",
      "  warnings.warn(\n"
     ]
    },
    {
     "name": "stdout",
     "output_type": "stream",
     "text": [
      "\r",
      "102/121 calculations [84.30%] with 1 thread(s)\t\r"
     ]
    },
    {
     "name": "stderr",
     "output_type": "stream",
     "text": [
      "/home/michael/anaconda3/envs/eolearn_water/lib/python3.8/site-packages/eolearn/io/raster_io.py:263: EORuntimeWarning: Data from feature (<FeatureType.MASK: 'mask'>, 'model_output') cannot be exported to tiff with dtype numpy.int64. Will export as numpy.int32 instead\n",
      "  warnings.warn(\n",
      "/home/michael/anaconda3/envs/eolearn_water/lib/python3.8/site-packages/eolearn/io/raster_io.py:263: EORuntimeWarning: Data from feature (<FeatureType.MASK_TIMELESS: 'mask_timeless'>, 'model_output_post') cannot be exported to tiff with dtype numpy.int64. Will export as numpy.int32 instead\n",
      "  warnings.warn(\n"
     ]
    },
    {
     "name": "stdout",
     "output_type": "stream",
     "text": [
      "\r",
      "103/121 calculations [85.12%] with 1 thread(s)\t\r"
     ]
    },
    {
     "name": "stderr",
     "output_type": "stream",
     "text": [
      "/home/michael/anaconda3/envs/eolearn_water/lib/python3.8/site-packages/eolearn/io/raster_io.py:263: EORuntimeWarning: Data from feature (<FeatureType.MASK: 'mask'>, 'model_output') cannot be exported to tiff with dtype numpy.int64. Will export as numpy.int32 instead\n",
      "  warnings.warn(\n",
      "/home/michael/anaconda3/envs/eolearn_water/lib/python3.8/site-packages/eolearn/io/raster_io.py:263: EORuntimeWarning: Data from feature (<FeatureType.MASK_TIMELESS: 'mask_timeless'>, 'model_output_post') cannot be exported to tiff with dtype numpy.int64. Will export as numpy.int32 instead\n",
      "  warnings.warn(\n"
     ]
    },
    {
     "name": "stdout",
     "output_type": "stream",
     "text": [
      "\r",
      "104/121 calculations [85.95%] with 1 thread(s)\t\r"
     ]
    },
    {
     "name": "stderr",
     "output_type": "stream",
     "text": [
      "/home/michael/anaconda3/envs/eolearn_water/lib/python3.8/site-packages/eolearn/io/raster_io.py:263: EORuntimeWarning: Data from feature (<FeatureType.MASK: 'mask'>, 'model_output') cannot be exported to tiff with dtype numpy.int64. Will export as numpy.int32 instead\n",
      "  warnings.warn(\n",
      "/home/michael/anaconda3/envs/eolearn_water/lib/python3.8/site-packages/eolearn/io/raster_io.py:263: EORuntimeWarning: Data from feature (<FeatureType.MASK_TIMELESS: 'mask_timeless'>, 'model_output_post') cannot be exported to tiff with dtype numpy.int64. Will export as numpy.int32 instead\n",
      "  warnings.warn(\n"
     ]
    },
    {
     "name": "stdout",
     "output_type": "stream",
     "text": [
      "\r",
      "105/121 calculations [86.78%] with 1 thread(s)\t\r"
     ]
    },
    {
     "name": "stderr",
     "output_type": "stream",
     "text": [
      "/home/michael/anaconda3/envs/eolearn_water/lib/python3.8/site-packages/eolearn/io/raster_io.py:263: EORuntimeWarning: Data from feature (<FeatureType.MASK: 'mask'>, 'model_output') cannot be exported to tiff with dtype numpy.int64. Will export as numpy.int32 instead\n",
      "  warnings.warn(\n",
      "/home/michael/anaconda3/envs/eolearn_water/lib/python3.8/site-packages/eolearn/io/raster_io.py:263: EORuntimeWarning: Data from feature (<FeatureType.MASK_TIMELESS: 'mask_timeless'>, 'model_output_post') cannot be exported to tiff with dtype numpy.int64. Will export as numpy.int32 instead\n",
      "  warnings.warn(\n"
     ]
    },
    {
     "name": "stdout",
     "output_type": "stream",
     "text": [
      "\r",
      "106/121 calculations [87.60%] with 1 thread(s)\t\r"
     ]
    },
    {
     "name": "stderr",
     "output_type": "stream",
     "text": [
      "/home/michael/anaconda3/envs/eolearn_water/lib/python3.8/site-packages/eolearn/io/raster_io.py:263: EORuntimeWarning: Data from feature (<FeatureType.MASK: 'mask'>, 'model_output') cannot be exported to tiff with dtype numpy.int64. Will export as numpy.int32 instead\n",
      "  warnings.warn(\n",
      "/home/michael/anaconda3/envs/eolearn_water/lib/python3.8/site-packages/eolearn/io/raster_io.py:263: EORuntimeWarning: Data from feature (<FeatureType.MASK_TIMELESS: 'mask_timeless'>, 'model_output_post') cannot be exported to tiff with dtype numpy.int64. Will export as numpy.int32 instead\n",
      "  warnings.warn(\n"
     ]
    },
    {
     "name": "stdout",
     "output_type": "stream",
     "text": [
      "\r",
      "107/121 calculations [88.43%] with 1 thread(s)\t\r"
     ]
    },
    {
     "name": "stderr",
     "output_type": "stream",
     "text": [
      "/home/michael/anaconda3/envs/eolearn_water/lib/python3.8/site-packages/eolearn/io/raster_io.py:263: EORuntimeWarning: Data from feature (<FeatureType.MASK: 'mask'>, 'model_output') cannot be exported to tiff with dtype numpy.int64. Will export as numpy.int32 instead\n",
      "  warnings.warn(\n",
      "/home/michael/anaconda3/envs/eolearn_water/lib/python3.8/site-packages/eolearn/io/raster_io.py:263: EORuntimeWarning: Data from feature (<FeatureType.MASK_TIMELESS: 'mask_timeless'>, 'model_output_post') cannot be exported to tiff with dtype numpy.int64. Will export as numpy.int32 instead\n",
      "  warnings.warn(\n"
     ]
    },
    {
     "name": "stdout",
     "output_type": "stream",
     "text": [
      "\r",
      "108/121 calculations [89.26%] with 1 thread(s)\t\r"
     ]
    },
    {
     "name": "stderr",
     "output_type": "stream",
     "text": [
      "/home/michael/anaconda3/envs/eolearn_water/lib/python3.8/site-packages/eolearn/io/raster_io.py:263: EORuntimeWarning: Data from feature (<FeatureType.MASK: 'mask'>, 'model_output') cannot be exported to tiff with dtype numpy.int64. Will export as numpy.int32 instead\n",
      "  warnings.warn(\n",
      "/home/michael/anaconda3/envs/eolearn_water/lib/python3.8/site-packages/eolearn/io/raster_io.py:263: EORuntimeWarning: Data from feature (<FeatureType.MASK_TIMELESS: 'mask_timeless'>, 'model_output_post') cannot be exported to tiff with dtype numpy.int64. Will export as numpy.int32 instead\n",
      "  warnings.warn(\n"
     ]
    },
    {
     "name": "stdout",
     "output_type": "stream",
     "text": [
      "\r",
      "109/121 calculations [90.08%] with 1 thread(s)\t\r"
     ]
    },
    {
     "name": "stderr",
     "output_type": "stream",
     "text": [
      "/home/michael/anaconda3/envs/eolearn_water/lib/python3.8/site-packages/eolearn/io/raster_io.py:263: EORuntimeWarning: Data from feature (<FeatureType.MASK: 'mask'>, 'model_output') cannot be exported to tiff with dtype numpy.int64. Will export as numpy.int32 instead\n",
      "  warnings.warn(\n",
      "/home/michael/anaconda3/envs/eolearn_water/lib/python3.8/site-packages/eolearn/io/raster_io.py:263: EORuntimeWarning: Data from feature (<FeatureType.MASK_TIMELESS: 'mask_timeless'>, 'model_output_post') cannot be exported to tiff with dtype numpy.int64. Will export as numpy.int32 instead\n",
      "  warnings.warn(\n"
     ]
    },
    {
     "name": "stdout",
     "output_type": "stream",
     "text": [
      "\r",
      "110/121 calculations [90.91%] with 1 thread(s)\t\r"
     ]
    },
    {
     "name": "stderr",
     "output_type": "stream",
     "text": [
      "/home/michael/anaconda3/envs/eolearn_water/lib/python3.8/site-packages/eolearn/io/raster_io.py:263: EORuntimeWarning: Data from feature (<FeatureType.MASK: 'mask'>, 'model_output') cannot be exported to tiff with dtype numpy.int64. Will export as numpy.int32 instead\n",
      "  warnings.warn(\n",
      "/home/michael/anaconda3/envs/eolearn_water/lib/python3.8/site-packages/eolearn/io/raster_io.py:263: EORuntimeWarning: Data from feature (<FeatureType.MASK_TIMELESS: 'mask_timeless'>, 'model_output_post') cannot be exported to tiff with dtype numpy.int64. Will export as numpy.int32 instead\n",
      "  warnings.warn(\n"
     ]
    },
    {
     "name": "stdout",
     "output_type": "stream",
     "text": [
      "\r",
      "111/121 calculations [91.74%] with 1 thread(s)\t\r"
     ]
    },
    {
     "name": "stderr",
     "output_type": "stream",
     "text": [
      "/home/michael/anaconda3/envs/eolearn_water/lib/python3.8/site-packages/eolearn/io/raster_io.py:263: EORuntimeWarning: Data from feature (<FeatureType.MASK: 'mask'>, 'model_output') cannot be exported to tiff with dtype numpy.int64. Will export as numpy.int32 instead\n",
      "  warnings.warn(\n",
      "/home/michael/anaconda3/envs/eolearn_water/lib/python3.8/site-packages/eolearn/io/raster_io.py:263: EORuntimeWarning: Data from feature (<FeatureType.MASK_TIMELESS: 'mask_timeless'>, 'model_output_post') cannot be exported to tiff with dtype numpy.int64. Will export as numpy.int32 instead\n",
      "  warnings.warn(\n"
     ]
    },
    {
     "name": "stdout",
     "output_type": "stream",
     "text": [
      "\r",
      "112/121 calculations [92.56%] with 1 thread(s)\t\r"
     ]
    },
    {
     "name": "stderr",
     "output_type": "stream",
     "text": [
      "/home/michael/anaconda3/envs/eolearn_water/lib/python3.8/site-packages/eolearn/io/raster_io.py:263: EORuntimeWarning: Data from feature (<FeatureType.MASK: 'mask'>, 'model_output') cannot be exported to tiff with dtype numpy.int64. Will export as numpy.int32 instead\n",
      "  warnings.warn(\n",
      "/home/michael/anaconda3/envs/eolearn_water/lib/python3.8/site-packages/eolearn/io/raster_io.py:263: EORuntimeWarning: Data from feature (<FeatureType.MASK_TIMELESS: 'mask_timeless'>, 'model_output_post') cannot be exported to tiff with dtype numpy.int64. Will export as numpy.int32 instead\n",
      "  warnings.warn(\n"
     ]
    },
    {
     "name": "stdout",
     "output_type": "stream",
     "text": [
      "\r",
      "113/121 calculations [93.39%] with 1 thread(s)\t\r"
     ]
    },
    {
     "name": "stderr",
     "output_type": "stream",
     "text": [
      "/home/michael/anaconda3/envs/eolearn_water/lib/python3.8/site-packages/eolearn/io/raster_io.py:263: EORuntimeWarning: Data from feature (<FeatureType.MASK: 'mask'>, 'model_output') cannot be exported to tiff with dtype numpy.int64. Will export as numpy.int32 instead\n",
      "  warnings.warn(\n",
      "/home/michael/anaconda3/envs/eolearn_water/lib/python3.8/site-packages/eolearn/io/raster_io.py:263: EORuntimeWarning: Data from feature (<FeatureType.MASK_TIMELESS: 'mask_timeless'>, 'model_output_post') cannot be exported to tiff with dtype numpy.int64. Will export as numpy.int32 instead\n",
      "  warnings.warn(\n"
     ]
    },
    {
     "name": "stdout",
     "output_type": "stream",
     "text": [
      "\r",
      "114/121 calculations [94.21%] with 1 thread(s)\t\r"
     ]
    },
    {
     "name": "stderr",
     "output_type": "stream",
     "text": [
      "/home/michael/anaconda3/envs/eolearn_water/lib/python3.8/site-packages/eolearn/io/raster_io.py:263: EORuntimeWarning: Data from feature (<FeatureType.MASK: 'mask'>, 'model_output') cannot be exported to tiff with dtype numpy.int64. Will export as numpy.int32 instead\n",
      "  warnings.warn(\n",
      "/home/michael/anaconda3/envs/eolearn_water/lib/python3.8/site-packages/eolearn/io/raster_io.py:263: EORuntimeWarning: Data from feature (<FeatureType.MASK_TIMELESS: 'mask_timeless'>, 'model_output_post') cannot be exported to tiff with dtype numpy.int64. Will export as numpy.int32 instead\n",
      "  warnings.warn(\n"
     ]
    },
    {
     "name": "stdout",
     "output_type": "stream",
     "text": [
      "\r",
      "115/121 calculations [95.04%] with 1 thread(s)\t\r"
     ]
    },
    {
     "name": "stderr",
     "output_type": "stream",
     "text": [
      "/home/michael/anaconda3/envs/eolearn_water/lib/python3.8/site-packages/eolearn/io/raster_io.py:263: EORuntimeWarning: Data from feature (<FeatureType.MASK: 'mask'>, 'model_output') cannot be exported to tiff with dtype numpy.int64. Will export as numpy.int32 instead\n",
      "  warnings.warn(\n",
      "/home/michael/anaconda3/envs/eolearn_water/lib/python3.8/site-packages/eolearn/io/raster_io.py:263: EORuntimeWarning: Data from feature (<FeatureType.MASK_TIMELESS: 'mask_timeless'>, 'model_output_post') cannot be exported to tiff with dtype numpy.int64. Will export as numpy.int32 instead\n",
      "  warnings.warn(\n"
     ]
    },
    {
     "name": "stdout",
     "output_type": "stream",
     "text": [
      "\r",
      "116/121 calculations [95.87%] with 1 thread(s)\t\r"
     ]
    },
    {
     "name": "stderr",
     "output_type": "stream",
     "text": [
      "/home/michael/anaconda3/envs/eolearn_water/lib/python3.8/site-packages/eolearn/io/raster_io.py:263: EORuntimeWarning: Data from feature (<FeatureType.MASK: 'mask'>, 'model_output') cannot be exported to tiff with dtype numpy.int64. Will export as numpy.int32 instead\n",
      "  warnings.warn(\n",
      "/home/michael/anaconda3/envs/eolearn_water/lib/python3.8/site-packages/eolearn/io/raster_io.py:263: EORuntimeWarning: Data from feature (<FeatureType.MASK_TIMELESS: 'mask_timeless'>, 'model_output_post') cannot be exported to tiff with dtype numpy.int64. Will export as numpy.int32 instead\n",
      "  warnings.warn(\n"
     ]
    },
    {
     "name": "stdout",
     "output_type": "stream",
     "text": [
      "\r",
      "117/121 calculations [96.69%] with 1 thread(s)\t\r"
     ]
    },
    {
     "name": "stderr",
     "output_type": "stream",
     "text": [
      "/home/michael/anaconda3/envs/eolearn_water/lib/python3.8/site-packages/eolearn/io/raster_io.py:263: EORuntimeWarning: Data from feature (<FeatureType.MASK: 'mask'>, 'model_output') cannot be exported to tiff with dtype numpy.int64. Will export as numpy.int32 instead\n",
      "  warnings.warn(\n",
      "/home/michael/anaconda3/envs/eolearn_water/lib/python3.8/site-packages/eolearn/io/raster_io.py:263: EORuntimeWarning: Data from feature (<FeatureType.MASK_TIMELESS: 'mask_timeless'>, 'model_output_post') cannot be exported to tiff with dtype numpy.int64. Will export as numpy.int32 instead\n",
      "  warnings.warn(\n"
     ]
    },
    {
     "name": "stdout",
     "output_type": "stream",
     "text": [
      "\r",
      "118/121 calculations [97.52%] with 1 thread(s)\t\r"
     ]
    },
    {
     "name": "stderr",
     "output_type": "stream",
     "text": [
      "/home/michael/anaconda3/envs/eolearn_water/lib/python3.8/site-packages/eolearn/io/raster_io.py:263: EORuntimeWarning: Data from feature (<FeatureType.MASK: 'mask'>, 'model_output') cannot be exported to tiff with dtype numpy.int64. Will export as numpy.int32 instead\n",
      "  warnings.warn(\n",
      "/home/michael/anaconda3/envs/eolearn_water/lib/python3.8/site-packages/eolearn/io/raster_io.py:263: EORuntimeWarning: Data from feature (<FeatureType.MASK_TIMELESS: 'mask_timeless'>, 'model_output_post') cannot be exported to tiff with dtype numpy.int64. Will export as numpy.int32 instead\n",
      "  warnings.warn(\n"
     ]
    },
    {
     "name": "stdout",
     "output_type": "stream",
     "text": [
      "\r",
      "119/121 calculations [98.35%] with 1 thread(s)\t\r"
     ]
    },
    {
     "name": "stderr",
     "output_type": "stream",
     "text": [
      "/home/michael/anaconda3/envs/eolearn_water/lib/python3.8/site-packages/eolearn/io/raster_io.py:263: EORuntimeWarning: Data from feature (<FeatureType.MASK: 'mask'>, 'model_output') cannot be exported to tiff with dtype numpy.int64. Will export as numpy.int32 instead\n",
      "  warnings.warn(\n",
      "/home/michael/anaconda3/envs/eolearn_water/lib/python3.8/site-packages/eolearn/io/raster_io.py:263: EORuntimeWarning: Data from feature (<FeatureType.MASK_TIMELESS: 'mask_timeless'>, 'model_output_post') cannot be exported to tiff with dtype numpy.int64. Will export as numpy.int32 instead\n",
      "  warnings.warn(\n"
     ]
    },
    {
     "name": "stdout",
     "output_type": "stream",
     "text": [
      "\r",
      "120/121 calculations [99.17%] with 1 thread(s)\t\r"
     ]
    },
    {
     "name": "stderr",
     "output_type": "stream",
     "text": [
      "/home/michael/anaconda3/envs/eolearn_water/lib/python3.8/site-packages/eolearn/io/raster_io.py:263: EORuntimeWarning: Data from feature (<FeatureType.MASK: 'mask'>, 'model_output') cannot be exported to tiff with dtype numpy.int64. Will export as numpy.int32 instead\n",
      "  warnings.warn(\n",
      "/home/michael/anaconda3/envs/eolearn_water/lib/python3.8/site-packages/eolearn/io/raster_io.py:263: EORuntimeWarning: Data from feature (<FeatureType.MASK_TIMELESS: 'mask_timeless'>, 'model_output_post') cannot be exported to tiff with dtype numpy.int64. Will export as numpy.int32 instead\n",
      "  warnings.warn(\n"
     ]
    },
    {
     "name": "stdout",
     "output_type": "stream",
     "text": [
      "121/121 calculations [100.00%] with 1 thread(s)\t\n",
      "\n",
      "Time Multi:\t\t98.8076183795929s\n"
     ]
    }
   ],
   "source": [
    "if __name__=='__main__':  \n",
    "    start_multi = time.time()\n",
    "    results_multi = ExecuteME.execute(\n",
    "        fun = workflow.execute,\n",
    "        kwargslist = workflow_args,\n",
    "        mpkwargs = mpkwargs,\n",
    "        \n",
    "        kwargsmode = None,\n",
    "        resultsqueue = None,\n",
    "        NoReturn = True,\n",
    "        \n",
    "        timeout = 1,\n",
    "        threads = 0, #config[\"threads\"],\n",
    "        checkthreads = True,\n",
    "        multiprocessing_context = \"spawn\",\n",
    "        multiprocessing_mode = \"std\",\n",
    "        bequiet = False\n",
    "    )\n",
    "    time_multi = time.time()-start_multi\n",
    "\n",
    "    #%%% results\n",
    "    print(f\"Time Multi:\\t\\t{time_multi}s\")"
   ]
  },
  {
   "cell_type": "markdown",
   "id": "af3a05e9",
   "metadata": {},
   "source": [
    "### Downloaded Data\n",
    "Let's have a look at how many `EOPatches` got stored to disk."
   ]
  },
  {
   "cell_type": "code",
   "execution_count": 20,
   "id": "d7ffd9e4",
   "metadata": {},
   "outputs": [
    {
     "name": "stdout",
     "output_type": "stream",
     "text": [
      "Number of showcasedownloads: 121\n",
      "Number of stored showcase EOPatches: 121\n"
     ]
    }
   ],
   "source": [
    "if __name__=='__main__':  \n",
    "    print(f\"Number of showcasedownloads: {len(workflow_args)}\")\n",
    "    print(f\"Number of stored showcase EOPatches: {len(os.listdir(config['dir_showcase']))}\")"
   ]
  },
  {
   "cell_type": "markdown",
   "id": "f1b65752",
   "metadata": {},
   "source": [
    "We finally made it!\n",
    "Everything is ready for being analyzed!"
   ]
  },
  {
   "cell_type": "markdown",
   "id": "7c511794",
   "metadata": {},
   "source": [
    "## Analysis\n",
    "As a first analysis step, we want to merge all of our computed GeoTiffs, both for the raw and postprocessed model output."
   ]
  },
  {
   "cell_type": "code",
   "execution_count": 21,
   "id": "cc6c9edb",
   "metadata": {},
   "outputs": [
    {
     "name": "stdout",
     "output_type": "stream",
     "text": [
      "Creating output file that is 2816P x 2816L.\n",
      "Processing /home/michael/Documents/GEM/TUM-Git/eo-learn-examples/GEM-ML/Example_DeforestationDetection/DeforestationDetectionRun/results/tiffs/showcase/deforestation_raw_65_2022-10-01T00-00-00_--2022-11-01T00-00-00_.tif [1/121] : 0...10...20...30...40...50...60...70...80...90...100 - done.\n",
      "Processing /home/michael/Documents/GEM/TUM-Git/eo-learn-examples/GEM-ML/Example_DeforestationDetection/DeforestationDetectionRun/results/tiffs/showcase/deforestation_raw_88_2022-10-01T00-00-00_--2022-11-01T00-00-00_.tif [2/121] : 0...10...20...30...40...50...60...70...80...90...100 - done.\n",
      "Processing /home/michael/Documents/GEM/TUM-Git/eo-learn-examples/GEM-ML/Example_DeforestationDetection/DeforestationDetectionRun/results/tiffs/showcase/deforestation_raw_63_2022-10-01T00-00-00_--2022-11-01T00-00-00_.tif [3/121] : 0...10...20...30...40...50...60...70...80...90...100 - done.\n",
      "Processing /home/michael/Documents/GEM/TUM-Git/eo-learn-examples/GEM-ML/Example_DeforestationDetection/DeforestationDetectionRun/results/tiffs/showcase/deforestation_raw_24_2022-10-01T00-00-00_--2022-11-01T00-00-00_.tif [4/121] : 0...10...20...30...40...50...60...70...80...90...100 - done.\n",
      "Processing /home/michael/Documents/GEM/TUM-Git/eo-learn-examples/GEM-ML/Example_DeforestationDetection/DeforestationDetectionRun/results/tiffs/showcase/deforestation_raw_37_2022-10-01T00-00-00_--2022-11-01T00-00-00_.tif [5/121] : 0...10...20...30...40...50...60...70...80...90...100 - done.\n",
      "Processing /home/michael/Documents/GEM/TUM-Git/eo-learn-examples/GEM-ML/Example_DeforestationDetection/DeforestationDetectionRun/results/tiffs/showcase/deforestation_raw_8_2022-10-01T00-00-00_--2022-11-01T00-00-00_.tif [6/121] : 0...10...20...30...40...50...60...70...80...90...100 - done.\n",
      "Processing /home/michael/Documents/GEM/TUM-Git/eo-learn-examples/GEM-ML/Example_DeforestationDetection/DeforestationDetectionRun/results/tiffs/showcase/deforestation_raw_23_2022-10-01T00-00-00_--2022-11-01T00-00-00_.tif [7/121] : 0...10...20...30...40...50...60...70...80...90...100 - done.\n",
      "Processing /home/michael/Documents/GEM/TUM-Git/eo-learn-examples/GEM-ML/Example_DeforestationDetection/DeforestationDetectionRun/results/tiffs/showcase/deforestation_raw_103_2022-10-01T00-00-00_--2022-11-01T00-00-00_.tif [8/121] : 0...10...20...30...40...50...60...70...80...90...100 - done.\n",
      "Processing /home/michael/Documents/GEM/TUM-Git/eo-learn-examples/GEM-ML/Example_DeforestationDetection/DeforestationDetectionRun/results/tiffs/showcase/deforestation_raw_38_2022-10-01T00-00-00_--2022-11-01T00-00-00_.tif [9/121] : 0...10...20...30...40...50...60...70...80...90...100 - done.\n",
      "Processing /home/michael/Documents/GEM/TUM-Git/eo-learn-examples/GEM-ML/Example_DeforestationDetection/DeforestationDetectionRun/results/tiffs/showcase/deforestation_raw_110_2022-10-01T00-00-00_--2022-11-01T00-00-00_.tif [10/121] : 0...10...20...30...40...50...60...70...80...90...100 - done.\n",
      "Processing /home/michael/Documents/GEM/TUM-Git/eo-learn-examples/GEM-ML/Example_DeforestationDetection/DeforestationDetectionRun/results/tiffs/showcase/deforestation_raw_55_2022-10-01T00-00-00_--2022-11-01T00-00-00_.tif [11/121] : 0...10...20...30...40...50...60...70...80...90...100 - done.\n",
      "Processing /home/michael/Documents/GEM/TUM-Git/eo-learn-examples/GEM-ML/Example_DeforestationDetection/DeforestationDetectionRun/results/tiffs/showcase/deforestation_raw_84_2022-10-01T00-00-00_--2022-11-01T00-00-00_.tif [12/121] : 0...10...20...30...40...50...60...70...80...90...100 - done.\n",
      "Processing /home/michael/Documents/GEM/TUM-Git/eo-learn-examples/GEM-ML/Example_DeforestationDetection/DeforestationDetectionRun/results/tiffs/showcase/deforestation_raw_45_2022-10-01T00-00-00_--2022-11-01T00-00-00_.tif [13/121] : 0...10...20...30...40...50...60...70...80...90...100 - done.\n",
      "Processing /home/michael/Documents/GEM/TUM-Git/eo-learn-examples/GEM-ML/Example_DeforestationDetection/DeforestationDetectionRun/results/tiffs/showcase/deforestation_raw_109_2022-10-01T00-00-00_--2022-11-01T00-00-00_.tif [14/121] : 0...10...20...30...40...50...60...70...80...90...100 - done.\n",
      "Processing /home/michael/Documents/GEM/TUM-Git/eo-learn-examples/GEM-ML/Example_DeforestationDetection/DeforestationDetectionRun/results/tiffs/showcase/deforestation_raw_21_2022-10-01T00-00-00_--2022-11-01T00-00-00_.tif [15/121] : 0...10...20...30...40...50...60...70...80...90...100 - done.\n",
      "Processing /home/michael/Documents/GEM/TUM-Git/eo-learn-examples/GEM-ML/Example_DeforestationDetection/DeforestationDetectionRun/results/tiffs/showcase/deforestation_raw_35_2022-10-01T00-00-00_--2022-11-01T00-00-00_.tif [16/121] : 0...10...20...30...40...50...60...70...80...90...100 - done.\n",
      "Processing /home/michael/Documents/GEM/TUM-Git/eo-learn-examples/GEM-ML/Example_DeforestationDetection/DeforestationDetectionRun/results/tiffs/showcase/deforestation_raw_41_2022-10-01T00-00-00_--2022-11-01T00-00-00_.tif [17/121] : 0...10...20...30...40...50...60...70...80...90...100 - done.\n",
      "Processing /home/michael/Documents/GEM/TUM-Git/eo-learn-examples/GEM-ML/Example_DeforestationDetection/DeforestationDetectionRun/results/tiffs/showcase/deforestation_raw_106_2022-10-01T00-00-00_--2022-11-01T00-00-00_.tif [18/121] : 0...10...20...30...40...50...60...70...80...90...100 - done.\n",
      "Processing /home/michael/Documents/GEM/TUM-Git/eo-learn-examples/GEM-ML/Example_DeforestationDetection/DeforestationDetectionRun/results/tiffs/showcase/deforestation_raw_108_2022-10-01T00-00-00_--2022-11-01T00-00-00_.tif [19/121] : 0...10...20...30...40...50...60...70...80...90...100 - done.\n",
      "Processing /home/michael/Documents/GEM/TUM-Git/eo-learn-examples/GEM-ML/Example_DeforestationDetection/DeforestationDetectionRun/results/tiffs/showcase/deforestation_raw_12_2022-10-01T00-00-00_--2022-11-01T00-00-00_.tif [20/121] : 0...10...20...30...40...50...60...70...80...90...100 - done.\n",
      "Processing /home/michael/Documents/GEM/TUM-Git/eo-learn-examples/GEM-ML/Example_DeforestationDetection/DeforestationDetectionRun/results/tiffs/showcase/deforestation_raw_60_2022-10-01T00-00-00_--2022-11-01T00-00-00_.tif [21/121] : 0...10...20...30...40...50...60...70...80...90...100 - done.\n",
      "Processing /home/michael/Documents/GEM/TUM-Git/eo-learn-examples/GEM-ML/Example_DeforestationDetection/DeforestationDetectionRun/results/tiffs/showcase/deforestation_raw_16_2022-10-01T00-00-00_--2022-11-01T00-00-00_.tif [22/121] : 0...10...20...30...40...50...60...70...80...90...100 - done.\n",
      "Processing /home/michael/Documents/GEM/TUM-Git/eo-learn-examples/GEM-ML/Example_DeforestationDetection/DeforestationDetectionRun/results/tiffs/showcase/deforestation_raw_95_2022-10-01T00-00-00_--2022-11-01T00-00-00_.tif [23/121] : 0...10...20...30...40...50...60...70...80...90...100 - done.\n",
      "Processing /home/michael/Documents/GEM/TUM-Git/eo-learn-examples/GEM-ML/Example_DeforestationDetection/DeforestationDetectionRun/results/tiffs/showcase/deforestation_raw_13_2022-10-01T00-00-00_--2022-11-01T00-00-00_.tif [24/121] : 0...10...20...30...40...50...60...70...80...90...100 - done.\n",
      "Processing /home/michael/Documents/GEM/TUM-Git/eo-learn-examples/GEM-ML/Example_DeforestationDetection/DeforestationDetectionRun/results/tiffs/showcase/deforestation_raw_102_2022-10-01T00-00-00_--2022-11-01T00-00-00_.tif [25/121] : 0...10...20...30...40...50...60...70...80...90...100 - done.\n",
      "Processing /home/michael/Documents/GEM/TUM-Git/eo-learn-examples/GEM-ML/Example_DeforestationDetection/DeforestationDetectionRun/results/tiffs/showcase/deforestation_raw_70_2022-10-01T00-00-00_--2022-11-01T00-00-00_.tif [26/121] : 0...10...20...30...40...50...60...70...80...90...100 - done.\n",
      "Processing /home/michael/Documents/GEM/TUM-Git/eo-learn-examples/GEM-ML/Example_DeforestationDetection/DeforestationDetectionRun/results/tiffs/showcase/deforestation_raw_112_2022-10-01T00-00-00_--2022-11-01T00-00-00_.tif [27/121] : 0...10...20...30...40...50...60...70...80...90...100 - done.\n",
      "Processing /home/michael/Documents/GEM/TUM-Git/eo-learn-examples/GEM-ML/Example_DeforestationDetection/DeforestationDetectionRun/results/tiffs/showcase/deforestation_raw_119_2022-10-01T00-00-00_--2022-11-01T00-00-00_.tif [28/121] : 0...10...20...30...40...50...60...70...80...90...100 - done.\n",
      "Processing /home/michael/Documents/GEM/TUM-Git/eo-learn-examples/GEM-ML/Example_DeforestationDetection/DeforestationDetectionRun/results/tiffs/showcase/deforestation_raw_81_2022-10-01T00-00-00_--2022-11-01T00-00-00_.tif [29/121] : 0...10...20...30...40...50...60...70...80...90...100 - done.\n",
      "Processing /home/michael/Documents/GEM/TUM-Git/eo-learn-examples/GEM-ML/Example_DeforestationDetection/DeforestationDetectionRun/results/tiffs/showcase/deforestation_raw_58_2022-10-01T00-00-00_--2022-11-01T00-00-00_.tif [30/121] : 0...10...20...30...40...50...60...70...80...90...100 - done.\n",
      "Processing /home/michael/Documents/GEM/TUM-Git/eo-learn-examples/GEM-ML/Example_DeforestationDetection/DeforestationDetectionRun/results/tiffs/showcase/deforestation_raw_83_2022-10-01T00-00-00_--2022-11-01T00-00-00_.tif [31/121] : 0...10...20...30...40...50...60...70...80...90...100 - done.\n",
      "Processing /home/michael/Documents/GEM/TUM-Git/eo-learn-examples/GEM-ML/Example_DeforestationDetection/DeforestationDetectionRun/results/tiffs/showcase/deforestation_raw_114_2022-10-01T00-00-00_--2022-11-01T00-00-00_.tif [32/121] : 0...10...20...30...40...50...60...70...80...90...100 - done.\n"
     ]
    },
    {
     "name": "stdout",
     "output_type": "stream",
     "text": [
      "Processing /home/michael/Documents/GEM/TUM-Git/eo-learn-examples/GEM-ML/Example_DeforestationDetection/DeforestationDetectionRun/results/tiffs/showcase/deforestation_raw_97_2022-10-01T00-00-00_--2022-11-01T00-00-00_.tif [33/121] : 0...10...20...30...40...50...60...70...80...90...100 - done.\n",
      "Processing /home/michael/Documents/GEM/TUM-Git/eo-learn-examples/GEM-ML/Example_DeforestationDetection/DeforestationDetectionRun/results/tiffs/showcase/deforestation_raw_50_2022-10-01T00-00-00_--2022-11-01T00-00-00_.tif [34/121] : 0...10...20...30...40...50...60...70...80...90...100 - done.\n",
      "Processing /home/michael/Documents/GEM/TUM-Git/eo-learn-examples/GEM-ML/Example_DeforestationDetection/DeforestationDetectionRun/results/tiffs/showcase/deforestation_raw_17_2022-10-01T00-00-00_--2022-11-01T00-00-00_.tif [35/121] : 0...10...20...30...40...50...60...70...80...90...100 - done.\n",
      "Processing /home/michael/Documents/GEM/TUM-Git/eo-learn-examples/GEM-ML/Example_DeforestationDetection/DeforestationDetectionRun/results/tiffs/showcase/deforestation_raw_113_2022-10-01T00-00-00_--2022-11-01T00-00-00_.tif [36/121] : 0...10...20...30...40...50...60...70...80...90...100 - done.\n",
      "Processing /home/michael/Documents/GEM/TUM-Git/eo-learn-examples/GEM-ML/Example_DeforestationDetection/DeforestationDetectionRun/results/tiffs/showcase/deforestation_raw_115_2022-10-01T00-00-00_--2022-11-01T00-00-00_.tif [37/121] : 0...10...20...30...40...50...60...70...80...90...100 - done.\n",
      "Processing /home/michael/Documents/GEM/TUM-Git/eo-learn-examples/GEM-ML/Example_DeforestationDetection/DeforestationDetectionRun/results/tiffs/showcase/deforestation_raw_2_2022-10-01T00-00-00_--2022-11-01T00-00-00_.tif [38/121] : 0...10...20...30...40...50...60...70...80...90...100 - done.\n",
      "Processing /home/michael/Documents/GEM/TUM-Git/eo-learn-examples/GEM-ML/Example_DeforestationDetection/DeforestationDetectionRun/results/tiffs/showcase/deforestation_raw_100_2022-10-01T00-00-00_--2022-11-01T00-00-00_.tif [39/121] : 0...10...20...30...40...50...60...70...80...90...100 - done.\n",
      "Processing /home/michael/Documents/GEM/TUM-Git/eo-learn-examples/GEM-ML/Example_DeforestationDetection/DeforestationDetectionRun/results/tiffs/showcase/deforestation_raw_120_2022-10-01T00-00-00_--2022-11-01T00-00-00_.tif [40/121] : 0...10...20...30...40...50...60...70...80...90...100 - done.\n",
      "Processing /home/michael/Documents/GEM/TUM-Git/eo-learn-examples/GEM-ML/Example_DeforestationDetection/DeforestationDetectionRun/results/tiffs/showcase/deforestation_raw_49_2022-10-01T00-00-00_--2022-11-01T00-00-00_.tif [41/121] : 0...10...20...30...40...50...60...70...80...90...100 - done.\n",
      "Processing /home/michael/Documents/GEM/TUM-Git/eo-learn-examples/GEM-ML/Example_DeforestationDetection/DeforestationDetectionRun/results/tiffs/showcase/deforestation_raw_101_2022-10-01T00-00-00_--2022-11-01T00-00-00_.tif [42/121] : 0...10...20...30...40...50...60...70...80...90...100 - done.\n",
      "Processing /home/michael/Documents/GEM/TUM-Git/eo-learn-examples/GEM-ML/Example_DeforestationDetection/DeforestationDetectionRun/results/tiffs/showcase/deforestation_raw_87_2022-10-01T00-00-00_--2022-11-01T00-00-00_.tif [43/121] : 0...10...20...30...40...50...60...70...80...90...100 - done.\n",
      "Processing /home/michael/Documents/GEM/TUM-Git/eo-learn-examples/GEM-ML/Example_DeforestationDetection/DeforestationDetectionRun/results/tiffs/showcase/deforestation_raw_27_2022-10-01T00-00-00_--2022-11-01T00-00-00_.tif [44/121] : 0...10...20...30...40...50...60...70...80...90...100 - done.\n",
      "Processing /home/michael/Documents/GEM/TUM-Git/eo-learn-examples/GEM-ML/Example_DeforestationDetection/DeforestationDetectionRun/results/tiffs/showcase/deforestation_raw_91_2022-10-01T00-00-00_--2022-11-01T00-00-00_.tif [45/121] : 0...10...20...30...40...50...60...70...80...90...100 - done.\n",
      "Processing /home/michael/Documents/GEM/TUM-Git/eo-learn-examples/GEM-ML/Example_DeforestationDetection/DeforestationDetectionRun/results/tiffs/showcase/deforestation_raw_53_2022-10-01T00-00-00_--2022-11-01T00-00-00_.tif [46/121] : 0...10...20...30...40...50...60...70...80...90...100 - done.\n",
      "Processing /home/michael/Documents/GEM/TUM-Git/eo-learn-examples/GEM-ML/Example_DeforestationDetection/DeforestationDetectionRun/results/tiffs/showcase/deforestation_raw_111_2022-10-01T00-00-00_--2022-11-01T00-00-00_.tif [47/121] : 0...10...20...30...40...50...60...70...80...90...100 - done.\n",
      "Processing /home/michael/Documents/GEM/TUM-Git/eo-learn-examples/GEM-ML/Example_DeforestationDetection/DeforestationDetectionRun/results/tiffs/showcase/deforestation_raw_30_2022-10-01T00-00-00_--2022-11-01T00-00-00_.tif [48/121] : 0...10...20...30...40...50...60...70...80...90...100 - done.\n",
      "Processing /home/michael/Documents/GEM/TUM-Git/eo-learn-examples/GEM-ML/Example_DeforestationDetection/DeforestationDetectionRun/results/tiffs/showcase/deforestation_raw_82_2022-10-01T00-00-00_--2022-11-01T00-00-00_.tif [49/121] : 0...10...20...30...40...50...60...70...80...90...100 - done.\n",
      "Processing /home/michael/Documents/GEM/TUM-Git/eo-learn-examples/GEM-ML/Example_DeforestationDetection/DeforestationDetectionRun/results/tiffs/showcase/deforestation_raw_20_2022-10-01T00-00-00_--2022-11-01T00-00-00_.tif [50/121] : 0...10...20...30...40...50...60...70...80...90...100 - done.\n",
      "Processing /home/michael/Documents/GEM/TUM-Git/eo-learn-examples/GEM-ML/Example_DeforestationDetection/DeforestationDetectionRun/results/tiffs/showcase/deforestation_raw_51_2022-10-01T00-00-00_--2022-11-01T00-00-00_.tif [51/121] : 0...10...20...30...40...50...60...70...80...90...100 - done.\n",
      "Processing /home/michael/Documents/GEM/TUM-Git/eo-learn-examples/GEM-ML/Example_DeforestationDetection/DeforestationDetectionRun/results/tiffs/showcase/deforestation_raw_19_2022-10-01T00-00-00_--2022-11-01T00-00-00_.tif [52/121] : 0...10...20...30...40...50...60...70...80...90...100 - done.\n",
      "Processing /home/michael/Documents/GEM/TUM-Git/eo-learn-examples/GEM-ML/Example_DeforestationDetection/DeforestationDetectionRun/results/tiffs/showcase/deforestation_raw_56_2022-10-01T00-00-00_--2022-11-01T00-00-00_.tif [53/121] : 0...10...20...30...40...50...60...70...80...90...100 - done.\n",
      "Processing /home/michael/Documents/GEM/TUM-Git/eo-learn-examples/GEM-ML/Example_DeforestationDetection/DeforestationDetectionRun/results/tiffs/showcase/deforestation_raw_118_2022-10-01T00-00-00_--2022-11-01T00-00-00_.tif [54/121] : 0...10...20...30...40...50...60...70...80...90...100 - done.\n",
      "Processing /home/michael/Documents/GEM/TUM-Git/eo-learn-examples/GEM-ML/Example_DeforestationDetection/DeforestationDetectionRun/results/tiffs/showcase/deforestation_raw_10_2022-10-01T00-00-00_--2022-11-01T00-00-00_.tif [55/121] : 0...10...20...30...40...50...60...70...80...90...100 - done.\n",
      "Processing /home/michael/Documents/GEM/TUM-Git/eo-learn-examples/GEM-ML/Example_DeforestationDetection/DeforestationDetectionRun/results/tiffs/showcase/deforestation_raw_76_2022-10-01T00-00-00_--2022-11-01T00-00-00_.tif [56/121] : 0...10...20...30...40...50...60...70...80...90...100 - done.\n",
      "Processing /home/michael/Documents/GEM/TUM-Git/eo-learn-examples/GEM-ML/Example_DeforestationDetection/DeforestationDetectionRun/results/tiffs/showcase/deforestation_raw_14_2022-10-01T00-00-00_--2022-11-01T00-00-00_.tif [57/121] : 0...10...20...30...40...50...60...70...80...90...100 - done.\n",
      "Processing /home/michael/Documents/GEM/TUM-Git/eo-learn-examples/GEM-ML/Example_DeforestationDetection/DeforestationDetectionRun/results/tiffs/showcase/deforestation_raw_68_2022-10-01T00-00-00_--2022-11-01T00-00-00_.tif [58/121] : 0...10...20...30...40...50...60...70...80...90...100 - done.\n",
      "Processing /home/michael/Documents/GEM/TUM-Git/eo-learn-examples/GEM-ML/Example_DeforestationDetection/DeforestationDetectionRun/results/tiffs/showcase/deforestation_raw_28_2022-10-01T00-00-00_--2022-11-01T00-00-00_.tif [59/121] : 0...10...20...30...40...50...60...70...80...90...100 - done.\n",
      "Processing /home/michael/Documents/GEM/TUM-Git/eo-learn-examples/GEM-ML/Example_DeforestationDetection/DeforestationDetectionRun/results/tiffs/showcase/deforestation_raw_0_2022-10-01T00-00-00_--2022-11-01T00-00-00_.tif [60/121] : 0...10...20...30...40...50...60...70...80...90...100 - done.\n",
      "Processing /home/michael/Documents/GEM/TUM-Git/eo-learn-examples/GEM-ML/Example_DeforestationDetection/DeforestationDetectionRun/results/tiffs/showcase/deforestation_raw_6_2022-10-01T00-00-00_--2022-11-01T00-00-00_.tif [61/121] : 0...10...20...30...40...50...60...70...80...90...100 - done.\n",
      "Processing /home/michael/Documents/GEM/TUM-Git/eo-learn-examples/GEM-ML/Example_DeforestationDetection/DeforestationDetectionRun/results/tiffs/showcase/deforestation_raw_78_2022-10-01T00-00-00_--2022-11-01T00-00-00_.tif [62/121] : 0...10...20...30...40...50...60...70...80...90...100 - done.\n",
      "Processing /home/michael/Documents/GEM/TUM-Git/eo-learn-examples/GEM-ML/Example_DeforestationDetection/DeforestationDetectionRun/results/tiffs/showcase/deforestation_raw_4_2022-10-01T00-00-00_--2022-11-01T00-00-00_.tif [63/121] : 0...10...20...30...40...50...60...70...80...90...100 - done.\n",
      "Processing /home/michael/Documents/GEM/TUM-Git/eo-learn-examples/GEM-ML/Example_DeforestationDetection/DeforestationDetectionRun/results/tiffs/showcase/deforestation_raw_1_2022-10-01T00-00-00_--2022-11-01T00-00-00_.tif [64/121] : 0...10...20...30...40...50...60...70...80...90...100 - done.\n",
      "Processing /home/michael/Documents/GEM/TUM-Git/eo-learn-examples/GEM-ML/Example_DeforestationDetection/DeforestationDetectionRun/results/tiffs/showcase/deforestation_raw_31_2022-10-01T00-00-00_--2022-11-01T00-00-00_.tif [65/121] : 0...10...20...30...40...50...60...70...80...90...100 - done.\n",
      "Processing /home/michael/Documents/GEM/TUM-Git/eo-learn-examples/GEM-ML/Example_DeforestationDetection/DeforestationDetectionRun/results/tiffs/showcase/deforestation_raw_40_2022-10-01T00-00-00_--2022-11-01T00-00-00_.tif [66/121] : 0...10...20...30...40...50...60...70...80...90...100 - done.\n",
      "Processing /home/michael/Documents/GEM/TUM-Git/eo-learn-examples/GEM-ML/Example_DeforestationDetection/DeforestationDetectionRun/results/tiffs/showcase/deforestation_raw_77_2022-10-01T00-00-00_--2022-11-01T00-00-00_.tif [67/121] : 0...10...20...30...40...50...60...70...80...90...100 - done.\n",
      "Processing /home/michael/Documents/GEM/TUM-Git/eo-learn-examples/GEM-ML/Example_DeforestationDetection/DeforestationDetectionRun/results/tiffs/showcase/deforestation_raw_86_2022-10-01T00-00-00_--2022-11-01T00-00-00_.tif [68/121] : 0...10...20...30...40...50...60...70...80...90...100 - done.\n",
      "Processing /home/michael/Documents/GEM/TUM-Git/eo-learn-examples/GEM-ML/Example_DeforestationDetection/DeforestationDetectionRun/results/tiffs/showcase/deforestation_raw_42_2022-10-01T00-00-00_--2022-11-01T00-00-00_.tif [69/121] : 0...10...20...30...40...50...60...70...80...90...100 - done.\n",
      "Processing /home/michael/Documents/GEM/TUM-Git/eo-learn-examples/GEM-ML/Example_DeforestationDetection/DeforestationDetectionRun/results/tiffs/showcase/deforestation_raw_22_2022-10-01T00-00-00_--2022-11-01T00-00-00_.tif [70/121] : 0...10...20...30...40...50...60...70...80...90...100 - done.\n",
      "Processing /home/michael/Documents/GEM/TUM-Git/eo-learn-examples/GEM-ML/Example_DeforestationDetection/DeforestationDetectionRun/results/tiffs/showcase/deforestation_raw_93_2022-10-01T00-00-00_--2022-11-01T00-00-00_.tif [71/121] : 0...10...20...30...40...50...60...70...80...90...100 - done.\n"
     ]
    },
    {
     "name": "stdout",
     "output_type": "stream",
     "text": [
      "Processing /home/michael/Documents/GEM/TUM-Git/eo-learn-examples/GEM-ML/Example_DeforestationDetection/DeforestationDetectionRun/results/tiffs/showcase/deforestation_raw_117_2022-10-01T00-00-00_--2022-11-01T00-00-00_.tif [72/121] : 0...10...20...30...40...50...60...70...80...90...100 - done.\n",
      "Processing /home/michael/Documents/GEM/TUM-Git/eo-learn-examples/GEM-ML/Example_DeforestationDetection/DeforestationDetectionRun/results/tiffs/showcase/deforestation_raw_52_2022-10-01T00-00-00_--2022-11-01T00-00-00_.tif [73/121] : 0...10...20...30...40...50...60...70...80...90...100 - done.\n",
      "Processing /home/michael/Documents/GEM/TUM-Git/eo-learn-examples/GEM-ML/Example_DeforestationDetection/DeforestationDetectionRun/results/tiffs/showcase/deforestation_raw_75_2022-10-01T00-00-00_--2022-11-01T00-00-00_.tif [74/121] : 0...10...20...30...40...50...60...70...80...90...100 - done.\n",
      "Processing /home/michael/Documents/GEM/TUM-Git/eo-learn-examples/GEM-ML/Example_DeforestationDetection/DeforestationDetectionRun/results/tiffs/showcase/deforestation_raw_85_2022-10-01T00-00-00_--2022-11-01T00-00-00_.tif [75/121] : 0...10...20...30...40...50...60...70...80...90...100 - done.\n",
      "Processing /home/michael/Documents/GEM/TUM-Git/eo-learn-examples/GEM-ML/Example_DeforestationDetection/DeforestationDetectionRun/results/tiffs/showcase/deforestation_raw_18_2022-10-01T00-00-00_--2022-11-01T00-00-00_.tif [76/121] : 0...10...20...30...40...50...60...70...80...90...100 - done.\n",
      "Processing /home/michael/Documents/GEM/TUM-Git/eo-learn-examples/GEM-ML/Example_DeforestationDetection/DeforestationDetectionRun/results/tiffs/showcase/deforestation_raw_67_2022-10-01T00-00-00_--2022-11-01T00-00-00_.tif [77/121] : 0...10...20...30...40...50...60...70...80...90...100 - done.\n",
      "Processing /home/michael/Documents/GEM/TUM-Git/eo-learn-examples/GEM-ML/Example_DeforestationDetection/DeforestationDetectionRun/results/tiffs/showcase/deforestation_raw_46_2022-10-01T00-00-00_--2022-11-01T00-00-00_.tif [78/121] : 0...10...20...30...40...50...60...70...80...90...100 - done.\n",
      "Processing /home/michael/Documents/GEM/TUM-Git/eo-learn-examples/GEM-ML/Example_DeforestationDetection/DeforestationDetectionRun/results/tiffs/showcase/deforestation_raw_105_2022-10-01T00-00-00_--2022-11-01T00-00-00_.tif [79/121] : 0...10...20...30...40...50...60...70...80...90...100 - done.\n",
      "Processing /home/michael/Documents/GEM/TUM-Git/eo-learn-examples/GEM-ML/Example_DeforestationDetection/DeforestationDetectionRun/results/tiffs/showcase/deforestation_raw_5_2022-10-01T00-00-00_--2022-11-01T00-00-00_.tif [80/121] : 0...10...20...30...40...50...60...70...80...90...100 - done.\n",
      "Processing /home/michael/Documents/GEM/TUM-Git/eo-learn-examples/GEM-ML/Example_DeforestationDetection/DeforestationDetectionRun/results/tiffs/showcase/deforestation_raw_36_2022-10-01T00-00-00_--2022-11-01T00-00-00_.tif [81/121] : 0...10...20...30...40...50...60...70...80...90...100 - done.\n",
      "Processing /home/michael/Documents/GEM/TUM-Git/eo-learn-examples/GEM-ML/Example_DeforestationDetection/DeforestationDetectionRun/results/tiffs/showcase/deforestation_raw_32_2022-10-01T00-00-00_--2022-11-01T00-00-00_.tif [82/121] : 0...10...20...30...40...50...60...70...80...90...100 - done.\n",
      "Processing /home/michael/Documents/GEM/TUM-Git/eo-learn-examples/GEM-ML/Example_DeforestationDetection/DeforestationDetectionRun/results/tiffs/showcase/deforestation_raw_34_2022-10-01T00-00-00_--2022-11-01T00-00-00_.tif [83/121] : 0...10...20...30...40...50...60...70...80...90...100 - done.\n",
      "Processing /home/michael/Documents/GEM/TUM-Git/eo-learn-examples/GEM-ML/Example_DeforestationDetection/DeforestationDetectionRun/results/tiffs/showcase/deforestation_raw_44_2022-10-01T00-00-00_--2022-11-01T00-00-00_.tif [84/121] : 0...10...20...30...40...50...60...70...80...90...100 - done.\n",
      "Processing /home/michael/Documents/GEM/TUM-Git/eo-learn-examples/GEM-ML/Example_DeforestationDetection/DeforestationDetectionRun/results/tiffs/showcase/deforestation_raw_9_2022-10-01T00-00-00_--2022-11-01T00-00-00_.tif [85/121] : 0...10...20...30...40...50...60...70...80...90...100 - done.\n",
      "Processing /home/michael/Documents/GEM/TUM-Git/eo-learn-examples/GEM-ML/Example_DeforestationDetection/DeforestationDetectionRun/results/tiffs/showcase/deforestation_raw_61_2022-10-01T00-00-00_--2022-11-01T00-00-00_.tif [86/121] : 0...10...20...30...40...50...60...70...80...90...100 - done.\n",
      "Processing /home/michael/Documents/GEM/TUM-Git/eo-learn-examples/GEM-ML/Example_DeforestationDetection/DeforestationDetectionRun/results/tiffs/showcase/deforestation_raw_72_2022-10-01T00-00-00_--2022-11-01T00-00-00_.tif [87/121] : 0...10...20...30...40...50...60...70...80...90...100 - done.\n",
      "Processing /home/michael/Documents/GEM/TUM-Git/eo-learn-examples/GEM-ML/Example_DeforestationDetection/DeforestationDetectionRun/results/tiffs/showcase/deforestation_raw_92_2022-10-01T00-00-00_--2022-11-01T00-00-00_.tif [88/121] : 0...10...20...30...40...50...60...70...80...90...100 - done.\n",
      "Processing /home/michael/Documents/GEM/TUM-Git/eo-learn-examples/GEM-ML/Example_DeforestationDetection/DeforestationDetectionRun/results/tiffs/showcase/deforestation_raw_43_2022-10-01T00-00-00_--2022-11-01T00-00-00_.tif [89/121] : 0...10...20...30...40...50...60...70...80...90...100 - done.\n",
      "Processing /home/michael/Documents/GEM/TUM-Git/eo-learn-examples/GEM-ML/Example_DeforestationDetection/DeforestationDetectionRun/results/tiffs/showcase/deforestation_raw_66_2022-10-01T00-00-00_--2022-11-01T00-00-00_.tif [90/121] : 0...10...20...30...40...50...60...70...80...90...100 - done.\n",
      "Processing /home/michael/Documents/GEM/TUM-Git/eo-learn-examples/GEM-ML/Example_DeforestationDetection/DeforestationDetectionRun/results/tiffs/showcase/deforestation_raw_33_2022-10-01T00-00-00_--2022-11-01T00-00-00_.tif [91/121] : 0...10...20...30...40...50...60...70...80...90...100 - done.\n",
      "Processing /home/michael/Documents/GEM/TUM-Git/eo-learn-examples/GEM-ML/Example_DeforestationDetection/DeforestationDetectionRun/results/tiffs/showcase/deforestation_raw_94_2022-10-01T00-00-00_--2022-11-01T00-00-00_.tif [92/121] : 0...10...20...30...40...50...60...70...80...90...100 - done.\n",
      "Processing /home/michael/Documents/GEM/TUM-Git/eo-learn-examples/GEM-ML/Example_DeforestationDetection/DeforestationDetectionRun/results/tiffs/showcase/deforestation_raw_11_2022-10-01T00-00-00_--2022-11-01T00-00-00_.tif [93/121] : 0...10...20...30...40...50...60...70...80...90...100 - done.\n",
      "Processing /home/michael/Documents/GEM/TUM-Git/eo-learn-examples/GEM-ML/Example_DeforestationDetection/DeforestationDetectionRun/results/tiffs/showcase/deforestation_raw_116_2022-10-01T00-00-00_--2022-11-01T00-00-00_.tif [94/121] : 0...10...20...30...40...50...60...70...80...90...100 - done.\n",
      "Processing /home/michael/Documents/GEM/TUM-Git/eo-learn-examples/GEM-ML/Example_DeforestationDetection/DeforestationDetectionRun/results/tiffs/showcase/deforestation_raw_89_2022-10-01T00-00-00_--2022-11-01T00-00-00_.tif [95/121] : 0...10...20...30...40...50...60...70...80...90...100 - done.\n",
      "Processing /home/michael/Documents/GEM/TUM-Git/eo-learn-examples/GEM-ML/Example_DeforestationDetection/DeforestationDetectionRun/results/tiffs/showcase/deforestation_raw_54_2022-10-01T00-00-00_--2022-11-01T00-00-00_.tif [96/121] : 0...10...20...30...40...50...60...70...80...90...100 - done.\n",
      "Processing /home/michael/Documents/GEM/TUM-Git/eo-learn-examples/GEM-ML/Example_DeforestationDetection/DeforestationDetectionRun/results/tiffs/showcase/deforestation_raw_74_2022-10-01T00-00-00_--2022-11-01T00-00-00_.tif [97/121] : 0...10...20...30...40...50...60...70...80...90...100 - done.\n",
      "Processing /home/michael/Documents/GEM/TUM-Git/eo-learn-examples/GEM-ML/Example_DeforestationDetection/DeforestationDetectionRun/results/tiffs/showcase/deforestation_raw_3_2022-10-01T00-00-00_--2022-11-01T00-00-00_.tif [98/121] : 0...10...20...30...40...50...60...70...80...90...100 - done.\n",
      "Processing /home/michael/Documents/GEM/TUM-Git/eo-learn-examples/GEM-ML/Example_DeforestationDetection/DeforestationDetectionRun/results/tiffs/showcase/deforestation_raw_39_2022-10-01T00-00-00_--2022-11-01T00-00-00_.tif [99/121] : 0...10...20...30...40...50...60...70...80...90...100 - done.\n",
      "Processing /home/michael/Documents/GEM/TUM-Git/eo-learn-examples/GEM-ML/Example_DeforestationDetection/DeforestationDetectionRun/results/tiffs/showcase/deforestation_raw_99_2022-10-01T00-00-00_--2022-11-01T00-00-00_.tif [100/121] : 0...10...20...30...40...50...60...70...80...90...100 - done.\n",
      "Processing /home/michael/Documents/GEM/TUM-Git/eo-learn-examples/GEM-ML/Example_DeforestationDetection/DeforestationDetectionRun/results/tiffs/showcase/deforestation_raw_59_2022-10-01T00-00-00_--2022-11-01T00-00-00_.tif [101/121] : 0...10...20...30...40...50...60...70...80...90...100 - done.\n",
      "Processing /home/michael/Documents/GEM/TUM-Git/eo-learn-examples/GEM-ML/Example_DeforestationDetection/DeforestationDetectionRun/results/tiffs/showcase/deforestation_raw_7_2022-10-01T00-00-00_--2022-11-01T00-00-00_.tif [102/121] : 0...10...20...30...40...50...60...70...80...90...100 - done.\n",
      "Processing /home/michael/Documents/GEM/TUM-Git/eo-learn-examples/GEM-ML/Example_DeforestationDetection/DeforestationDetectionRun/results/tiffs/showcase/deforestation_raw_98_2022-10-01T00-00-00_--2022-11-01T00-00-00_.tif [103/121] : 0...10...20...30...40...50...60...70...80...90...100 - done.\n",
      "Processing /home/michael/Documents/GEM/TUM-Git/eo-learn-examples/GEM-ML/Example_DeforestationDetection/DeforestationDetectionRun/results/tiffs/showcase/deforestation_raw_104_2022-10-01T00-00-00_--2022-11-01T00-00-00_.tif [104/121] : 0...10...20...30...40...50...60...70...80...90...100 - done.\n",
      "Processing /home/michael/Documents/GEM/TUM-Git/eo-learn-examples/GEM-ML/Example_DeforestationDetection/DeforestationDetectionRun/results/tiffs/showcase/deforestation_raw_80_2022-10-01T00-00-00_--2022-11-01T00-00-00_.tif [105/121] : 0...10...20...30...40...50...60...70...80...90...100 - done.\n",
      "Processing /home/michael/Documents/GEM/TUM-Git/eo-learn-examples/GEM-ML/Example_DeforestationDetection/DeforestationDetectionRun/results/tiffs/showcase/deforestation_raw_69_2022-10-01T00-00-00_--2022-11-01T00-00-00_.tif [106/121] : 0...10...20...30...40...50...60...70...80...90...100 - done.\n",
      "Processing /home/michael/Documents/GEM/TUM-Git/eo-learn-examples/GEM-ML/Example_DeforestationDetection/DeforestationDetectionRun/results/tiffs/showcase/deforestation_raw_25_2022-10-01T00-00-00_--2022-11-01T00-00-00_.tif [107/121] : 0...10...20...30...40...50...60...70...80...90...100 - done.\n",
      "Processing /home/michael/Documents/GEM/TUM-Git/eo-learn-examples/GEM-ML/Example_DeforestationDetection/DeforestationDetectionRun/results/tiffs/showcase/deforestation_raw_71_2022-10-01T00-00-00_--2022-11-01T00-00-00_.tif [108/121] : 0...10...20...30...40...50...60...70...80...90...100 - done.\n",
      "Processing /home/michael/Documents/GEM/TUM-Git/eo-learn-examples/GEM-ML/Example_DeforestationDetection/DeforestationDetectionRun/results/tiffs/showcase/deforestation_raw_62_2022-10-01T00-00-00_--2022-11-01T00-00-00_.tif [109/121] : 0...10...20...30...40...50...60...70...80...90...100 - done.\n"
     ]
    },
    {
     "name": "stdout",
     "output_type": "stream",
     "text": [
      "Processing /home/michael/Documents/GEM/TUM-Git/eo-learn-examples/GEM-ML/Example_DeforestationDetection/DeforestationDetectionRun/results/tiffs/showcase/deforestation_raw_73_2022-10-01T00-00-00_--2022-11-01T00-00-00_.tif [110/121] : 0...10...20...30...40...50...60...70...80...90...100 - done.\n",
      "Processing /home/michael/Documents/GEM/TUM-Git/eo-learn-examples/GEM-ML/Example_DeforestationDetection/DeforestationDetectionRun/results/tiffs/showcase/deforestation_raw_64_2022-10-01T00-00-00_--2022-11-01T00-00-00_.tif [111/121] : 0...10...20...30...40...50...60...70...80...90...100 - done.\n",
      "Processing /home/michael/Documents/GEM/TUM-Git/eo-learn-examples/GEM-ML/Example_DeforestationDetection/DeforestationDetectionRun/results/tiffs/showcase/deforestation_raw_48_2022-10-01T00-00-00_--2022-11-01T00-00-00_.tif [112/121] : 0...10...20...30...40...50...60...70...80...90...100 - done.\n",
      "Processing /home/michael/Documents/GEM/TUM-Git/eo-learn-examples/GEM-ML/Example_DeforestationDetection/DeforestationDetectionRun/results/tiffs/showcase/deforestation_raw_96_2022-10-01T00-00-00_--2022-11-01T00-00-00_.tif [113/121] : 0...10...20...30...40...50...60...70...80...90...100 - done.\n",
      "Processing /home/michael/Documents/GEM/TUM-Git/eo-learn-examples/GEM-ML/Example_DeforestationDetection/DeforestationDetectionRun/results/tiffs/showcase/deforestation_raw_29_2022-10-01T00-00-00_--2022-11-01T00-00-00_.tif [114/121] : 0...10...20...30...40...50...60...70...80...90...100 - done.\n",
      "Processing /home/michael/Documents/GEM/TUM-Git/eo-learn-examples/GEM-ML/Example_DeforestationDetection/DeforestationDetectionRun/results/tiffs/showcase/deforestation_raw_26_2022-10-01T00-00-00_--2022-11-01T00-00-00_.tif [115/121] : 0...10...20...30...40...50...60...70...80...90...100 - done.\n",
      "Processing /home/michael/Documents/GEM/TUM-Git/eo-learn-examples/GEM-ML/Example_DeforestationDetection/DeforestationDetectionRun/results/tiffs/showcase/deforestation_raw_90_2022-10-01T00-00-00_--2022-11-01T00-00-00_.tif [116/121] : 0...10...20...30...40...50...60...70...80...90...100 - done.\n",
      "Processing /home/michael/Documents/GEM/TUM-Git/eo-learn-examples/GEM-ML/Example_DeforestationDetection/DeforestationDetectionRun/results/tiffs/showcase/deforestation_raw_79_2022-10-01T00-00-00_--2022-11-01T00-00-00_.tif [117/121] : 0...10...20...30...40...50...60...70...80...90...100 - done.\n",
      "Processing /home/michael/Documents/GEM/TUM-Git/eo-learn-examples/GEM-ML/Example_DeforestationDetection/DeforestationDetectionRun/results/tiffs/showcase/deforestation_raw_107_2022-10-01T00-00-00_--2022-11-01T00-00-00_.tif [118/121] : 0...10...20...30...40...50...60...70...80...90...100 - done.\n",
      "Processing /home/michael/Documents/GEM/TUM-Git/eo-learn-examples/GEM-ML/Example_DeforestationDetection/DeforestationDetectionRun/results/tiffs/showcase/deforestation_raw_15_2022-10-01T00-00-00_--2022-11-01T00-00-00_.tif [119/121] : 0...10...20...30...40...50...60...70...80...90...100 - done.\n",
      "Processing /home/michael/Documents/GEM/TUM-Git/eo-learn-examples/GEM-ML/Example_DeforestationDetection/DeforestationDetectionRun/results/tiffs/showcase/deforestation_raw_47_2022-10-01T00-00-00_--2022-11-01T00-00-00_.tif [120/121] : 0...10...20...30...40...50...60...70...80...90...100 - done.\n",
      "Processing /home/michael/Documents/GEM/TUM-Git/eo-learn-examples/GEM-ML/Example_DeforestationDetection/DeforestationDetectionRun/results/tiffs/showcase/deforestation_raw_57_2022-10-01T00-00-00_--2022-11-01T00-00-00_.tif [121/121] : 0...10...20...30...40...50...60...70...80...90...100 - done.\n",
      "Creating output file that is 2816P x 2816L.\n",
      "Processing /home/michael/Documents/GEM/TUM-Git/eo-learn-examples/GEM-ML/Example_DeforestationDetection/DeforestationDetectionRun/results/tiffs/showcase/deforestation_postprocessed_28_2022-10-01T00-00-00_--2022-11-01T00-00-00_.tif [1/121] : 0...10...20...30...40...50...60...70...80...90...100 - done.\n",
      "Processing /home/michael/Documents/GEM/TUM-Git/eo-learn-examples/GEM-ML/Example_DeforestationDetection/DeforestationDetectionRun/results/tiffs/showcase/deforestation_postprocessed_100_2022-10-01T00-00-00_--2022-11-01T00-00-00_.tif [2/121] : 0...10...20...30...40...50...60...70...80...90...100 - done.\n",
      "Processing /home/michael/Documents/GEM/TUM-Git/eo-learn-examples/GEM-ML/Example_DeforestationDetection/DeforestationDetectionRun/results/tiffs/showcase/deforestation_postprocessed_33_2022-10-01T00-00-00_--2022-11-01T00-00-00_.tif [3/121] : 0...10...20...30...40...50...60...70...80...90...100 - done.\n",
      "Processing /home/michael/Documents/GEM/TUM-Git/eo-learn-examples/GEM-ML/Example_DeforestationDetection/DeforestationDetectionRun/results/tiffs/showcase/deforestation_postprocessed_45_2022-10-01T00-00-00_--2022-11-01T00-00-00_.tif [4/121] : 0...10...20...30...40...50...60...70...80...90...100 - done.\n",
      "Processing /home/michael/Documents/GEM/TUM-Git/eo-learn-examples/GEM-ML/Example_DeforestationDetection/DeforestationDetectionRun/results/tiffs/showcase/deforestation_postprocessed_27_2022-10-01T00-00-00_--2022-11-01T00-00-00_.tif [5/121] : 0...10...20...30...40...50...60...70...80...90...100 - done.\n",
      "Processing /home/michael/Documents/GEM/TUM-Git/eo-learn-examples/GEM-ML/Example_DeforestationDetection/DeforestationDetectionRun/results/tiffs/showcase/deforestation_postprocessed_81_2022-10-01T00-00-00_--2022-11-01T00-00-00_.tif [6/121] : 0...10...20...30...40...50...60...70...80...90...100 - done.\n",
      "Processing /home/michael/Documents/GEM/TUM-Git/eo-learn-examples/GEM-ML/Example_DeforestationDetection/DeforestationDetectionRun/results/tiffs/showcase/deforestation_postprocessed_66_2022-10-01T00-00-00_--2022-11-01T00-00-00_.tif [7/121] : 0...10...20...30...40...50...60...70...80...90...100 - done.\n",
      "Processing /home/michael/Documents/GEM/TUM-Git/eo-learn-examples/GEM-ML/Example_DeforestationDetection/DeforestationDetectionRun/results/tiffs/showcase/deforestation_postprocessed_43_2022-10-01T00-00-00_--2022-11-01T00-00-00_.tif [8/121] : 0...10...20...30...40...50...60...70...80...90...100 - done.\n",
      "Processing /home/michael/Documents/GEM/TUM-Git/eo-learn-examples/GEM-ML/Example_DeforestationDetection/DeforestationDetectionRun/results/tiffs/showcase/deforestation_postprocessed_85_2022-10-01T00-00-00_--2022-11-01T00-00-00_.tif [9/121] : 0...10...20...30...40...50...60...70...80...90...100 - done.\n",
      "Processing /home/michael/Documents/GEM/TUM-Git/eo-learn-examples/GEM-ML/Example_DeforestationDetection/DeforestationDetectionRun/results/tiffs/showcase/deforestation_postprocessed_65_2022-10-01T00-00-00_--2022-11-01T00-00-00_.tif [10/121] : 0...10...20...30...40...50...60...70...80...90...100 - done.\n",
      "Processing /home/michael/Documents/GEM/TUM-Git/eo-learn-examples/GEM-ML/Example_DeforestationDetection/DeforestationDetectionRun/results/tiffs/showcase/deforestation_postprocessed_7_2022-10-01T00-00-00_--2022-11-01T00-00-00_.tif [11/121] : 0...10...20...30...40...50...60...70...80...90...100 - done.\n",
      "Processing /home/michael/Documents/GEM/TUM-Git/eo-learn-examples/GEM-ML/Example_DeforestationDetection/DeforestationDetectionRun/results/tiffs/showcase/deforestation_postprocessed_73_2022-10-01T00-00-00_--2022-11-01T00-00-00_.tif [12/121] : 0...10...20...30...40...50...60...70...80...90...100 - done.\n",
      "Processing /home/michael/Documents/GEM/TUM-Git/eo-learn-examples/GEM-ML/Example_DeforestationDetection/DeforestationDetectionRun/results/tiffs/showcase/deforestation_postprocessed_105_2022-10-01T00-00-00_--2022-11-01T00-00-00_.tif [13/121] : 0...10...20...30...40...50...60...70...80...90...100 - done.\n",
      "Processing /home/michael/Documents/GEM/TUM-Git/eo-learn-examples/GEM-ML/Example_DeforestationDetection/DeforestationDetectionRun/results/tiffs/showcase/deforestation_postprocessed_30_2022-10-01T00-00-00_--2022-11-01T00-00-00_.tif [14/121] : 0...10...20...30...40...50...60...70...80...90...100 - done.\n",
      "Processing /home/michael/Documents/GEM/TUM-Git/eo-learn-examples/GEM-ML/Example_DeforestationDetection/DeforestationDetectionRun/results/tiffs/showcase/deforestation_postprocessed_84_2022-10-01T00-00-00_--2022-11-01T00-00-00_.tif [15/121] : 0...10...20...30...40...50...60...70...80...90...100 - done.\n",
      "Processing /home/michael/Documents/GEM/TUM-Git/eo-learn-examples/GEM-ML/Example_DeforestationDetection/DeforestationDetectionRun/results/tiffs/showcase/deforestation_postprocessed_47_2022-10-01T00-00-00_--2022-11-01T00-00-00_.tif [16/121] : 0...10...20...30...40...50...60...70...80...90...100 - done.\n",
      "Processing /home/michael/Documents/GEM/TUM-Git/eo-learn-examples/GEM-ML/Example_DeforestationDetection/DeforestationDetectionRun/results/tiffs/showcase/deforestation_postprocessed_14_2022-10-01T00-00-00_--2022-11-01T00-00-00_.tif [17/121] : 0...10...20...30...40...50...60...70...80...90...100 - done.\n",
      "Processing /home/michael/Documents/GEM/TUM-Git/eo-learn-examples/GEM-ML/Example_DeforestationDetection/DeforestationDetectionRun/results/tiffs/showcase/deforestation_postprocessed_35_2022-10-01T00-00-00_--2022-11-01T00-00-00_.tif [18/121] : 0...10...20...30...40...50...60...70...80...90...100 - done.\n",
      "Processing /home/michael/Documents/GEM/TUM-Git/eo-learn-examples/GEM-ML/Example_DeforestationDetection/DeforestationDetectionRun/results/tiffs/showcase/deforestation_postprocessed_113_2022-10-01T00-00-00_--2022-11-01T00-00-00_.tif [19/121] : 0...10...20...30...40...50...60...70...80...90...100 - done.\n",
      "Processing /home/michael/Documents/GEM/TUM-Git/eo-learn-examples/GEM-ML/Example_DeforestationDetection/DeforestationDetectionRun/results/tiffs/showcase/deforestation_postprocessed_53_2022-10-01T00-00-00_--2022-11-01T00-00-00_.tif [20/121] : 0...10...20...30...40...50...60...70...80...90...100 - done.\n",
      "Processing /home/michael/Documents/GEM/TUM-Git/eo-learn-examples/GEM-ML/Example_DeforestationDetection/DeforestationDetectionRun/results/tiffs/showcase/deforestation_postprocessed_3_2022-10-01T00-00-00_--2022-11-01T00-00-00_.tif [21/121] : 0...10...20...30...40...50...60...70...80...90...100 - done.\n",
      "Processing /home/michael/Documents/GEM/TUM-Git/eo-learn-examples/GEM-ML/Example_DeforestationDetection/DeforestationDetectionRun/results/tiffs/showcase/deforestation_postprocessed_49_2022-10-01T00-00-00_--2022-11-01T00-00-00_.tif [22/121] : 0...10...20...30...40...50...60...70...80...90...100 - done.\n",
      "Processing /home/michael/Documents/GEM/TUM-Git/eo-learn-examples/GEM-ML/Example_DeforestationDetection/DeforestationDetectionRun/results/tiffs/showcase/deforestation_postprocessed_82_2022-10-01T00-00-00_--2022-11-01T00-00-00_.tif [23/121] : 0...10...20...30...40...50...60...70...80...90...100 - done.\n",
      "Processing /home/michael/Documents/GEM/TUM-Git/eo-learn-examples/GEM-ML/Example_DeforestationDetection/DeforestationDetectionRun/results/tiffs/showcase/deforestation_postprocessed_104_2022-10-01T00-00-00_--2022-11-01T00-00-00_.tif [24/121] : 0...10...20...30...40...50...60...70...80...90...100 - done.\n",
      "Processing /home/michael/Documents/GEM/TUM-Git/eo-learn-examples/GEM-ML/Example_DeforestationDetection/DeforestationDetectionRun/results/tiffs/showcase/deforestation_postprocessed_88_2022-10-01T00-00-00_--2022-11-01T00-00-00_.tif [25/121] : 0...10...20...30...40...50...60...70...80...90...100 - done.\n",
      "Processing /home/michael/Documents/GEM/TUM-Git/eo-learn-examples/GEM-ML/Example_DeforestationDetection/DeforestationDetectionRun/results/tiffs/showcase/deforestation_postprocessed_58_2022-10-01T00-00-00_--2022-11-01T00-00-00_.tif [26/121] : 0...10...20...30...40...50...60...70...80...90...100 - done.\n",
      "Processing /home/michael/Documents/GEM/TUM-Git/eo-learn-examples/GEM-ML/Example_DeforestationDetection/DeforestationDetectionRun/results/tiffs/showcase/deforestation_postprocessed_10_2022-10-01T00-00-00_--2022-11-01T00-00-00_.tif [27/121] : 0...10...20...30...40...50...60...70...80...90...100 - done.\n",
      "Processing /home/michael/Documents/GEM/TUM-Git/eo-learn-examples/GEM-ML/Example_DeforestationDetection/DeforestationDetectionRun/results/tiffs/showcase/deforestation_postprocessed_95_2022-10-01T00-00-00_--2022-11-01T00-00-00_.tif [28/121] : 0...10...20...30...40...50...60...70...80...90...100 - done.\n",
      "Processing /home/michael/Documents/GEM/TUM-Git/eo-learn-examples/GEM-ML/Example_DeforestationDetection/DeforestationDetectionRun/results/tiffs/showcase/deforestation_postprocessed_87_2022-10-01T00-00-00_--2022-11-01T00-00-00_.tif [29/121] : 0...10...20...30...40...50...60...70...80...90...100 - done.\n",
      "Processing /home/michael/Documents/GEM/TUM-Git/eo-learn-examples/GEM-ML/Example_DeforestationDetection/DeforestationDetectionRun/results/tiffs/showcase/deforestation_postprocessed_21_2022-10-01T00-00-00_--2022-11-01T00-00-00_.tif [30/121] : 0...10...20...30...40...50...60...70...80...90...100 - done.\n",
      "Processing /home/michael/Documents/GEM/TUM-Git/eo-learn-examples/GEM-ML/Example_DeforestationDetection/DeforestationDetectionRun/results/tiffs/showcase/deforestation_postprocessed_86_2022-10-01T00-00-00_--2022-11-01T00-00-00_.tif [31/121] : 0...10...20...30...40...50...60...70...80...90...100 - done.\n",
      "Processing /home/michael/Documents/GEM/TUM-Git/eo-learn-examples/GEM-ML/Example_DeforestationDetection/DeforestationDetectionRun/results/tiffs/showcase/deforestation_postprocessed_5_2022-10-01T00-00-00_--2022-11-01T00-00-00_.tif [32/121] : 0...10...20...30...40...50...60...70...80...90...100 - done.\n",
      "Processing /home/michael/Documents/GEM/TUM-Git/eo-learn-examples/GEM-ML/Example_DeforestationDetection/DeforestationDetectionRun/results/tiffs/showcase/deforestation_postprocessed_9_2022-10-01T00-00-00_--2022-11-01T00-00-00_.tif [33/121] : 0...10...20...30...40...50...60...70...80...90...100 - done.\n",
      "Processing /home/michael/Documents/GEM/TUM-Git/eo-learn-examples/GEM-ML/Example_DeforestationDetection/DeforestationDetectionRun/results/tiffs/showcase/deforestation_postprocessed_115_2022-10-01T00-00-00_--2022-11-01T00-00-00_.tif [34/121] : 0...10...20...30...40...50...60...70...80...90...100 - done.\n",
      "Processing /home/michael/Documents/GEM/TUM-Git/eo-learn-examples/GEM-ML/Example_DeforestationDetection/DeforestationDetectionRun/results/tiffs/showcase/deforestation_postprocessed_54_2022-10-01T00-00-00_--2022-11-01T00-00-00_.tif [35/121] : 0...10...20...30...40...50...60...70...80...90...100 - done.\n",
      "Processing /home/michael/Documents/GEM/TUM-Git/eo-learn-examples/GEM-ML/Example_DeforestationDetection/DeforestationDetectionRun/results/tiffs/showcase/deforestation_postprocessed_40_2022-10-01T00-00-00_--2022-11-01T00-00-00_.tif [36/121] : 0...10...20...30...40...50...60...70...80...90...100 - done.\n",
      "Processing /home/michael/Documents/GEM/TUM-Git/eo-learn-examples/GEM-ML/Example_DeforestationDetection/DeforestationDetectionRun/results/tiffs/showcase/deforestation_postprocessed_109_2022-10-01T00-00-00_--2022-11-01T00-00-00_.tif [37/121] : 0...10...20...30...40...50...60...70...80...90...100 - done.\n",
      "Processing /home/michael/Documents/GEM/TUM-Git/eo-learn-examples/GEM-ML/Example_DeforestationDetection/DeforestationDetectionRun/results/tiffs/showcase/deforestation_postprocessed_34_2022-10-01T00-00-00_--2022-11-01T00-00-00_.tif [38/121] : 0...10...20...30...40...50...60...70...80...90...100 - done.\n",
      "Processing /home/michael/Documents/GEM/TUM-Git/eo-learn-examples/GEM-ML/Example_DeforestationDetection/DeforestationDetectionRun/results/tiffs/showcase/deforestation_postprocessed_103_2022-10-01T00-00-00_--2022-11-01T00-00-00_.tif [39/121] : 0...10...20...30...40...50...60...70...80...90...100 - done.\n",
      "Processing /home/michael/Documents/GEM/TUM-Git/eo-learn-examples/GEM-ML/Example_DeforestationDetection/DeforestationDetectionRun/results/tiffs/showcase/deforestation_postprocessed_50_2022-10-01T00-00-00_--2022-11-01T00-00-00_.tif [40/121] : 0...10...20...30...40...50...60...70...80...90...100 - done.\n",
      "Processing /home/michael/Documents/GEM/TUM-Git/eo-learn-examples/GEM-ML/Example_DeforestationDetection/DeforestationDetectionRun/results/tiffs/showcase/deforestation_postprocessed_67_2022-10-01T00-00-00_--2022-11-01T00-00-00_.tif [41/121] : 0...10...20...30...40...50...60...70...80...90...100 - done.\n",
      "Processing /home/michael/Documents/GEM/TUM-Git/eo-learn-examples/GEM-ML/Example_DeforestationDetection/DeforestationDetectionRun/results/tiffs/showcase/deforestation_postprocessed_77_2022-10-01T00-00-00_--2022-11-01T00-00-00_.tif [42/121] : 0...10...20...30...40...50...60...70...80...90...100 - done.\n",
      "Processing /home/michael/Documents/GEM/TUM-Git/eo-learn-examples/GEM-ML/Example_DeforestationDetection/DeforestationDetectionRun/results/tiffs/showcase/deforestation_postprocessed_39_2022-10-01T00-00-00_--2022-11-01T00-00-00_.tif [43/121] : 0...10...20...30...40...50...60...70...80...90...100 - done.\n",
      "Processing /home/michael/Documents/GEM/TUM-Git/eo-learn-examples/GEM-ML/Example_DeforestationDetection/DeforestationDetectionRun/results/tiffs/showcase/deforestation_postprocessed_99_2022-10-01T00-00-00_--2022-11-01T00-00-00_.tif [44/121] : 0...10...20...30...40...50...60...70...80...90...100 - done.\n",
      "Processing /home/michael/Documents/GEM/TUM-Git/eo-learn-examples/GEM-ML/Example_DeforestationDetection/DeforestationDetectionRun/results/tiffs/showcase/deforestation_postprocessed_114_2022-10-01T00-00-00_--2022-11-01T00-00-00_.tif [45/121] : 0...10...20...30...40...50...60...70...80...90...100 - done.\n",
      "Processing /home/michael/Documents/GEM/TUM-Git/eo-learn-examples/GEM-ML/Example_DeforestationDetection/DeforestationDetectionRun/results/tiffs/showcase/deforestation_postprocessed_101_2022-10-01T00-00-00_--2022-11-01T00-00-00_.tif [46/121] : 0...10...20...30...40...50...60...70...80...90...100 - done.\n",
      "Processing /home/michael/Documents/GEM/TUM-Git/eo-learn-examples/GEM-ML/Example_DeforestationDetection/DeforestationDetectionRun/results/tiffs/showcase/deforestation_postprocessed_20_2022-10-01T00-00-00_--2022-11-01T00-00-00_.tif [47/121] : 0...10...20...30...40...50...60...70...80...90...100 - done.\n",
      "Processing /home/michael/Documents/GEM/TUM-Git/eo-learn-examples/GEM-ML/Example_DeforestationDetection/DeforestationDetectionRun/results/tiffs/showcase/deforestation_postprocessed_36_2022-10-01T00-00-00_--2022-11-01T00-00-00_.tif [48/121] : 0...10...20...30...40...50...60...70...80...90...100 - done.\n",
      "Processing /home/michael/Documents/GEM/TUM-Git/eo-learn-examples/GEM-ML/Example_DeforestationDetection/DeforestationDetectionRun/results/tiffs/showcase/deforestation_postprocessed_59_2022-10-01T00-00-00_--2022-11-01T00-00-00_.tif [49/121] : 0...10...20...30...40...50...60...70...80...90...100 - done.\n",
      "Processing /home/michael/Documents/GEM/TUM-Git/eo-learn-examples/GEM-ML/Example_DeforestationDetection/DeforestationDetectionRun/results/tiffs/showcase/deforestation_postprocessed_120_2022-10-01T00-00-00_--2022-11-01T00-00-00_.tif [50/121] : 0...10...20...30...40...50...60...70...80...90...100 - done.\n",
      "Processing /home/michael/Documents/GEM/TUM-Git/eo-learn-examples/GEM-ML/Example_DeforestationDetection/DeforestationDetectionRun/results/tiffs/showcase/deforestation_postprocessed_1_2022-10-01T00-00-00_--2022-11-01T00-00-00_.tif [51/121] : 0...10...20...30...40...50...60...70...80...90...100 - done.\n",
      "Processing /home/michael/Documents/GEM/TUM-Git/eo-learn-examples/GEM-ML/Example_DeforestationDetection/DeforestationDetectionRun/results/tiffs/showcase/deforestation_postprocessed_61_2022-10-01T00-00-00_--2022-11-01T00-00-00_.tif [52/121] : 0...10...20...30...40...50...60...70...80...90...100 - done.\n",
      "Processing /home/michael/Documents/GEM/TUM-Git/eo-learn-examples/GEM-ML/Example_DeforestationDetection/DeforestationDetectionRun/results/tiffs/showcase/deforestation_postprocessed_98_2022-10-01T00-00-00_--2022-11-01T00-00-00_.tif [53/121] : 0...10...20...30...40...50...60...70...80...90...100 - done.\n",
      "Processing /home/michael/Documents/GEM/TUM-Git/eo-learn-examples/GEM-ML/Example_DeforestationDetection/DeforestationDetectionRun/results/tiffs/showcase/deforestation_postprocessed_89_2022-10-01T00-00-00_--2022-11-01T00-00-00_.tif [54/121] : 0...10...20...30...40...50...60...70...80...90...100 - done.\n",
      "Processing /home/michael/Documents/GEM/TUM-Git/eo-learn-examples/GEM-ML/Example_DeforestationDetection/DeforestationDetectionRun/results/tiffs/showcase/deforestation_postprocessed_117_2022-10-01T00-00-00_--2022-11-01T00-00-00_.tif [55/121] : 0...10...20...30...40...50...60...70...80...90...100 - done.\n",
      "Processing /home/michael/Documents/GEM/TUM-Git/eo-learn-examples/GEM-ML/Example_DeforestationDetection/DeforestationDetectionRun/results/tiffs/showcase/deforestation_postprocessed_93_2022-10-01T00-00-00_--2022-11-01T00-00-00_.tif [56/121] : 0...10...20...30...40...50...60...70...80...90...100 - done.\n",
      "Processing /home/michael/Documents/GEM/TUM-Git/eo-learn-examples/GEM-ML/Example_DeforestationDetection/DeforestationDetectionRun/results/tiffs/showcase/deforestation_postprocessed_57_2022-10-01T00-00-00_--2022-11-01T00-00-00_.tif [57/121] : 0...10...20...30...40...50...60...70...80...90...100 - done.\n",
      "Processing /home/michael/Documents/GEM/TUM-Git/eo-learn-examples/GEM-ML/Example_DeforestationDetection/DeforestationDetectionRun/results/tiffs/showcase/deforestation_postprocessed_111_2022-10-01T00-00-00_--2022-11-01T00-00-00_.tif [58/121] : 0...10...20...30...40...50...60...70...80...90...100 - done.\n",
      "Processing /home/michael/Documents/GEM/TUM-Git/eo-learn-examples/GEM-ML/Example_DeforestationDetection/DeforestationDetectionRun/results/tiffs/showcase/deforestation_postprocessed_71_2022-10-01T00-00-00_--2022-11-01T00-00-00_.tif [59/121] : 0...10...20...30...40...50...60...70...80...90...100 - done.\n",
      "Processing /home/michael/Documents/GEM/TUM-Git/eo-learn-examples/GEM-ML/Example_DeforestationDetection/DeforestationDetectionRun/results/tiffs/showcase/deforestation_postprocessed_52_2022-10-01T00-00-00_--2022-11-01T00-00-00_.tif [60/121] : 0...10...20...30...40...50...60...70...80...90...100 - done.\n",
      "Processing /home/michael/Documents/GEM/TUM-Git/eo-learn-examples/GEM-ML/Example_DeforestationDetection/DeforestationDetectionRun/results/tiffs/showcase/deforestation_postprocessed_42_2022-10-01T00-00-00_--2022-11-01T00-00-00_.tif [61/121] : 0...10...20...30...40...50...60...70...80...90...100 - done.\n",
      "Processing /home/michael/Documents/GEM/TUM-Git/eo-learn-examples/GEM-ML/Example_DeforestationDetection/DeforestationDetectionRun/results/tiffs/showcase/deforestation_postprocessed_41_2022-10-01T00-00-00_--2022-11-01T00-00-00_.tif [62/121] : 0...10...20...30...40...50...60...70...80...90...100 - done.\n",
      "Processing /home/michael/Documents/GEM/TUM-Git/eo-learn-examples/GEM-ML/Example_DeforestationDetection/DeforestationDetectionRun/results/tiffs/showcase/deforestation_postprocessed_6_2022-10-01T00-00-00_--2022-11-01T00-00-00_.tif [63/121] : 0...10...20...30...40...50...60...70...80...90...100 - done.\n",
      "Processing /home/michael/Documents/GEM/TUM-Git/eo-learn-examples/GEM-ML/Example_DeforestationDetection/DeforestationDetectionRun/results/tiffs/showcase/deforestation_postprocessed_19_2022-10-01T00-00-00_--2022-11-01T00-00-00_.tif [64/121] : 0...10...20...30...40...50...60...70...80...90...100 - done.\n",
      "Processing /home/michael/Documents/GEM/TUM-Git/eo-learn-examples/GEM-ML/Example_DeforestationDetection/DeforestationDetectionRun/results/tiffs/showcase/deforestation_postprocessed_80_2022-10-01T00-00-00_--2022-11-01T00-00-00_.tif [65/121] : 0...10...20...30...40...50...60...70...80...90...100 - done.\n",
      "Processing /home/michael/Documents/GEM/TUM-Git/eo-learn-examples/GEM-ML/Example_DeforestationDetection/DeforestationDetectionRun/results/tiffs/showcase/deforestation_postprocessed_37_2022-10-01T00-00-00_--2022-11-01T00-00-00_.tif [66/121] : 0...10...20...30...40...50...60...70...80...90...100 - done.\n",
      "Processing /home/michael/Documents/GEM/TUM-Git/eo-learn-examples/GEM-ML/Example_DeforestationDetection/DeforestationDetectionRun/results/tiffs/showcase/deforestation_postprocessed_12_2022-10-01T00-00-00_--2022-11-01T00-00-00_.tif [67/121] : 0...10...20...30...40...50...60...70...80...90...100 - done.\n",
      "Processing /home/michael/Documents/GEM/TUM-Git/eo-learn-examples/GEM-ML/Example_DeforestationDetection/DeforestationDetectionRun/results/tiffs/showcase/deforestation_postprocessed_38_2022-10-01T00-00-00_--2022-11-01T00-00-00_.tif [68/121] : 0...10...20...30...40...50...60...70...80...90...100 - done.\n",
      "Processing /home/michael/Documents/GEM/TUM-Git/eo-learn-examples/GEM-ML/Example_DeforestationDetection/DeforestationDetectionRun/results/tiffs/showcase/deforestation_postprocessed_102_2022-10-01T00-00-00_--2022-11-01T00-00-00_.tif [69/121] : 0...10...20...30...40...50...60...70...80...90...100 - done.\n"
     ]
    },
    {
     "name": "stdout",
     "output_type": "stream",
     "text": [
      "Processing /home/michael/Documents/GEM/TUM-Git/eo-learn-examples/GEM-ML/Example_DeforestationDetection/DeforestationDetectionRun/results/tiffs/showcase/deforestation_postprocessed_26_2022-10-01T00-00-00_--2022-11-01T00-00-00_.tif [70/121] : 0...10...20...30...40...50...60...70...80...90...100 - done.\n",
      "Processing /home/michael/Documents/GEM/TUM-Git/eo-learn-examples/GEM-ML/Example_DeforestationDetection/DeforestationDetectionRun/results/tiffs/showcase/deforestation_postprocessed_29_2022-10-01T00-00-00_--2022-11-01T00-00-00_.tif [71/121] : 0...10...20...30...40...50...60...70...80...90...100 - done.\n",
      "Processing /home/michael/Documents/GEM/TUM-Git/eo-learn-examples/GEM-ML/Example_DeforestationDetection/DeforestationDetectionRun/results/tiffs/showcase/deforestation_postprocessed_119_2022-10-01T00-00-00_--2022-11-01T00-00-00_.tif [72/121] : 0...10...20...30...40...50...60...70...80...90...100 - done.\n",
      "Processing /home/michael/Documents/GEM/TUM-Git/eo-learn-examples/GEM-ML/Example_DeforestationDetection/DeforestationDetectionRun/results/tiffs/showcase/deforestation_postprocessed_62_2022-10-01T00-00-00_--2022-11-01T00-00-00_.tif [73/121] : 0...10...20...30...40...50...60...70...80...90...100 - done.\n",
      "Processing /home/michael/Documents/GEM/TUM-Git/eo-learn-examples/GEM-ML/Example_DeforestationDetection/DeforestationDetectionRun/results/tiffs/showcase/deforestation_postprocessed_74_2022-10-01T00-00-00_--2022-11-01T00-00-00_.tif [74/121] : 0...10...20...30...40...50...60...70...80...90...100 - done.\n",
      "Processing /home/michael/Documents/GEM/TUM-Git/eo-learn-examples/GEM-ML/Example_DeforestationDetection/DeforestationDetectionRun/results/tiffs/showcase/deforestation_postprocessed_91_2022-10-01T00-00-00_--2022-11-01T00-00-00_.tif [75/121] : 0...10...20...30...40...50...60...70...80...90...100 - done.\n",
      "Processing /home/michael/Documents/GEM/TUM-Git/eo-learn-examples/GEM-ML/Example_DeforestationDetection/DeforestationDetectionRun/results/tiffs/showcase/deforestation_postprocessed_94_2022-10-01T00-00-00_--2022-11-01T00-00-00_.tif [76/121] : 0...10...20...30...40...50...60...70...80...90...100 - done.\n",
      "Processing /home/michael/Documents/GEM/TUM-Git/eo-learn-examples/GEM-ML/Example_DeforestationDetection/DeforestationDetectionRun/results/tiffs/showcase/deforestation_postprocessed_97_2022-10-01T00-00-00_--2022-11-01T00-00-00_.tif [77/121] : 0...10...20...30...40...50...60...70...80...90...100 - done.\n",
      "Processing /home/michael/Documents/GEM/TUM-Git/eo-learn-examples/GEM-ML/Example_DeforestationDetection/DeforestationDetectionRun/results/tiffs/showcase/deforestation_postprocessed_44_2022-10-01T00-00-00_--2022-11-01T00-00-00_.tif [78/121] : 0...10...20...30...40...50...60...70...80...90...100 - done.\n",
      "Processing /home/michael/Documents/GEM/TUM-Git/eo-learn-examples/GEM-ML/Example_DeforestationDetection/DeforestationDetectionRun/results/tiffs/showcase/deforestation_postprocessed_16_2022-10-01T00-00-00_--2022-11-01T00-00-00_.tif [79/121] : 0...10...20...30...40...50...60...70...80...90...100 - done.\n",
      "Processing /home/michael/Documents/GEM/TUM-Git/eo-learn-examples/GEM-ML/Example_DeforestationDetection/DeforestationDetectionRun/results/tiffs/showcase/deforestation_postprocessed_78_2022-10-01T00-00-00_--2022-11-01T00-00-00_.tif [80/121] : 0...10...20...30...40...50...60...70...80...90...100 - done.\n",
      "Processing /home/michael/Documents/GEM/TUM-Git/eo-learn-examples/GEM-ML/Example_DeforestationDetection/DeforestationDetectionRun/results/tiffs/showcase/deforestation_postprocessed_56_2022-10-01T00-00-00_--2022-11-01T00-00-00_.tif [81/121] : 0...10...20...30...40...50...60...70...80...90...100 - done.\n",
      "Processing /home/michael/Documents/GEM/TUM-Git/eo-learn-examples/GEM-ML/Example_DeforestationDetection/DeforestationDetectionRun/results/tiffs/showcase/deforestation_postprocessed_75_2022-10-01T00-00-00_--2022-11-01T00-00-00_.tif [82/121] : 0...10...20...30...40...50...60...70...80...90...100 - done.\n",
      "Processing /home/michael/Documents/GEM/TUM-Git/eo-learn-examples/GEM-ML/Example_DeforestationDetection/DeforestationDetectionRun/results/tiffs/showcase/deforestation_postprocessed_25_2022-10-01T00-00-00_--2022-11-01T00-00-00_.tif [83/121] : 0...10...20...30...40...50...60...70...80...90...100 - done.\n",
      "Processing /home/michael/Documents/GEM/TUM-Git/eo-learn-examples/GEM-ML/Example_DeforestationDetection/DeforestationDetectionRun/results/tiffs/showcase/deforestation_postprocessed_112_2022-10-01T00-00-00_--2022-11-01T00-00-00_.tif [84/121] : 0...10...20...30...40...50...60...70...80...90...100 - done.\n",
      "Processing /home/michael/Documents/GEM/TUM-Git/eo-learn-examples/GEM-ML/Example_DeforestationDetection/DeforestationDetectionRun/results/tiffs/showcase/deforestation_postprocessed_11_2022-10-01T00-00-00_--2022-11-01T00-00-00_.tif [85/121] : 0...10...20...30...40...50...60...70...80...90...100 - done.\n",
      "Processing /home/michael/Documents/GEM/TUM-Git/eo-learn-examples/GEM-ML/Example_DeforestationDetection/DeforestationDetectionRun/results/tiffs/showcase/deforestation_postprocessed_24_2022-10-01T00-00-00_--2022-11-01T00-00-00_.tif [86/121] : 0...10...20...30...40...50...60...70...80...90...100 - done.\n",
      "Processing /home/michael/Documents/GEM/TUM-Git/eo-learn-examples/GEM-ML/Example_DeforestationDetection/DeforestationDetectionRun/results/tiffs/showcase/deforestation_postprocessed_107_2022-10-01T00-00-00_--2022-11-01T00-00-00_.tif [87/121] : 0...10...20...30...40...50...60...70...80...90...100 - done.\n",
      "Processing /home/michael/Documents/GEM/TUM-Git/eo-learn-examples/GEM-ML/Example_DeforestationDetection/DeforestationDetectionRun/results/tiffs/showcase/deforestation_postprocessed_17_2022-10-01T00-00-00_--2022-11-01T00-00-00_.tif [88/121] : 0...10...20...30...40...50...60...70...80...90...100 - done.\n",
      "Processing /home/michael/Documents/GEM/TUM-Git/eo-learn-examples/GEM-ML/Example_DeforestationDetection/DeforestationDetectionRun/results/tiffs/showcase/deforestation_postprocessed_32_2022-10-01T00-00-00_--2022-11-01T00-00-00_.tif [89/121] : 0...10...20...30...40...50...60...70...80...90...100 - done.\n",
      "Processing /home/michael/Documents/GEM/TUM-Git/eo-learn-examples/GEM-ML/Example_DeforestationDetection/DeforestationDetectionRun/results/tiffs/showcase/deforestation_postprocessed_108_2022-10-01T00-00-00_--2022-11-01T00-00-00_.tif [90/121] : 0...10...20...30...40...50...60...70...80...90...100 - done.\n",
      "Processing /home/michael/Documents/GEM/TUM-Git/eo-learn-examples/GEM-ML/Example_DeforestationDetection/DeforestationDetectionRun/results/tiffs/showcase/deforestation_postprocessed_31_2022-10-01T00-00-00_--2022-11-01T00-00-00_.tif [91/121] : 0...10...20...30...40...50...60...70...80...90...100 - done.\n",
      "Processing /home/michael/Documents/GEM/TUM-Git/eo-learn-examples/GEM-ML/Example_DeforestationDetection/DeforestationDetectionRun/results/tiffs/showcase/deforestation_postprocessed_70_2022-10-01T00-00-00_--2022-11-01T00-00-00_.tif [92/121] : 0...10...20...30...40...50...60...70...80...90...100 - done.\n",
      "Processing /home/michael/Documents/GEM/TUM-Git/eo-learn-examples/GEM-ML/Example_DeforestationDetection/DeforestationDetectionRun/results/tiffs/showcase/deforestation_postprocessed_106_2022-10-01T00-00-00_--2022-11-01T00-00-00_.tif [93/121] : 0...10...20...30...40...50...60...70...80...90...100 - done.\n",
      "Processing /home/michael/Documents/GEM/TUM-Git/eo-learn-examples/GEM-ML/Example_DeforestationDetection/DeforestationDetectionRun/results/tiffs/showcase/deforestation_postprocessed_92_2022-10-01T00-00-00_--2022-11-01T00-00-00_.tif [94/121] : 0...10...20...30...40...50...60...70...80...90...100 - done.\n",
      "Processing /home/michael/Documents/GEM/TUM-Git/eo-learn-examples/GEM-ML/Example_DeforestationDetection/DeforestationDetectionRun/results/tiffs/showcase/deforestation_postprocessed_18_2022-10-01T00-00-00_--2022-11-01T00-00-00_.tif [95/121] : 0...10...20...30...40...50...60...70...80...90...100 - done.\n",
      "Processing /home/michael/Documents/GEM/TUM-Git/eo-learn-examples/GEM-ML/Example_DeforestationDetection/DeforestationDetectionRun/results/tiffs/showcase/deforestation_postprocessed_118_2022-10-01T00-00-00_--2022-11-01T00-00-00_.tif [96/121] : 0...10...20...30...40...50...60...70...80...90...100 - done.\n",
      "Processing /home/michael/Documents/GEM/TUM-Git/eo-learn-examples/GEM-ML/Example_DeforestationDetection/DeforestationDetectionRun/results/tiffs/showcase/deforestation_postprocessed_23_2022-10-01T00-00-00_--2022-11-01T00-00-00_.tif [97/121] : 0...10...20...30...40...50...60...70...80...90...100 - done.\n",
      "Processing /home/michael/Documents/GEM/TUM-Git/eo-learn-examples/GEM-ML/Example_DeforestationDetection/DeforestationDetectionRun/results/tiffs/showcase/deforestation_postprocessed_83_2022-10-01T00-00-00_--2022-11-01T00-00-00_.tif [98/121] : 0...10...20...30...40...50...60...70...80...90...100 - done.\n",
      "Processing /home/michael/Documents/GEM/TUM-Git/eo-learn-examples/GEM-ML/Example_DeforestationDetection/DeforestationDetectionRun/results/tiffs/showcase/deforestation_postprocessed_22_2022-10-01T00-00-00_--2022-11-01T00-00-00_.tif [99/121] : 0...10...20...30...40...50...60...70...80...90...100 - done.\n",
      "Processing /home/michael/Documents/GEM/TUM-Git/eo-learn-examples/GEM-ML/Example_DeforestationDetection/DeforestationDetectionRun/results/tiffs/showcase/deforestation_postprocessed_60_2022-10-01T00-00-00_--2022-11-01T00-00-00_.tif [100/121] : 0...10...20...30...40...50...60...70...80...90...100 - done.\n",
      "Processing /home/michael/Documents/GEM/TUM-Git/eo-learn-examples/GEM-ML/Example_DeforestationDetection/DeforestationDetectionRun/results/tiffs/showcase/deforestation_postprocessed_79_2022-10-01T00-00-00_--2022-11-01T00-00-00_.tif [101/121] : 0...10...20...30...40...50...60...70...80...90...100 - done.\n",
      "Processing /home/michael/Documents/GEM/TUM-Git/eo-learn-examples/GEM-ML/Example_DeforestationDetection/DeforestationDetectionRun/results/tiffs/showcase/deforestation_postprocessed_0_2022-10-01T00-00-00_--2022-11-01T00-00-00_.tif [102/121] : 0...10...20...30...40...50...60...70...80...90...100 - done.\n",
      "Processing /home/michael/Documents/GEM/TUM-Git/eo-learn-examples/GEM-ML/Example_DeforestationDetection/DeforestationDetectionRun/results/tiffs/showcase/deforestation_postprocessed_63_2022-10-01T00-00-00_--2022-11-01T00-00-00_.tif [103/121] : 0...10...20...30...40...50...60...70...80...90...100 - done.\n",
      "Processing /home/michael/Documents/GEM/TUM-Git/eo-learn-examples/GEM-ML/Example_DeforestationDetection/DeforestationDetectionRun/results/tiffs/showcase/deforestation_postprocessed_51_2022-10-01T00-00-00_--2022-11-01T00-00-00_.tif [104/121] : 0...10...20...30...40...50...60...70...80...90...100 - done.\n",
      "Processing /home/michael/Documents/GEM/TUM-Git/eo-learn-examples/GEM-ML/Example_DeforestationDetection/DeforestationDetectionRun/results/tiffs/showcase/deforestation_postprocessed_15_2022-10-01T00-00-00_--2022-11-01T00-00-00_.tif [105/121] : 0...10...20...30...40...50...60...70...80...90...100 - done.\n",
      "Processing /home/michael/Documents/GEM/TUM-Git/eo-learn-examples/GEM-ML/Example_DeforestationDetection/DeforestationDetectionRun/results/tiffs/showcase/deforestation_postprocessed_90_2022-10-01T00-00-00_--2022-11-01T00-00-00_.tif [106/121] : 0...10...20...30...40...50...60...70...80...90...100 - done.\n",
      "Processing /home/michael/Documents/GEM/TUM-Git/eo-learn-examples/GEM-ML/Example_DeforestationDetection/DeforestationDetectionRun/results/tiffs/showcase/deforestation_postprocessed_46_2022-10-01T00-00-00_--2022-11-01T00-00-00_.tif [107/121] : 0...10...20...30...40...50...60...70...80...90...100 - done.\n",
      "Processing /home/michael/Documents/GEM/TUM-Git/eo-learn-examples/GEM-ML/Example_DeforestationDetection/DeforestationDetectionRun/results/tiffs/showcase/deforestation_postprocessed_2_2022-10-01T00-00-00_--2022-11-01T00-00-00_.tif [108/121] : 0...10...20...30...40...50...60...70...80...90...100 - done.\n",
      "Processing /home/michael/Documents/GEM/TUM-Git/eo-learn-examples/GEM-ML/Example_DeforestationDetection/DeforestationDetectionRun/results/tiffs/showcase/deforestation_postprocessed_116_2022-10-01T00-00-00_--2022-11-01T00-00-00_.tif [109/121] : 0...10...20...30...40...50...60...70...80...90...100 - done.\n",
      "Processing /home/michael/Documents/GEM/TUM-Git/eo-learn-examples/GEM-ML/Example_DeforestationDetection/DeforestationDetectionRun/results/tiffs/showcase/deforestation_postprocessed_69_2022-10-01T00-00-00_--2022-11-01T00-00-00_.tif [110/121] : 0...10...20...30...40...50...60...70...80...90...100 - done.\n",
      "Processing /home/michael/Documents/GEM/TUM-Git/eo-learn-examples/GEM-ML/Example_DeforestationDetection/DeforestationDetectionRun/results/tiffs/showcase/deforestation_postprocessed_96_2022-10-01T00-00-00_--2022-11-01T00-00-00_.tif [111/121] : 0...10...20...30...40...50...60...70...80...90...100 - done.\n",
      "Processing /home/michael/Documents/GEM/TUM-Git/eo-learn-examples/GEM-ML/Example_DeforestationDetection/DeforestationDetectionRun/results/tiffs/showcase/deforestation_postprocessed_110_2022-10-01T00-00-00_--2022-11-01T00-00-00_.tif [112/121] : 0...10...20...30...40...50...60...70...80...90...100 - done.\n",
      "Processing /home/michael/Documents/GEM/TUM-Git/eo-learn-examples/GEM-ML/Example_DeforestationDetection/DeforestationDetectionRun/results/tiffs/showcase/deforestation_postprocessed_76_2022-10-01T00-00-00_--2022-11-01T00-00-00_.tif [113/121] : 0...10...20...30...40...50...60...70...80...90...100 - done.\n",
      "Processing /home/michael/Documents/GEM/TUM-Git/eo-learn-examples/GEM-ML/Example_DeforestationDetection/DeforestationDetectionRun/results/tiffs/showcase/deforestation_postprocessed_8_2022-10-01T00-00-00_--2022-11-01T00-00-00_.tif [114/121] : 0...10...20...30...40...50...60...70...80...90...100 - done.\n",
      "Processing /home/michael/Documents/GEM/TUM-Git/eo-learn-examples/GEM-ML/Example_DeforestationDetection/DeforestationDetectionRun/results/tiffs/showcase/deforestation_postprocessed_48_2022-10-01T00-00-00_--2022-11-01T00-00-00_.tif [115/121] : 0...10...20...30...40...50...60...70...80...90...100 - done.\n",
      "Processing /home/michael/Documents/GEM/TUM-Git/eo-learn-examples/GEM-ML/Example_DeforestationDetection/DeforestationDetectionRun/results/tiffs/showcase/deforestation_postprocessed_55_2022-10-01T00-00-00_--2022-11-01T00-00-00_.tif [116/121] : 0...10...20...30...40...50...60...70...80...90...100 - done.\n",
      "Processing /home/michael/Documents/GEM/TUM-Git/eo-learn-examples/GEM-ML/Example_DeforestationDetection/DeforestationDetectionRun/results/tiffs/showcase/deforestation_postprocessed_68_2022-10-01T00-00-00_--2022-11-01T00-00-00_.tif [117/121] : 0...10...20...30...40...50...60...70...80...90...100 - done.\n",
      "Processing /home/michael/Documents/GEM/TUM-Git/eo-learn-examples/GEM-ML/Example_DeforestationDetection/DeforestationDetectionRun/results/tiffs/showcase/deforestation_postprocessed_13_2022-10-01T00-00-00_--2022-11-01T00-00-00_.tif [118/121] : 0...10...20...30...40...50...60...70...80...90...100 - done.\n",
      "Processing /home/michael/Documents/GEM/TUM-Git/eo-learn-examples/GEM-ML/Example_DeforestationDetection/DeforestationDetectionRun/results/tiffs/showcase/deforestation_postprocessed_64_2022-10-01T00-00-00_--2022-11-01T00-00-00_.tif [119/121] : 0...10...20...30...40...50...60...70...80...90...100 - done.\n",
      "Processing /home/michael/Documents/GEM/TUM-Git/eo-learn-examples/GEM-ML/Example_DeforestationDetection/DeforestationDetectionRun/results/tiffs/showcase/deforestation_postprocessed_4_2022-10-01T00-00-00_--2022-11-01T00-00-00_.tif [120/121] : 0...10...20...30...40...50...60...70...80...90...100 - done.\n"
     ]
    },
    {
     "name": "stdout",
     "output_type": "stream",
     "text": [
      "Processing /home/michael/Documents/GEM/TUM-Git/eo-learn-examples/GEM-ML/Example_DeforestationDetection/DeforestationDetectionRun/results/tiffs/showcase/deforestation_postprocessed_72_2022-10-01T00-00-00_--2022-11-01T00-00-00_.tif [121/121] : 0...10...20...30...40...50...60...70...80...90...100 - done.\n"
     ]
    }
   ],
   "source": [
    "if __name__=='__main__':  \n",
    "    #%% merge raw model output\n",
    "    importME(\"../utils/RasterME_merge.raster_merge\")(\n",
    "        inputfiles = [\n",
    "            os.path.join(config[\"dir_tiffs_showcase\"],dir_)\n",
    "            for dir_ in os.listdir(config[\"dir_tiffs_showcase\"])\n",
    "            if \"deforestation\" in dir_.split(\"_\") and \"raw\" in dir_.split(\"_\")\n",
    "        ],\n",
    "        outputfile = os.path.join(config[\"dir_results\"],config[\"savename_showcase_tiff\"]),\n",
    "        format_option = 'COMPRESS=Deflate',\n",
    "        sparse = True,\n",
    "        #nmax_files = 10\n",
    "    )\n",
    "\n",
    "    #%% merge postprocessed model output\n",
    "    importME(\"../utils/RasterME_merge.raster_merge\")(\n",
    "        inputfiles = [\n",
    "            os.path.join(config[\"dir_tiffs_showcase\"],dir_)\n",
    "            for dir_ in os.listdir(config[\"dir_tiffs_showcase\"])\n",
    "            if \"deforestation\" in dir_.split(\"_\") and \"postprocessed\" in dir_.split(\"_\")\n",
    "        ],\n",
    "        outputfile = os.path.join(config[\"dir_results\"],config[\"savename_showcase_tiff_post\"]),\n",
    "        format_option = 'COMPRESS=Deflate',\n",
    "        sparse = True,\n",
    "        #nmax_files = 10\n",
    "    )"
   ]
  },
  {
   "cell_type": "markdown",
   "id": "d3d51318",
   "metadata": {},
   "source": [
    "Now you know how to use the `ModelForwardTask` and post-processing for analysis! :)"
   ]
  }
 ],
 "metadata": {
  "kernelspec": {
   "display_name": "Python 3 (ipykernel)",
   "language": "python",
   "name": "python3"
  },
  "language_info": {
   "codemirror_mode": {
    "name": "ipython",
    "version": 3
   },
   "file_extension": ".py",
   "mimetype": "text/x-python",
   "name": "python",
   "nbconvert_exporter": "python",
   "pygments_lexer": "ipython3",
   "version": "3.8.13"
  }
 },
 "nbformat": 4,
 "nbformat_minor": 5
}
